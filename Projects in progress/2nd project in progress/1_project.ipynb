{
 "cells": [
  {
   "cell_type": "markdown",
   "metadata": {},
   "source": [
    "#### Постановка задачи.\n",
    "\n",
    "Представьте, что вы работаете в компании, которая разрабатывает мобильные игры. К вам пришел менеджер с рядом задач по исследованию нескольких аспектов мобильного приложения:\n",
    "\n",
    "В первую очередь, его интересует показатель retention. Напишите функцию для его подсчета.\n",
    "\n",
    "Помимо этого, в компании провели A/B тестирование наборов акционных предложений. На основе имеющихся данных определите, какой набор можно считать лучшим и на основе каких метрик стоит принять правильное решение.\n",
    "\n",
    "Предложите метрики для оценки результатов последнего прошедшего тематического события в игре."
   ]
  },
  {
   "cell_type": "markdown",
   "metadata": {},
   "source": [
    "#### Задача 1:\n",
    "    \n",
    "Retention – один из самых важных показателей в компании. Ваша задача – написать функцию, которая будет считать retention \n",
    "игроков (по дням от даты регистрации игрока). Данные и имеют следующую структуру:\n",
    "\n",
    "reg_data.csv – данные о времени регистрации\n",
    "auth_data.csv - данные о времени захода пользователей в игру"
   ]
  },
  {
   "cell_type": "markdown",
   "metadata": {},
   "source": [
    "#### Алгоритм решения задачи:\n",
    "\n",
    "импортировать библиотеки;\n",
    "прочитать данные;\n",
    "проверить в них наличие дубликатов и пропущенных значений;\n",
    "написать функцию подсчета retention;\n",
    "протестировать работу функции;\n",
    "визуализировать retention в Jupyter;\n",
    "визуалиировать retention в Tableau."
   ]
  },
  {
   "cell_type": "markdown",
   "metadata": {},
   "source": [
    "#### Импортирую необходимые библиотеки:"
   ]
  },
  {
   "cell_type": "code",
   "execution_count": 7,
   "metadata": {},
   "outputs": [],
   "source": [
    "import pandas as pd\n",
    "import numpy as np\n",
    "import seaborn as sns\n",
    "import matplotlib.pyplot as plt\n",
    "from datetime import date, timedelta\n",
    "import datetime as dt\n",
    "import warnings\n",
    "import time\n",
    "from calculate_retention import CalculateRetention\n",
    "%matplotlib inline"
   ]
  },
  {
   "cell_type": "markdown",
   "metadata": {},
   "source": [
    "#### Загружаю данные:\n",
    "\n",
    "regs - данные о регистрации пользователей\n",
    "\n",
    "auth - данные о входе в Приложение."
   ]
  },
  {
   "cell_type": "code",
   "execution_count": null,
   "metadata": {},
   "outputs": [],
   "source": [
    "#### Загружаю датасеты:"
   ]
  },
  {
   "cell_type": "code",
   "execution_count": 17,
   "metadata": {},
   "outputs": [],
   "source": [
    "regs = pd.read_csv('./datasets/KarpovCourses/final/1/reg_data.csv', sep=';')\n",
    "\n",
    "auth = pd.read_csv('./datasets/KarpovCourses/final/1/auth_data.csv', sep=';')"
   ]
  },
  {
   "cell_type": "markdown",
   "metadata": {},
   "source": [
    "#### Эта функция мне нужна чтобы сходу понимать shape датафреймов и содержат ли какие-то колонки дубликаты:"
   ]
  },
  {
   "cell_type": "code",
   "execution_count": 3,
   "metadata": {},
   "outputs": [],
   "source": [
    "def datasets_params(df1, df2):\n",
    "    \n",
    "    params = {'regs': ['shape', df1.shape, 'duplicated', df1.duplicated().sum()], \n",
    "              'auth': ['shape', df2.shape, 'duplicated', df2.duplicated().sum()],\n",
    "             }\n",
    " \n",
    "    return print(pd.DataFrame(params))"
   ]
  },
  {
   "cell_type": "markdown",
   "metadata": {},
   "source": [
    "#### Смотрю на формы датасетов и на наличие в них дубликатов:"
   ]
  },
  {
   "cell_type": "code",
   "execution_count": 4,
   "metadata": {},
   "outputs": [
    {
     "name": "stdout",
     "output_type": "stream",
     "text": [
      "           regs          auth\n",
      "0         shape         shape\n",
      "1  (1000000, 2)  (9601013, 2)\n",
      "2    duplicated    duplicated\n",
      "3             0             0\n"
     ]
    }
   ],
   "source": [
    "datasets_params(regs, auth)"
   ]
  },
  {
   "cell_type": "markdown",
   "metadata": {},
   "source": [
    "####  Проверяю на наличие пропущенных значений:"
   ]
  },
  {
   "cell_type": "code",
   "execution_count": 47,
   "metadata": {},
   "outputs": [
    {
     "data": {
      "text/plain": [
       "reg_ts    0\n",
       "uid       0\n",
       "dtype: int64"
      ]
     },
     "execution_count": 47,
     "metadata": {},
     "output_type": "execute_result"
    }
   ],
   "source": [
    "regs.isna().sum()"
   ]
  },
  {
   "cell_type": "code",
   "execution_count": 48,
   "metadata": {},
   "outputs": [
    {
     "data": {
      "text/plain": [
       "auth_ts    0\n",
       "uid        0\n",
       "dtype: int64"
      ]
     },
     "execution_count": 48,
     "metadata": {},
     "output_type": "execute_result"
    }
   ],
   "source": [
    "auth.isna().sum()"
   ]
  },
  {
   "cell_type": "code",
   "execution_count": 49,
   "metadata": {},
   "outputs": [
    {
     "data": {
      "text/html": [
       "<div>\n",
       "<style scoped>\n",
       "    .dataframe tbody tr th:only-of-type {\n",
       "        vertical-align: middle;\n",
       "    }\n",
       "\n",
       "    .dataframe tbody tr th {\n",
       "        vertical-align: top;\n",
       "    }\n",
       "\n",
       "    .dataframe thead th {\n",
       "        text-align: right;\n",
       "    }\n",
       "</style>\n",
       "<table border=\"1\" class=\"dataframe\">\n",
       "  <thead>\n",
       "    <tr style=\"text-align: right;\">\n",
       "      <th></th>\n",
       "      <th>reg_ts</th>\n",
       "      <th>uid</th>\n",
       "    </tr>\n",
       "  </thead>\n",
       "  <tbody>\n",
       "    <tr>\n",
       "      <td>0</td>\n",
       "      <td>911382223</td>\n",
       "      <td>1</td>\n",
       "    </tr>\n",
       "    <tr>\n",
       "      <td>1</td>\n",
       "      <td>932683089</td>\n",
       "      <td>2</td>\n",
       "    </tr>\n",
       "  </tbody>\n",
       "</table>\n",
       "</div>"
      ],
      "text/plain": [
       "      reg_ts  uid\n",
       "0  911382223    1\n",
       "1  932683089    2"
      ]
     },
     "execution_count": 49,
     "metadata": {},
     "output_type": "execute_result"
    }
   ],
   "source": [
    "regs.head(2)"
   ]
  },
  {
   "cell_type": "code",
   "execution_count": 33,
   "metadata": {},
   "outputs": [
    {
     "data": {
      "text/html": [
       "<div>\n",
       "<style scoped>\n",
       "    .dataframe tbody tr th:only-of-type {\n",
       "        vertical-align: middle;\n",
       "    }\n",
       "\n",
       "    .dataframe tbody tr th {\n",
       "        vertical-align: top;\n",
       "    }\n",
       "\n",
       "    .dataframe thead th {\n",
       "        text-align: right;\n",
       "    }\n",
       "</style>\n",
       "<table border=\"1\" class=\"dataframe\">\n",
       "  <thead>\n",
       "    <tr style=\"text-align: right;\">\n",
       "      <th></th>\n",
       "      <th>auth_ts</th>\n",
       "      <th>uid</th>\n",
       "    </tr>\n",
       "  </thead>\n",
       "  <tbody>\n",
       "    <tr>\n",
       "      <td>0</td>\n",
       "      <td>911382223</td>\n",
       "      <td>1</td>\n",
       "    </tr>\n",
       "    <tr>\n",
       "      <td>1</td>\n",
       "      <td>932683089</td>\n",
       "      <td>2</td>\n",
       "    </tr>\n",
       "  </tbody>\n",
       "</table>\n",
       "</div>"
      ],
      "text/plain": [
       "     auth_ts  uid\n",
       "0  911382223    1\n",
       "1  932683089    2"
      ]
     },
     "execution_count": 33,
     "metadata": {},
     "output_type": "execute_result"
    }
   ],
   "source": [
    "auth.head(2)"
   ]
  },
  {
   "cell_type": "code",
   "execution_count": 32,
   "metadata": {},
   "outputs": [
    {
     "data": {
      "text/plain": [
       "reg_ts    int64\n",
       "uid       int64\n",
       "dtype: object"
      ]
     },
     "execution_count": 32,
     "metadata": {},
     "output_type": "execute_result"
    }
   ],
   "source": [
    "regs.dtypes"
   ]
  },
  {
   "cell_type": "markdown",
   "metadata": {},
   "source": [
    "#### Создаю функцию для расчета retention:"
   ]
  },
  {
   "cell_type": "code",
   "execution_count": 18,
   "metadata": {},
   "outputs": [],
   "source": [
    "def retention(regs, auth, start, stop): \n",
    "\n",
    "    # Соединяю датасеты:\n",
    "    df = regs.merge(auth, how='left', on='uid')\n",
    "    \n",
    "    # Перевожу колонки из datastamp в datetime:\n",
    "    df.reg_ts = pd.to_datetime(df.reg_ts, unit='s')\n",
    "    df.auth_ts = pd.to_datetime(df.auth_ts, unit='s')\n",
    "    \n",
    "    # Выделяю дату:\n",
    "    df.reg_ts = df.reg_ts.dt.date\n",
    "    df.auth_ts = df.auth_ts.dt.date\n",
    "    \n",
    "   # Повторно перевожу колонки из datastamp в datetime (автоматически стали object):\n",
    "    df.reg_ts = pd.to_datetime(df.reg_ts)\n",
    "    df.auth_ts = pd.to_datetime(df.auth_ts)\n",
    "    \n",
    "    # Оставляю данные в выбранном интервале:\n",
    "    df = df.query('reg_ts >=@start and reg_ts <=@stop')\n",
    "    \n",
    "    # Считаю количество дней, прошедших с момента регистрации:  \n",
    "    df['days_after_reg'] = (df.auth_ts - df.reg_ts).dt.days + 1\n",
    "    \n",
    "    # Создаю когорты:\n",
    "    cohort_data = df.groupby(['reg_ts', 'days_after_reg']) \\\n",
    "                    .uid.apply(pd.Series.nunique) \\\n",
    "                    .reset_index()\n",
    "\n",
    "    # Считаю retention:\n",
    "    cohort_counts = cohort_data.pivot(index='reg_ts', columns='days_after_reg', values='uid')\n",
    "       \n",
    "    return cohort_counts.divide(cohort_counts.iloc[:,0], axis=0) \\\n",
    "                        .round(3) \\\n",
    "                        .mul(100) \\\n",
    "                        .drop(cohort_counts.columns[0], axis=1)  "
   ]
  },
  {
   "cell_type": "markdown",
   "metadata": {},
   "source": [
    "#### Считаю retention за тестовый период с 1 октября до 25 октября 2020:"
   ]
  },
  {
   "cell_type": "code",
   "execution_count": 114,
   "metadata": {},
   "outputs": [
    {
     "data": {
      "text/html": [
       "<div>\n",
       "<style scoped>\n",
       "    .dataframe tbody tr th:only-of-type {\n",
       "        vertical-align: middle;\n",
       "    }\n",
       "\n",
       "    .dataframe tbody tr th {\n",
       "        vertical-align: top;\n",
       "    }\n",
       "\n",
       "    .dataframe thead th {\n",
       "        text-align: right;\n",
       "    }\n",
       "</style>\n",
       "<table border=\"1\" class=\"dataframe\">\n",
       "  <thead>\n",
       "    <tr style=\"text-align: right;\">\n",
       "      <th>days_after_reg</th>\n",
       "      <th>2</th>\n",
       "      <th>3</th>\n",
       "      <th>4</th>\n",
       "      <th>5</th>\n",
       "      <th>6</th>\n",
       "      <th>7</th>\n",
       "      <th>8</th>\n",
       "      <th>9</th>\n",
       "      <th>10</th>\n",
       "      <th>11</th>\n",
       "      <th>...</th>\n",
       "      <th>14</th>\n",
       "      <th>15</th>\n",
       "      <th>16</th>\n",
       "      <th>17</th>\n",
       "      <th>18</th>\n",
       "      <th>19</th>\n",
       "      <th>20</th>\n",
       "      <th>21</th>\n",
       "      <th>22</th>\n",
       "      <th>23</th>\n",
       "    </tr>\n",
       "    <tr>\n",
       "      <th>reg_ts</th>\n",
       "      <th></th>\n",
       "      <th></th>\n",
       "      <th></th>\n",
       "      <th></th>\n",
       "      <th></th>\n",
       "      <th></th>\n",
       "      <th></th>\n",
       "      <th></th>\n",
       "      <th></th>\n",
       "      <th></th>\n",
       "      <th></th>\n",
       "      <th></th>\n",
       "      <th></th>\n",
       "      <th></th>\n",
       "      <th></th>\n",
       "      <th></th>\n",
       "      <th></th>\n",
       "      <th></th>\n",
       "      <th></th>\n",
       "      <th></th>\n",
       "      <th></th>\n",
       "    </tr>\n",
       "  </thead>\n",
       "  <tbody>\n",
       "    <tr>\n",
       "      <td>2020-09-01</td>\n",
       "      <td>2.018</td>\n",
       "      <td>4.098</td>\n",
       "      <td>4.224</td>\n",
       "      <td>4.603</td>\n",
       "      <td>6.431</td>\n",
       "      <td>5.612</td>\n",
       "      <td>6.431</td>\n",
       "      <td>4.098</td>\n",
       "      <td>5.422</td>\n",
       "      <td>5.107</td>\n",
       "      <td>...</td>\n",
       "      <td>5.485</td>\n",
       "      <td>4.288</td>\n",
       "      <td>4.414</td>\n",
       "      <td>4.351</td>\n",
       "      <td>5.044</td>\n",
       "      <td>4.161</td>\n",
       "      <td>4.351</td>\n",
       "      <td>3.594</td>\n",
       "      <td>4.351</td>\n",
       "      <td>1.576</td>\n",
       "    </tr>\n",
       "    <tr>\n",
       "      <td>2020-09-02</td>\n",
       "      <td>2.519</td>\n",
       "      <td>3.904</td>\n",
       "      <td>4.660</td>\n",
       "      <td>5.668</td>\n",
       "      <td>6.234</td>\n",
       "      <td>7.116</td>\n",
       "      <td>6.297</td>\n",
       "      <td>4.849</td>\n",
       "      <td>4.093</td>\n",
       "      <td>5.668</td>\n",
       "      <td>...</td>\n",
       "      <td>4.345</td>\n",
       "      <td>4.975</td>\n",
       "      <td>5.290</td>\n",
       "      <td>4.156</td>\n",
       "      <td>4.849</td>\n",
       "      <td>3.904</td>\n",
       "      <td>3.715</td>\n",
       "      <td>4.660</td>\n",
       "      <td>2.645</td>\n",
       "      <td>NaN</td>\n",
       "    </tr>\n",
       "    <tr>\n",
       "      <td>2020-09-03</td>\n",
       "      <td>2.326</td>\n",
       "      <td>5.405</td>\n",
       "      <td>4.714</td>\n",
       "      <td>6.537</td>\n",
       "      <td>6.977</td>\n",
       "      <td>8.548</td>\n",
       "      <td>6.348</td>\n",
       "      <td>5.468</td>\n",
       "      <td>6.285</td>\n",
       "      <td>6.348</td>\n",
       "      <td>...</td>\n",
       "      <td>5.971</td>\n",
       "      <td>5.468</td>\n",
       "      <td>5.343</td>\n",
       "      <td>4.400</td>\n",
       "      <td>4.840</td>\n",
       "      <td>4.651</td>\n",
       "      <td>5.468</td>\n",
       "      <td>2.388</td>\n",
       "      <td>NaN</td>\n",
       "      <td>NaN</td>\n",
       "    </tr>\n",
       "    <tr>\n",
       "      <td>2020-09-04</td>\n",
       "      <td>2.009</td>\n",
       "      <td>3.641</td>\n",
       "      <td>3.641</td>\n",
       "      <td>5.148</td>\n",
       "      <td>6.403</td>\n",
       "      <td>7.282</td>\n",
       "      <td>4.959</td>\n",
       "      <td>5.336</td>\n",
       "      <td>4.331</td>\n",
       "      <td>5.650</td>\n",
       "      <td>...</td>\n",
       "      <td>5.587</td>\n",
       "      <td>4.394</td>\n",
       "      <td>4.520</td>\n",
       "      <td>4.520</td>\n",
       "      <td>4.269</td>\n",
       "      <td>4.771</td>\n",
       "      <td>2.637</td>\n",
       "      <td>NaN</td>\n",
       "      <td>NaN</td>\n",
       "      <td>NaN</td>\n",
       "    </tr>\n",
       "    <tr>\n",
       "      <td>2020-09-05</td>\n",
       "      <td>2.757</td>\n",
       "      <td>3.947</td>\n",
       "      <td>4.637</td>\n",
       "      <td>5.451</td>\n",
       "      <td>5.890</td>\n",
       "      <td>7.456</td>\n",
       "      <td>4.887</td>\n",
       "      <td>5.075</td>\n",
       "      <td>5.451</td>\n",
       "      <td>6.015</td>\n",
       "      <td>...</td>\n",
       "      <td>5.388</td>\n",
       "      <td>4.511</td>\n",
       "      <td>5.138</td>\n",
       "      <td>4.449</td>\n",
       "      <td>4.762</td>\n",
       "      <td>2.506</td>\n",
       "      <td>NaN</td>\n",
       "      <td>NaN</td>\n",
       "      <td>NaN</td>\n",
       "      <td>NaN</td>\n",
       "    </tr>\n",
       "    <tr>\n",
       "      <td>2020-09-06</td>\n",
       "      <td>3.127</td>\n",
       "      <td>4.315</td>\n",
       "      <td>5.441</td>\n",
       "      <td>5.629</td>\n",
       "      <td>5.879</td>\n",
       "      <td>6.817</td>\n",
       "      <td>6.066</td>\n",
       "      <td>5.816</td>\n",
       "      <td>5.503</td>\n",
       "      <td>4.878</td>\n",
       "      <td>...</td>\n",
       "      <td>5.191</td>\n",
       "      <td>5.503</td>\n",
       "      <td>4.565</td>\n",
       "      <td>4.816</td>\n",
       "      <td>2.564</td>\n",
       "      <td>NaN</td>\n",
       "      <td>NaN</td>\n",
       "      <td>NaN</td>\n",
       "      <td>NaN</td>\n",
       "      <td>NaN</td>\n",
       "    </tr>\n",
       "    <tr>\n",
       "      <td>2020-09-07</td>\n",
       "      <td>2.936</td>\n",
       "      <td>4.247</td>\n",
       "      <td>5.372</td>\n",
       "      <td>5.059</td>\n",
       "      <td>6.371</td>\n",
       "      <td>7.308</td>\n",
       "      <td>5.247</td>\n",
       "      <td>4.122</td>\n",
       "      <td>5.621</td>\n",
       "      <td>5.996</td>\n",
       "      <td>...</td>\n",
       "      <td>5.059</td>\n",
       "      <td>4.247</td>\n",
       "      <td>5.059</td>\n",
       "      <td>3.373</td>\n",
       "      <td>NaN</td>\n",
       "      <td>NaN</td>\n",
       "      <td>NaN</td>\n",
       "      <td>NaN</td>\n",
       "      <td>NaN</td>\n",
       "      <td>NaN</td>\n",
       "    </tr>\n",
       "    <tr>\n",
       "      <td>2020-09-08</td>\n",
       "      <td>1.746</td>\n",
       "      <td>3.928</td>\n",
       "      <td>3.928</td>\n",
       "      <td>4.863</td>\n",
       "      <td>7.606</td>\n",
       "      <td>7.544</td>\n",
       "      <td>6.608</td>\n",
       "      <td>5.175</td>\n",
       "      <td>5.175</td>\n",
       "      <td>6.546</td>\n",
       "      <td>...</td>\n",
       "      <td>5.175</td>\n",
       "      <td>4.738</td>\n",
       "      <td>3.055</td>\n",
       "      <td>NaN</td>\n",
       "      <td>NaN</td>\n",
       "      <td>NaN</td>\n",
       "      <td>NaN</td>\n",
       "      <td>NaN</td>\n",
       "      <td>NaN</td>\n",
       "      <td>NaN</td>\n",
       "    </tr>\n",
       "    <tr>\n",
       "      <td>2020-09-09</td>\n",
       "      <td>1.742</td>\n",
       "      <td>3.236</td>\n",
       "      <td>4.667</td>\n",
       "      <td>5.725</td>\n",
       "      <td>6.658</td>\n",
       "      <td>5.725</td>\n",
       "      <td>5.912</td>\n",
       "      <td>4.356</td>\n",
       "      <td>5.040</td>\n",
       "      <td>3.734</td>\n",
       "      <td>...</td>\n",
       "      <td>4.854</td>\n",
       "      <td>2.427</td>\n",
       "      <td>NaN</td>\n",
       "      <td>NaN</td>\n",
       "      <td>NaN</td>\n",
       "      <td>NaN</td>\n",
       "      <td>NaN</td>\n",
       "      <td>NaN</td>\n",
       "      <td>NaN</td>\n",
       "      <td>NaN</td>\n",
       "    </tr>\n",
       "    <tr>\n",
       "      <td>2020-09-10</td>\n",
       "      <td>2.051</td>\n",
       "      <td>4.288</td>\n",
       "      <td>4.786</td>\n",
       "      <td>4.226</td>\n",
       "      <td>6.774</td>\n",
       "      <td>6.277</td>\n",
       "      <td>7.085</td>\n",
       "      <td>4.848</td>\n",
       "      <td>4.537</td>\n",
       "      <td>5.656</td>\n",
       "      <td>...</td>\n",
       "      <td>3.605</td>\n",
       "      <td>NaN</td>\n",
       "      <td>NaN</td>\n",
       "      <td>NaN</td>\n",
       "      <td>NaN</td>\n",
       "      <td>NaN</td>\n",
       "      <td>NaN</td>\n",
       "      <td>NaN</td>\n",
       "      <td>NaN</td>\n",
       "      <td>NaN</td>\n",
       "    </tr>\n",
       "    <tr>\n",
       "      <td>2020-09-11</td>\n",
       "      <td>1.303</td>\n",
       "      <td>4.032</td>\n",
       "      <td>4.529</td>\n",
       "      <td>5.645</td>\n",
       "      <td>5.707</td>\n",
       "      <td>6.700</td>\n",
       "      <td>6.328</td>\n",
       "      <td>4.404</td>\n",
       "      <td>4.653</td>\n",
       "      <td>5.397</td>\n",
       "      <td>...</td>\n",
       "      <td>NaN</td>\n",
       "      <td>NaN</td>\n",
       "      <td>NaN</td>\n",
       "      <td>NaN</td>\n",
       "      <td>NaN</td>\n",
       "      <td>NaN</td>\n",
       "      <td>NaN</td>\n",
       "      <td>NaN</td>\n",
       "      <td>NaN</td>\n",
       "      <td>NaN</td>\n",
       "    </tr>\n",
       "    <tr>\n",
       "      <td>2020-09-12</td>\n",
       "      <td>1.921</td>\n",
       "      <td>3.841</td>\n",
       "      <td>4.709</td>\n",
       "      <td>4.647</td>\n",
       "      <td>6.072</td>\n",
       "      <td>6.568</td>\n",
       "      <td>5.762</td>\n",
       "      <td>5.266</td>\n",
       "      <td>5.143</td>\n",
       "      <td>5.700</td>\n",
       "      <td>...</td>\n",
       "      <td>NaN</td>\n",
       "      <td>NaN</td>\n",
       "      <td>NaN</td>\n",
       "      <td>NaN</td>\n",
       "      <td>NaN</td>\n",
       "      <td>NaN</td>\n",
       "      <td>NaN</td>\n",
       "      <td>NaN</td>\n",
       "      <td>NaN</td>\n",
       "      <td>NaN</td>\n",
       "    </tr>\n",
       "    <tr>\n",
       "      <td>2020-09-13</td>\n",
       "      <td>1.978</td>\n",
       "      <td>4.079</td>\n",
       "      <td>4.265</td>\n",
       "      <td>5.130</td>\n",
       "      <td>6.551</td>\n",
       "      <td>6.489</td>\n",
       "      <td>4.944</td>\n",
       "      <td>4.697</td>\n",
       "      <td>4.944</td>\n",
       "      <td>3.585</td>\n",
       "      <td>...</td>\n",
       "      <td>NaN</td>\n",
       "      <td>NaN</td>\n",
       "      <td>NaN</td>\n",
       "      <td>NaN</td>\n",
       "      <td>NaN</td>\n",
       "      <td>NaN</td>\n",
       "      <td>NaN</td>\n",
       "      <td>NaN</td>\n",
       "      <td>NaN</td>\n",
       "      <td>NaN</td>\n",
       "    </tr>\n",
       "    <tr>\n",
       "      <td>2020-09-14</td>\n",
       "      <td>2.224</td>\n",
       "      <td>3.830</td>\n",
       "      <td>4.509</td>\n",
       "      <td>5.312</td>\n",
       "      <td>6.485</td>\n",
       "      <td>6.980</td>\n",
       "      <td>6.300</td>\n",
       "      <td>4.447</td>\n",
       "      <td>2.903</td>\n",
       "      <td>NaN</td>\n",
       "      <td>...</td>\n",
       "      <td>NaN</td>\n",
       "      <td>NaN</td>\n",
       "      <td>NaN</td>\n",
       "      <td>NaN</td>\n",
       "      <td>NaN</td>\n",
       "      <td>NaN</td>\n",
       "      <td>NaN</td>\n",
       "      <td>NaN</td>\n",
       "      <td>NaN</td>\n",
       "      <td>NaN</td>\n",
       "    </tr>\n",
       "    <tr>\n",
       "      <td>2020-09-15</td>\n",
       "      <td>2.218</td>\n",
       "      <td>4.067</td>\n",
       "      <td>4.559</td>\n",
       "      <td>6.038</td>\n",
       "      <td>5.607</td>\n",
       "      <td>6.901</td>\n",
       "      <td>5.669</td>\n",
       "      <td>2.465</td>\n",
       "      <td>NaN</td>\n",
       "      <td>NaN</td>\n",
       "      <td>...</td>\n",
       "      <td>NaN</td>\n",
       "      <td>NaN</td>\n",
       "      <td>NaN</td>\n",
       "      <td>NaN</td>\n",
       "      <td>NaN</td>\n",
       "      <td>NaN</td>\n",
       "      <td>NaN</td>\n",
       "      <td>NaN</td>\n",
       "      <td>NaN</td>\n",
       "      <td>NaN</td>\n",
       "    </tr>\n",
       "    <tr>\n",
       "      <td>2020-09-16</td>\n",
       "      <td>1.908</td>\n",
       "      <td>4.246</td>\n",
       "      <td>4.615</td>\n",
       "      <td>4.677</td>\n",
       "      <td>6.769</td>\n",
       "      <td>6.954</td>\n",
       "      <td>3.385</td>\n",
       "      <td>NaN</td>\n",
       "      <td>NaN</td>\n",
       "      <td>NaN</td>\n",
       "      <td>...</td>\n",
       "      <td>NaN</td>\n",
       "      <td>NaN</td>\n",
       "      <td>NaN</td>\n",
       "      <td>NaN</td>\n",
       "      <td>NaN</td>\n",
       "      <td>NaN</td>\n",
       "      <td>NaN</td>\n",
       "      <td>NaN</td>\n",
       "      <td>NaN</td>\n",
       "      <td>NaN</td>\n",
       "    </tr>\n",
       "    <tr>\n",
       "      <td>2020-09-17</td>\n",
       "      <td>1.658</td>\n",
       "      <td>4.300</td>\n",
       "      <td>4.545</td>\n",
       "      <td>5.467</td>\n",
       "      <td>6.265</td>\n",
       "      <td>4.238</td>\n",
       "      <td>NaN</td>\n",
       "      <td>NaN</td>\n",
       "      <td>NaN</td>\n",
       "      <td>NaN</td>\n",
       "      <td>...</td>\n",
       "      <td>NaN</td>\n",
       "      <td>NaN</td>\n",
       "      <td>NaN</td>\n",
       "      <td>NaN</td>\n",
       "      <td>NaN</td>\n",
       "      <td>NaN</td>\n",
       "      <td>NaN</td>\n",
       "      <td>NaN</td>\n",
       "      <td>NaN</td>\n",
       "      <td>NaN</td>\n",
       "    </tr>\n",
       "    <tr>\n",
       "      <td>2020-09-18</td>\n",
       "      <td>1.902</td>\n",
       "      <td>4.540</td>\n",
       "      <td>4.233</td>\n",
       "      <td>5.215</td>\n",
       "      <td>3.742</td>\n",
       "      <td>NaN</td>\n",
       "      <td>NaN</td>\n",
       "      <td>NaN</td>\n",
       "      <td>NaN</td>\n",
       "      <td>NaN</td>\n",
       "      <td>...</td>\n",
       "      <td>NaN</td>\n",
       "      <td>NaN</td>\n",
       "      <td>NaN</td>\n",
       "      <td>NaN</td>\n",
       "      <td>NaN</td>\n",
       "      <td>NaN</td>\n",
       "      <td>NaN</td>\n",
       "      <td>NaN</td>\n",
       "      <td>NaN</td>\n",
       "      <td>NaN</td>\n",
       "    </tr>\n",
       "    <tr>\n",
       "      <td>2020-09-19</td>\n",
       "      <td>1.836</td>\n",
       "      <td>3.550</td>\n",
       "      <td>4.712</td>\n",
       "      <td>3.488</td>\n",
       "      <td>NaN</td>\n",
       "      <td>NaN</td>\n",
       "      <td>NaN</td>\n",
       "      <td>NaN</td>\n",
       "      <td>NaN</td>\n",
       "      <td>NaN</td>\n",
       "      <td>...</td>\n",
       "      <td>NaN</td>\n",
       "      <td>NaN</td>\n",
       "      <td>NaN</td>\n",
       "      <td>NaN</td>\n",
       "      <td>NaN</td>\n",
       "      <td>NaN</td>\n",
       "      <td>NaN</td>\n",
       "      <td>NaN</td>\n",
       "      <td>NaN</td>\n",
       "      <td>NaN</td>\n",
       "    </tr>\n",
       "    <tr>\n",
       "      <td>2020-09-20</td>\n",
       "      <td>2.445</td>\n",
       "      <td>4.340</td>\n",
       "      <td>2.384</td>\n",
       "      <td>NaN</td>\n",
       "      <td>NaN</td>\n",
       "      <td>NaN</td>\n",
       "      <td>NaN</td>\n",
       "      <td>NaN</td>\n",
       "      <td>NaN</td>\n",
       "      <td>NaN</td>\n",
       "      <td>...</td>\n",
       "      <td>NaN</td>\n",
       "      <td>NaN</td>\n",
       "      <td>NaN</td>\n",
       "      <td>NaN</td>\n",
       "      <td>NaN</td>\n",
       "      <td>NaN</td>\n",
       "      <td>NaN</td>\n",
       "      <td>NaN</td>\n",
       "      <td>NaN</td>\n",
       "      <td>NaN</td>\n",
       "    </tr>\n",
       "    <tr>\n",
       "      <td>2020-09-21</td>\n",
       "      <td>1.893</td>\n",
       "      <td>2.991</td>\n",
       "      <td>NaN</td>\n",
       "      <td>NaN</td>\n",
       "      <td>NaN</td>\n",
       "      <td>NaN</td>\n",
       "      <td>NaN</td>\n",
       "      <td>NaN</td>\n",
       "      <td>NaN</td>\n",
       "      <td>NaN</td>\n",
       "      <td>...</td>\n",
       "      <td>NaN</td>\n",
       "      <td>NaN</td>\n",
       "      <td>NaN</td>\n",
       "      <td>NaN</td>\n",
       "      <td>NaN</td>\n",
       "      <td>NaN</td>\n",
       "      <td>NaN</td>\n",
       "      <td>NaN</td>\n",
       "      <td>NaN</td>\n",
       "      <td>NaN</td>\n",
       "    </tr>\n",
       "    <tr>\n",
       "      <td>2020-09-22</td>\n",
       "      <td>0.853</td>\n",
       "      <td>NaN</td>\n",
       "      <td>NaN</td>\n",
       "      <td>NaN</td>\n",
       "      <td>NaN</td>\n",
       "      <td>NaN</td>\n",
       "      <td>NaN</td>\n",
       "      <td>NaN</td>\n",
       "      <td>NaN</td>\n",
       "      <td>NaN</td>\n",
       "      <td>...</td>\n",
       "      <td>NaN</td>\n",
       "      <td>NaN</td>\n",
       "      <td>NaN</td>\n",
       "      <td>NaN</td>\n",
       "      <td>NaN</td>\n",
       "      <td>NaN</td>\n",
       "      <td>NaN</td>\n",
       "      <td>NaN</td>\n",
       "      <td>NaN</td>\n",
       "      <td>NaN</td>\n",
       "    </tr>\n",
       "    <tr>\n",
       "      <td>2020-09-23</td>\n",
       "      <td>NaN</td>\n",
       "      <td>NaN</td>\n",
       "      <td>NaN</td>\n",
       "      <td>NaN</td>\n",
       "      <td>NaN</td>\n",
       "      <td>NaN</td>\n",
       "      <td>NaN</td>\n",
       "      <td>NaN</td>\n",
       "      <td>NaN</td>\n",
       "      <td>NaN</td>\n",
       "      <td>...</td>\n",
       "      <td>NaN</td>\n",
       "      <td>NaN</td>\n",
       "      <td>NaN</td>\n",
       "      <td>NaN</td>\n",
       "      <td>NaN</td>\n",
       "      <td>NaN</td>\n",
       "      <td>NaN</td>\n",
       "      <td>NaN</td>\n",
       "      <td>NaN</td>\n",
       "      <td>NaN</td>\n",
       "    </tr>\n",
       "  </tbody>\n",
       "</table>\n",
       "<p>23 rows × 22 columns</p>\n",
       "</div>"
      ],
      "text/plain": [
       "days_after_reg     2      3      4      5      6      7      8      9      10  \\\n",
       "reg_ts                                                                          \n",
       "2020-09-01      2.018  4.098  4.224  4.603  6.431  5.612  6.431  4.098  5.422   \n",
       "2020-09-02      2.519  3.904  4.660  5.668  6.234  7.116  6.297  4.849  4.093   \n",
       "2020-09-03      2.326  5.405  4.714  6.537  6.977  8.548  6.348  5.468  6.285   \n",
       "2020-09-04      2.009  3.641  3.641  5.148  6.403  7.282  4.959  5.336  4.331   \n",
       "2020-09-05      2.757  3.947  4.637  5.451  5.890  7.456  4.887  5.075  5.451   \n",
       "2020-09-06      3.127  4.315  5.441  5.629  5.879  6.817  6.066  5.816  5.503   \n",
       "2020-09-07      2.936  4.247  5.372  5.059  6.371  7.308  5.247  4.122  5.621   \n",
       "2020-09-08      1.746  3.928  3.928  4.863  7.606  7.544  6.608  5.175  5.175   \n",
       "2020-09-09      1.742  3.236  4.667  5.725  6.658  5.725  5.912  4.356  5.040   \n",
       "2020-09-10      2.051  4.288  4.786  4.226  6.774  6.277  7.085  4.848  4.537   \n",
       "2020-09-11      1.303  4.032  4.529  5.645  5.707  6.700  6.328  4.404  4.653   \n",
       "2020-09-12      1.921  3.841  4.709  4.647  6.072  6.568  5.762  5.266  5.143   \n",
       "2020-09-13      1.978  4.079  4.265  5.130  6.551  6.489  4.944  4.697  4.944   \n",
       "2020-09-14      2.224  3.830  4.509  5.312  6.485  6.980  6.300  4.447  2.903   \n",
       "2020-09-15      2.218  4.067  4.559  6.038  5.607  6.901  5.669  2.465    NaN   \n",
       "2020-09-16      1.908  4.246  4.615  4.677  6.769  6.954  3.385    NaN    NaN   \n",
       "2020-09-17      1.658  4.300  4.545  5.467  6.265  4.238    NaN    NaN    NaN   \n",
       "2020-09-18      1.902  4.540  4.233  5.215  3.742    NaN    NaN    NaN    NaN   \n",
       "2020-09-19      1.836  3.550  4.712  3.488    NaN    NaN    NaN    NaN    NaN   \n",
       "2020-09-20      2.445  4.340  2.384    NaN    NaN    NaN    NaN    NaN    NaN   \n",
       "2020-09-21      1.893  2.991    NaN    NaN    NaN    NaN    NaN    NaN    NaN   \n",
       "2020-09-22      0.853    NaN    NaN    NaN    NaN    NaN    NaN    NaN    NaN   \n",
       "2020-09-23        NaN    NaN    NaN    NaN    NaN    NaN    NaN    NaN    NaN   \n",
       "\n",
       "days_after_reg     11  ...     14     15     16     17     18     19     20  \\\n",
       "reg_ts                 ...                                                    \n",
       "2020-09-01      5.107  ...  5.485  4.288  4.414  4.351  5.044  4.161  4.351   \n",
       "2020-09-02      5.668  ...  4.345  4.975  5.290  4.156  4.849  3.904  3.715   \n",
       "2020-09-03      6.348  ...  5.971  5.468  5.343  4.400  4.840  4.651  5.468   \n",
       "2020-09-04      5.650  ...  5.587  4.394  4.520  4.520  4.269  4.771  2.637   \n",
       "2020-09-05      6.015  ...  5.388  4.511  5.138  4.449  4.762  2.506    NaN   \n",
       "2020-09-06      4.878  ...  5.191  5.503  4.565  4.816  2.564    NaN    NaN   \n",
       "2020-09-07      5.996  ...  5.059  4.247  5.059  3.373    NaN    NaN    NaN   \n",
       "2020-09-08      6.546  ...  5.175  4.738  3.055    NaN    NaN    NaN    NaN   \n",
       "2020-09-09      3.734  ...  4.854  2.427    NaN    NaN    NaN    NaN    NaN   \n",
       "2020-09-10      5.656  ...  3.605    NaN    NaN    NaN    NaN    NaN    NaN   \n",
       "2020-09-11      5.397  ...    NaN    NaN    NaN    NaN    NaN    NaN    NaN   \n",
       "2020-09-12      5.700  ...    NaN    NaN    NaN    NaN    NaN    NaN    NaN   \n",
       "2020-09-13      3.585  ...    NaN    NaN    NaN    NaN    NaN    NaN    NaN   \n",
       "2020-09-14        NaN  ...    NaN    NaN    NaN    NaN    NaN    NaN    NaN   \n",
       "2020-09-15        NaN  ...    NaN    NaN    NaN    NaN    NaN    NaN    NaN   \n",
       "2020-09-16        NaN  ...    NaN    NaN    NaN    NaN    NaN    NaN    NaN   \n",
       "2020-09-17        NaN  ...    NaN    NaN    NaN    NaN    NaN    NaN    NaN   \n",
       "2020-09-18        NaN  ...    NaN    NaN    NaN    NaN    NaN    NaN    NaN   \n",
       "2020-09-19        NaN  ...    NaN    NaN    NaN    NaN    NaN    NaN    NaN   \n",
       "2020-09-20        NaN  ...    NaN    NaN    NaN    NaN    NaN    NaN    NaN   \n",
       "2020-09-21        NaN  ...    NaN    NaN    NaN    NaN    NaN    NaN    NaN   \n",
       "2020-09-22        NaN  ...    NaN    NaN    NaN    NaN    NaN    NaN    NaN   \n",
       "2020-09-23        NaN  ...    NaN    NaN    NaN    NaN    NaN    NaN    NaN   \n",
       "\n",
       "days_after_reg     21     22     23  \n",
       "reg_ts                               \n",
       "2020-09-01      3.594  4.351  1.576  \n",
       "2020-09-02      4.660  2.645    NaN  \n",
       "2020-09-03      2.388    NaN    NaN  \n",
       "2020-09-04        NaN    NaN    NaN  \n",
       "2020-09-05        NaN    NaN    NaN  \n",
       "2020-09-06        NaN    NaN    NaN  \n",
       "2020-09-07        NaN    NaN    NaN  \n",
       "2020-09-08        NaN    NaN    NaN  \n",
       "2020-09-09        NaN    NaN    NaN  \n",
       "2020-09-10        NaN    NaN    NaN  \n",
       "2020-09-11        NaN    NaN    NaN  \n",
       "2020-09-12        NaN    NaN    NaN  \n",
       "2020-09-13        NaN    NaN    NaN  \n",
       "2020-09-14        NaN    NaN    NaN  \n",
       "2020-09-15        NaN    NaN    NaN  \n",
       "2020-09-16        NaN    NaN    NaN  \n",
       "2020-09-17        NaN    NaN    NaN  \n",
       "2020-09-18        NaN    NaN    NaN  \n",
       "2020-09-19        NaN    NaN    NaN  \n",
       "2020-09-20        NaN    NaN    NaN  \n",
       "2020-09-21        NaN    NaN    NaN  \n",
       "2020-09-22        NaN    NaN    NaN  \n",
       "2020-09-23        NaN    NaN    NaN  \n",
       "\n",
       "[23 rows x 22 columns]"
      ]
     },
     "execution_count": 114,
     "metadata": {},
     "output_type": "execute_result"
    }
   ],
   "source": [
    "retention = retention(regs, auth, '2020-10-1', '2020-10-25')\n",
    "\n",
    "retention"
   ]
  },
  {
   "cell_type": "markdown",
   "metadata": {},
   "source": [
    "#### Создаю функцию для визуализации retention:"
   ]
  },
  {
   "cell_type": "code",
   "execution_count": 106,
   "metadata": {},
   "outputs": [],
   "source": [
    "def viz_retention(retention):\n",
    "    \n",
    "    retention.index = retention.index.strftime('%Y-%m-%d')\n",
    "    plt.figure(figsize=(20,10))\n",
    "    plt.title('Active users')\n",
    "    ax = sns.heatmap(data=retention, annot=True, vmin=0.0)\n",
    "    ax.set_yticklabels(retention.index)\n",
    "    fig=ax.get_figure()\n",
    "    return plt.show()"
   ]
  },
  {
   "cell_type": "code",
   "execution_count": 115,
   "metadata": {},
   "outputs": [
    {
     "data": {
      "image/png": "[encoded data removed]",
      "text/plain": [
       "<Figure size 1440x720 with 2 Axes>"
      ]
     },
     "metadata": {
      "needs_background": "light"
     },
     "output_type": "display_data"
    }
   ],
   "source": [
    "viz_retention(retention)"
   ]
  },
  {
   "cell_type": "markdown",
   "metadata": {},
   "source": [
    "#### Вывод: \n",
    "\n",
    "Retention у Приложения очень низкий, необходимы мероприятия для повышения вовлеченности."
   ]
  },
  {
   "cell_type": "markdown",
   "metadata": {},
   "source": [
    "#### Задание 2\n",
    "\n",
    "Имеются результаты A/B теста, в котором двум группам пользователей предлагались различные наборы акционных предложений. \n",
    "Известно, что ARPU в тестовой группе выше на 5%, чем в контрольной. При этом в контрольной группе 1928 игроков из 202103 оказались платящими, а в тестовой – 1805 из 202667.\n",
    "\n",
    "Какой набор предложений можно считать лучшим? Какие метрики стоит проанализировать для принятия правильного решения и как?"
   ]
  },
  {
   "cell_type": "markdown",
   "metadata": {},
   "source": [
    "#### Алгоритм решения:\n",
    "\n",
    "Импортирую библиотеки.\n",
    "Загружаю датасеты.\n",
    "Смотрю структуру, типы данных, проверяю на наличие дубликатов и пропущенных значений.\n",
    "Формирую рабочий датафрейм из загруженных датасетов.\n",
    "Провожу разделение датасета на тестовую и контрольную группы.\n",
    "Выделяю основные метрики для анализа для принятия решения об эффективности изменений по результатам АБ-теста.\n",
    "Проверяю насколько изменились основные параметры в тестовой группе относительно контрольной группы.\n",
    "Строю боксплоты для того чтобы оценить выбросы.\n",
    "Оцениваю наличие и величину выбросов и принимаю решение что с ними делать.\n",
    "Проверяю тестовую и контрольную выборки на нормальность.\n",
    "Проверяю равномерность распределения данных в контрольной и тестовой группах.\n",
    "Выбираю методы проверки статистической значимости выбранных метрик.\n",
    "Осуществляю проверку на статистическую значимость. В зависимости от наличия выбросов с ними и без.\n",
    "Делаю финальные выводы."
   ]
  },
  {
   "cell_type": "markdown",
   "metadata": {},
   "source": [
    "#### Импортирую необходимые модули:"
   ]
  },
  {
   "cell_type": "code",
   "execution_count": 6,
   "metadata": {},
   "outputs": [],
   "source": [
    "import warnings\n",
    "\n",
    "from scipy.stats import levene\n",
    "from scipy.stats import shapiro\n",
    "import pandas as pd\n",
    "import numpy as np\n",
    "import scipy\n",
    "import seaborn as sns\n",
    "\n",
    "from scipy.stats import norm, mannwhitneyu, ttest_ind, chi2_contingency, chi2\n",
    "import matplotlib.pyplot as plt\n",
    "from tqdm.auto import tqdm\n",
    "\n",
    "plt.style.use('ggplot')"
   ]
  },
  {
   "cell_type": "markdown",
   "metadata": {},
   "source": [
    "#### Загружаю датасет:"
   ]
  },
  {
   "cell_type": "code",
   "execution_count": 7,
   "metadata": {},
   "outputs": [
    {
     "data": {
      "text/html": [
       "<div>\n",
       "<style scoped>\n",
       "    .dataframe tbody tr th:only-of-type {\n",
       "        vertical-align: middle;\n",
       "    }\n",
       "\n",
       "    .dataframe tbody tr th {\n",
       "        vertical-align: top;\n",
       "    }\n",
       "\n",
       "    .dataframe thead th {\n",
       "        text-align: right;\n",
       "    }\n",
       "</style>\n",
       "<table border=\"1\" class=\"dataframe\">\n",
       "  <thead>\n",
       "    <tr style=\"text-align: right;\">\n",
       "      <th></th>\n",
       "      <th>user_id</th>\n",
       "      <th>revenue</th>\n",
       "      <th>testgroup</th>\n",
       "    </tr>\n",
       "  </thead>\n",
       "  <tbody>\n",
       "    <tr>\n",
       "      <th>0</th>\n",
       "      <td>1</td>\n",
       "      <td>0</td>\n",
       "      <td>b</td>\n",
       "    </tr>\n",
       "    <tr>\n",
       "      <th>1</th>\n",
       "      <td>2</td>\n",
       "      <td>0</td>\n",
       "      <td>a</td>\n",
       "    </tr>\n",
       "    <tr>\n",
       "      <th>2</th>\n",
       "      <td>3</td>\n",
       "      <td>0</td>\n",
       "      <td>a</td>\n",
       "    </tr>\n",
       "    <tr>\n",
       "      <th>3</th>\n",
       "      <td>4</td>\n",
       "      <td>0</td>\n",
       "      <td>b</td>\n",
       "    </tr>\n",
       "    <tr>\n",
       "      <th>4</th>\n",
       "      <td>5</td>\n",
       "      <td>0</td>\n",
       "      <td>b</td>\n",
       "    </tr>\n",
       "  </tbody>\n",
       "</table>\n",
       "</div>"
      ],
      "text/plain": [
       "   user_id  revenue testgroup\n",
       "0        1        0         b\n",
       "1        2        0         a\n",
       "2        3        0         a\n",
       "3        4        0         b\n",
       "4        5        0         b"
      ]
     },
     "execution_count": 7,
     "metadata": {},
     "output_type": "execute_result"
    }
   ],
   "source": [
    "df = pd.read_csv('./datasets/1/2nd_dataset.csv', sep=';')\n",
    "\n",
    "df.head()"
   ]
  },
  {
   "cell_type": "markdown",
   "metadata": {},
   "source": [
    "#### Разделяю группы на тестовую и контрольную:"
   ]
  },
  {
   "cell_type": "code",
   "execution_count": 8,
   "metadata": {},
   "outputs": [],
   "source": [
    "control = df.query('testgroup == \"a\"')\n",
    "\n",
    "test = df.query('testgroup == \"b\"')"
   ]
  },
  {
   "cell_type": "markdown",
   "metadata": {},
   "source": [
    "#### Проверяю форму распределения переменной revenue в датасетах и смотрю есть ли дубликаты, проверяю на наличие пропущенных значений:"
   ]
  },
  {
   "cell_type": "code",
   "execution_count": 174,
   "metadata": {},
   "outputs": [],
   "source": [
    "def dataset_params(df1, df2):\n",
    "    \n",
    "    params = {'df1': ['shape', df1.shape, 'duplicated', df1.duplicated().sum()],\n",
    "              'df2': ['shape', df2.shape, 'duplicated', df2.duplicated().sum()]\n",
    "             }\n",
    " \n",
    "    return print(pd.DataFrame(params))"
   ]
  },
  {
   "cell_type": "code",
   "execution_count": 175,
   "metadata": {},
   "outputs": [
    {
     "name": "stdout",
     "output_type": "stream",
     "text": [
      "           df1          df2\n",
      "0        shape        shape\n",
      "1  (202103, 3)  (202667, 3)\n",
      "2   duplicated   duplicated\n",
      "3            0            0\n"
     ]
    }
   ],
   "source": [
    "dataset_params(control, test)"
   ]
  },
  {
   "cell_type": "code",
   "execution_count": 118,
   "metadata": {},
   "outputs": [
    {
     "data": {
      "text/plain": [
       "user_id      0\n",
       "revenue      0\n",
       "testgroup    0\n",
       "dtype: int64"
      ]
     },
     "execution_count": 118,
     "metadata": {},
     "output_type": "execute_result"
    }
   ],
   "source": [
    "df.isna().sum()"
   ]
  },
  {
   "cell_type": "markdown",
   "metadata": {},
   "source": [
    "#### Проверяю как распределены данные в контрольной и тестовой группах, есть ли явные выбросы:"
   ]
  },
  {
   "cell_type": "code",
   "execution_count": 7,
   "metadata": {},
   "outputs": [],
   "source": [
    "# Создаю функцию для построения боксплота:\n",
    "\n",
    "def boxplot_builder(df):\n",
    "    \n",
    "    plt.figure(figsize=(16,16))\n",
    "\n",
    "    return sns.boxplot(x='testgroup', y ='revenue', data=df)"
   ]
  },
  {
   "cell_type": "code",
   "execution_count": 13,
   "metadata": {},
   "outputs": [
    {
     "data": {
      "text/plain": [
       "<AxesSubplot:xlabel='testgroup', ylabel='revenue'>"
      ]
     },
     "execution_count": 13,
     "metadata": {},
     "output_type": "execute_result"
    },
    {
     "data": {
      "image/png": "[encoded data removed]",
      "text/plain": [
       "<Figure size 1152x1152 with 1 Axes>"
      ]
     },
     "metadata": {},
     "output_type": "display_data"
    }
   ],
   "source": [
    "boxplot_builder(df.query('revenue != 0'))\n",
    "\n",
    "# sns.swarmplot(x=df.testgroup, y=df.revenue)"
   ]
  },
  {
   "cell_type": "code",
   "execution_count": 9,
   "metadata": {},
   "outputs": [
    {
     "data": {
      "text/html": [
       "<div>\n",
       "<style scoped>\n",
       "    .dataframe tbody tr th:only-of-type {\n",
       "        vertical-align: middle;\n",
       "    }\n",
       "\n",
       "    .dataframe tbody tr th {\n",
       "        vertical-align: top;\n",
       "    }\n",
       "\n",
       "    .dataframe thead th {\n",
       "        text-align: right;\n",
       "    }\n",
       "</style>\n",
       "<table border=\"1\" class=\"dataframe\">\n",
       "  <thead>\n",
       "    <tr style=\"text-align: right;\">\n",
       "      <th></th>\n",
       "      <th>user_id</th>\n",
       "      <th>revenue</th>\n",
       "      <th>testgroup</th>\n",
       "    </tr>\n",
       "  </thead>\n",
       "  <tbody>\n",
       "    <tr>\n",
       "      <th>72</th>\n",
       "      <td>73</td>\n",
       "      <td>351</td>\n",
       "      <td>a</td>\n",
       "    </tr>\n",
       "  </tbody>\n",
       "</table>\n",
       "</div>"
      ],
      "text/plain": [
       "    user_id  revenue testgroup\n",
       "72       73      351         a"
      ]
     },
     "execution_count": 9,
     "metadata": {},
     "output_type": "execute_result"
    }
   ],
   "source": [
    "df_test.head(1)"
   ]
  },
  {
   "cell_type": "markdown",
   "metadata": {},
   "source": [
    "#### Часть чеков на большие суммы в группе а похожа на выбросы. Попробую сравнить группы без этих чеков."
   ]
  },
  {
   "cell_type": "code",
   "execution_count": 11,
   "metadata": {},
   "outputs": [
    {
     "data": {
      "text/plain": [
       "<AxesSubplot:xlabel='testgroup', ylabel='revenue'>"
      ]
     },
     "execution_count": 11,
     "metadata": {},
     "output_type": "execute_result"
    },
    {
     "data": {
      "image/png": "[encoded data removed]",
      "text/plain": [
       "<Figure size 1152x1152 with 1 Axes>"
      ]
     },
     "metadata": {},
     "output_type": "display_data"
    }
   ],
   "source": [
    "df_test = df.query('revenue != 0 & revenue < 35000')\n",
    "\n",
    "boxplot_builder(df_test)"
   ]
  },
  {
   "cell_type": "markdown",
   "metadata": {},
   "source": [
    "#### Выводы: \n",
    "\n",
    "Возможно, акционное предложение группы А содержит очень выгодные условия при покупке аксессуаров в игре на большую сумму (или, например, при  покупке подписки на длительный срок). Такие покупки, как оказалось, смогло себе позволить лишь относительно небольшое количество клиентов.\n",
    "\n",
    "И, возможно, поэтому было выпущено акционное предложение Б, составленное таким образом, что практически все воспользовавшиеся предложением пользователи сделали покупки на бОльшие суммы."
   ]
  },
  {
   "cell_type": "markdown",
   "metadata": {},
   "source": [
    "####  Смотрю какой вклад в общий объем продаж в группе А привносят \"выбросы\""
   ]
  },
  {
   "cell_type": "code",
   "execution_count": 23,
   "metadata": {},
   "outputs": [
    {
     "name": "stdout",
     "output_type": "stream",
     "text": [
      "Процент \"китов\" относительно всех пользователей в группе А составил 0.03% .\n",
      "Процент дохода от \"китов\" из группы А относительно всех пользователей составил 85.0%.\n"
     ]
    }
   ],
   "source": [
    "whales = round(100 * df.query('revenue > 500 & testgroup == \"a\"').user_id.nunique()/df.user_id.nunique(), 2) \n",
    "\n",
    "print(f'Процент \"китов\" относительно всех пользователей в группе А составил {whales}% .')\n",
    "\n",
    "print(f'Процент дохода от \"китов\" из группы А относительно всех пользователей составил {100 * round(control.query(\"revenue > 500\").revenue.sum()/test.revenue.sum(), 2)}%.')"
   ]
  },
  {
   "cell_type": "markdown",
   "metadata": {},
   "source": [
    "#### Выбор метрик:\n",
    "\n",
    "CR = количество купивших пользователей / общее количество пользователей\n",
    "\n",
    "ARPU = CR * доход / количество клиентов"
   ]
  },
  {
   "cell_type": "markdown",
   "metadata": {},
   "source": [
    "#### Проверю нормальность распредлений revenue в тестовой и контрольной группах при помощи теста Шапиро-Уилка:"
   ]
  },
  {
   "cell_type": "code",
   "execution_count": 25,
   "metadata": {},
   "outputs": [],
   "source": [
    "# Создаю функцию для проверки распределений на нормальность:\n",
    "\n",
    "def norm_test(serie):\n",
    "    \n",
    "    stat, p = scipy.stats.shapiro(serie)\n",
    "    \n",
    "    alpha = 0.05\n",
    "    if p > alpha:\n",
    "        outcome = 'Принимаю гипотезу о нормальности'\n",
    "    else:\n",
    "        outcome = 'Отклоняю гипотезу о нормальности'\n",
    "        \n",
    "    return print(outcome)"
   ]
  },
  {
   "cell_type": "code",
   "execution_count": null,
   "metadata": {},
   "outputs": [],
   "source": [
    "# Проверяю тестовую группу:"
   ]
  },
  {
   "cell_type": "code",
   "execution_count": 44,
   "metadata": {},
   "outputs": [
    {
     "name": "stdout",
     "output_type": "stream",
     "text": [
      "Statistics=0.957, p-value=0.000\n",
      "Отклоняю гипотезу о нормальности\n"
     ]
    }
   ],
   "source": [
    "norm_test(test.query('revenue > 0').revenue.sample(1000))"
   ]
  },
  {
   "cell_type": "code",
   "execution_count": 41,
   "metadata": {},
   "outputs": [],
   "source": [
    "# Проверяю контрольную группу с выбросами:"
   ]
  },
  {
   "cell_type": "code",
   "execution_count": 45,
   "metadata": {},
   "outputs": [
    {
     "name": "stdout",
     "output_type": "stream",
     "text": [
      "Statistics=0.275, p-value=0.000\n",
      "Отклоняю гипотезу о нормальности\n"
     ]
    }
   ],
   "source": [
    "norm_test(control.query('revenue > 0').revenue.sample(1000))"
   ]
  },
  {
   "cell_type": "code",
   "execution_count": 24,
   "metadata": {},
   "outputs": [],
   "source": [
    "# Проверяю контрольную группу без выбросов:"
   ]
  },
  {
   "cell_type": "code",
   "execution_count": 26,
   "metadata": {},
   "outputs": [
    {
     "name": "stdout",
     "output_type": "stream",
     "text": [
      "Отклоняю гипотезу о нормальности\n"
     ]
    }
   ],
   "source": [
    "norm_test(control.query('revenue > 0 & revenue < 3500').revenue.sample(1000))"
   ]
  },
  {
   "cell_type": "markdown",
   "metadata": {},
   "source": [
    "#### Проверю гомогенность дисперсий в тестовой и контрольной группах:\n",
    "\n",
    "H0 - различия дисперсии в тестовой и контрольной группах статистически не значимы;\n",
    "H1 - различия дисперсии в тестовой и контрольной группах статистически значимы."
   ]
  },
  {
   "cell_type": "code",
   "execution_count": 9,
   "metadata": {},
   "outputs": [],
   "source": [
    "def levene_test(serie1, serie2):\n",
    "    \n",
    "    outcome = levene(serie1, serie2)\n",
    "         \n",
    "    alpha = 0.05\n",
    "    \n",
    "    if outcome[1] > alpha:\n",
    "        print(f'Результат теста: {levene(serie1, serie2)}')\n",
    "        outcome = f'Поскольку p-value > {alpha} - принимаю гипотезу о равенстве дисперсий.'\n",
    "    else:\n",
    "        print(f'Результат теста: {levene(serie1, serie2)}')\n",
    "        outcome = f'Поскольку p-value < {alpha} - отклоняю гипотезу о равенстве дисперсий.'\n",
    "        \n",
    "    return print(outcome)"
   ]
  },
  {
   "cell_type": "code",
   "execution_count": 31,
   "metadata": {},
   "outputs": [
    {
     "name": "stdout",
     "output_type": "stream",
     "text": [
      "Результат теста: LeveneResult(statistic=0.3896289474701388, pvalue=0.5324948591043842)\n",
      "Поскольку p-value > 0.05 - принимаю гипотезу о равенстве дисперсий.\n"
     ]
    }
   ],
   "source": [
    "# В группе с выбросами:\n",
    "\n",
    "levene_test(test.revenue, control.revenue)"
   ]
  },
  {
   "cell_type": "code",
   "execution_count": 32,
   "metadata": {},
   "outputs": [
    {
     "name": "stdout",
     "output_type": "stream",
     "text": [
      "Результат теста: LeveneResult(statistic=1400.7231388579885, pvalue=4.912187546515184e-306)\n",
      "Поскольку p-value < 0.05 - отклоняю гипотезу о равенстве дисперсий.\n"
     ]
    }
   ],
   "source": [
    "# В группе без выбросов:\n",
    "\n",
    "levene_test(test.revenue, control.query('revenue < 3500').revenue)"
   ]
  },
  {
   "cell_type": "markdown",
   "metadata": {},
   "source": [
    "#### Поскольку из условий задачи не известно чем конкретно вызваны выбросы в контрольной группе принимаю решение исследовать отдельно вариант с выбросами и без выбросов."
   ]
  },
  {
   "cell_type": "markdown",
   "metadata": {},
   "source": [
    "#### С выбросами:"
   ]
  },
  {
   "cell_type": "code",
   "execution_count": 83,
   "metadata": {},
   "outputs": [
    {
     "data": {
      "text/plain": [
       "0.8906235351586593"
      ]
     },
     "execution_count": 83,
     "metadata": {},
     "output_type": "execute_result"
    }
   ],
   "source": [
    "# Считаю CR для тестовой группы:\n",
    "\n",
    "CR_test = 100* test.query('revenue > 0').shape[0] / test.shape[0]\n",
    "\n",
    "CR_test"
   ]
  },
  {
   "cell_type": "code",
   "execution_count": null,
   "metadata": {},
   "outputs": [],
   "source": [
    "# Считаю CR для контрольной группы:"
   ]
  },
  {
   "cell_type": "code",
   "execution_count": 82,
   "metadata": {},
   "outputs": [
    {
     "data": {
      "text/plain": [
       "0.9539690157988748"
      ]
     },
     "execution_count": 82,
     "metadata": {},
     "output_type": "execute_result"
    }
   ],
   "source": [
    "CR_control = 100 * control.query('revenue > 0').shape[0] / control.shape[0]\n",
    "\n",
    "CR_control"
   ]
  },
  {
   "cell_type": "markdown",
   "metadata": {},
   "source": [
    "#### Проверю является ли отличие CR статистически значимым:\n",
    "\n",
    "Формулирую гипотезу:\n",
    "H0 - конверсия в контрольной и тестовой группах значимо не различаются;\n",
    "H1 - конверсия в контрольной и тестовой группах значимо различаются."
   ]
  },
  {
   "cell_type": "code",
   "execution_count": 71,
   "metadata": {},
   "outputs": [
    {
     "name": "stdout",
     "output_type": "stream",
     "text": [
      "0.0350285246428554\n"
     ]
    }
   ],
   "source": [
    "T = np.array([[control.query('revenue > 0').shape[0], control.query('revenue == 0').shape[0]], \n",
    "              [test.query('revenue > 0').shape[0], test.query('revenue == 0').shape[0]]])\n",
    "              \n",
    "print(chi2_contingency(T, correction=False)[1])"
   ]
  },
  {
   "cell_type": "markdown",
   "metadata": {},
   "source": [
    "#### В связи с тем что р-value < 0.05 я отвергаю Н0 о том, что статистически значимых различий между тестовой и контрольной группами нет."
   ]
  },
  {
   "cell_type": "code",
   "execution_count": 72,
   "metadata": {},
   "outputs": [],
   "source": [
    "# Считаю доход / количество клиентов или ARPPU:"
   ]
  },
  {
   "cell_type": "code",
   "execution_count": 73,
   "metadata": {},
   "outputs": [
    {
     "name": "stdout",
     "output_type": "stream",
     "text": [
      "3003.6581717451522\n"
     ]
    }
   ],
   "source": [
    "# в тестовой группе:\n",
    "\n",
    "ARPPU_test = test.revenue.sum() / test.query('revenue > 0').shape[0]\n",
    "\n",
    "print(ARPPU_test)"
   ]
  },
  {
   "cell_type": "code",
   "execution_count": 74,
   "metadata": {},
   "outputs": [
    {
     "name": "stdout",
     "output_type": "stream",
     "text": [
      "2663.9984439834025\n"
     ]
    }
   ],
   "source": [
    "# в контрольной группе:\n",
    "\n",
    "ARPPU_control = control.revenue.sum() / control.query('revenue > 0').shape[0]\n",
    "\n",
    "print(ARPPU_control)"
   ]
  },
  {
   "cell_type": "markdown",
   "metadata": {},
   "source": [
    "#### Использую t-test для проверки статистической значимости изменения ARPPU:\n",
    "\n",
    "Формулирую гипотезу: H0 - средние значения revenue в контрольной и тестовой группах платящих пользователей значимо не различаются; H1 - средние значения revenue в контрольной и тестовой группах платящих пользователей значимо различаются."
   ]
  },
  {
   "cell_type": "code",
   "execution_count": 28,
   "metadata": {},
   "outputs": [],
   "source": [
    "def ttest(serie1, serie2):\n",
    "    \n",
    "    outcome = ttest_ind(serie1, serie2)\n",
    "         \n",
    "    alpha = 0.05\n",
    "    \n",
    "    if outcome[1] > alpha:\n",
    "        print(f'Результат теста: {ttest_ind(serie1, serie2)}')\n",
    "        outcome = f'Поскольку p-value > {alpha} - принимаю гипотезу о равенстве выборочных средних.'\n",
    "    else:\n",
    "        print(f'Результат теста: {ttest_ind(serie1, serie2)}')\n",
    "        outcome = f'Поскольку p-value < {alpha} - отклоняю гипотезу о равенстве выборочных средних.'\n",
    "        \n",
    "    return print(outcome)"
   ]
  },
  {
   "cell_type": "code",
   "execution_count": 29,
   "metadata": {},
   "outputs": [
    {
     "name": "stdout",
     "output_type": "stream",
     "text": [
      "Результат теста: Ttest_indResult(statistic=0.6242026493616787, pvalue=0.532494858971837)\n",
      "Поскольку p-value > 0.05 - принимаю гипотезу о равенстве выборочных средних.\n"
     ]
    }
   ],
   "source": [
    "ttest(test.revenue, control.revenue)"
   ]
  },
  {
   "cell_type": "markdown",
   "metadata": {},
   "source": [
    "#### Считаю ARPU:"
   ]
  },
  {
   "cell_type": "code",
   "execution_count": 84,
   "metadata": {},
   "outputs": [
    {
     "data": {
      "text/plain": [
       "2675.128659327863"
      ]
     },
     "execution_count": 84,
     "metadata": {},
     "output_type": "execute_result"
    }
   ],
   "source": [
    "# В тестовой группе:\n",
    "\n",
    "ARPU_test = CR_test * ARPPU_test\n",
    "\n",
    "ARPU_test"
   ]
  },
  {
   "cell_type": "code",
   "execution_count": 86,
   "metadata": {},
   "outputs": [
    {
     "data": {
      "text/plain": [
       "2541.3719736965804"
      ]
     },
     "execution_count": 86,
     "metadata": {},
     "output_type": "execute_result"
    }
   ],
   "source": [
    "# в контрольной группе:\n",
    "\n",
    "ARPU_control = CR_control * ARPPU_control\n",
    "\n",
    "ARPU_control"
   ]
  },
  {
   "cell_type": "markdown",
   "metadata": {},
   "source": [
    "#### Использую t-test для проверки статистической значимости изменения ARPU:\n",
    "Формулирую гипотезу: H0 - средние значения revenue в контрольной и тестовой группах пользователей значимо не различаются; H1 - средние значения revenue в контрольной и тестовой группах пользователей значимо различаются."
   ]
  },
  {
   "cell_type": "code",
   "execution_count": null,
   "metadata": {},
   "outputs": [],
   "source": [
    "def ttest(serie1, serie2):\n",
    "    \n",
    "    outcome = ttest_ind(serie1, serie2)\n",
    "         \n",
    "    alpha = 0.05\n",
    "    \n",
    "    if outcome[1] > alpha:\n",
    "        print(f'Результат теста: {ttest_ind(serie1, serie2)}')\n",
    "        outcome = f'Поскольку p-value > {alpha} - принимаю гипотезу о равенстве выборочных средних.'\n",
    "    else:\n",
    "        print(f'Результат теста: {ttest_ind(serie1, serie2)}')\n",
    "        outcome = f'Поскольку p-value < {alpha} - отклоняю гипотезу о равенстве выборочных средних.'\n",
    "        \n",
    "    return print(outcome)"
   ]
  },
  {
   "cell_type": "markdown",
   "metadata": {},
   "source": [
    "#### Промежуточный вывод:"
   ]
  },
  {
   "cell_type": "code",
   "execution_count": null,
   "metadata": {},
   "outputs": [],
   "source": []
  },
  {
   "cell_type": "markdown",
   "metadata": {},
   "source": [
    "#### Cценарий без выбросов:"
   ]
  },
  {
   "cell_type": "code",
   "execution_count": 87,
   "metadata": {},
   "outputs": [
    {
     "data": {
      "text/plain": [
       "0.8906235351586593"
      ]
     },
     "execution_count": 87,
     "metadata": {},
     "output_type": "execute_result"
    }
   ],
   "source": [
    "# Считаю CR для тестовой группы:\n",
    "\n",
    "CR_test = 100* test.query('revenue > 0').shape[0] / test.shape[0]\n",
    "\n",
    "CR_test"
   ]
  },
  {
   "cell_type": "code",
   "execution_count": 90,
   "metadata": {},
   "outputs": [
    {
     "data": {
      "text/plain": [
       "0.8931089592930338"
      ]
     },
     "execution_count": 90,
     "metadata": {},
     "output_type": "execute_result"
    }
   ],
   "source": [
    "# Считаю CR для контрольной группы:\n",
    "\n",
    "CR_test = 100* control.query('revenue > 0 & revenue < 3500').shape[0] / control.shape[0]\n",
    "\n",
    "CR_test"
   ]
  },
  {
   "cell_type": "code",
   "execution_count": null,
   "metadata": {},
   "outputs": [],
   "source": [
    "#### "
   ]
  },
  {
   "cell_type": "code",
   "execution_count": 91,
   "metadata": {},
   "outputs": [
    {
     "name": "stdout",
     "output_type": "stream",
     "text": [
      "0.9183866495500783\n"
     ]
    }
   ],
   "source": [
    "T = np.array([[control.query('revenue > 0 & revenue < 3500').shape[0], control.query('revenue == 0').shape[0]], \n",
    "              [test.query('revenue > 0').shape[0], test.query('revenue == 0').shape[0]]])\n",
    "              \n",
    "print(chi2_contingency(T, correction=False)[1])"
   ]
  },
  {
   "cell_type": "markdown",
   "metadata": {},
   "source": [
    "#### В связи с тем что р-value > 0.05 то тест показывает что статистически значимых различий нет."
   ]
  },
  {
   "cell_type": "code",
   "execution_count": null,
   "metadata": {},
   "outputs": [],
   "source": [
    "# Считаю доход / количество клиентов или ARPPU:"
   ]
  },
  {
   "cell_type": "code",
   "execution_count": 94,
   "metadata": {},
   "outputs": [
    {
     "name": "stdout",
     "output_type": "stream",
     "text": [
      "3003.6581717451522\n"
     ]
    }
   ],
   "source": [
    "# в тестовой группе:\n",
    "\n",
    "ARPPU_test = test.revenue.sum() / test.query('revenue > 0').shape[0]\n",
    "\n",
    "print(ARPPU_test)"
   ]
  },
  {
   "cell_type": "code",
   "execution_count": 96,
   "metadata": {},
   "outputs": [
    {
     "name": "stdout",
     "output_type": "stream",
     "text": [
      "302.45817174515236\n"
     ]
    }
   ],
   "source": [
    "# в контрольной группе:\n",
    "\n",
    "ARPPU_control = control.query('revenue < 3500').revenue.sum() / control.query('revenue > 0 & revenue < 3500').shape[0]\n",
    "\n",
    "print(ARPPU_control)"
   ]
  },
  {
   "cell_type": "markdown",
   "metadata": {},
   "source": [
    "#### Использую t-test c поправкой Уэлча для проверки статистической значимости изменения ARPPU:\n",
    "\n",
    "Формулирую гипотезу: H0 - средние значения revenue в контрольной и тестовой группах платящих пользователей значимо не различаются; H1 - ARPPU в контрольной и тестовой группах платящих пользователей значимо различаются."
   ]
  },
  {
   "cell_type": "code",
   "execution_count": 42,
   "metadata": {},
   "outputs": [],
   "source": [
    "def ttest_welch(serie1, serie2):\n",
    "    \n",
    "    outcome = ttest_ind(serie1, serie2, equal_var=False)\n",
    "         \n",
    "    alpha = 0.05\n",
    "    \n",
    "    if outcome[1] > alpha:\n",
    "        print(f'Результат теста: {ttest_ind(serie1, serie2)}')\n",
    "        outcome = f'Поскольку p-value > {alpha} - принимаю гипотезу о равенстве выборочных средних.'\n",
    "    else:\n",
    "        print(f'Результат теста: {ttest_ind(serie1, serie2)}')\n",
    "        outcome = f'Поскольку p-value < {alpha} - отклоняю гипотезу о равенстве выборочных средних.'\n",
    "        \n",
    "    return print(outcome)"
   ]
  },
  {
   "cell_type": "code",
   "execution_count": 46,
   "metadata": {},
   "outputs": [
    {
     "name": "stdout",
     "output_type": "stream",
     "text": [
      "Результат теста: Ttest_indResult(statistic=-40.760030297234856, pvalue=0.0)\n",
      "Поскольку p-value < 0.05 - отклоняю гипотезу о равенстве выборочных средних.\n"
     ]
    }
   ],
   "source": [
    "ttest_welch(test.revenue, control.query('revenue > 0 & revenue < 3500').revenue)"
   ]
  },
  {
   "cell_type": "code",
   "execution_count": 92,
   "metadata": {},
   "outputs": [
    {
     "data": {
      "text/plain": [
       "2682.5940238393296"
      ]
     },
     "execution_count": 92,
     "metadata": {},
     "output_type": "execute_result"
    }
   ],
   "source": [
    "#### Считаю ARPU:\n",
    "\n",
    "ARPU_test = CR_test * ARPPU_test\n",
    "\n",
    "ARPU_test"
   ]
  },
  {
   "cell_type": "code",
   "execution_count": 93,
   "metadata": {},
   "outputs": [
    {
     "data": {
      "text/plain": [
       "2541.3719736965804"
      ]
     },
     "execution_count": 93,
     "metadata": {},
     "output_type": "execute_result"
    }
   ],
   "source": [
    "ARPU_control = CR_control * ARPPU_control\n",
    "\n",
    "ARPU_control"
   ]
  },
  {
   "cell_type": "code",
   "execution_count": 47,
   "metadata": {},
   "outputs": [],
   "source": [
    "#### Проверю ARPU"
   ]
  },
  {
   "cell_type": "code",
   "execution_count": 48,
   "metadata": {},
   "outputs": [
    {
     "name": "stdout",
     "output_type": "stream",
     "text": [
      "Результат теста: Ttest_indResult(statistic=37.42623596967759, pvalue=4.912187544972622e-306)\n",
      "Поскольку p-value < 0.05 - отклоняю гипотезу о равенстве выборочных средних.\n"
     ]
    }
   ],
   "source": [
    "ttest_welch(test.revenue, control.query('revenue < 3500').revenue)"
   ]
  },
  {
   "cell_type": "code",
   "execution_count": null,
   "metadata": {},
   "outputs": [],
   "source": []
  },
  {
   "cell_type": "code",
   "execution_count": null,
   "metadata": {},
   "outputs": [],
   "source": []
  },
  {
   "cell_type": "code",
   "execution_count": null,
   "metadata": {},
   "outputs": [],
   "source": []
  },
  {
   "cell_type": "code",
   "execution_count": null,
   "metadata": {},
   "outputs": [],
   "source": []
  },
  {
   "cell_type": "code",
   "execution_count": null,
   "metadata": {},
   "outputs": [],
   "source": []
  },
  {
   "cell_type": "code",
   "execution_count": null,
   "metadata": {},
   "outputs": [],
   "source": [
    "get_bootstrap(test, control) # как есть без фильтров"
   ]
  },
  {
   "cell_type": "code",
   "execution_count": null,
   "metadata": {},
   "outputs": [],
   "source": []
  },
  {
   "cell_type": "code",
   "execution_count": null,
   "metadata": {},
   "outputs": [],
   "source": [
    "#### Финальный вывод. Может быть стоит оформить задачу как исследование а не как тестовое задание??"
   ]
  },
  {
   "cell_type": "code",
   "execution_count": 78,
   "metadata": {},
   "outputs": [],
   "source": [
    "# pip install ipywidgets widgetsnbextension pandas-profiling"
   ]
  },
  {
   "cell_type": "code",
   "execution_count": null,
   "metadata": {},
   "outputs": [],
   "source": []
  },
  {
   "cell_type": "code",
   "execution_count": null,
   "metadata": {},
   "outputs": [],
   "source": []
  },
  {
   "cell_type": "code",
   "execution_count": null,
   "metadata": {},
   "outputs": [],
   "source": []
  },
  {
   "cell_type": "code",
   "execution_count": 222,
   "metadata": {},
   "outputs": [
    {
     "data": {
      "text/html": [
       "<div>\n",
       "<style scoped>\n",
       "    .dataframe tbody tr th:only-of-type {\n",
       "        vertical-align: middle;\n",
       "    }\n",
       "\n",
       "    .dataframe tbody tr th {\n",
       "        vertical-align: top;\n",
       "    }\n",
       "\n",
       "    .dataframe thead th {\n",
       "        text-align: right;\n",
       "    }\n",
       "</style>\n",
       "<table border=\"1\" class=\"dataframe\">\n",
       "  <thead>\n",
       "    <tr style=\"text-align: right;\">\n",
       "      <th></th>\n",
       "      <th>user_id</th>\n",
       "      <th>revenue</th>\n",
       "      <th>testgroup</th>\n",
       "      <th>arpu</th>\n",
       "    </tr>\n",
       "  </thead>\n",
       "  <tbody>\n",
       "    <tr>\n",
       "      <td>1</td>\n",
       "      <td>2</td>\n",
       "      <td>0</td>\n",
       "      <td>a</td>\n",
       "      <td>0.0</td>\n",
       "    </tr>\n",
       "    <tr>\n",
       "      <td>2</td>\n",
       "      <td>3</td>\n",
       "      <td>0</td>\n",
       "      <td>a</td>\n",
       "      <td>0.0</td>\n",
       "    </tr>\n",
       "    <tr>\n",
       "      <td>9</td>\n",
       "      <td>10</td>\n",
       "      <td>0</td>\n",
       "      <td>a</td>\n",
       "      <td>0.0</td>\n",
       "    </tr>\n",
       "    <tr>\n",
       "      <td>10</td>\n",
       "      <td>11</td>\n",
       "      <td>0</td>\n",
       "      <td>a</td>\n",
       "      <td>0.0</td>\n",
       "    </tr>\n",
       "    <tr>\n",
       "      <td>11</td>\n",
       "      <td>12</td>\n",
       "      <td>0</td>\n",
       "      <td>a</td>\n",
       "      <td>0.0</td>\n",
       "    </tr>\n",
       "  </tbody>\n",
       "</table>\n",
       "</div>"
      ],
      "text/plain": [
       "    user_id  revenue testgroup  arpu\n",
       "1         2        0         a   0.0\n",
       "2         3        0         a   0.0\n",
       "9        10        0         a   0.0\n",
       "10       11        0         a   0.0\n",
       "11       12        0         a   0.0"
      ]
     },
     "execution_count": 222,
     "metadata": {},
     "output_type": "execute_result"
    }
   ],
   "source": [
    "control.head()"
   ]
  },
  {
   "cell_type": "code",
   "execution_count": 223,
   "metadata": {},
   "outputs": [],
   "source": []
  },
  {
   "cell_type": "code",
   "execution_count": null,
   "metadata": {},
   "outputs": [],
   "source": []
  },
  {
   "cell_type": "code",
   "execution_count": null,
   "metadata": {},
   "outputs": [],
   "source": []
  },
  {
   "cell_type": "code",
   "execution_count": null,
   "metadata": {},
   "outputs": [],
   "source": []
  },
  {
   "cell_type": "markdown",
   "metadata": {},
   "source": [
    "#### Задание 3:\n",
    "\n",
    "В игре Plants & Gardens каждый месяц проводятся тематические события, ограниченные по времени. В них игроки могут получить \n",
    "уникальные предметы для сада и персонажей, дополнительные монеты или бонусы. Для получения награды требуется пройти ряд \n",
    "уровней за определенное время. С помощью каких метрик можно оценить результаты последнего прошедшего события?"
   ]
  },
  {
   "cell_type": "markdown",
   "metadata": {},
   "source": [
    "#### Решение: \n",
    "\n",
    "Я бы оценивал результаты последнего прошедшего события при помощт слдующих метрик:\n",
    "\n",
    "ARPU = Revenue / Количество пользователей - покажет насколько прошедшее событие повлияло на увеличение дохода от каждого игрока;\n",
    "\n",
    "ARPPU = Revenue / Количество платящих пользователей - покажет насколько событие помогло увеличить доход платящих игроков;\n",
    "\n",
    "CR - изменение конверсии покажет насколько позитивно событие повлияло на принятие решения о покупке, стоит ли менять бонусные предложения;\n",
    "\n",
    "Retnetion - динамика retention поможет оценить насколько событие влияет на удержание игрока;\n",
    "\n",
    "Stickness ratio = DAU/MAU . Если метрика выросла - событие хорошо повлияло на вовлеченность игрока;\n",
    "\n",
    "ASL - покажет насколько изменилось время, которое игрок проводит в игре. Тоже покажет динамику вовлеченности игрока;\n",
    "\n",
    "#### Предположим, в другом событии мы усложнили механику событий так, что при каждой неудачной попытке выполнения уровня игрок будет откатываться на несколько уровней назад. Изменится ли набор метрик оценки результата? Если да, то как?\n",
    "\n",
    "При усложнении механики я бы вместо retention обратил внимание на churn rate - сколько пользователей перестает играть."
   ]
  }
 ],
 "metadata": {
  "kernelspec": {
   "display_name": "Python 3 (ipykernel)",
   "language": "python",
   "name": "python3"
  },
  "language_info": {
   "codemirror_mode": {
    "name": "ipython",
    "version": 3
   },
   "file_extension": ".py",
   "mimetype": "text/x-python",
   "name": "python",
   "nbconvert_exporter": "python",
   "pygments_lexer": "ipython3",
   "version": "3.10.2"
  }
 },
 "nbformat": 4,
 "nbformat_minor": 2
}
