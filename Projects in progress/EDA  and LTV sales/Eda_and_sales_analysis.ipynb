{
 "cells": [
  {
   "cell_type": "markdown",
   "id": "34ec609c",
   "metadata": {},
   "source": [
    "#### Проанализировать продажи, найти город, приносящий максимальный доход и спрогнозировать CLV по клиентам этого города."
   ]
  },
  {
   "cell_type": "code",
   "execution_count": null,
   "id": "ff6e6191",
   "metadata": {},
   "outputs": [],
   "source": []
  },
  {
   "cell_type": "code",
   "execution_count": null,
   "id": "f5aeae39",
   "metadata": {},
   "outputs": [],
   "source": [
    "#### Экспоративный анализ даных:"
   ]
  },
  {
   "cell_type": "code",
   "execution_count": 162,
   "id": "6ed3d95c",
   "metadata": {},
   "outputs": [],
   "source": [
    "import re\n",
    "import matplotlib.pyplot as plt\n",
    "import pandas as pd\n",
    "import numpy as np\n",
    "import seaborn as sns\n",
    "# import altair as alt\n",
    "import plotly.express as px\n",
    "#  import xlrd\n",
    "import pandas as pd\n",
    "import warnings\n",
    "warnings.filterwarnings(\"ignore\")\n",
    "import datetime\n",
    "plt.style.use(\"ggplot\")\n",
    "np.random.seed(42)\n",
    "warnings.filterwarnings('ignore')"
   ]
  },
  {
   "cell_type": "code",
   "execution_count": 2,
   "id": "6a8b8d3f",
   "metadata": {},
   "outputs": [
    {
     "data": {
      "text/html": [
       "<div>\n",
       "<style scoped>\n",
       "    .dataframe tbody tr th:only-of-type {\n",
       "        vertical-align: middle;\n",
       "    }\n",
       "\n",
       "    .dataframe tbody tr th {\n",
       "        vertical-align: top;\n",
       "    }\n",
       "\n",
       "    .dataframe thead th {\n",
       "        text-align: right;\n",
       "    }\n",
       "</style>\n",
       "<table border=\"1\" class=\"dataframe\">\n",
       "  <thead>\n",
       "    <tr style=\"text-align: right;\">\n",
       "      <th></th>\n",
       "      <th>Row ID</th>\n",
       "      <th>Order ID</th>\n",
       "      <th>Order Date</th>\n",
       "      <th>Ship Date</th>\n",
       "      <th>Ship Mode</th>\n",
       "      <th>Customer ID</th>\n",
       "      <th>Customer Name</th>\n",
       "      <th>Segment</th>\n",
       "      <th>Country/Region</th>\n",
       "      <th>City</th>\n",
       "      <th>...</th>\n",
       "      <th>Postal Code</th>\n",
       "      <th>Region</th>\n",
       "      <th>Product ID</th>\n",
       "      <th>Category</th>\n",
       "      <th>Sub-Category</th>\n",
       "      <th>Product Name</th>\n",
       "      <th>Sales</th>\n",
       "      <th>Quantity</th>\n",
       "      <th>Discount</th>\n",
       "      <th>Profit</th>\n",
       "    </tr>\n",
       "  </thead>\n",
       "  <tbody>\n",
       "    <tr>\n",
       "      <th>0</th>\n",
       "      <td>1</td>\n",
       "      <td>CA-2018-152156</td>\n",
       "      <td>08/11/2018</td>\n",
       "      <td>11/11/2018</td>\n",
       "      <td>Second Class</td>\n",
       "      <td>CG-12520</td>\n",
       "      <td>Claire Gute</td>\n",
       "      <td>Consumer</td>\n",
       "      <td>United States</td>\n",
       "      <td>Henderson</td>\n",
       "      <td>...</td>\n",
       "      <td>42420.0</td>\n",
       "      <td>South</td>\n",
       "      <td>FUR-BO-10001798</td>\n",
       "      <td>Furniture</td>\n",
       "      <td>Bookcases</td>\n",
       "      <td>Bush Somerset Collection Bookcase</td>\n",
       "      <td>261.9600</td>\n",
       "      <td>2</td>\n",
       "      <td>0.00</td>\n",
       "      <td>41.9136</td>\n",
       "    </tr>\n",
       "    <tr>\n",
       "      <th>1</th>\n",
       "      <td>2</td>\n",
       "      <td>CA-2018-152156</td>\n",
       "      <td>08/11/2018</td>\n",
       "      <td>11/11/2018</td>\n",
       "      <td>Second Class</td>\n",
       "      <td>CG-12520</td>\n",
       "      <td>Claire Gute</td>\n",
       "      <td>Consumer</td>\n",
       "      <td>United States</td>\n",
       "      <td>Henderson</td>\n",
       "      <td>...</td>\n",
       "      <td>42420.0</td>\n",
       "      <td>South</td>\n",
       "      <td>FUR-CH-10000454</td>\n",
       "      <td>Furniture</td>\n",
       "      <td>Chairs</td>\n",
       "      <td>Hon Deluxe Fabric Upholstered Stacking Chairs,...</td>\n",
       "      <td>731.9400</td>\n",
       "      <td>3</td>\n",
       "      <td>0.00</td>\n",
       "      <td>219.5820</td>\n",
       "    </tr>\n",
       "    <tr>\n",
       "      <th>2</th>\n",
       "      <td>3</td>\n",
       "      <td>CA-2018-138688</td>\n",
       "      <td>12/06/2018</td>\n",
       "      <td>16/06/2018</td>\n",
       "      <td>Second Class</td>\n",
       "      <td>DV-13045</td>\n",
       "      <td>Darrin Van Huff</td>\n",
       "      <td>Corporate</td>\n",
       "      <td>United States</td>\n",
       "      <td>Los Angeles</td>\n",
       "      <td>...</td>\n",
       "      <td>90036.0</td>\n",
       "      <td>West</td>\n",
       "      <td>OFF-LA-10000240</td>\n",
       "      <td>Office Supplies</td>\n",
       "      <td>Labels</td>\n",
       "      <td>Self-Adhesive Address Labels for Typewriters b...</td>\n",
       "      <td>14.6200</td>\n",
       "      <td>2</td>\n",
       "      <td>0.00</td>\n",
       "      <td>6.8714</td>\n",
       "    </tr>\n",
       "    <tr>\n",
       "      <th>3</th>\n",
       "      <td>4</td>\n",
       "      <td>US-2017-108966</td>\n",
       "      <td>11/10/2017</td>\n",
       "      <td>18/10/2017</td>\n",
       "      <td>Standard Class</td>\n",
       "      <td>SO-20335</td>\n",
       "      <td>Sean O'Donnell</td>\n",
       "      <td>Consumer</td>\n",
       "      <td>United States</td>\n",
       "      <td>Fort Lauderdale</td>\n",
       "      <td>...</td>\n",
       "      <td>33311.0</td>\n",
       "      <td>South</td>\n",
       "      <td>FUR-TA-10000577</td>\n",
       "      <td>Furniture</td>\n",
       "      <td>Tables</td>\n",
       "      <td>Bretford CR4500 Series Slim Rectangular Table</td>\n",
       "      <td>957.5775</td>\n",
       "      <td>5</td>\n",
       "      <td>0.45</td>\n",
       "      <td>-383.0310</td>\n",
       "    </tr>\n",
       "    <tr>\n",
       "      <th>4</th>\n",
       "      <td>5</td>\n",
       "      <td>US-2017-108966</td>\n",
       "      <td>11/10/2017</td>\n",
       "      <td>18/10/2017</td>\n",
       "      <td>Standard Class</td>\n",
       "      <td>SO-20335</td>\n",
       "      <td>Sean O'Donnell</td>\n",
       "      <td>Consumer</td>\n",
       "      <td>United States</td>\n",
       "      <td>Fort Lauderdale</td>\n",
       "      <td>...</td>\n",
       "      <td>33311.0</td>\n",
       "      <td>South</td>\n",
       "      <td>OFF-ST-10000760</td>\n",
       "      <td>Office Supplies</td>\n",
       "      <td>Storage</td>\n",
       "      <td>Eldon Fold 'N Roll Cart System</td>\n",
       "      <td>22.3680</td>\n",
       "      <td>2</td>\n",
       "      <td>0.20</td>\n",
       "      <td>2.5164</td>\n",
       "    </tr>\n",
       "  </tbody>\n",
       "</table>\n",
       "<p>5 rows × 21 columns</p>\n",
       "</div>"
      ],
      "text/plain": [
       "   Row ID        Order ID  Order Date   Ship Date       Ship Mode Customer ID  \\\n",
       "0       1  CA-2018-152156  08/11/2018  11/11/2018    Second Class    CG-12520   \n",
       "1       2  CA-2018-152156  08/11/2018  11/11/2018    Second Class    CG-12520   \n",
       "2       3  CA-2018-138688  12/06/2018  16/06/2018    Second Class    DV-13045   \n",
       "3       4  US-2017-108966  11/10/2017  18/10/2017  Standard Class    SO-20335   \n",
       "4       5  US-2017-108966  11/10/2017  18/10/2017  Standard Class    SO-20335   \n",
       "\n",
       "     Customer Name    Segment Country/Region             City  ...  \\\n",
       "0      Claire Gute   Consumer  United States        Henderson  ...   \n",
       "1      Claire Gute   Consumer  United States        Henderson  ...   \n",
       "2  Darrin Van Huff  Corporate  United States      Los Angeles  ...   \n",
       "3   Sean O'Donnell   Consumer  United States  Fort Lauderdale  ...   \n",
       "4   Sean O'Donnell   Consumer  United States  Fort Lauderdale  ...   \n",
       "\n",
       "  Postal Code  Region       Product ID         Category Sub-Category  \\\n",
       "0     42420.0   South  FUR-BO-10001798        Furniture    Bookcases   \n",
       "1     42420.0   South  FUR-CH-10000454        Furniture       Chairs   \n",
       "2     90036.0    West  OFF-LA-10000240  Office Supplies       Labels   \n",
       "3     33311.0   South  FUR-TA-10000577        Furniture       Tables   \n",
       "4     33311.0   South  OFF-ST-10000760  Office Supplies      Storage   \n",
       "\n",
       "                                        Product Name     Sales  Quantity  \\\n",
       "0                  Bush Somerset Collection Bookcase  261.9600         2   \n",
       "1  Hon Deluxe Fabric Upholstered Stacking Chairs,...  731.9400         3   \n",
       "2  Self-Adhesive Address Labels for Typewriters b...   14.6200         2   \n",
       "3      Bretford CR4500 Series Slim Rectangular Table  957.5775         5   \n",
       "4                     Eldon Fold 'N Roll Cart System   22.3680         2   \n",
       "\n",
       "   Discount    Profit  \n",
       "0      0.00   41.9136  \n",
       "1      0.00  219.5820  \n",
       "2      0.00    6.8714  \n",
       "3      0.45 -383.0310  \n",
       "4      0.20    2.5164  \n",
       "\n",
       "[5 rows x 21 columns]"
      ]
     },
     "execution_count": 2,
     "metadata": {},
     "output_type": "execute_result"
    }
   ],
   "source": [
    "df = pd.read_csv('./datasets/superstore/superstore_csv.csv', encoding='Windows-1251') #, sep=' ')\n",
    "\n",
    "df.head()"
   ]
  },
  {
   "cell_type": "code",
   "execution_count": 167,
   "id": "893f1e8b",
   "metadata": {},
   "outputs": [
    {
     "data": {
      "text/html": [
       "<div>\n",
       "<style scoped>\n",
       "    .dataframe tbody tr th:only-of-type {\n",
       "        vertical-align: middle;\n",
       "    }\n",
       "\n",
       "    .dataframe tbody tr th {\n",
       "        vertical-align: top;\n",
       "    }\n",
       "\n",
       "    .dataframe thead th {\n",
       "        text-align: right;\n",
       "    }\n",
       "</style>\n",
       "<table border=\"1\" class=\"dataframe\">\n",
       "  <thead>\n",
       "    <tr style=\"text-align: right;\">\n",
       "      <th></th>\n",
       "      <th>Row ID</th>\n",
       "      <th>Order ID</th>\n",
       "      <th>Order Date</th>\n",
       "      <th>Ship Date</th>\n",
       "      <th>Ship Mode</th>\n",
       "      <th>Customer ID</th>\n",
       "      <th>Customer Name</th>\n",
       "      <th>Segment</th>\n",
       "      <th>Country/Region</th>\n",
       "      <th>City</th>\n",
       "      <th>...</th>\n",
       "      <th>Postal Code</th>\n",
       "      <th>Region</th>\n",
       "      <th>Product ID</th>\n",
       "      <th>Category</th>\n",
       "      <th>Sub-Category</th>\n",
       "      <th>Product Name</th>\n",
       "      <th>Sales</th>\n",
       "      <th>Quantity</th>\n",
       "      <th>Discount</th>\n",
       "      <th>Profit</th>\n",
       "    </tr>\n",
       "  </thead>\n",
       "  <tbody>\n",
       "    <tr>\n",
       "      <th>0</th>\n",
       "      <td>1</td>\n",
       "      <td>CA-2018-152156</td>\n",
       "      <td>08/11/2018</td>\n",
       "      <td>2018-11-11</td>\n",
       "      <td>Second Class</td>\n",
       "      <td>CG-12520</td>\n",
       "      <td>Claire Gute</td>\n",
       "      <td>Consumer</td>\n",
       "      <td>United States</td>\n",
       "      <td>Henderson</td>\n",
       "      <td>...</td>\n",
       "      <td>42420.0</td>\n",
       "      <td>South</td>\n",
       "      <td>FUR-BO-10001798</td>\n",
       "      <td>Furniture</td>\n",
       "      <td>Bookcases</td>\n",
       "      <td>Bush Somerset Collection Bookcase</td>\n",
       "      <td>261.96</td>\n",
       "      <td>2</td>\n",
       "      <td>0.0</td>\n",
       "      <td>41.9136</td>\n",
       "    </tr>\n",
       "  </tbody>\n",
       "</table>\n",
       "<p>1 rows × 21 columns</p>\n",
       "</div>"
      ],
      "text/plain": [
       "   Row ID        Order ID  Order Date  Ship Date     Ship Mode Customer ID  \\\n",
       "0       1  CA-2018-152156  08/11/2018 2018-11-11  Second Class    CG-12520   \n",
       "\n",
       "  Customer Name   Segment Country/Region       City  ... Postal Code  Region  \\\n",
       "0   Claire Gute  Consumer  United States  Henderson  ...     42420.0   South   \n",
       "\n",
       "        Product ID   Category Sub-Category                       Product Name  \\\n",
       "0  FUR-BO-10001798  Furniture    Bookcases  Bush Somerset Collection Bookcase   \n",
       "\n",
       "    Sales  Quantity  Discount   Profit  \n",
       "0  261.96         2       0.0  41.9136  \n",
       "\n",
       "[1 rows x 21 columns]"
      ]
     },
     "execution_count": 167,
     "metadata": {},
     "output_type": "execute_result"
    }
   ],
   "source": [
    "df.head(1)"
   ]
  },
  {
   "cell_type": "markdown",
   "id": "4bef3c4b",
   "metadata": {},
   "source": [
    "#### Изучаю данные:"
   ]
  },
  {
   "cell_type": "code",
   "execution_count": 20,
   "id": "8a516229",
   "metadata": {},
   "outputs": [
    {
     "data": {
      "text/plain": [
       "0"
      ]
     },
     "execution_count": 20,
     "metadata": {},
     "output_type": "execute_result"
    }
   ],
   "source": [
    "df.duplicated().sum()"
   ]
  },
  {
   "cell_type": "code",
   "execution_count": 4,
   "id": "5fd62179",
   "metadata": {},
   "outputs": [
    {
     "data": {
      "text/plain": [
       "Row ID            0.000000\n",
       "Order ID          0.000000\n",
       "Order Date        0.000000\n",
       "Ship Date         0.000000\n",
       "Ship Mode         0.000000\n",
       "Customer ID       0.000000\n",
       "Customer Name     0.000000\n",
       "Segment           0.000000\n",
       "Country/Region    0.000000\n",
       "City              0.000000\n",
       "State             0.000000\n",
       "Postal Code       0.001101\n",
       "Region            0.000000\n",
       "Product ID        0.000000\n",
       "Category          0.000000\n",
       "Sub-Category      0.000000\n",
       "Product Name      0.000000\n",
       "Sales             0.000000\n",
       "Quantity          0.000000\n",
       "Discount          0.000000\n",
       "Profit            0.000000\n",
       "dtype: float64"
      ]
     },
     "execution_count": 4,
     "metadata": {},
     "output_type": "execute_result"
    }
   ],
   "source": [
    "df.isna().sum()/df.shape[0]"
   ]
  },
  {
   "cell_type": "code",
   "execution_count": null,
   "id": "07910eeb",
   "metadata": {},
   "outputs": [],
   "source": [
    "#### Считаю что для цели исследования колонка индекс не представляет ценности."
   ]
  },
  {
   "cell_type": "code",
   "execution_count": null,
   "id": "6410fef6",
   "metadata": {},
   "outputs": [],
   "source": [
    "#### Привожу колонку с датой отгрузки к типу datetime:"
   ]
  },
  {
   "cell_type": "code",
   "execution_count": 130,
   "id": "af9057bc",
   "metadata": {},
   "outputs": [],
   "source": [
    "df['Ship Date'] = pd.to_datetime(df['Ship Date'])"
   ]
  },
  {
   "cell_type": "code",
   "execution_count": 22,
   "id": "79edc129",
   "metadata": {},
   "outputs": [],
   "source": [
    "#### Смотрю на топ 10 регионов по количеству транзакций:"
   ]
  },
  {
   "cell_type": "code",
   "execution_count": 5,
   "id": "83c4e521",
   "metadata": {},
   "outputs": [
    {
     "data": {
      "text/plain": [
       "array(['South', 'West', 'Central', 'East'], dtype=object)"
      ]
     },
     "execution_count": 5,
     "metadata": {},
     "output_type": "execute_result"
    }
   ],
   "source": [
    "df.Region.unique()"
   ]
  },
  {
   "cell_type": "code",
   "execution_count": 37,
   "id": "905c96c6",
   "metadata": {},
   "outputs": [],
   "source": [
    "sales_by_region = df.groupby('Region', as_index=False) \\\n",
    "                    .agg({'Sales': 'sum'}) \\\n",
    "                    .sort_values('Sales')\n",
    "\n",
    "purchases_by_region = df.groupby('Region', as_index=False) \\\n",
    "                        .agg({'Order ID': pd.Series.nunique}) \\\n",
    "                        .rename(columns={'Order ID': 'Number_of_purchases'}) \\\n",
    "                        .sort_values('Number_of_purchases')"
   ]
  },
  {
   "cell_type": "code",
   "execution_count": null,
   "id": "2b94673a",
   "metadata": {},
   "outputs": [],
   "source": [
    "#### Смотрю продажи и количество покупок по регионам:"
   ]
  },
  {
   "cell_type": "code",
   "execution_count": 38,
   "id": "4c41d365",
   "metadata": {},
   "outputs": [
    {
     "data": {
      "text/plain": [
       "<AxesSubplot:xlabel='Region', ylabel='Number_of_purchases'>"
      ]
     },
     "execution_count": 38,
     "metadata": {},
     "output_type": "execute_result"
    },
    {
     "data": {
      "image/png": "[encoded data removed]",
      "text/plain": [
       "<Figure size 1152x360 with 2 Axes>"
      ]
     },
     "metadata": {},
     "output_type": "display_data"
    }
   ],
   "source": [
    "plt.figure(figsize=(16,5))\n",
    "\n",
    "plt.subplot(141)\n",
    "sns.barplot(x='Region', y='Sales', data=sales_by_region)\n",
    "\n",
    "plt.subplot(143)\n",
    "sns.barplot(x='Region', y='Number_of_purchases', data=purchases_by_region)"
   ]
  },
  {
   "cell_type": "code",
   "execution_count": null,
   "id": "9d97f86d",
   "metadata": {},
   "outputs": [],
   "source": [
    "#### Топ-10 городов по количеству покупок и по объему продаж:"
   ]
  },
  {
   "cell_type": "code",
   "execution_count": 78,
   "id": "6935c2c1",
   "metadata": {},
   "outputs": [],
   "source": [
    "sales_by_city = df.groupby('City', as_index=False) \\\n",
    "                  .agg({'Sales': 'sum'}) \\\n",
    "                  .sort_values('Sales') \\\n",
    "                  .tail(10)\n",
    "\n",
    "\n",
    "purchases_by_city = df.groupby('City', as_index=False) \\\n",
    "                      .agg({'Order ID': 'nunique'}) \\\n",
    "                      .rename(columns={'Order ID': 'Number_of_purchases'}) \\\n",
    "                      .sort_values('Number_of_purchases')\\\n",
    "                      .tail(10)"
   ]
  },
  {
   "cell_type": "code",
   "execution_count": 163,
   "id": "37277169",
   "metadata": {},
   "outputs": [
    {
     "data": {
      "image/png": "[encoded data removed]",
      "text/plain": [
       "<Figure size 1152x360 with 2 Axes>"
      ]
     },
     "metadata": {},
     "output_type": "display_data"
    }
   ],
   "source": [
    "plt.figure(figsize=(16,5))\n",
    "\n",
    "plt.subplot(141)\n",
    "sns.barplot(x='City', y='Sales', data=sales_by_city)\n",
    "plt.xticks(rotation=50)\n",
    "\n",
    "plt.subplot(143)\n",
    "sns.barplot(x='City', y='Number_of_purchases', data=purchases_by_city)\n",
    "plt.xticks(rotation=50)\n",
    "\n",
    "warnings.filterwarnings('ignore')"
   ]
  },
  {
   "cell_type": "code",
   "execution_count": null,
   "id": "b3323263",
   "metadata": {},
   "outputs": [],
   "source": [
    "#### Смотрю распределение среднего чека по городам:"
   ]
  },
  {
   "cell_type": "code",
   "execution_count": 173,
   "id": "f0359533",
   "metadata": {},
   "outputs": [
    {
     "data": {
      "application/vnd.plotly.v1+json": {
       "config": {
        "plotlyServerURL": "https://plot.ly"
       },
       "data": [
        {
         "hovertemplate": "City=%{x}<br>Sales=%{marker.size}<extra></extra>",
         "legendgroup": "",
         "marker": {
          "color": "#636efa",
          "opacity": 0.5,
          "size": [
           25.5,
           1.392,
           129.99933333333334,
           158.58285714285714,
           344.973125,
           72.5515,
           121.89314285714285,
           10.2255,
           377.30628,
           295.81,
           108.96249999999999,
           177.8546,
           19.44,
           129.222,
           228.1134444444444,
           835.655,
           336.9088666666667,
           14.112,
           125.85,
           210.768,
           215.10125,
           440.9702564102564,
           23.36,
           131.46533333333335,
           171.41879411764705,
           155.3328717948718,
           157.80133333333333,
           86.080625,
           143.18237209302328,
           232.89000000000001,
           88.96,
           61.13333333333333,
           10.368,
           94.42320000000001,
           45.251200000000004,
           189.16000000000003,
           17.270333333333333,
           1263.4133333333332,
           337.92679999999996,
           861.0633333333334,
           8.288,
           104.516,
           21.002666666666666,
           273.6175,
           36.38466666666667,
           236.1966666666667,
           207.7375,
           46.9585,
           21.83,
           318.132125,
           26.205000000000002,
           96.24476923076924,
           487.90600000000006,
           158.70080000000002,
           184.60382857142858,
           102.776,
           906.3495999999999,
           415.6995,
           11.144,
           1082.3860000000002,
           866.7232799999999,
           151.87733333333333,
           293.5035,
           83.68166666666667,
           272.71,
           38.12181818181818,
           261.162,
           146.7097333333333,
           84.20133333333332,
           61.188,
           278.4,
           151.96,
           153.821,
           14.016,
           263.3334423076923,
           51.30499999999999,
           98.8803,
           333.1511111111111,
           123.02993749999999,
           1603.136,
           154.584525477707,
           186.37981818181817,
           347.20666666666665,
           94.82211764705883,
           129.39,
           316.81857142857143,
           151.09964285714287,
           168.41,
           190.14658620689656,
           55.71,
           81.775,
           97.014,
           147.76036,
           312.1398024691358,
           174.35244594594596,
           146.352,
           340.07748387096774,
           111.672,
           301.96,
           251.565,
           33.984,
           32.124,
           103.124,
           27.567999999999998,
           136.1518181818182,
           72.17999999999999,
           103.42,
           251.55725,
           9.697999999999999,
           128.22886751592355,
           27.46,
           171.75057142857142,
           32.4,
           68.082875,
           320.66200000000003,
           175.26166666666668,
           186.9798,
           6.924,
           80.84533333333333,
           178.648,
           277.24529545454544,
           287.5409473684211,
           248.86866666666666,
           369.10386086956527,
           256.74073684210526,
           87.88333333333333,
           171.51142857142855,
           562.4333333333333,
           97.77333333333334,
           26.785,
           75.454,
           89.46666666666665,
           274.27500000000003,
           29.425333333333338,
           479.775,
           180.2637142857143,
           432.808,
           186.63494736842105,
           85.715,
           222.90699999999998,
           1.824,
           118.3962,
           62.028,
           31.516000000000002,
           244.172,
           438.44975,
           257.5333636363637,
           210.7524,
           131.41571428571427,
           239.57333333333335,
           168.92502439024392,
           362.93904761904764,
           133.60742857142856,
           328.6355,
           244.5446814814815,
           48.816,
           304.24424324324326,
           73.91499999999999,
           139.87624999999997,
           303.4049423076923,
           28.752,
           202.95999999999998,
           62.476,
           16.926,
           223.765,
           223.3025,
           278.1588,
           82.17,
           126.8636956521739,
           158.376,
           34.944,
           15.96,
           77.88353846153846,
           75.16142857142857,
           20.764,
           575.6975,
           15.175999999999998,
           131.82999999999998,
           185.1369230769231,
           235.31444444444443,
           416.26250000000005,
           426.6848,
           61.794,
           55.5,
           242.69333333333336,
           43.8,
           67.33200000000001,
           82.056,
           247.47818181818184,
           94.2808,
           626.9585714285714,
           191.42666666666665,
           147.94666666666666,
           235.41690909090906,
           344.0993725490196,
           63.9076,
           303.292875,
           129.94161111111111,
           20.382,
           290.728,
           21.9595,
           45.95333333333334,
           97.31581818181817,
           301.96,
           44.184,
           131.4625,
           61.457499999999996,
           171.1001602122016,
           421.30333333333334,
           255.4163,
           1208.685,
           404.62695652173915,
           217.458,
           9.99,
           75.6875,
           304.43729268292685,
           357.705464,
           2354.395,
           86.62,
           63.82066666666666,
           265.02909090909094,
           2.064,
           6,
           44.660000000000004,
           434.0811111111111,
           130.58123076923079,
           120.67,
           751.984,
           163.67358333333334,
           166.082,
           183.76500000000001,
           105.1732,
           46.32,
           807.6193548387097,
           72.74575,
           182.47,
           283.92,
           270.92266666666666,
           254.8584772727273,
           284.06333333333333,
           371.2662653061225,
           215.03182608695653,
           201.28575,
           78.7953846153846,
           32.92333333333333,
           141.07846153846154,
           76.295,
           173.9589090909091,
           264.3725,
           4.96,
           145.89466666666667,
           162.96533333333335,
           758.363,
           36.248333333333335,
           28.916,
           129.20066666666665,
           115.36,
           55.48,
           148.34791666666666,
           72.294,
           68.49,
           56.0552,
           220.57426229508198,
           305.02933333333334,
           39.73666666666667,
           223.9012222222222,
           235.4100950468541,
           216.59308771929827,
           5.2410000000000005,
           302.370625,
           98.76066666666667,
           60.66833333333333,
           534.679,
           76.12666666666667,
           193.29818181818183,
           273.96,
           279.4385,
           150.72733333333335,
           220.7175,
           15.552,
           419.80285714285714,
           168.4673,
           103.32,
           51.09,
           31.421333333333333,
           45.61663157894737,
           22.5545,
           275.30244444444446,
           95.616,
           198.07803333333334,
           115.52166666666666,
           140.9709090909091,
           82.263,
           144.205,
           10.429599999999999,
           152.15920175438598,
           128.29,
           440.9593333333333,
           160.29,
           253.56044444444444,
           733.5017391304348,
           191.399,
           388.12,
           155.1972,
           487.984,
           6.37,
           496.63545454545454,
           108.71666666666668,
           141.4492380952381,
           27.88,
           372.273,
           271.93,
           126.24660000000002,
           136.2525,
           719.0142857142856,
           281.54,
           264.954,
           30.666636363636368,
           82.1876,
           484.65,
           430.425,
           161.03787499999999,
           17.97,
           209.34010344827587,
           52.3875,
           47.193999999999996,
           7.385,
           42.305,
           139.46977777777778,
           280.1837825136612,
           300.80125263157896,
           276.8291666666667,
           66.61399999999999,
           772.7950000000001,
           17.43,
           366.744,
           675.6650000000001,
           142.125,
           612.562625,
           11.064,
           103.50999999999999,
           197.0173333333333,
           229.40069230769228,
           145.02460000000002,
           195.2248,
           286.8182608695652,
           179.158,
           204.0896,
           225.4475,
           283.92,
           35.185,
           332.6764444444444,
           339.96,
           158.1890909090909,
           2.808,
           107.32600000000001,
           101.15166666666666,
           35.59,
           173.12222222222223,
           116.312,
           54.8856,
           228.33333333333334,
           133.49275,
           387.9756,
           156.9082380952381,
           366.85200000000003,
           260.34766666666667,
           112.1605,
           164.99866666666665,
           122.45539285714285,
           2.214,
           80.12313043478261,
           214.635,
           385.177,
           203.1229292364991,
           174.60725396825396,
           145.9,
           106.455,
           348.2192307692308,
           235.35830666666666,
           130.62145454545455,
           305.454,
           192.13457142857143,
           211.786,
           30.146666666666665,
           122.84213333333334,
           7.824,
           82.98333333333333,
           16.28,
           168.827875,
           515.5048387096774,
           276.1234,
           210.86724999999998,
           63.822950000000006,
           204.8881818181818,
           57.963,
           76.32000000000001,
           174.74240000000003,
           333.576,
           180.6888125,
           99.84154545454545,
           244.975375,
           41.904,
           161.0155,
           414.2106666666666,
           119.03714285714285,
           644.2320000000001,
           201.53255555555555,
           557.096,
           138.87471428571428,
           150.46283018867925,
           132.52,
           11.85,
           287.8389090909091,
           93.954,
           40.41,
           89.142,
           8.952,
           138.02407692307693,
           369.5733333333333,
           693.4361142857142,
           17.67,
           562.4060000000001,
           65.97666666666667,
           165.965,
           443.94,
           57.19200000000001,
           96.41499999999999,
           697.16,
           120.77085714285715,
           86.10612499999999,
           91.11137500000001,
           100.347,
           162.659,
           370.2292881355932,
           108.81111111111112,
           45.028999999999996,
           279.53546470588236,
           220.91978823529413,
           687.0033333333334,
           144.55307142857143,
           3.62,
           27.110999999999997,
           75.18,
           142.645,
           112.77300000000001,
           240.45071428571427,
           536.1542499999999,
           37.032000000000004,
           50.46,
           115.44,
           122.19225,
           279.30079906542056,
           19.935000000000002,
           36.665,
           25.357333333333333,
           126.38000000000001,
           51.711999999999996,
           134.95370833333334,
           206.38833333333332,
           207.91285714285715,
           853.9866666666667,
           289.70257142857145,
           4.3,
           264.13706748466257,
           36.68,
           204.6,
           159.79000000000002,
           203.46999999999997,
           106.03500000000001,
           144.41444444444446,
           426.5099411764706,
           353.3775,
           144.33556944444445,
           117.89999999999999,
           202.16649999999998,
           82.33092307692309,
           327.12,
           263.6573333333333,
           47.38666666666668,
           50.43066666666667,
           76.5248,
           47.7608,
           174.22275000000002,
           22.288,
           139.56415625,
           783.067,
           135.7842307692308,
           155.41693103448276,
           197.28175,
           213.72961538461539,
           87.85000000000001,
           574.403,
           69.44120000000001,
           49.70666666666667,
           81.88,
           423.28,
           203.56833333333336,
           137.3672,
           80.99575,
           359.508125,
           79.69500000000001,
           101.01786666666668,
           217.4,
           485.36800000000005,
           286.502,
           120.55090909090909,
           30.32,
           404.4998,
           54.5,
           79.37,
           305.877,
           125.24000000000001,
           62.370000000000005,
           47.10933333333333,
           86.62,
           158.30584615384618,
           225.09682352941175,
           278.13800000000003,
           444.768,
           117.89571428571428,
           202.6961388888889,
           61.45533333333333,
           202.54999999999998,
           88.22066666666667,
           228.78000000000003,
           48.8875,
           510.5110666666667,
           163.5956,
           50.8,
           210.21625
          ],
          "sizemode": "area",
          "sizeref": 5.8859875,
          "symbol": "circle"
         },
         "mode": "markers",
         "name": "",
         "orientation": "v",
         "showlegend": false,
         "type": "scatter",
         "x": [
          "Aberdeen",
          "Abilene",
          "Akron",
          "Albuquerque",
          "Alexandria",
          "Allen",
          "Allentown",
          "Altoona",
          "Amarillo",
          "Anaheim",
          "Andover",
          "Ann Arbor",
          "Antioch",
          "Apopka",
          "Apple Valley",
          "Appleton",
          "Arlington",
          "Arlington Heights",
          "Arvada",
          "Asheville",
          "Athens",
          "Atlanta",
          "Atlantic City",
          "Auburn",
          "Aurora",
          "Austin",
          "Avondale",
          "Bakersfield",
          "Baltimore",
          "Bangor",
          "Bartlett",
          "Bayonne",
          "Baytown",
          "Beaumont",
          "Bedford",
          "Belleville",
          "Bellevue",
          "Bellingham",
          "Bethlehem",
          "Beverly",
          "Billings",
          "Bloomington",
          "Boca Raton",
          "Boise",
          "Bolingbrook",
          "Bossier City",
          "Bowling Green",
          "Boynton Beach",
          "Bozeman",
          "Brentwood",
          "Bridgeton",
          "Bristol",
          "Broken Arrow",
          "Broomfield",
          "Brownsville",
          "Bryan",
          "Buffalo",
          "Buffalo Grove",
          "Bullhead City",
          "Burbank",
          "Burlington",
          "Caldwell",
          "Camarillo",
          "Cambridge",
          "Canton",
          "Carlsbad",
          "Carol Stream",
          "Carrollton",
          "Cary",
          "Cedar Hill",
          "Cedar Rapids",
          "Champaign",
          "Chandler",
          "Chapel Hill",
          "Charlotte",
          "Charlottesville",
          "Chattanooga",
          "Chesapeake",
          "Chester",
          "Cheyenne",
          "Chicago",
          "Chico",
          "Chula Vista",
          "Cincinnati",
          "Citrus Heights",
          "Clarksville",
          "Cleveland",
          "Clifton",
          "Clinton",
          "Clovis",
          "Coachella",
          "College Station",
          "Colorado Springs",
          "Columbia",
          "Columbus",
          "Commerce City",
          "Concord",
          "Conroe",
          "Conway",
          "Coon Rapids",
          "Coppell",
          "Coral Gables",
          "Coral Springs",
          "Corpus Christi",
          "Costa Mesa",
          "Cottage Grove",
          "Covington",
          "Cranston",
          "Cuyahoga Falls",
          "Dallas",
          "Danbury",
          "Danville",
          "Davis",
          "Daytona Beach",
          "Dearborn",
          "Dearborn Heights",
          "Decatur",
          "Deer Park",
          "Delray Beach",
          "Deltona",
          "Denver",
          "Des Moines",
          "Des Plaines",
          "Detroit",
          "Dover",
          "Draper",
          "Dublin",
          "Dubuque",
          "Durham",
          "Eagan",
          "East Orange",
          "East Point",
          "Eau Claire",
          "Edinburg",
          "Edmond",
          "Edmonds",
          "El Cajon",
          "El Paso",
          "Elkhart",
          "Elmhurst",
          "Elyria",
          "Encinitas",
          "Englewood",
          "Escondido",
          "Eugene",
          "Evanston",
          "Everett",
          "Fairfield",
          "Fargo",
          "Farmington",
          "Fayetteville",
          "Florence",
          "Fort Collins",
          "Fort Lauderdale",
          "Fort Worth",
          "Frankfort",
          "Franklin",
          "Freeport",
          "Fremont",
          "Fresno",
          "Frisco",
          "Gaithersburg",
          "Garden City",
          "Garland",
          "Gastonia",
          "Georgetown",
          "Gilbert",
          "Gladstone",
          "Glendale",
          "Glenview",
          "Goldsboro",
          "Grand Island",
          "Grand Prairie",
          "Grand Rapids",
          "Grapevine",
          "Great Falls",
          "Greeley",
          "Green Bay",
          "Greensboro",
          "Greenville",
          "Greenwood",
          "Gresham",
          "Grove City",
          "Gulfport",
          "Hackensack",
          "Hagerstown",
          "Haltom City",
          "Hamilton",
          "Hampton",
          "Harlingen",
          "Harrisonburg",
          "Hattiesburg",
          "Helena",
          "Hempstead",
          "Henderson",
          "Hendersonville",
          "Hesperia",
          "Hialeah",
          "Hickory",
          "Highland Park",
          "Hillsboro",
          "Holland",
          "Hollywood",
          "Holyoke",
          "Homestead",
          "Hoover",
          "Hot Springs",
          "Houston",
          "Huntington Beach",
          "Huntsville",
          "Independence",
          "Indianapolis",
          "Inglewood",
          "Iowa City",
          "Irving",
          "Jackson",
          "Jacksonville",
          "Jamestown",
          "Jefferson City",
          "Johnson City",
          "Jonesboro",
          "Jupiter",
          "Keller",
          "Kenner",
          "Kenosha",
          "Kent",
          "Kirkwood",
          "Kissimmee",
          "Knoxville",
          "La Crosse",
          "La Mesa",
          "La Porte",
          "La Quinta",
          "Lafayette",
          "Laguna Niguel",
          "Lake Charles",
          "Lake Elsinore",
          "Lake Forest",
          "Lakeland",
          "Lakeville",
          "Lakewood",
          "Lancaster",
          "Lansing",
          "Laredo",
          "Las Cruces",
          "Las Vegas",
          "Laurel",
          "Lawrence",
          "Lawton",
          "Layton",
          "League City",
          "Lebanon",
          "Lehi",
          "Leominster",
          "Lewiston",
          "Lincoln Park",
          "Linden",
          "Lindenhurst",
          "Little Rock",
          "Littleton",
          "Lodi",
          "Logan",
          "Long Beach",
          "Longmont",
          "Longview",
          "Lorain",
          "Los Angeles",
          "Louisville",
          "Loveland",
          "Lowell",
          "Lubbock",
          "Macon",
          "Madison",
          "Malden",
          "Manchester",
          "Manhattan",
          "Mansfield",
          "Manteca",
          "Maple Grove",
          "Margate",
          "Marietta",
          "Marion",
          "Marlborough",
          "Marysville",
          "Mason",
          "Mcallen",
          "Medford",
          "Medina",
          "Melbourne",
          "Memphis",
          "Mentor",
          "Meriden",
          "Meridian",
          "Mesa",
          "Mesquite",
          "Miami",
          "Middletown",
          "Midland",
          "Milford",
          "Milwaukee",
          "Minneapolis",
          "Miramar",
          "Mishawaka",
          "Mission Viejo",
          "Missoula",
          "Missouri City",
          "Mobile",
          "Modesto",
          "Monroe",
          "Montebello",
          "Montgomery",
          "Moorhead",
          "Moreno Valley",
          "Morgan Hill",
          "Morristown",
          "Mount Pleasant",
          "Mount Vernon",
          "Murfreesboro",
          "Murray",
          "Murrieta",
          "Muskogee",
          "Naperville",
          "Nashua",
          "Nashville",
          "New Albany",
          "New Bedford",
          "New Brunswick",
          "New Castle",
          "New Rochelle",
          "New York City",
          "Newark",
          "Newport News",
          "Niagara Falls",
          "Noblesville",
          "Norfolk",
          "Normal",
          "Norman",
          "North Charleston",
          "North Las Vegas",
          "North Miami",
          "Norwich",
          "Oak Park",
          "Oakland",
          "Oceanside",
          "Odessa",
          "Oklahoma City",
          "Olathe",
          "Olympia",
          "Omaha",
          "Ontario",
          "Orange",
          "Orem",
          "Orland Park",
          "Orlando",
          "Ormond Beach",
          "Oswego",
          "Overland Park",
          "Owensboro",
          "Oxnard",
          "Palatine",
          "Palm Coast",
          "Park Ridge",
          "Parker",
          "Parma",
          "Pasadena",
          "Pasco",
          "Passaic",
          "Paterson",
          "Pearland",
          "Pembroke Pines",
          "Pensacola",
          "Peoria",
          "Perth Amboy",
          "Pharr",
          "Philadelphia",
          "Phoenix",
          "Pico Rivera",
          "Pine Bluff",
          "Plainfield",
          "Plano",
          "Plantation",
          "Pleasant Grove",
          "Pocatello",
          "Pomona",
          "Pompano Beach",
          "Port Arthur",
          "Port Orange",
          "Port Saint Lucie",
          "Portage",
          "Portland",
          "Providence",
          "Provo",
          "Pueblo",
          "Quincy",
          "Raleigh",
          "Rancho Cucamonga",
          "Rapid City",
          "Reading",
          "Redding",
          "Redlands",
          "Redmond",
          "Redondo Beach",
          "Redwood City",
          "Reno",
          "Renton",
          "Revere",
          "Richardson",
          "Richmond",
          "Rio Rancho",
          "Riverside",
          "Rochester",
          "Rochester Hills",
          "Rock Hill",
          "Rockford",
          "Rockville",
          "Rogers",
          "Rome",
          "Romeoville",
          "Roseville",
          "Roswell",
          "Round Rock",
          "Royal Oak",
          "Sacramento",
          "Saginaw",
          "Saint Charles",
          "Saint Cloud",
          "Saint Louis",
          "Saint Paul",
          "Saint Peters",
          "Saint Petersburg",
          "Salem",
          "Salinas",
          "Salt Lake City",
          "San Angelo",
          "San Antonio",
          "San Bernardino",
          "San Clemente",
          "San Diego",
          "San Francisco",
          "San Gabriel",
          "San Jose",
          "San Luis Obispo",
          "San Marcos",
          "San Mateo",
          "Sandy Springs",
          "Sanford",
          "Santa Ana",
          "Santa Barbara",
          "Santa Clara",
          "Santa Fe",
          "Santa Maria",
          "Scottsdale",
          "Seattle",
          "Sheboygan",
          "Shelton",
          "Sierra Vista",
          "Sioux Falls",
          "Skokie",
          "Smyrna",
          "South Bend",
          "Southaven",
          "Sparks",
          "Spokane",
          "Springdale",
          "Springfield",
          "Sterling Heights",
          "Stockton",
          "Suffolk",
          "Summerville",
          "Sunnyvale",
          "Superior",
          "Tallahassee",
          "Tamarac",
          "Tampa",
          "Taylor",
          "Temecula",
          "Tempe",
          "Texarkana",
          "Texas City",
          "The Colony",
          "Thomasville",
          "Thornton",
          "Thousand Oaks",
          "Tigard",
          "Tinley Park",
          "Toledo",
          "Torrance",
          "Trenton",
          "Troy",
          "Tucson",
          "Tulsa",
          "Tuscaloosa",
          "Twin Falls",
          "Tyler",
          "Urbandale",
          "Utica",
          "Vacaville",
          "Vallejo",
          "Vancouver",
          "Vineland",
          "Virginia Beach",
          "Visalia",
          "Waco",
          "Warner Robins",
          "Warwick",
          "Washington",
          "Waterbury",
          "Waterloo",
          "Watertown",
          "Waukesha",
          "Wausau",
          "Waynesboro",
          "West Allis",
          "West Jordan",
          "West Palm Beach",
          "Westfield",
          "Westland",
          "Westminster",
          "Wheeling",
          "Whittier",
          "Wichita",
          "Wilmington",
          "Wilson",
          "Woodbury",
          "Woodland",
          "Woodstock",
          "Woonsocket",
          "Yonkers",
          "York",
          "Yucaipa",
          "Yuma"
         ],
         "xaxis": "x",
         "y": [
          25.5,
          1.392,
          129.99933333333334,
          158.58285714285714,
          344.973125,
          72.5515,
          121.89314285714285,
          10.2255,
          377.30628,
          295.81,
          108.96249999999999,
          177.8546,
          19.44,
          129.222,
          228.1134444444444,
          835.655,
          336.9088666666667,
          14.112,
          125.85,
          210.768,
          215.10125,
          440.9702564102564,
          23.36,
          131.46533333333335,
          171.41879411764705,
          155.3328717948718,
          157.80133333333333,
          86.080625,
          143.18237209302328,
          232.89000000000001,
          88.96,
          61.13333333333333,
          10.368,
          94.42320000000001,
          45.251200000000004,
          189.16000000000003,
          17.270333333333333,
          1263.4133333333332,
          337.92679999999996,
          861.0633333333334,
          8.288,
          104.516,
          21.002666666666666,
          273.6175,
          36.38466666666667,
          236.1966666666667,
          207.7375,
          46.9585,
          21.83,
          318.132125,
          26.205000000000002,
          96.24476923076924,
          487.90600000000006,
          158.70080000000002,
          184.60382857142858,
          102.776,
          906.3495999999999,
          415.6995,
          11.144,
          1082.3860000000002,
          866.7232799999999,
          151.87733333333333,
          293.5035,
          83.68166666666667,
          272.71,
          38.12181818181818,
          261.162,
          146.7097333333333,
          84.20133333333332,
          61.188,
          278.4,
          151.96,
          153.821,
          14.016,
          263.3334423076923,
          51.30499999999999,
          98.8803,
          333.1511111111111,
          123.02993749999999,
          1603.136,
          154.584525477707,
          186.37981818181817,
          347.20666666666665,
          94.82211764705883,
          129.39,
          316.81857142857143,
          151.09964285714287,
          168.41,
          190.14658620689656,
          55.71,
          81.775,
          97.014,
          147.76036,
          312.1398024691358,
          174.35244594594596,
          146.352,
          340.07748387096774,
          111.672,
          301.96,
          251.565,
          33.984,
          32.124,
          103.124,
          27.567999999999998,
          136.1518181818182,
          72.17999999999999,
          103.42,
          251.55725,
          9.697999999999999,
          128.22886751592355,
          27.46,
          171.75057142857142,
          32.4,
          68.082875,
          320.66200000000003,
          175.26166666666668,
          186.9798,
          6.924,
          80.84533333333333,
          178.648,
          277.24529545454544,
          287.5409473684211,
          248.86866666666666,
          369.10386086956527,
          256.74073684210526,
          87.88333333333333,
          171.51142857142855,
          562.4333333333333,
          97.77333333333334,
          26.785,
          75.454,
          89.46666666666665,
          274.27500000000003,
          29.425333333333338,
          479.775,
          180.2637142857143,
          432.808,
          186.63494736842105,
          85.715,
          222.90699999999998,
          1.824,
          118.3962,
          62.028,
          31.516000000000002,
          244.172,
          438.44975,
          257.5333636363637,
          210.7524,
          131.41571428571427,
          239.57333333333335,
          168.92502439024392,
          362.93904761904764,
          133.60742857142856,
          328.6355,
          244.5446814814815,
          48.816,
          304.24424324324326,
          73.91499999999999,
          139.87624999999997,
          303.4049423076923,
          28.752,
          202.95999999999998,
          62.476,
          16.926,
          223.765,
          223.3025,
          278.1588,
          82.17,
          126.8636956521739,
          158.376,
          34.944,
          15.96,
          77.88353846153846,
          75.16142857142857,
          20.764,
          575.6975,
          15.175999999999998,
          131.82999999999998,
          185.1369230769231,
          235.31444444444443,
          416.26250000000005,
          426.6848,
          61.794,
          55.5,
          242.69333333333336,
          43.8,
          67.33200000000001,
          82.056,
          247.47818181818184,
          94.2808,
          626.9585714285714,
          191.42666666666665,
          147.94666666666666,
          235.41690909090906,
          344.0993725490196,
          63.9076,
          303.292875,
          129.94161111111111,
          20.382,
          290.728,
          21.9595,
          45.95333333333334,
          97.31581818181817,
          301.96,
          44.184,
          131.4625,
          61.457499999999996,
          171.1001602122016,
          421.30333333333334,
          255.4163,
          1208.685,
          404.62695652173915,
          217.458,
          9.99,
          75.6875,
          304.43729268292685,
          357.705464,
          2354.395,
          86.62,
          63.82066666666666,
          265.02909090909094,
          2.064,
          6,
          44.660000000000004,
          434.0811111111111,
          130.58123076923079,
          120.67,
          751.984,
          163.67358333333334,
          166.082,
          183.76500000000001,
          105.1732,
          46.32,
          807.6193548387097,
          72.74575,
          182.47,
          283.92,
          270.92266666666666,
          254.8584772727273,
          284.06333333333333,
          371.2662653061225,
          215.03182608695653,
          201.28575,
          78.7953846153846,
          32.92333333333333,
          141.07846153846154,
          76.295,
          173.9589090909091,
          264.3725,
          4.96,
          145.89466666666667,
          162.96533333333335,
          758.363,
          36.248333333333335,
          28.916,
          129.20066666666665,
          115.36,
          55.48,
          148.34791666666666,
          72.294,
          68.49,
          56.0552,
          220.57426229508198,
          305.02933333333334,
          39.73666666666667,
          223.9012222222222,
          235.4100950468541,
          216.59308771929827,
          5.2410000000000005,
          302.370625,
          98.76066666666667,
          60.66833333333333,
          534.679,
          76.12666666666667,
          193.29818181818183,
          273.96,
          279.4385,
          150.72733333333335,
          220.7175,
          15.552,
          419.80285714285714,
          168.4673,
          103.32,
          51.09,
          31.421333333333333,
          45.61663157894737,
          22.5545,
          275.30244444444446,
          95.616,
          198.07803333333334,
          115.52166666666666,
          140.9709090909091,
          82.263,
          144.205,
          10.429599999999999,
          152.15920175438598,
          128.29,
          440.9593333333333,
          160.29,
          253.56044444444444,
          733.5017391304348,
          191.399,
          388.12,
          155.1972,
          487.984,
          6.37,
          496.63545454545454,
          108.71666666666668,
          141.4492380952381,
          27.88,
          372.273,
          271.93,
          126.24660000000002,
          136.2525,
          719.0142857142856,
          281.54,
          264.954,
          30.666636363636368,
          82.1876,
          484.65,
          430.425,
          161.03787499999999,
          17.97,
          209.34010344827587,
          52.3875,
          47.193999999999996,
          7.385,
          42.305,
          139.46977777777778,
          280.1837825136612,
          300.80125263157896,
          276.8291666666667,
          66.61399999999999,
          772.7950000000001,
          17.43,
          366.744,
          675.6650000000001,
          142.125,
          612.562625,
          11.064,
          103.50999999999999,
          197.0173333333333,
          229.40069230769228,
          145.02460000000002,
          195.2248,
          286.8182608695652,
          179.158,
          204.0896,
          225.4475,
          283.92,
          35.185,
          332.6764444444444,
          339.96,
          158.1890909090909,
          2.808,
          107.32600000000001,
          101.15166666666666,
          35.59,
          173.12222222222223,
          116.312,
          54.8856,
          228.33333333333334,
          133.49275,
          387.9756,
          156.9082380952381,
          366.85200000000003,
          260.34766666666667,
          112.1605,
          164.99866666666665,
          122.45539285714285,
          2.214,
          80.12313043478261,
          214.635,
          385.177,
          203.1229292364991,
          174.60725396825396,
          145.9,
          106.455,
          348.2192307692308,
          235.35830666666666,
          130.62145454545455,
          305.454,
          192.13457142857143,
          211.786,
          30.146666666666665,
          122.84213333333334,
          7.824,
          82.98333333333333,
          16.28,
          168.827875,
          515.5048387096774,
          276.1234,
          210.86724999999998,
          63.822950000000006,
          204.8881818181818,
          57.963,
          76.32000000000001,
          174.74240000000003,
          333.576,
          180.6888125,
          99.84154545454545,
          244.975375,
          41.904,
          161.0155,
          414.2106666666666,
          119.03714285714285,
          644.2320000000001,
          201.53255555555555,
          557.096,
          138.87471428571428,
          150.46283018867925,
          132.52,
          11.85,
          287.8389090909091,
          93.954,
          40.41,
          89.142,
          8.952,
          138.02407692307693,
          369.5733333333333,
          693.4361142857142,
          17.67,
          562.4060000000001,
          65.97666666666667,
          165.965,
          443.94,
          57.19200000000001,
          96.41499999999999,
          697.16,
          120.77085714285715,
          86.10612499999999,
          91.11137500000001,
          100.347,
          162.659,
          370.2292881355932,
          108.81111111111112,
          45.028999999999996,
          279.53546470588236,
          220.91978823529413,
          687.0033333333334,
          144.55307142857143,
          3.62,
          27.110999999999997,
          75.18,
          142.645,
          112.77300000000001,
          240.45071428571427,
          536.1542499999999,
          37.032000000000004,
          50.46,
          115.44,
          122.19225,
          279.30079906542056,
          19.935000000000002,
          36.665,
          25.357333333333333,
          126.38000000000001,
          51.711999999999996,
          134.95370833333334,
          206.38833333333332,
          207.91285714285715,
          853.9866666666667,
          289.70257142857145,
          4.3,
          264.13706748466257,
          36.68,
          204.6,
          159.79000000000002,
          203.46999999999997,
          106.03500000000001,
          144.41444444444446,
          426.5099411764706,
          353.3775,
          144.33556944444445,
          117.89999999999999,
          202.16649999999998,
          82.33092307692309,
          327.12,
          263.6573333333333,
          47.38666666666668,
          50.43066666666667,
          76.5248,
          47.7608,
          174.22275000000002,
          22.288,
          139.56415625,
          783.067,
          135.7842307692308,
          155.41693103448276,
          197.28175,
          213.72961538461539,
          87.85000000000001,
          574.403,
          69.44120000000001,
          49.70666666666667,
          81.88,
          423.28,
          203.56833333333336,
          137.3672,
          80.99575,
          359.508125,
          79.69500000000001,
          101.01786666666668,
          217.4,
          485.36800000000005,
          286.502,
          120.55090909090909,
          30.32,
          404.4998,
          54.5,
          79.37,
          305.877,
          125.24000000000001,
          62.370000000000005,
          47.10933333333333,
          86.62,
          158.30584615384618,
          225.09682352941175,
          278.13800000000003,
          444.768,
          117.89571428571428,
          202.6961388888889,
          61.45533333333333,
          202.54999999999998,
          88.22066666666667,
          228.78000000000003,
          48.8875,
          510.5110666666667,
          163.5956,
          50.8,
          210.21625
         ],
         "yaxis": "y"
        }
       ],
       "layout": {
        "legend": {
         "itemsizing": "constant",
         "tracegroupgap": 0
        },
        "template": {
         "data": {
          "bar": [
           {
            "error_x": {
             "color": "#2a3f5f"
            },
            "error_y": {
             "color": "#2a3f5f"
            },
            "marker": {
             "line": {
              "color": "#E5ECF6",
              "width": 0.5
             },
             "pattern": {
              "fillmode": "overlay",
              "size": 10,
              "solidity": 0.2
             }
            },
            "type": "bar"
           }
          ],
          "barpolar": [
           {
            "marker": {
             "line": {
              "color": "#E5ECF6",
              "width": 0.5
             },
             "pattern": {
              "fillmode": "overlay",
              "size": 10,
              "solidity": 0.2
             }
            },
            "type": "barpolar"
           }
          ],
          "carpet": [
           {
            "aaxis": {
             "endlinecolor": "#2a3f5f",
             "gridcolor": "white",
             "linecolor": "white",
             "minorgridcolor": "white",
             "startlinecolor": "#2a3f5f"
            },
            "baxis": {
             "endlinecolor": "#2a3f5f",
             "gridcolor": "white",
             "linecolor": "white",
             "minorgridcolor": "white",
             "startlinecolor": "#2a3f5f"
            },
            "type": "carpet"
           }
          ],
          "choropleth": [
           {
            "colorbar": {
             "outlinewidth": 0,
             "ticks": ""
            },
            "type": "choropleth"
           }
          ],
          "contour": [
           {
            "colorbar": {
             "outlinewidth": 0,
             "ticks": ""
            },
            "colorscale": [
             [
              0,
              "#0d0887"
             ],
             [
              0.1111111111111111,
              "#46039f"
             ],
             [
              0.2222222222222222,
              "#7201a8"
             ],
             [
              0.3333333333333333,
              "#9c179e"
             ],
             [
              0.4444444444444444,
              "#bd3786"
             ],
             [
              0.5555555555555556,
              "#d8576b"
             ],
             [
              0.6666666666666666,
              "#ed7953"
             ],
             [
              0.7777777777777778,
              "#fb9f3a"
             ],
             [
              0.8888888888888888,
              "#fdca26"
             ],
             [
              1,
              "#f0f921"
             ]
            ],
            "type": "contour"
           }
          ],
          "contourcarpet": [
           {
            "colorbar": {
             "outlinewidth": 0,
             "ticks": ""
            },
            "type": "contourcarpet"
           }
          ],
          "heatmap": [
           {
            "colorbar": {
             "outlinewidth": 0,
             "ticks": ""
            },
            "colorscale": [
             [
              0,
              "#0d0887"
             ],
             [
              0.1111111111111111,
              "#46039f"
             ],
             [
              0.2222222222222222,
              "#7201a8"
             ],
             [
              0.3333333333333333,
              "#9c179e"
             ],
             [
              0.4444444444444444,
              "#bd3786"
             ],
             [
              0.5555555555555556,
              "#d8576b"
             ],
             [
              0.6666666666666666,
              "#ed7953"
             ],
             [
              0.7777777777777778,
              "#fb9f3a"
             ],
             [
              0.8888888888888888,
              "#fdca26"
             ],
             [
              1,
              "#f0f921"
             ]
            ],
            "type": "heatmap"
           }
          ],
          "heatmapgl": [
           {
            "colorbar": {
             "outlinewidth": 0,
             "ticks": ""
            },
            "colorscale": [
             [
              0,
              "#0d0887"
             ],
             [
              0.1111111111111111,
              "#46039f"
             ],
             [
              0.2222222222222222,
              "#7201a8"
             ],
             [
              0.3333333333333333,
              "#9c179e"
             ],
             [
              0.4444444444444444,
              "#bd3786"
             ],
             [
              0.5555555555555556,
              "#d8576b"
             ],
             [
              0.6666666666666666,
              "#ed7953"
             ],
             [
              0.7777777777777778,
              "#fb9f3a"
             ],
             [
              0.8888888888888888,
              "#fdca26"
             ],
             [
              1,
              "#f0f921"
             ]
            ],
            "type": "heatmapgl"
           }
          ],
          "histogram": [
           {
            "marker": {
             "pattern": {
              "fillmode": "overlay",
              "size": 10,
              "solidity": 0.2
             }
            },
            "type": "histogram"
           }
          ],
          "histogram2d": [
           {
            "colorbar": {
             "outlinewidth": 0,
             "ticks": ""
            },
            "colorscale": [
             [
              0,
              "#0d0887"
             ],
             [
              0.1111111111111111,
              "#46039f"
             ],
             [
              0.2222222222222222,
              "#7201a8"
             ],
             [
              0.3333333333333333,
              "#9c179e"
             ],
             [
              0.4444444444444444,
              "#bd3786"
             ],
             [
              0.5555555555555556,
              "#d8576b"
             ],
             [
              0.6666666666666666,
              "#ed7953"
             ],
             [
              0.7777777777777778,
              "#fb9f3a"
             ],
             [
              0.8888888888888888,
              "#fdca26"
             ],
             [
              1,
              "#f0f921"
             ]
            ],
            "type": "histogram2d"
           }
          ],
          "histogram2dcontour": [
           {
            "colorbar": {
             "outlinewidth": 0,
             "ticks": ""
            },
            "colorscale": [
             [
              0,
              "#0d0887"
             ],
             [
              0.1111111111111111,
              "#46039f"
             ],
             [
              0.2222222222222222,
              "#7201a8"
             ],
             [
              0.3333333333333333,
              "#9c179e"
             ],
             [
              0.4444444444444444,
              "#bd3786"
             ],
             [
              0.5555555555555556,
              "#d8576b"
             ],
             [
              0.6666666666666666,
              "#ed7953"
             ],
             [
              0.7777777777777778,
              "#fb9f3a"
             ],
             [
              0.8888888888888888,
              "#fdca26"
             ],
             [
              1,
              "#f0f921"
             ]
            ],
            "type": "histogram2dcontour"
           }
          ],
          "mesh3d": [
           {
            "colorbar": {
             "outlinewidth": 0,
             "ticks": ""
            },
            "type": "mesh3d"
           }
          ],
          "parcoords": [
           {
            "line": {
             "colorbar": {
              "outlinewidth": 0,
              "ticks": ""
             }
            },
            "type": "parcoords"
           }
          ],
          "pie": [
           {
            "automargin": true,
            "type": "pie"
           }
          ],
          "scatter": [
           {
            "marker": {
             "colorbar": {
              "outlinewidth": 0,
              "ticks": ""
             }
            },
            "type": "scatter"
           }
          ],
          "scatter3d": [
           {
            "line": {
             "colorbar": {
              "outlinewidth": 0,
              "ticks": ""
             }
            },
            "marker": {
             "colorbar": {
              "outlinewidth": 0,
              "ticks": ""
             }
            },
            "type": "scatter3d"
           }
          ],
          "scattercarpet": [
           {
            "marker": {
             "colorbar": {
              "outlinewidth": 0,
              "ticks": ""
             }
            },
            "type": "scattercarpet"
           }
          ],
          "scattergeo": [
           {
            "marker": {
             "colorbar": {
              "outlinewidth": 0,
              "ticks": ""
             }
            },
            "type": "scattergeo"
           }
          ],
          "scattergl": [
           {
            "marker": {
             "colorbar": {
              "outlinewidth": 0,
              "ticks": ""
             }
            },
            "type": "scattergl"
           }
          ],
          "scattermapbox": [
           {
            "marker": {
             "colorbar": {
              "outlinewidth": 0,
              "ticks": ""
             }
            },
            "type": "scattermapbox"
           }
          ],
          "scatterpolar": [
           {
            "marker": {
             "colorbar": {
              "outlinewidth": 0,
              "ticks": ""
             }
            },
            "type": "scatterpolar"
           }
          ],
          "scatterpolargl": [
           {
            "marker": {
             "colorbar": {
              "outlinewidth": 0,
              "ticks": ""
             }
            },
            "type": "scatterpolargl"
           }
          ],
          "scatterternary": [
           {
            "marker": {
             "colorbar": {
              "outlinewidth": 0,
              "ticks": ""
             }
            },
            "type": "scatterternary"
           }
          ],
          "surface": [
           {
            "colorbar": {
             "outlinewidth": 0,
             "ticks": ""
            },
            "colorscale": [
             [
              0,
              "#0d0887"
             ],
             [
              0.1111111111111111,
              "#46039f"
             ],
             [
              0.2222222222222222,
              "#7201a8"
             ],
             [
              0.3333333333333333,
              "#9c179e"
             ],
             [
              0.4444444444444444,
              "#bd3786"
             ],
             [
              0.5555555555555556,
              "#d8576b"
             ],
             [
              0.6666666666666666,
              "#ed7953"
             ],
             [
              0.7777777777777778,
              "#fb9f3a"
             ],
             [
              0.8888888888888888,
              "#fdca26"
             ],
             [
              1,
              "#f0f921"
             ]
            ],
            "type": "surface"
           }
          ],
          "table": [
           {
            "cells": {
             "fill": {
              "color": "#EBF0F8"
             },
             "line": {
              "color": "white"
             }
            },
            "header": {
             "fill": {
              "color": "#C8D4E3"
             },
             "line": {
              "color": "white"
             }
            },
            "type": "table"
           }
          ]
         },
         "layout": {
          "annotationdefaults": {
           "arrowcolor": "#2a3f5f",
           "arrowhead": 0,
           "arrowwidth": 1
          },
          "autotypenumbers": "strict",
          "coloraxis": {
           "colorbar": {
            "outlinewidth": 0,
            "ticks": ""
           }
          },
          "colorscale": {
           "diverging": [
            [
             0,
             "#8e0152"
            ],
            [
             0.1,
             "#c51b7d"
            ],
            [
             0.2,
             "#de77ae"
            ],
            [
             0.3,
             "#f1b6da"
            ],
            [
             0.4,
             "#fde0ef"
            ],
            [
             0.5,
             "#f7f7f7"
            ],
            [
             0.6,
             "#e6f5d0"
            ],
            [
             0.7,
             "#b8e186"
            ],
            [
             0.8,
             "#7fbc41"
            ],
            [
             0.9,
             "#4d9221"
            ],
            [
             1,
             "#276419"
            ]
           ],
           "sequential": [
            [
             0,
             "#0d0887"
            ],
            [
             0.1111111111111111,
             "#46039f"
            ],
            [
             0.2222222222222222,
             "#7201a8"
            ],
            [
             0.3333333333333333,
             "#9c179e"
            ],
            [
             0.4444444444444444,
             "#bd3786"
            ],
            [
             0.5555555555555556,
             "#d8576b"
            ],
            [
             0.6666666666666666,
             "#ed7953"
            ],
            [
             0.7777777777777778,
             "#fb9f3a"
            ],
            [
             0.8888888888888888,
             "#fdca26"
            ],
            [
             1,
             "#f0f921"
            ]
           ],
           "sequentialminus": [
            [
             0,
             "#0d0887"
            ],
            [
             0.1111111111111111,
             "#46039f"
            ],
            [
             0.2222222222222222,
             "#7201a8"
            ],
            [
             0.3333333333333333,
             "#9c179e"
            ],
            [
             0.4444444444444444,
             "#bd3786"
            ],
            [
             0.5555555555555556,
             "#d8576b"
            ],
            [
             0.6666666666666666,
             "#ed7953"
            ],
            [
             0.7777777777777778,
             "#fb9f3a"
            ],
            [
             0.8888888888888888,
             "#fdca26"
            ],
            [
             1,
             "#f0f921"
            ]
           ]
          },
          "colorway": [
           "#636efa",
           "#EF553B",
           "#00cc96",
           "#ab63fa",
           "#FFA15A",
           "#19d3f3",
           "#FF6692",
           "#B6E880",
           "#FF97FF",
           "#FECB52"
          ],
          "font": {
           "color": "#2a3f5f"
          },
          "geo": {
           "bgcolor": "white",
           "lakecolor": "white",
           "landcolor": "#E5ECF6",
           "showlakes": true,
           "showland": true,
           "subunitcolor": "white"
          },
          "hoverlabel": {
           "align": "left"
          },
          "hovermode": "closest",
          "mapbox": {
           "style": "light"
          },
          "paper_bgcolor": "white",
          "plot_bgcolor": "#E5ECF6",
          "polar": {
           "angularaxis": {
            "gridcolor": "white",
            "linecolor": "white",
            "ticks": ""
           },
           "bgcolor": "#E5ECF6",
           "radialaxis": {
            "gridcolor": "white",
            "linecolor": "white",
            "ticks": ""
           }
          },
          "scene": {
           "xaxis": {
            "backgroundcolor": "#E5ECF6",
            "gridcolor": "white",
            "gridwidth": 2,
            "linecolor": "white",
            "showbackground": true,
            "ticks": "",
            "zerolinecolor": "white"
           },
           "yaxis": {
            "backgroundcolor": "#E5ECF6",
            "gridcolor": "white",
            "gridwidth": 2,
            "linecolor": "white",
            "showbackground": true,
            "ticks": "",
            "zerolinecolor": "white"
           },
           "zaxis": {
            "backgroundcolor": "#E5ECF6",
            "gridcolor": "white",
            "gridwidth": 2,
            "linecolor": "white",
            "showbackground": true,
            "ticks": "",
            "zerolinecolor": "white"
           }
          },
          "shapedefaults": {
           "line": {
            "color": "#2a3f5f"
           }
          },
          "ternary": {
           "aaxis": {
            "gridcolor": "white",
            "linecolor": "white",
            "ticks": ""
           },
           "baxis": {
            "gridcolor": "white",
            "linecolor": "white",
            "ticks": ""
           },
           "bgcolor": "#E5ECF6",
           "caxis": {
            "gridcolor": "white",
            "linecolor": "white",
            "ticks": ""
           }
          },
          "title": {
           "x": 0.05
          },
          "xaxis": {
           "automargin": true,
           "gridcolor": "white",
           "linecolor": "white",
           "ticks": "",
           "title": {
            "standoff": 15
           },
           "zerolinecolor": "white",
           "zerolinewidth": 2
          },
          "yaxis": {
           "automargin": true,
           "gridcolor": "white",
           "linecolor": "white",
           "ticks": "",
           "title": {
            "standoff": 15
           },
           "zerolinecolor": "white",
           "zerolinewidth": 2
          }
         }
        },
        "title": {
         "text": "Avg price by Country"
        },
        "xaxis": {
         "anchor": "y",
         "domain": [
          0,
          1
         ],
         "title": {
          "text": "City"
         }
        },
        "yaxis": {
         "anchor": "x",
         "domain": [
          0,
          1
         ],
         "title": {
          "text": "Sales"
         }
        }
       }
      },
      "text/html": [
       "<div>                            <div id=\"d1482c31-2cf8-4933-92be-5b7f6e5cf22a\" class=\"plotly-graph-div\" style=\"height:525px; width:100%;\"></div>            <script type=\"text/javascript\">                require([\"plotly\"], function(Plotly) {                    window.PLOTLYENV=window.PLOTLYENV || {};                                    if (document.getElementById(\"d1482c31-2cf8-4933-92be-5b7f6e5cf22a\")) {                    Plotly.newPlot(                        \"d1482c31-2cf8-4933-92be-5b7f6e5cf22a\",                        [{\"hovertemplate\":\"City=%{x}<br>Sales=%{marker.size}<extra></extra>\",\"legendgroup\":\"\",\"marker\":{\"color\":\"#636efa\",\"opacity\":0.5,\"size\":[25.5,1.392,129.99933333333334,158.58285714285714,344.973125,72.5515,121.89314285714285,10.2255,377.30628,295.81,108.96249999999999,177.8546,19.44,129.222,228.1134444444444,835.655,336.9088666666667,14.112,125.85,210.768,215.10125,440.9702564102564,23.36,131.46533333333335,171.41879411764705,155.3328717948718,157.80133333333333,86.080625,143.18237209302328,232.89000000000001,88.96,61.13333333333333,10.368,94.42320000000001,45.251200000000004,189.16000000000003,17.270333333333333,1263.4133333333332,337.92679999999996,861.0633333333334,8.288,104.516,21.002666666666666,273.6175,36.38466666666667,236.1966666666667,207.7375,46.9585,21.83,318.132125,26.205000000000002,96.24476923076924,487.90600000000006,158.70080000000002,184.60382857142858,102.776,906.3495999999999,415.6995,11.144,1082.3860000000002,866.7232799999999,151.87733333333333,293.5035,83.68166666666667,272.71,38.12181818181818,261.162,146.7097333333333,84.20133333333332,61.188,278.4,151.96,153.821,14.016,263.3334423076923,51.30499999999999,98.8803,333.1511111111111,123.02993749999999,1603.136,154.584525477707,186.37981818181817,347.20666666666665,94.82211764705883,129.39,316.81857142857143,151.09964285714287,168.41,190.14658620689656,55.71,81.775,97.014,147.76036,312.1398024691358,174.35244594594596,146.352,340.07748387096774,111.672,301.96,251.565,33.984,32.124,103.124,27.567999999999998,136.1518181818182,72.17999999999999,103.42,251.55725,9.697999999999999,128.22886751592355,27.46,171.75057142857142,32.4,68.082875,320.66200000000003,175.26166666666668,186.9798,6.924,80.84533333333333,178.648,277.24529545454544,287.5409473684211,248.86866666666666,369.10386086956527,256.74073684210526,87.88333333333333,171.51142857142855,562.4333333333333,97.77333333333334,26.785,75.454,89.46666666666665,274.27500000000003,29.425333333333338,479.775,180.2637142857143,432.808,186.63494736842105,85.715,222.90699999999998,1.824,118.3962,62.028,31.516000000000002,244.172,438.44975,257.5333636363637,210.7524,131.41571428571427,239.57333333333335,168.92502439024392,362.93904761904764,133.60742857142856,328.6355,244.5446814814815,48.816,304.24424324324326,73.91499999999999,139.87624999999997,303.4049423076923,28.752,202.95999999999998,62.476,16.926,223.765,223.3025,278.1588,82.17,126.8636956521739,158.376,34.944,15.96,77.88353846153846,75.16142857142857,20.764,575.6975,15.175999999999998,131.82999999999998,185.1369230769231,235.31444444444443,416.26250000000005,426.6848,61.794,55.5,242.69333333333336,43.8,67.33200000000001,82.056,247.47818181818184,94.2808,626.9585714285714,191.42666666666665,147.94666666666666,235.41690909090906,344.0993725490196,63.9076,303.292875,129.94161111111111,20.382,290.728,21.9595,45.95333333333334,97.31581818181817,301.96,44.184,131.4625,61.457499999999996,171.1001602122016,421.30333333333334,255.4163,1208.685,404.62695652173915,217.458,9.99,75.6875,304.43729268292685,357.705464,2354.395,86.62,63.82066666666666,265.02909090909094,2.064,6.0,44.660000000000004,434.0811111111111,130.58123076923079,120.67,751.984,163.67358333333334,166.082,183.76500000000001,105.1732,46.32,807.6193548387097,72.74575,182.47,283.92,270.92266666666666,254.8584772727273,284.06333333333333,371.2662653061225,215.03182608695653,201.28575,78.7953846153846,32.92333333333333,141.07846153846154,76.295,173.9589090909091,264.3725,4.96,145.89466666666667,162.96533333333335,758.363,36.248333333333335,28.916,129.20066666666665,115.36,55.48,148.34791666666666,72.294,68.49,56.0552,220.57426229508198,305.02933333333334,39.73666666666667,223.9012222222222,235.4100950468541,216.59308771929827,5.2410000000000005,302.370625,98.76066666666667,60.66833333333333,534.679,76.12666666666667,193.29818181818183,273.96,279.4385,150.72733333333335,220.7175,15.552,419.80285714285714,168.4673,103.32,51.09,31.421333333333333,45.61663157894737,22.5545,275.30244444444446,95.616,198.07803333333334,115.52166666666666,140.9709090909091,82.263,144.205,10.429599999999999,152.15920175438598,128.29,440.9593333333333,160.29,253.56044444444444,733.5017391304348,191.399,388.12,155.1972,487.984,6.37,496.63545454545454,108.71666666666668,141.4492380952381,27.88,372.273,271.93,126.24660000000002,136.2525,719.0142857142856,281.54,264.954,30.666636363636368,82.1876,484.65,430.425,161.03787499999999,17.97,209.34010344827587,52.3875,47.193999999999996,7.385,42.305,139.46977777777778,280.1837825136612,300.80125263157896,276.8291666666667,66.61399999999999,772.7950000000001,17.43,366.744,675.6650000000001,142.125,612.562625,11.064,103.50999999999999,197.0173333333333,229.40069230769228,145.02460000000002,195.2248,286.8182608695652,179.158,204.0896,225.4475,283.92,35.185,332.6764444444444,339.96,158.1890909090909,2.808,107.32600000000001,101.15166666666666,35.59,173.12222222222223,116.312,54.8856,228.33333333333334,133.49275,387.9756,156.9082380952381,366.85200000000003,260.34766666666667,112.1605,164.99866666666665,122.45539285714285,2.214,80.12313043478261,214.635,385.177,203.1229292364991,174.60725396825396,145.9,106.455,348.2192307692308,235.35830666666666,130.62145454545455,305.454,192.13457142857143,211.786,30.146666666666665,122.84213333333334,7.824,82.98333333333333,16.28,168.827875,515.5048387096774,276.1234,210.86724999999998,63.822950000000006,204.8881818181818,57.963,76.32000000000001,174.74240000000003,333.576,180.6888125,99.84154545454545,244.975375,41.904,161.0155,414.2106666666666,119.03714285714285,644.2320000000001,201.53255555555555,557.096,138.87471428571428,150.46283018867925,132.52,11.85,287.8389090909091,93.954,40.41,89.142,8.952,138.02407692307693,369.5733333333333,693.4361142857142,17.67,562.4060000000001,65.97666666666667,165.965,443.94,57.19200000000001,96.41499999999999,697.16,120.77085714285715,86.10612499999999,91.11137500000001,100.347,162.659,370.2292881355932,108.81111111111112,45.028999999999996,279.53546470588236,220.91978823529413,687.0033333333334,144.55307142857143,3.62,27.110999999999997,75.18,142.645,112.77300000000001,240.45071428571427,536.1542499999999,37.032000000000004,50.46,115.44,122.19225,279.30079906542056,19.935000000000002,36.665,25.357333333333333,126.38000000000001,51.711999999999996,134.95370833333334,206.38833333333332,207.91285714285715,853.9866666666667,289.70257142857145,4.3,264.13706748466257,36.68,204.6,159.79000000000002,203.46999999999997,106.03500000000001,144.41444444444446,426.5099411764706,353.3775,144.33556944444445,117.89999999999999,202.16649999999998,82.33092307692309,327.12,263.6573333333333,47.38666666666668,50.43066666666667,76.5248,47.7608,174.22275000000002,22.288,139.56415625,783.067,135.7842307692308,155.41693103448276,197.28175,213.72961538461539,87.85000000000001,574.403,69.44120000000001,49.70666666666667,81.88,423.28,203.56833333333336,137.3672,80.99575,359.508125,79.69500000000001,101.01786666666668,217.4,485.36800000000005,286.502,120.55090909090909,30.32,404.4998,54.5,79.37,305.877,125.24000000000001,62.370000000000005,47.10933333333333,86.62,158.30584615384618,225.09682352941175,278.13800000000003,444.768,117.89571428571428,202.6961388888889,61.45533333333333,202.54999999999998,88.22066666666667,228.78000000000003,48.8875,510.5110666666667,163.5956,50.8,210.21625],\"sizemode\":\"area\",\"sizeref\":5.8859875,\"symbol\":\"circle\"},\"mode\":\"markers\",\"name\":\"\",\"orientation\":\"v\",\"showlegend\":false,\"x\":[\"Aberdeen\",\"Abilene\",\"Akron\",\"Albuquerque\",\"Alexandria\",\"Allen\",\"Allentown\",\"Altoona\",\"Amarillo\",\"Anaheim\",\"Andover\",\"Ann Arbor\",\"Antioch\",\"Apopka\",\"Apple Valley\",\"Appleton\",\"Arlington\",\"Arlington Heights\",\"Arvada\",\"Asheville\",\"Athens\",\"Atlanta\",\"Atlantic City\",\"Auburn\",\"Aurora\",\"Austin\",\"Avondale\",\"Bakersfield\",\"Baltimore\",\"Bangor\",\"Bartlett\",\"Bayonne\",\"Baytown\",\"Beaumont\",\"Bedford\",\"Belleville\",\"Bellevue\",\"Bellingham\",\"Bethlehem\",\"Beverly\",\"Billings\",\"Bloomington\",\"Boca Raton\",\"Boise\",\"Bolingbrook\",\"Bossier City\",\"Bowling Green\",\"Boynton Beach\",\"Bozeman\",\"Brentwood\",\"Bridgeton\",\"Bristol\",\"Broken Arrow\",\"Broomfield\",\"Brownsville\",\"Bryan\",\"Buffalo\",\"Buffalo Grove\",\"Bullhead City\",\"Burbank\",\"Burlington\",\"Caldwell\",\"Camarillo\",\"Cambridge\",\"Canton\",\"Carlsbad\",\"Carol Stream\",\"Carrollton\",\"Cary\",\"Cedar Hill\",\"Cedar Rapids\",\"Champaign\",\"Chandler\",\"Chapel Hill\",\"Charlotte\",\"Charlottesville\",\"Chattanooga\",\"Chesapeake\",\"Chester\",\"Cheyenne\",\"Chicago\",\"Chico\",\"Chula Vista\",\"Cincinnati\",\"Citrus Heights\",\"Clarksville\",\"Cleveland\",\"Clifton\",\"Clinton\",\"Clovis\",\"Coachella\",\"College Station\",\"Colorado Springs\",\"Columbia\",\"Columbus\",\"Commerce City\",\"Concord\",\"Conroe\",\"Conway\",\"Coon Rapids\",\"Coppell\",\"Coral Gables\",\"Coral Springs\",\"Corpus Christi\",\"Costa Mesa\",\"Cottage Grove\",\"Covington\",\"Cranston\",\"Cuyahoga Falls\",\"Dallas\",\"Danbury\",\"Danville\",\"Davis\",\"Daytona Beach\",\"Dearborn\",\"Dearborn Heights\",\"Decatur\",\"Deer Park\",\"Delray Beach\",\"Deltona\",\"Denver\",\"Des Moines\",\"Des Plaines\",\"Detroit\",\"Dover\",\"Draper\",\"Dublin\",\"Dubuque\",\"Durham\",\"Eagan\",\"East Orange\",\"East Point\",\"Eau Claire\",\"Edinburg\",\"Edmond\",\"Edmonds\",\"El Cajon\",\"El Paso\",\"Elkhart\",\"Elmhurst\",\"Elyria\",\"Encinitas\",\"Englewood\",\"Escondido\",\"Eugene\",\"Evanston\",\"Everett\",\"Fairfield\",\"Fargo\",\"Farmington\",\"Fayetteville\",\"Florence\",\"Fort Collins\",\"Fort Lauderdale\",\"Fort Worth\",\"Frankfort\",\"Franklin\",\"Freeport\",\"Fremont\",\"Fresno\",\"Frisco\",\"Gaithersburg\",\"Garden City\",\"Garland\",\"Gastonia\",\"Georgetown\",\"Gilbert\",\"Gladstone\",\"Glendale\",\"Glenview\",\"Goldsboro\",\"Grand Island\",\"Grand Prairie\",\"Grand Rapids\",\"Grapevine\",\"Great Falls\",\"Greeley\",\"Green Bay\",\"Greensboro\",\"Greenville\",\"Greenwood\",\"Gresham\",\"Grove City\",\"Gulfport\",\"Hackensack\",\"Hagerstown\",\"Haltom City\",\"Hamilton\",\"Hampton\",\"Harlingen\",\"Harrisonburg\",\"Hattiesburg\",\"Helena\",\"Hempstead\",\"Henderson\",\"Hendersonville\",\"Hesperia\",\"Hialeah\",\"Hickory\",\"Highland Park\",\"Hillsboro\",\"Holland\",\"Hollywood\",\"Holyoke\",\"Homestead\",\"Hoover\",\"Hot Springs\",\"Houston\",\"Huntington Beach\",\"Huntsville\",\"Independence\",\"Indianapolis\",\"Inglewood\",\"Iowa City\",\"Irving\",\"Jackson\",\"Jacksonville\",\"Jamestown\",\"Jefferson City\",\"Johnson City\",\"Jonesboro\",\"Jupiter\",\"Keller\",\"Kenner\",\"Kenosha\",\"Kent\",\"Kirkwood\",\"Kissimmee\",\"Knoxville\",\"La Crosse\",\"La Mesa\",\"La Porte\",\"La Quinta\",\"Lafayette\",\"Laguna Niguel\",\"Lake Charles\",\"Lake Elsinore\",\"Lake Forest\",\"Lakeland\",\"Lakeville\",\"Lakewood\",\"Lancaster\",\"Lansing\",\"Laredo\",\"Las Cruces\",\"Las Vegas\",\"Laurel\",\"Lawrence\",\"Lawton\",\"Layton\",\"League City\",\"Lebanon\",\"Lehi\",\"Leominster\",\"Lewiston\",\"Lincoln Park\",\"Linden\",\"Lindenhurst\",\"Little Rock\",\"Littleton\",\"Lodi\",\"Logan\",\"Long Beach\",\"Longmont\",\"Longview\",\"Lorain\",\"Los Angeles\",\"Louisville\",\"Loveland\",\"Lowell\",\"Lubbock\",\"Macon\",\"Madison\",\"Malden\",\"Manchester\",\"Manhattan\",\"Mansfield\",\"Manteca\",\"Maple Grove\",\"Margate\",\"Marietta\",\"Marion\",\"Marlborough\",\"Marysville\",\"Mason\",\"Mcallen\",\"Medford\",\"Medina\",\"Melbourne\",\"Memphis\",\"Mentor\",\"Meriden\",\"Meridian\",\"Mesa\",\"Mesquite\",\"Miami\",\"Middletown\",\"Midland\",\"Milford\",\"Milwaukee\",\"Minneapolis\",\"Miramar\",\"Mishawaka\",\"Mission Viejo\",\"Missoula\",\"Missouri City\",\"Mobile\",\"Modesto\",\"Monroe\",\"Montebello\",\"Montgomery\",\"Moorhead\",\"Moreno Valley\",\"Morgan Hill\",\"Morristown\",\"Mount Pleasant\",\"Mount Vernon\",\"Murfreesboro\",\"Murray\",\"Murrieta\",\"Muskogee\",\"Naperville\",\"Nashua\",\"Nashville\",\"New Albany\",\"New Bedford\",\"New Brunswick\",\"New Castle\",\"New Rochelle\",\"New York City\",\"Newark\",\"Newport News\",\"Niagara Falls\",\"Noblesville\",\"Norfolk\",\"Normal\",\"Norman\",\"North Charleston\",\"North Las Vegas\",\"North Miami\",\"Norwich\",\"Oak Park\",\"Oakland\",\"Oceanside\",\"Odessa\",\"Oklahoma City\",\"Olathe\",\"Olympia\",\"Omaha\",\"Ontario\",\"Orange\",\"Orem\",\"Orland Park\",\"Orlando\",\"Ormond Beach\",\"Oswego\",\"Overland Park\",\"Owensboro\",\"Oxnard\",\"Palatine\",\"Palm Coast\",\"Park Ridge\",\"Parker\",\"Parma\",\"Pasadena\",\"Pasco\",\"Passaic\",\"Paterson\",\"Pearland\",\"Pembroke Pines\",\"Pensacola\",\"Peoria\",\"Perth Amboy\",\"Pharr\",\"Philadelphia\",\"Phoenix\",\"Pico Rivera\",\"Pine Bluff\",\"Plainfield\",\"Plano\",\"Plantation\",\"Pleasant Grove\",\"Pocatello\",\"Pomona\",\"Pompano Beach\",\"Port Arthur\",\"Port Orange\",\"Port Saint Lucie\",\"Portage\",\"Portland\",\"Providence\",\"Provo\",\"Pueblo\",\"Quincy\",\"Raleigh\",\"Rancho Cucamonga\",\"Rapid City\",\"Reading\",\"Redding\",\"Redlands\",\"Redmond\",\"Redondo Beach\",\"Redwood City\",\"Reno\",\"Renton\",\"Revere\",\"Richardson\",\"Richmond\",\"Rio Rancho\",\"Riverside\",\"Rochester\",\"Rochester Hills\",\"Rock Hill\",\"Rockford\",\"Rockville\",\"Rogers\",\"Rome\",\"Romeoville\",\"Roseville\",\"Roswell\",\"Round Rock\",\"Royal Oak\",\"Sacramento\",\"Saginaw\",\"Saint Charles\",\"Saint Cloud\",\"Saint Louis\",\"Saint Paul\",\"Saint Peters\",\"Saint Petersburg\",\"Salem\",\"Salinas\",\"Salt Lake City\",\"San Angelo\",\"San Antonio\",\"San Bernardino\",\"San Clemente\",\"San Diego\",\"San Francisco\",\"San Gabriel\",\"San Jose\",\"San Luis Obispo\",\"San Marcos\",\"San Mateo\",\"Sandy Springs\",\"Sanford\",\"Santa Ana\",\"Santa Barbara\",\"Santa Clara\",\"Santa Fe\",\"Santa Maria\",\"Scottsdale\",\"Seattle\",\"Sheboygan\",\"Shelton\",\"Sierra Vista\",\"Sioux Falls\",\"Skokie\",\"Smyrna\",\"South Bend\",\"Southaven\",\"Sparks\",\"Spokane\",\"Springdale\",\"Springfield\",\"Sterling Heights\",\"Stockton\",\"Suffolk\",\"Summerville\",\"Sunnyvale\",\"Superior\",\"Tallahassee\",\"Tamarac\",\"Tampa\",\"Taylor\",\"Temecula\",\"Tempe\",\"Texarkana\",\"Texas City\",\"The Colony\",\"Thomasville\",\"Thornton\",\"Thousand Oaks\",\"Tigard\",\"Tinley Park\",\"Toledo\",\"Torrance\",\"Trenton\",\"Troy\",\"Tucson\",\"Tulsa\",\"Tuscaloosa\",\"Twin Falls\",\"Tyler\",\"Urbandale\",\"Utica\",\"Vacaville\",\"Vallejo\",\"Vancouver\",\"Vineland\",\"Virginia Beach\",\"Visalia\",\"Waco\",\"Warner Robins\",\"Warwick\",\"Washington\",\"Waterbury\",\"Waterloo\",\"Watertown\",\"Waukesha\",\"Wausau\",\"Waynesboro\",\"West Allis\",\"West Jordan\",\"West Palm Beach\",\"Westfield\",\"Westland\",\"Westminster\",\"Wheeling\",\"Whittier\",\"Wichita\",\"Wilmington\",\"Wilson\",\"Woodbury\",\"Woodland\",\"Woodstock\",\"Woonsocket\",\"Yonkers\",\"York\",\"Yucaipa\",\"Yuma\"],\"xaxis\":\"x\",\"y\":[25.5,1.392,129.99933333333334,158.58285714285714,344.973125,72.5515,121.89314285714285,10.2255,377.30628,295.81,108.96249999999999,177.8546,19.44,129.222,228.1134444444444,835.655,336.9088666666667,14.112,125.85,210.768,215.10125,440.9702564102564,23.36,131.46533333333335,171.41879411764705,155.3328717948718,157.80133333333333,86.080625,143.18237209302328,232.89000000000001,88.96,61.13333333333333,10.368,94.42320000000001,45.251200000000004,189.16000000000003,17.270333333333333,1263.4133333333332,337.92679999999996,861.0633333333334,8.288,104.516,21.002666666666666,273.6175,36.38466666666667,236.1966666666667,207.7375,46.9585,21.83,318.132125,26.205000000000002,96.24476923076924,487.90600000000006,158.70080000000002,184.60382857142858,102.776,906.3495999999999,415.6995,11.144,1082.3860000000002,866.7232799999999,151.87733333333333,293.5035,83.68166666666667,272.71,38.12181818181818,261.162,146.7097333333333,84.20133333333332,61.188,278.4,151.96,153.821,14.016,263.3334423076923,51.30499999999999,98.8803,333.1511111111111,123.02993749999999,1603.136,154.584525477707,186.37981818181817,347.20666666666665,94.82211764705883,129.39,316.81857142857143,151.09964285714287,168.41,190.14658620689656,55.71,81.775,97.014,147.76036,312.1398024691358,174.35244594594596,146.352,340.07748387096774,111.672,301.96,251.565,33.984,32.124,103.124,27.567999999999998,136.1518181818182,72.17999999999999,103.42,251.55725,9.697999999999999,128.22886751592355,27.46,171.75057142857142,32.4,68.082875,320.66200000000003,175.26166666666668,186.9798,6.924,80.84533333333333,178.648,277.24529545454544,287.5409473684211,248.86866666666666,369.10386086956527,256.74073684210526,87.88333333333333,171.51142857142855,562.4333333333333,97.77333333333334,26.785,75.454,89.46666666666665,274.27500000000003,29.425333333333338,479.775,180.2637142857143,432.808,186.63494736842105,85.715,222.90699999999998,1.824,118.3962,62.028,31.516000000000002,244.172,438.44975,257.5333636363637,210.7524,131.41571428571427,239.57333333333335,168.92502439024392,362.93904761904764,133.60742857142856,328.6355,244.5446814814815,48.816,304.24424324324326,73.91499999999999,139.87624999999997,303.4049423076923,28.752,202.95999999999998,62.476,16.926,223.765,223.3025,278.1588,82.17,126.8636956521739,158.376,34.944,15.96,77.88353846153846,75.16142857142857,20.764,575.6975,15.175999999999998,131.82999999999998,185.1369230769231,235.31444444444443,416.26250000000005,426.6848,61.794,55.5,242.69333333333336,43.8,67.33200000000001,82.056,247.47818181818184,94.2808,626.9585714285714,191.42666666666665,147.94666666666666,235.41690909090906,344.0993725490196,63.9076,303.292875,129.94161111111111,20.382,290.728,21.9595,45.95333333333334,97.31581818181817,301.96,44.184,131.4625,61.457499999999996,171.1001602122016,421.30333333333334,255.4163,1208.685,404.62695652173915,217.458,9.99,75.6875,304.43729268292685,357.705464,2354.395,86.62,63.82066666666666,265.02909090909094,2.064,6.0,44.660000000000004,434.0811111111111,130.58123076923079,120.67,751.984,163.67358333333334,166.082,183.76500000000001,105.1732,46.32,807.6193548387097,72.74575,182.47,283.92,270.92266666666666,254.8584772727273,284.06333333333333,371.2662653061225,215.03182608695653,201.28575,78.7953846153846,32.92333333333333,141.07846153846154,76.295,173.9589090909091,264.3725,4.96,145.89466666666667,162.96533333333335,758.363,36.248333333333335,28.916,129.20066666666665,115.36,55.48,148.34791666666666,72.294,68.49,56.0552,220.57426229508198,305.02933333333334,39.73666666666667,223.9012222222222,235.4100950468541,216.59308771929827,5.2410000000000005,302.370625,98.76066666666667,60.66833333333333,534.679,76.12666666666667,193.29818181818183,273.96,279.4385,150.72733333333335,220.7175,15.552,419.80285714285714,168.4673,103.32,51.09,31.421333333333333,45.61663157894737,22.5545,275.30244444444446,95.616,198.07803333333334,115.52166666666666,140.9709090909091,82.263,144.205,10.429599999999999,152.15920175438598,128.29,440.9593333333333,160.29,253.56044444444444,733.5017391304348,191.399,388.12,155.1972,487.984,6.37,496.63545454545454,108.71666666666668,141.4492380952381,27.88,372.273,271.93,126.24660000000002,136.2525,719.0142857142856,281.54,264.954,30.666636363636368,82.1876,484.65,430.425,161.03787499999999,17.97,209.34010344827587,52.3875,47.193999999999996,7.385,42.305,139.46977777777778,280.1837825136612,300.80125263157896,276.8291666666667,66.61399999999999,772.7950000000001,17.43,366.744,675.6650000000001,142.125,612.562625,11.064,103.50999999999999,197.0173333333333,229.40069230769228,145.02460000000002,195.2248,286.8182608695652,179.158,204.0896,225.4475,283.92,35.185,332.6764444444444,339.96,158.1890909090909,2.808,107.32600000000001,101.15166666666666,35.59,173.12222222222223,116.312,54.8856,228.33333333333334,133.49275,387.9756,156.9082380952381,366.85200000000003,260.34766666666667,112.1605,164.99866666666665,122.45539285714285,2.214,80.12313043478261,214.635,385.177,203.1229292364991,174.60725396825396,145.9,106.455,348.2192307692308,235.35830666666666,130.62145454545455,305.454,192.13457142857143,211.786,30.146666666666665,122.84213333333334,7.824,82.98333333333333,16.28,168.827875,515.5048387096774,276.1234,210.86724999999998,63.822950000000006,204.8881818181818,57.963,76.32000000000001,174.74240000000003,333.576,180.6888125,99.84154545454545,244.975375,41.904,161.0155,414.2106666666666,119.03714285714285,644.2320000000001,201.53255555555555,557.096,138.87471428571428,150.46283018867925,132.52,11.85,287.8389090909091,93.954,40.41,89.142,8.952,138.02407692307693,369.5733333333333,693.4361142857142,17.67,562.4060000000001,65.97666666666667,165.965,443.94,57.19200000000001,96.41499999999999,697.16,120.77085714285715,86.10612499999999,91.11137500000001,100.347,162.659,370.2292881355932,108.81111111111112,45.028999999999996,279.53546470588236,220.91978823529413,687.0033333333334,144.55307142857143,3.62,27.110999999999997,75.18,142.645,112.77300000000001,240.45071428571427,536.1542499999999,37.032000000000004,50.46,115.44,122.19225,279.30079906542056,19.935000000000002,36.665,25.357333333333333,126.38000000000001,51.711999999999996,134.95370833333334,206.38833333333332,207.91285714285715,853.9866666666667,289.70257142857145,4.3,264.13706748466257,36.68,204.6,159.79000000000002,203.46999999999997,106.03500000000001,144.41444444444446,426.5099411764706,353.3775,144.33556944444445,117.89999999999999,202.16649999999998,82.33092307692309,327.12,263.6573333333333,47.38666666666668,50.43066666666667,76.5248,47.7608,174.22275000000002,22.288,139.56415625,783.067,135.7842307692308,155.41693103448276,197.28175,213.72961538461539,87.85000000000001,574.403,69.44120000000001,49.70666666666667,81.88,423.28,203.56833333333336,137.3672,80.99575,359.508125,79.69500000000001,101.01786666666668,217.4,485.36800000000005,286.502,120.55090909090909,30.32,404.4998,54.5,79.37,305.877,125.24000000000001,62.370000000000005,47.10933333333333,86.62,158.30584615384618,225.09682352941175,278.13800000000003,444.768,117.89571428571428,202.6961388888889,61.45533333333333,202.54999999999998,88.22066666666667,228.78000000000003,48.8875,510.5110666666667,163.5956,50.8,210.21625],\"yaxis\":\"y\",\"type\":\"scatter\"}],                        {\"template\":{\"data\":{\"bar\":[{\"error_x\":{\"color\":\"#2a3f5f\"},\"error_y\":{\"color\":\"#2a3f5f\"},\"marker\":{\"line\":{\"color\":\"#E5ECF6\",\"width\":0.5},\"pattern\":{\"fillmode\":\"overlay\",\"size\":10,\"solidity\":0.2}},\"type\":\"bar\"}],\"barpolar\":[{\"marker\":{\"line\":{\"color\":\"#E5ECF6\",\"width\":0.5},\"pattern\":{\"fillmode\":\"overlay\",\"size\":10,\"solidity\":0.2}},\"type\":\"barpolar\"}],\"carpet\":[{\"aaxis\":{\"endlinecolor\":\"#2a3f5f\",\"gridcolor\":\"white\",\"linecolor\":\"white\",\"minorgridcolor\":\"white\",\"startlinecolor\":\"#2a3f5f\"},\"baxis\":{\"endlinecolor\":\"#2a3f5f\",\"gridcolor\":\"white\",\"linecolor\":\"white\",\"minorgridcolor\":\"white\",\"startlinecolor\":\"#2a3f5f\"},\"type\":\"carpet\"}],\"choropleth\":[{\"colorbar\":{\"outlinewidth\":0,\"ticks\":\"\"},\"type\":\"choropleth\"}],\"contour\":[{\"colorbar\":{\"outlinewidth\":0,\"ticks\":\"\"},\"colorscale\":[[0.0,\"#0d0887\"],[0.1111111111111111,\"#46039f\"],[0.2222222222222222,\"#7201a8\"],[0.3333333333333333,\"#9c179e\"],[0.4444444444444444,\"#bd3786\"],[0.5555555555555556,\"#d8576b\"],[0.6666666666666666,\"#ed7953\"],[0.7777777777777778,\"#fb9f3a\"],[0.8888888888888888,\"#fdca26\"],[1.0,\"#f0f921\"]],\"type\":\"contour\"}],\"contourcarpet\":[{\"colorbar\":{\"outlinewidth\":0,\"ticks\":\"\"},\"type\":\"contourcarpet\"}],\"heatmap\":[{\"colorbar\":{\"outlinewidth\":0,\"ticks\":\"\"},\"colorscale\":[[0.0,\"#0d0887\"],[0.1111111111111111,\"#46039f\"],[0.2222222222222222,\"#7201a8\"],[0.3333333333333333,\"#9c179e\"],[0.4444444444444444,\"#bd3786\"],[0.5555555555555556,\"#d8576b\"],[0.6666666666666666,\"#ed7953\"],[0.7777777777777778,\"#fb9f3a\"],[0.8888888888888888,\"#fdca26\"],[1.0,\"#f0f921\"]],\"type\":\"heatmap\"}],\"heatmapgl\":[{\"colorbar\":{\"outlinewidth\":0,\"ticks\":\"\"},\"colorscale\":[[0.0,\"#0d0887\"],[0.1111111111111111,\"#46039f\"],[0.2222222222222222,\"#7201a8\"],[0.3333333333333333,\"#9c179e\"],[0.4444444444444444,\"#bd3786\"],[0.5555555555555556,\"#d8576b\"],[0.6666666666666666,\"#ed7953\"],[0.7777777777777778,\"#fb9f3a\"],[0.8888888888888888,\"#fdca26\"],[1.0,\"#f0f921\"]],\"type\":\"heatmapgl\"}],\"histogram\":[{\"marker\":{\"pattern\":{\"fillmode\":\"overlay\",\"size\":10,\"solidity\":0.2}},\"type\":\"histogram\"}],\"histogram2d\":[{\"colorbar\":{\"outlinewidth\":0,\"ticks\":\"\"},\"colorscale\":[[0.0,\"#0d0887\"],[0.1111111111111111,\"#46039f\"],[0.2222222222222222,\"#7201a8\"],[0.3333333333333333,\"#9c179e\"],[0.4444444444444444,\"#bd3786\"],[0.5555555555555556,\"#d8576b\"],[0.6666666666666666,\"#ed7953\"],[0.7777777777777778,\"#fb9f3a\"],[0.8888888888888888,\"#fdca26\"],[1.0,\"#f0f921\"]],\"type\":\"histogram2d\"}],\"histogram2dcontour\":[{\"colorbar\":{\"outlinewidth\":0,\"ticks\":\"\"},\"colorscale\":[[0.0,\"#0d0887\"],[0.1111111111111111,\"#46039f\"],[0.2222222222222222,\"#7201a8\"],[0.3333333333333333,\"#9c179e\"],[0.4444444444444444,\"#bd3786\"],[0.5555555555555556,\"#d8576b\"],[0.6666666666666666,\"#ed7953\"],[0.7777777777777778,\"#fb9f3a\"],[0.8888888888888888,\"#fdca26\"],[1.0,\"#f0f921\"]],\"type\":\"histogram2dcontour\"}],\"mesh3d\":[{\"colorbar\":{\"outlinewidth\":0,\"ticks\":\"\"},\"type\":\"mesh3d\"}],\"parcoords\":[{\"line\":{\"colorbar\":{\"outlinewidth\":0,\"ticks\":\"\"}},\"type\":\"parcoords\"}],\"pie\":[{\"automargin\":true,\"type\":\"pie\"}],\"scatter\":[{\"marker\":{\"colorbar\":{\"outlinewidth\":0,\"ticks\":\"\"}},\"type\":\"scatter\"}],\"scatter3d\":[{\"line\":{\"colorbar\":{\"outlinewidth\":0,\"ticks\":\"\"}},\"marker\":{\"colorbar\":{\"outlinewidth\":0,\"ticks\":\"\"}},\"type\":\"scatter3d\"}],\"scattercarpet\":[{\"marker\":{\"colorbar\":{\"outlinewidth\":0,\"ticks\":\"\"}},\"type\":\"scattercarpet\"}],\"scattergeo\":[{\"marker\":{\"colorbar\":{\"outlinewidth\":0,\"ticks\":\"\"}},\"type\":\"scattergeo\"}],\"scattergl\":[{\"marker\":{\"colorbar\":{\"outlinewidth\":0,\"ticks\":\"\"}},\"type\":\"scattergl\"}],\"scattermapbox\":[{\"marker\":{\"colorbar\":{\"outlinewidth\":0,\"ticks\":\"\"}},\"type\":\"scattermapbox\"}],\"scatterpolar\":[{\"marker\":{\"colorbar\":{\"outlinewidth\":0,\"ticks\":\"\"}},\"type\":\"scatterpolar\"}],\"scatterpolargl\":[{\"marker\":{\"colorbar\":{\"outlinewidth\":0,\"ticks\":\"\"}},\"type\":\"scatterpolargl\"}],\"scatterternary\":[{\"marker\":{\"colorbar\":{\"outlinewidth\":0,\"ticks\":\"\"}},\"type\":\"scatterternary\"}],\"surface\":[{\"colorbar\":{\"outlinewidth\":0,\"ticks\":\"\"},\"colorscale\":[[0.0,\"#0d0887\"],[0.1111111111111111,\"#46039f\"],[0.2222222222222222,\"#7201a8\"],[0.3333333333333333,\"#9c179e\"],[0.4444444444444444,\"#bd3786\"],[0.5555555555555556,\"#d8576b\"],[0.6666666666666666,\"#ed7953\"],[0.7777777777777778,\"#fb9f3a\"],[0.8888888888888888,\"#fdca26\"],[1.0,\"#f0f921\"]],\"type\":\"surface\"}],\"table\":[{\"cells\":{\"fill\":{\"color\":\"#EBF0F8\"},\"line\":{\"color\":\"white\"}},\"header\":{\"fill\":{\"color\":\"#C8D4E3\"},\"line\":{\"color\":\"white\"}},\"type\":\"table\"}]},\"layout\":{\"annotationdefaults\":{\"arrowcolor\":\"#2a3f5f\",\"arrowhead\":0,\"arrowwidth\":1},\"autotypenumbers\":\"strict\",\"coloraxis\":{\"colorbar\":{\"outlinewidth\":0,\"ticks\":\"\"}},\"colorscale\":{\"diverging\":[[0,\"#8e0152\"],[0.1,\"#c51b7d\"],[0.2,\"#de77ae\"],[0.3,\"#f1b6da\"],[0.4,\"#fde0ef\"],[0.5,\"#f7f7f7\"],[0.6,\"#e6f5d0\"],[0.7,\"#b8e186\"],[0.8,\"#7fbc41\"],[0.9,\"#4d9221\"],[1,\"#276419\"]],\"sequential\":[[0.0,\"#0d0887\"],[0.1111111111111111,\"#46039f\"],[0.2222222222222222,\"#7201a8\"],[0.3333333333333333,\"#9c179e\"],[0.4444444444444444,\"#bd3786\"],[0.5555555555555556,\"#d8576b\"],[0.6666666666666666,\"#ed7953\"],[0.7777777777777778,\"#fb9f3a\"],[0.8888888888888888,\"#fdca26\"],[1.0,\"#f0f921\"]],\"sequentialminus\":[[0.0,\"#0d0887\"],[0.1111111111111111,\"#46039f\"],[0.2222222222222222,\"#7201a8\"],[0.3333333333333333,\"#9c179e\"],[0.4444444444444444,\"#bd3786\"],[0.5555555555555556,\"#d8576b\"],[0.6666666666666666,\"#ed7953\"],[0.7777777777777778,\"#fb9f3a\"],[0.8888888888888888,\"#fdca26\"],[1.0,\"#f0f921\"]]},\"colorway\":[\"#636efa\",\"#EF553B\",\"#00cc96\",\"#ab63fa\",\"#FFA15A\",\"#19d3f3\",\"#FF6692\",\"#B6E880\",\"#FF97FF\",\"#FECB52\"],\"font\":{\"color\":\"#2a3f5f\"},\"geo\":{\"bgcolor\":\"white\",\"lakecolor\":\"white\",\"landcolor\":\"#E5ECF6\",\"showlakes\":true,\"showland\":true,\"subunitcolor\":\"white\"},\"hoverlabel\":{\"align\":\"left\"},\"hovermode\":\"closest\",\"mapbox\":{\"style\":\"light\"},\"paper_bgcolor\":\"white\",\"plot_bgcolor\":\"#E5ECF6\",\"polar\":{\"angularaxis\":{\"gridcolor\":\"white\",\"linecolor\":\"white\",\"ticks\":\"\"},\"bgcolor\":\"#E5ECF6\",\"radialaxis\":{\"gridcolor\":\"white\",\"linecolor\":\"white\",\"ticks\":\"\"}},\"scene\":{\"xaxis\":{\"backgroundcolor\":\"#E5ECF6\",\"gridcolor\":\"white\",\"gridwidth\":2,\"linecolor\":\"white\",\"showbackground\":true,\"ticks\":\"\",\"zerolinecolor\":\"white\"},\"yaxis\":{\"backgroundcolor\":\"#E5ECF6\",\"gridcolor\":\"white\",\"gridwidth\":2,\"linecolor\":\"white\",\"showbackground\":true,\"ticks\":\"\",\"zerolinecolor\":\"white\"},\"zaxis\":{\"backgroundcolor\":\"#E5ECF6\",\"gridcolor\":\"white\",\"gridwidth\":2,\"linecolor\":\"white\",\"showbackground\":true,\"ticks\":\"\",\"zerolinecolor\":\"white\"}},\"shapedefaults\":{\"line\":{\"color\":\"#2a3f5f\"}},\"ternary\":{\"aaxis\":{\"gridcolor\":\"white\",\"linecolor\":\"white\",\"ticks\":\"\"},\"baxis\":{\"gridcolor\":\"white\",\"linecolor\":\"white\",\"ticks\":\"\"},\"bgcolor\":\"#E5ECF6\",\"caxis\":{\"gridcolor\":\"white\",\"linecolor\":\"white\",\"ticks\":\"\"}},\"title\":{\"x\":0.05},\"xaxis\":{\"automargin\":true,\"gridcolor\":\"white\",\"linecolor\":\"white\",\"ticks\":\"\",\"title\":{\"standoff\":15},\"zerolinecolor\":\"white\",\"zerolinewidth\":2},\"yaxis\":{\"automargin\":true,\"gridcolor\":\"white\",\"linecolor\":\"white\",\"ticks\":\"\",\"title\":{\"standoff\":15},\"zerolinecolor\":\"white\",\"zerolinewidth\":2}}},\"xaxis\":{\"anchor\":\"y\",\"domain\":[0.0,1.0],\"title\":{\"text\":\"City\"}},\"yaxis\":{\"anchor\":\"x\",\"domain\":[0.0,1.0],\"title\":{\"text\":\"Sales\"}},\"legend\":{\"tracegroupgap\":0,\"itemsizing\":\"constant\"},\"title\":{\"text\":\"Avg price by Country\"}},                        {\"responsive\": true}                    ).then(function(){\n",
       "                            \n",
       "var gd = document.getElementById('d1482c31-2cf8-4933-92be-5b7f6e5cf22a');\n",
       "var x = new MutationObserver(function (mutations, observer) {{\n",
       "        var display = window.getComputedStyle(gd).display;\n",
       "        if (!display || display === 'none') {{\n",
       "            console.log([gd, 'removed!']);\n",
       "            Plotly.purge(gd);\n",
       "            observer.disconnect();\n",
       "        }}\n",
       "}});\n",
       "\n",
       "// Listen for the removal of the full notebook cells\n",
       "var notebookContainer = gd.closest('#notebook-container');\n",
       "if (notebookContainer) {{\n",
       "    x.observe(notebookContainer, {childList: true});\n",
       "}}\n",
       "\n",
       "// Listen for the clearing of the current output cell\n",
       "var outputEl = gd.closest('.output');\n",
       "if (outputEl) {{\n",
       "    x.observe(outputEl, {childList: true});\n",
       "}}\n",
       "\n",
       "                        })                };                });            </script>        </div>"
      ]
     },
     "metadata": {},
     "output_type": "display_data"
    }
   ],
   "source": [
    "px.scatter(df[['City', 'Order ID', 'Sales', 'Customer ID']].groupby('City').mean(),\n",
    "                      y = 'Sales', size = 'Sales', title = \"Avg price by Country\", opacity = 0.50)"
   ]
  },
  {
   "cell_type": "code",
   "execution_count": 81,
   "id": "5341d7d2",
   "metadata": {},
   "outputs": [],
   "source": [
    "cities = df.City.unique()"
   ]
  },
  {
   "cell_type": "code",
   "execution_count": 83,
   "id": "c4b60c81",
   "metadata": {},
   "outputs": [
    {
     "ename": "IndexError",
     "evalue": "list index out of range",
     "output_type": "error",
     "traceback": [
      "\u001b[1;31m---------------------------------------------------------------------------\u001b[0m",
      "\u001b[1;31mIndexError\u001b[0m                                Traceback (most recent call last)",
      "Input \u001b[1;32mIn [83]\u001b[0m, in \u001b[0;36m<module>\u001b[1;34m\u001b[0m\n\u001b[0;32m      3\u001b[0m axes \u001b[38;5;241m=\u001b[39m [axes_row \u001b[38;5;28;01mfor\u001b[39;00m axes \u001b[38;5;129;01min\u001b[39;00m ax \u001b[38;5;28;01mfor\u001b[39;00m axes_row \u001b[38;5;129;01min\u001b[39;00m axes]\n\u001b[0;32m      6\u001b[0m \u001b[38;5;28;01mfor\u001b[39;00m i, c \u001b[38;5;129;01min\u001b[39;00m \u001b[38;5;28menumerate\u001b[39m(cities):\n\u001b[1;32m----> 7\u001b[0m     sns\u001b[38;5;241m.\u001b[39mviolinplot(x\u001b[38;5;241m=\u001b[39m\u001b[38;5;124m'\u001b[39m\u001b[38;5;124mSales\u001b[39m\u001b[38;5;124m'\u001b[39m, data\u001b[38;5;241m=\u001b[39mdf[df[\u001b[38;5;124m'\u001b[39m\u001b[38;5;124mCity\u001b[39m\u001b[38;5;124m'\u001b[39m] \u001b[38;5;241m==\u001b[39m c], ax \u001b[38;5;241m=\u001b[39m \u001b[43maxes\u001b[49m\u001b[43m[\u001b[49m\u001b[43mi\u001b[49m\u001b[43m]\u001b[49m, inner \u001b[38;5;241m=\u001b[39m \u001b[38;5;124m'\u001b[39m\u001b[38;5;124mpoint\u001b[39m\u001b[38;5;124m'\u001b[39m, palette \u001b[38;5;241m=\u001b[39m \u001b[38;5;124m'\u001b[39m\u001b[38;5;124mpastel\u001b[39m\u001b[38;5;124m'\u001b[39m)\n\u001b[0;32m      8\u001b[0m     \u001b[38;5;66;03m#axes_[i].set_title(c + ' ' + 'Price Distribution')\u001b[39;00m\n\u001b[0;32m      9\u001b[0m     plt\u001b[38;5;241m.\u001b[39mtight_layout()\n",
      "\u001b[1;31mIndexError\u001b[0m: list index out of range"
     ]
    },
    {
     "data": {
      "image/png": "[encoded data removed]",
      "text/plain": [
       "<Figure size 1296x1440 with 44 Axes>"
      ]
     },
     "metadata": {},
     "output_type": "display_data"
    }
   ],
   "source": [
    "\n",
    "fig, ax = plt.subplots(11, 4, figsize=(18, 20))\n",
    "\n",
    "axes = [axes_row for axes in ax for axes_row in axes]\n",
    "\n",
    "\n",
    "for i, c in enumerate(cities):\n",
    "    sns.violinplot(x='Sales', data=df[df['City'] == c], ax = axes[i], inner = 'point', palette = 'pastel')\n",
    "    #axes_[i].set_title(c + ' ' + 'Price Distribution')\n",
    "    plt.tight_layout()"
   ]
  },
  {
   "cell_type": "code",
   "execution_count": null,
   "id": "5c5708f6",
   "metadata": {},
   "outputs": [],
   "source": []
  },
  {
   "cell_type": "code",
   "execution_count": null,
   "id": "f24d1d70",
   "metadata": {},
   "outputs": [],
   "source": []
  },
  {
   "cell_type": "code",
   "execution_count": null,
   "id": "ef87e628",
   "metadata": {},
   "outputs": [],
   "source": [
    "#### Нахожу самый продаваемый товар:"
   ]
  },
  {
   "cell_type": "code",
   "execution_count": 90,
   "id": "ca169497",
   "metadata": {},
   "outputs": [
    {
     "data": {
      "text/html": [
       "<div>\n",
       "<style scoped>\n",
       "    .dataframe tbody tr th:only-of-type {\n",
       "        vertical-align: middle;\n",
       "    }\n",
       "\n",
       "    .dataframe tbody tr th {\n",
       "        vertical-align: top;\n",
       "    }\n",
       "\n",
       "    .dataframe thead th {\n",
       "        text-align: right;\n",
       "    }\n",
       "</style>\n",
       "<table border=\"1\" class=\"dataframe\">\n",
       "  <thead>\n",
       "    <tr style=\"text-align: right;\">\n",
       "      <th></th>\n",
       "      <th>Row ID</th>\n",
       "      <th>Order ID</th>\n",
       "      <th>Order Date</th>\n",
       "      <th>Ship Date</th>\n",
       "      <th>Ship Mode</th>\n",
       "      <th>Customer ID</th>\n",
       "      <th>Customer Name</th>\n",
       "      <th>Segment</th>\n",
       "      <th>Country/Region</th>\n",
       "      <th>City</th>\n",
       "      <th>...</th>\n",
       "      <th>Postal Code</th>\n",
       "      <th>Region</th>\n",
       "      <th>Product ID</th>\n",
       "      <th>Category</th>\n",
       "      <th>Sub-Category</th>\n",
       "      <th>Product Name</th>\n",
       "      <th>Sales</th>\n",
       "      <th>Quantity</th>\n",
       "      <th>Discount</th>\n",
       "      <th>Profit</th>\n",
       "    </tr>\n",
       "  </thead>\n",
       "  <tbody>\n",
       "    <tr>\n",
       "      <th>0</th>\n",
       "      <td>1</td>\n",
       "      <td>CA-2018-152156</td>\n",
       "      <td>08/11/2018</td>\n",
       "      <td>11/11/2018</td>\n",
       "      <td>Second Class</td>\n",
       "      <td>CG-12520</td>\n",
       "      <td>Claire Gute</td>\n",
       "      <td>Consumer</td>\n",
       "      <td>United States</td>\n",
       "      <td>Henderson</td>\n",
       "      <td>...</td>\n",
       "      <td>42420.0</td>\n",
       "      <td>South</td>\n",
       "      <td>FUR-BO-10001798</td>\n",
       "      <td>Furniture</td>\n",
       "      <td>Bookcases</td>\n",
       "      <td>Bush Somerset Collection Bookcase</td>\n",
       "      <td>261.96</td>\n",
       "      <td>2</td>\n",
       "      <td>0.0</td>\n",
       "      <td>41.9136</td>\n",
       "    </tr>\n",
       "  </tbody>\n",
       "</table>\n",
       "<p>1 rows × 21 columns</p>\n",
       "</div>"
      ],
      "text/plain": [
       "   Row ID        Order ID  Order Date   Ship Date     Ship Mode Customer ID  \\\n",
       "0       1  CA-2018-152156  08/11/2018  11/11/2018  Second Class    CG-12520   \n",
       "\n",
       "  Customer Name   Segment Country/Region       City  ... Postal Code  Region  \\\n",
       "0   Claire Gute  Consumer  United States  Henderson  ...     42420.0   South   \n",
       "\n",
       "        Product ID   Category Sub-Category                       Product Name  \\\n",
       "0  FUR-BO-10001798  Furniture    Bookcases  Bush Somerset Collection Bookcase   \n",
       "\n",
       "    Sales  Quantity  Discount   Profit  \n",
       "0  261.96         2       0.0  41.9136  \n",
       "\n",
       "[1 rows x 21 columns]"
      ]
     },
     "execution_count": 90,
     "metadata": {},
     "output_type": "execute_result"
    }
   ],
   "source": [
    "df.head(1)"
   ]
  },
  {
   "cell_type": "code",
   "execution_count": 121,
   "id": "9367f79a",
   "metadata": {},
   "outputs": [
    {
     "data": {
      "text/plain": [
       "<AxesSubplot:xlabel='Product Name'>"
      ]
     },
     "execution_count": 121,
     "metadata": {},
     "output_type": "execute_result"
    },
    {
     "data": {
      "text/plain": [
       "<Figure size 1152x576 with 0 Axes>"
      ]
     },
     "metadata": {},
     "output_type": "display_data"
    },
    {
     "data": {
      "image/png": "[encoded data removed]",
      "text/plain": [
       "<Figure size 432x288 with 1 Axes>"
      ]
     },
     "metadata": {},
     "output_type": "display_data"
    }
   ],
   "source": [
    "plt.figure(figsize=(16,8))\n",
    "\n",
    "df.groupby('Product Name') \\\n",
    "  .agg({'Quantity': 'sum'})\\\n",
    "  .sort_values('Quantity', ascending=False) \\\n",
    "  .head(20) \\\n",
    "  .plot(kind='bar')"
   ]
  },
  {
   "cell_type": "code",
   "execution_count": 125,
   "id": "a5ee41bd",
   "metadata": {},
   "outputs": [
    {
     "data": {
      "text/html": [
       "<div>\n",
       "<style scoped>\n",
       "    .dataframe tbody tr th:only-of-type {\n",
       "        vertical-align: middle;\n",
       "    }\n",
       "\n",
       "    .dataframe tbody tr th {\n",
       "        vertical-align: top;\n",
       "    }\n",
       "\n",
       "    .dataframe thead th {\n",
       "        text-align: right;\n",
       "    }\n",
       "</style>\n",
       "<table border=\"1\" class=\"dataframe\">\n",
       "  <thead>\n",
       "    <tr style=\"text-align: right;\">\n",
       "      <th></th>\n",
       "      <th>Row ID</th>\n",
       "      <th>Order ID</th>\n",
       "      <th>Order Date</th>\n",
       "      <th>Ship Date</th>\n",
       "      <th>Ship Mode</th>\n",
       "      <th>Customer ID</th>\n",
       "      <th>Customer Name</th>\n",
       "      <th>Segment</th>\n",
       "      <th>Country/Region</th>\n",
       "      <th>City</th>\n",
       "      <th>...</th>\n",
       "      <th>Postal Code</th>\n",
       "      <th>Region</th>\n",
       "      <th>Product ID</th>\n",
       "      <th>Category</th>\n",
       "      <th>Sub-Category</th>\n",
       "      <th>Product Name</th>\n",
       "      <th>Sales</th>\n",
       "      <th>Quantity</th>\n",
       "      <th>Discount</th>\n",
       "      <th>Profit</th>\n",
       "    </tr>\n",
       "  </thead>\n",
       "  <tbody>\n",
       "    <tr>\n",
       "      <th>0</th>\n",
       "      <td>1</td>\n",
       "      <td>CA-2018-152156</td>\n",
       "      <td>08/11/2018</td>\n",
       "      <td>11/11/2018</td>\n",
       "      <td>Second Class</td>\n",
       "      <td>CG-12520</td>\n",
       "      <td>Claire Gute</td>\n",
       "      <td>Consumer</td>\n",
       "      <td>United States</td>\n",
       "      <td>Henderson</td>\n",
       "      <td>...</td>\n",
       "      <td>42420.0</td>\n",
       "      <td>South</td>\n",
       "      <td>FUR-BO-10001798</td>\n",
       "      <td>Furniture</td>\n",
       "      <td>Bookcases</td>\n",
       "      <td>Bush Somerset Collection Bookcase</td>\n",
       "      <td>261.96</td>\n",
       "      <td>2</td>\n",
       "      <td>0.0</td>\n",
       "      <td>41.9136</td>\n",
       "    </tr>\n",
       "  </tbody>\n",
       "</table>\n",
       "<p>1 rows × 21 columns</p>\n",
       "</div>"
      ],
      "text/plain": [
       "   Row ID        Order ID  Order Date   Ship Date     Ship Mode Customer ID  \\\n",
       "0       1  CA-2018-152156  08/11/2018  11/11/2018  Second Class    CG-12520   \n",
       "\n",
       "  Customer Name   Segment Country/Region       City  ... Postal Code  Region  \\\n",
       "0   Claire Gute  Consumer  United States  Henderson  ...     42420.0   South   \n",
       "\n",
       "        Product ID   Category Sub-Category                       Product Name  \\\n",
       "0  FUR-BO-10001798  Furniture    Bookcases  Bush Somerset Collection Bookcase   \n",
       "\n",
       "    Sales  Quantity  Discount   Profit  \n",
       "0  261.96         2       0.0  41.9136  \n",
       "\n",
       "[1 rows x 21 columns]"
      ]
     },
     "execution_count": 125,
     "metadata": {},
     "output_type": "execute_result"
    }
   ],
   "source": [
    "df.head(1)"
   ]
  },
  {
   "cell_type": "code",
   "execution_count": 135,
   "id": "cac0ad98",
   "metadata": {},
   "outputs": [],
   "source": [
    "temp_data = df.copy()"
   ]
  },
  {
   "cell_type": "code",
   "execution_count": 175,
   "id": "343e8077",
   "metadata": {},
   "outputs": [],
   "source": [
    "temp_data.loc[:,'Month'] = df['Ship Date'].dt.month\n",
    "temp_data.loc[:, 'Time'] = df['Ship Date'].dt.month\n",
    "temp_data.loc[:, 'Year'] = df['Ship Date'].dt.year\n",
    "temp_data.loc[:, 'Day'] = df['Ship Date'].dt.day\n",
    "temp_data.loc[:, 'Quarter'] = df['Ship Date'].dt.quarter\n",
    "temp_data.loc[:, 'Day of week'] = df['Ship Date'].dt.dayofweek"
   ]
  },
  {
   "cell_type": "code",
   "execution_count": 176,
   "id": "3f1af4b2",
   "metadata": {},
   "outputs": [],
   "source": [
    "dayofweek_mapping = dict({0: 'Monday',\n",
    "                           1: 'Tuesday',\n",
    "                           2: 'Wednesday',\n",
    "                           3: 'Thursday',\n",
    "                           4: 'Friday',\n",
    "                           5: 'Saturday',\n",
    "                           6: 'Sunday'})"
   ]
  },
  {
   "cell_type": "code",
   "execution_count": 177,
   "id": "c6ecc0c1",
   "metadata": {},
   "outputs": [],
   "source": [
    "temp_data['day of week'] = temp_data['Day of week'].map(dayofweek_mapping)"
   ]
  },
  {
   "cell_type": "code",
   "execution_count": null,
   "id": "3b91bc6e",
   "metadata": {},
   "outputs": [],
   "source": []
  },
  {
   "cell_type": "code",
   "execution_count": 1,
   "id": "d11b787e",
   "metadata": {},
   "outputs": [],
   "source": [
    "plt.figure(figsize=(15, 10))\n",
    "plt.subplot(3, 2, 1)\n",
    "sns.lineplot(x='Month', \n",
    "             y='Quantity', \n",
    "             data=temp_data.groupby('Month') \\\n",
    "                           .sum('Quantity'), marker='.', color='olive')\n",
    "\n",
    "plt.axvline(11, color='g',  linestyle='--', alpha=0.3)\n",
    "plt.title('trnsactions by month')\n",
    "plt.subplot(3,2,2)\n",
    "temp_data.groupby('Quarter').sum()['Quantity'].plot(kind='bar')\n"
   ]
  },
  {
   "cell_type": "code",
   "execution_count": null,
   "id": "a25526fd",
   "metadata": {},
   "outputs": [],
   "source": []
  },
  {
   "cell_type": "code",
   "execution_count": 153,
   "id": "af0f7212",
   "metadata": {},
   "outputs": [
    {
     "data": {
      "text/plain": [
       "<matplotlib.lines.Line2D at 0x318f733130>"
      ]
     },
     "execution_count": 153,
     "metadata": {},
     "output_type": "execute_result"
    },
    {
     "data": {
      "image/png": "[encoded data removed]",
      "text/plain": [
       "<Figure size 432x288 with 1 Axes>"
      ]
     },
     "metadata": {},
     "output_type": "display_data"
    }
   ],
   "source": [
    "plt.axvline(11, color='g',  linestyle='--', alpha=0.3)"
   ]
  },
  {
   "cell_type": "code",
   "execution_count": null,
   "id": "218ebb51",
   "metadata": {},
   "outputs": [],
   "source": []
  },
  {
   "cell_type": "code",
   "execution_count": null,
   "id": "a21a7566",
   "metadata": {},
   "outputs": [],
   "source": []
  },
  {
   "cell_type": "code",
   "execution_count": null,
   "id": "2e33e579",
   "metadata": {},
   "outputs": [],
   "source": []
  },
  {
   "cell_type": "code",
   "execution_count": null,
   "id": "38a102fa",
   "metadata": {},
   "outputs": [],
   "source": []
  },
  {
   "cell_type": "code",
   "execution_count": null,
   "id": "a5c8720b",
   "metadata": {},
   "outputs": [],
   "source": []
  },
  {
   "cell_type": "code",
   "execution_count": null,
   "id": "27e0f055",
   "metadata": {},
   "outputs": [],
   "source": []
  },
  {
   "cell_type": "code",
   "execution_count": null,
   "id": "a08ed33f",
   "metadata": {},
   "outputs": [],
   "source": []
  },
  {
   "cell_type": "code",
   "execution_count": 112,
   "id": "7b2fd29d",
   "metadata": {},
   "outputs": [
    {
     "data": {
      "text/plain": [
       "'LF Elite 3D Dazzle Designer Hard Case Cover, Lf Stylus Pen and Wiper For Apple Iphone 5c Mini Lite'"
      ]
     },
     "execution_count": 112,
     "metadata": {},
     "output_type": "execute_result"
    }
   ],
   "source": [
    "max_freq = df.groupby('Product Name', as_index=False) \\\n",
    "  .agg({'Product ID': 'count'}) \\\n",
    "  .sort_values('Product ID', ascending=False) \\\n",
    "  ['Product ID'] \\\n",
    "  .head(1) \\\n",
    "  .item()\n",
    "\n",
    "df.iloc[max_freq]['Product Name']"
   ]
  },
  {
   "cell_type": "code",
   "execution_count": 105,
   "id": "4b1fe6eb",
   "metadata": {},
   "outputs": [
    {
     "data": {
      "text/plain": [
       "'LF Elite 3D Dazzle Designer Hard Case Cover, Lf Stylus Pen and Wiper For Apple Iphone 5c Mini Lite'"
      ]
     },
     "execution_count": 105,
     "metadata": {},
     "output_type": "execute_result"
    }
   ],
   "source": [
    "df.iloc[max_freq]['Product Name']"
   ]
  },
  {
   "cell_type": "code",
   "execution_count": null,
   "id": "bab358de",
   "metadata": {},
   "outputs": [],
   "source": []
  }
 ],
 "metadata": {
  "kernelspec": {
   "display_name": "Python 3 (ipykernel)",
   "language": "python",
   "name": "python3"
  },
  "language_info": {
   "codemirror_mode": {
    "name": "ipython",
    "version": 3
   },
   "file_extension": ".py",
   "mimetype": "text/x-python",
   "name": "python",
   "nbconvert_exporter": "python",
   "pygments_lexer": "ipython3",
   "version": "3.10.2"
  }
 },
 "nbformat": 4,
 "nbformat_minor": 5
}
