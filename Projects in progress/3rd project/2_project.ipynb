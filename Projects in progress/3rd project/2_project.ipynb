{
 "cells": [
  {
   "cell_type": "markdown",
   "id": "b0eff7db",
   "metadata": {},
   "source": [
    "#### Задача:\n",
    "\n",
    "При тестировании гипотезы целевой группе предложена новая механика оплаты услуг на сайте, у контрольной группы остается базовая механика. Проанализировать результаты АБ-теста и сделать вывод о том, стоит ли запускать новую механику оплаты на всех пользователей.\n",
    "\n",
    "Данные:\n",
    "\n",
    "groups - информация о принадлежности пользователя к контрольной группе или тестовой группе (А- контроль Б - тест);\n",
    "add - файл.который присладаи по прошествии 2 дней после передачи данных;\n",
    "active - данные пользователей, которые зашли на платформу в период проведения эксперимента;\n",
    "checks - информация о платежах пользователей."
   ]
  },
  {
   "cell_type": "markdown",
   "id": "1a26481a",
   "metadata": {},
   "source": [
    "#### Алгоритм решения:\n",
    "\n",
    "Импортирую библиотеки.\n",
    "Загружаю датасеты.\n",
    "Смотрю структуру, типы данных, проверяю на наличие дубликатов и пропущенных значений.\n",
    "Формирую рабочий датафрейм из загруженных датасетов.\n",
    "Провожу разделение датасета на тестовую и контрольную группы.\n",
    "Выделяю основные метрики для анализа для принятия решения об эффективности изменений по результатам АБ-теста.\n",
    "Проверяю насколько изменились основные параметры в тестовой группе относительно контрольной группы.\n",
    "Строю боксплоты для того чтобы оценить выбросы.\n",
    "Оцениваю наличие и величину выбросов и принимаю решение что с ними делать.\n",
    "Проверяю тестовую и контрольную выборки на нормальность.\n",
    "Проверяю равномерность распределения данных в контрольной и тестовой группах.\n",
    "Выбираю методы проверки статистической значимости различий выбранных метрик в тестовой и контрольной группах.\n",
    "Осуществляю проверку на статистическую значимость. В зависимости от наличия выбросов с ними и без.\n",
    "Делаю финальные выводы."
   ]
  },
  {
   "cell_type": "markdown",
   "id": "5b1c125d",
   "metadata": {},
   "source": [
    "#### Импортирую библиотеки:"
   ]
  },
  {
   "cell_type": "code",
   "execution_count": 76,
   "id": "c30cfa1f",
   "metadata": {},
   "outputs": [],
   "source": [
    "import pandas as pd\n",
    "import numpy as np\n",
    "import seaborn as sns\n",
    "import datetime\n",
    "import scipy.stats\n",
    "import matplotlib.pyplot as plt\n",
    "%matplotlib inline\n",
    "\n",
    "from tqdm.auto import tqdm\n",
    "from scipy.stats import norm, mannwhitneyu, ttest_ind, chi2_contingency, chi2, levene, shapiro"
   ]
  },
  {
   "cell_type": "markdown",
   "id": "c025ce1a",
   "metadata": {},
   "source": [
    "#### Загружаю информацию:"
   ]
  },
  {
   "cell_type": "code",
   "execution_count": 46,
   "id": "edc4d882",
   "metadata": {},
   "outputs": [],
   "source": [
    "students = pd.read_csv('./datasets/2/active.csv', sep=';')\n",
    "\n",
    "groups = pd.read_csv('./datasets/2/groups.csv', sep=';')\n",
    "\n",
    "add = pd.read_csv('./datasets/2/add.csv',sep=',')\n",
    "\n",
    "checks = pd.read_csv('./datasets/2/checks.csv', sep=';')"
   ]
  },
  {
   "cell_type": "markdown",
   "id": "7a1234d1",
   "metadata": {},
   "source": [
    "#### Смотрю на основные параметры датасетов:"
   ]
  },
  {
   "cell_type": "code",
   "execution_count": 72,
   "id": "30bb66c1",
   "metadata": {},
   "outputs": [],
   "source": [
    "def dup_na(df):\n",
    "    \n",
    "    return print(f'В этом датасете {df.isna().sum()} пропущенных значений и {df.duplicated().sum()} дубликатов. Его размер {df.shape}.')"
   ]
  },
  {
   "cell_type": "code",
   "execution_count": 71,
   "id": "bb92740c",
   "metadata": {},
   "outputs": [
    {
     "name": "stdout",
     "output_type": "stream",
     "text": [
      "В этом датасете 0 пропущенных значений и 0 дубликатов. Его размер (8341, 1).\n"
     ]
    }
   ],
   "source": [
    "dup_na(students)"
   ]
  },
  {
   "cell_type": "code",
   "execution_count": 73,
   "id": "2efd2651",
   "metadata": {},
   "outputs": [
    {
     "name": "stdout",
     "output_type": "stream",
     "text": [
      "В этом датасете id     0\n",
      "grp    0\n",
      "dtype: int64 пропущенных значений и 0 дубликатов. Его размер (74484, 2).\n"
     ]
    }
   ],
   "source": [
    "dup_na(groups)"
   ]
  },
  {
   "cell_type": "code",
   "execution_count": 74,
   "id": "6cd9fbca",
   "metadata": {},
   "outputs": [
    {
     "name": "stdout",
     "output_type": "stream",
     "text": [
      "В этом датасете id     0\n",
      "grp    0\n",
      "dtype: int64 пропущенных значений и 0 дубликатов. Его размер (92, 2).\n"
     ]
    }
   ],
   "source": [
    "dup_na(add)"
   ]
  },
  {
   "cell_type": "code",
   "execution_count": 75,
   "id": "03dd6401",
   "metadata": {},
   "outputs": [
    {
     "name": "stdout",
     "output_type": "stream",
     "text": [
      "В этом датасете student_id    0\n",
      "rev           0\n",
      "dtype: int64 пропущенных значений и 0 дубликатов. Его размер (541, 2).\n"
     ]
    }
   ],
   "source": [
    "dup_na(checks)"
   ]
  },
  {
   "cell_type": "markdown",
   "id": "85cc4830",
   "metadata": {},
   "source": [
    "#### Посмотрю на вид датасетов:"
   ]
  },
  {
   "cell_type": "code",
   "execution_count": 6,
   "id": "2a00d4f5",
   "metadata": {},
   "outputs": [
    {
     "data": {
      "text/html": [
       "<div>\n",
       "<style scoped>\n",
       "    .dataframe tbody tr th:only-of-type {\n",
       "        vertical-align: middle;\n",
       "    }\n",
       "\n",
       "    .dataframe tbody tr th {\n",
       "        vertical-align: top;\n",
       "    }\n",
       "\n",
       "    .dataframe thead th {\n",
       "        text-align: right;\n",
       "    }\n",
       "</style>\n",
       "<table border=\"1\" class=\"dataframe\">\n",
       "  <thead>\n",
       "    <tr style=\"text-align: right;\">\n",
       "      <th></th>\n",
       "      <th>student_id</th>\n",
       "    </tr>\n",
       "  </thead>\n",
       "  <tbody>\n",
       "    <tr>\n",
       "      <th>0</th>\n",
       "      <td>581585</td>\n",
       "    </tr>\n",
       "    <tr>\n",
       "      <th>1</th>\n",
       "      <td>5723133</td>\n",
       "    </tr>\n",
       "  </tbody>\n",
       "</table>\n",
       "</div>"
      ],
      "text/plain": [
       "   student_id\n",
       "0      581585\n",
       "1     5723133"
      ]
     },
     "execution_count": 6,
     "metadata": {},
     "output_type": "execute_result"
    }
   ],
   "source": [
    "students.head(2)"
   ]
  },
  {
   "cell_type": "code",
   "execution_count": 7,
   "id": "5ebca6d1",
   "metadata": {},
   "outputs": [
    {
     "data": {
      "text/html": [
       "<div>\n",
       "<style scoped>\n",
       "    .dataframe tbody tr th:only-of-type {\n",
       "        vertical-align: middle;\n",
       "    }\n",
       "\n",
       "    .dataframe tbody tr th {\n",
       "        vertical-align: top;\n",
       "    }\n",
       "\n",
       "    .dataframe thead th {\n",
       "        text-align: right;\n",
       "    }\n",
       "</style>\n",
       "<table border=\"1\" class=\"dataframe\">\n",
       "  <thead>\n",
       "    <tr style=\"text-align: right;\">\n",
       "      <th></th>\n",
       "      <th>id</th>\n",
       "      <th>grp</th>\n",
       "    </tr>\n",
       "  </thead>\n",
       "  <tbody>\n",
       "    <tr>\n",
       "      <th>0</th>\n",
       "      <td>1489</td>\n",
       "      <td>B</td>\n",
       "    </tr>\n",
       "    <tr>\n",
       "      <th>1</th>\n",
       "      <td>1627</td>\n",
       "      <td>A</td>\n",
       "    </tr>\n",
       "  </tbody>\n",
       "</table>\n",
       "</div>"
      ],
      "text/plain": [
       "     id grp\n",
       "0  1489   B\n",
       "1  1627   A"
      ]
     },
     "execution_count": 7,
     "metadata": {},
     "output_type": "execute_result"
    }
   ],
   "source": [
    "groups.head(2)"
   ]
  },
  {
   "cell_type": "code",
   "execution_count": 11,
   "id": "0db698fc",
   "metadata": {},
   "outputs": [
    {
     "data": {
      "text/html": [
       "<div>\n",
       "<style scoped>\n",
       "    .dataframe tbody tr th:only-of-type {\n",
       "        vertical-align: middle;\n",
       "    }\n",
       "\n",
       "    .dataframe tbody tr th {\n",
       "        vertical-align: top;\n",
       "    }\n",
       "\n",
       "    .dataframe thead th {\n",
       "        text-align: right;\n",
       "    }\n",
       "</style>\n",
       "<table border=\"1\" class=\"dataframe\">\n",
       "  <thead>\n",
       "    <tr style=\"text-align: right;\">\n",
       "      <th></th>\n",
       "      <th>id</th>\n",
       "      <th>grp</th>\n",
       "    </tr>\n",
       "  </thead>\n",
       "  <tbody>\n",
       "    <tr>\n",
       "      <th>0</th>\n",
       "      <td>5694584</td>\n",
       "      <td>B</td>\n",
       "    </tr>\n",
       "    <tr>\n",
       "      <th>1</th>\n",
       "      <td>5694830</td>\n",
       "      <td>B</td>\n",
       "    </tr>\n",
       "  </tbody>\n",
       "</table>\n",
       "</div>"
      ],
      "text/plain": [
       "        id grp\n",
       "0  5694584   B\n",
       "1  5694830   B"
      ]
     },
     "execution_count": 11,
     "metadata": {},
     "output_type": "execute_result"
    }
   ],
   "source": [
    "add.head(2)"
   ]
  },
  {
   "cell_type": "code",
   "execution_count": 12,
   "id": "1caaebe8",
   "metadata": {},
   "outputs": [
    {
     "data": {
      "text/html": [
       "<div>\n",
       "<style scoped>\n",
       "    .dataframe tbody tr th:only-of-type {\n",
       "        vertical-align: middle;\n",
       "    }\n",
       "\n",
       "    .dataframe tbody tr th {\n",
       "        vertical-align: top;\n",
       "    }\n",
       "\n",
       "    .dataframe thead th {\n",
       "        text-align: right;\n",
       "    }\n",
       "</style>\n",
       "<table border=\"1\" class=\"dataframe\">\n",
       "  <thead>\n",
       "    <tr style=\"text-align: right;\">\n",
       "      <th></th>\n",
       "      <th>student_id</th>\n",
       "      <th>rev</th>\n",
       "    </tr>\n",
       "  </thead>\n",
       "  <tbody>\n",
       "    <tr>\n",
       "      <th>0</th>\n",
       "      <td>1627</td>\n",
       "      <td>990.0</td>\n",
       "    </tr>\n",
       "    <tr>\n",
       "      <th>1</th>\n",
       "      <td>3185</td>\n",
       "      <td>690.0</td>\n",
       "    </tr>\n",
       "  </tbody>\n",
       "</table>\n",
       "</div>"
      ],
      "text/plain": [
       "   student_id    rev\n",
       "0        1627  990.0\n",
       "1        3185  690.0"
      ]
     },
     "execution_count": 12,
     "metadata": {},
     "output_type": "execute_result"
    }
   ],
   "source": [
    "checks.head(2)"
   ]
  },
  {
   "cell_type": "markdown",
   "id": "7c1d9c02",
   "metadata": {},
   "source": [
    "#### Формирую общий датафрейм:"
   ]
  },
  {
   "cell_type": "code",
   "execution_count": 82,
   "id": "564a0607",
   "metadata": {},
   "outputs": [
    {
     "data": {
      "text/html": [
       "<div>\n",
       "<style scoped>\n",
       "    .dataframe tbody tr th:only-of-type {\n",
       "        vertical-align: middle;\n",
       "    }\n",
       "\n",
       "    .dataframe tbody tr th {\n",
       "        vertical-align: top;\n",
       "    }\n",
       "\n",
       "    .dataframe thead th {\n",
       "        text-align: right;\n",
       "    }\n",
       "</style>\n",
       "<table border=\"1\" class=\"dataframe\">\n",
       "  <thead>\n",
       "    <tr style=\"text-align: right;\">\n",
       "      <th></th>\n",
       "      <th>student_id</th>\n",
       "      <th>rev</th>\n",
       "      <th>grp</th>\n",
       "    </tr>\n",
       "  </thead>\n",
       "  <tbody>\n",
       "    <tr>\n",
       "      <th>0</th>\n",
       "      <td>581585</td>\n",
       "      <td>NaN</td>\n",
       "      <td>A</td>\n",
       "    </tr>\n",
       "    <tr>\n",
       "      <th>1</th>\n",
       "      <td>5723133</td>\n",
       "      <td>NaN</td>\n",
       "      <td>NaN</td>\n",
       "    </tr>\n",
       "    <tr>\n",
       "      <th>2</th>\n",
       "      <td>3276743</td>\n",
       "      <td>NaN</td>\n",
       "      <td>B</td>\n",
       "    </tr>\n",
       "    <tr>\n",
       "      <th>3</th>\n",
       "      <td>4238589</td>\n",
       "      <td>NaN</td>\n",
       "      <td>A</td>\n",
       "    </tr>\n",
       "    <tr>\n",
       "      <th>4</th>\n",
       "      <td>4475369</td>\n",
       "      <td>NaN</td>\n",
       "      <td>B</td>\n",
       "    </tr>\n",
       "  </tbody>\n",
       "</table>\n",
       "</div>"
      ],
      "text/plain": [
       "   student_id  rev  grp\n",
       "0      581585  NaN    A\n",
       "1     5723133  NaN  NaN\n",
       "2     3276743  NaN    B\n",
       "3     4238589  NaN    A\n",
       "4     4475369  NaN    B"
      ]
     },
     "execution_count": 82,
     "metadata": {},
     "output_type": "execute_result"
    }
   ],
   "source": [
    "df = students.merge(checks, how='left', on='student_id')\n",
    "\n",
    "groups = groups.rename(columns={'id': 'student_id'})\n",
    "\n",
    "df = df.merge(groups, how='left', on='student_id')\n",
    "\n",
    "df.head()"
   ]
  },
  {
   "cell_type": "markdown",
   "id": "993a8c53",
   "metadata": {},
   "source": [
    "#### Интересно, сколько посетителей сайта не принадлежат ни к оной группе:"
   ]
  },
  {
   "cell_type": "code",
   "execution_count": 31,
   "id": "b6f2d3b8",
   "metadata": {},
   "outputs": [
    {
     "data": {
      "text/plain": [
       "13"
      ]
     },
     "execution_count": 31,
     "metadata": {},
     "output_type": "execute_result"
    }
   ],
   "source": [
    "df.grp.isnull().sum()"
   ]
  },
  {
   "cell_type": "code",
   "execution_count": 40,
   "id": "fea19774",
   "metadata": {},
   "outputs": [
    {
     "data": {
      "text/plain": [
       "student_id       0\n",
       "rev           7949\n",
       "grp             13\n",
       "dtype: int64"
      ]
     },
     "execution_count": 40,
     "metadata": {},
     "output_type": "execute_result"
    }
   ],
   "source": [
    "df.isna().sum()"
   ]
  },
  {
   "cell_type": "code",
   "execution_count": 87,
   "id": "2ad7530e",
   "metadata": {},
   "outputs": [],
   "source": [
    "# Уберу этих посетителей из датасета:\n",
    "\n",
    "df = df.dropna(subset='grp')\n",
    "\n",
    "df = df.fillna(0)"
   ]
  },
  {
   "cell_type": "markdown",
   "id": "bc572eec",
   "metadata": {},
   "source": [
    "####  Проверю насколько равномерно распределены данные межу группами - для этого сравню конверсии:"
   ]
  },
  {
   "cell_type": "code",
   "execution_count": 137,
   "id": "0a800341",
   "metadata": {},
   "outputs": [
    {
     "data": {
      "text/html": [
       "<div>\n",
       "<style scoped>\n",
       "    .dataframe tbody tr th:only-of-type {\n",
       "        vertical-align: middle;\n",
       "    }\n",
       "\n",
       "    .dataframe tbody tr th {\n",
       "        vertical-align: top;\n",
       "    }\n",
       "\n",
       "    .dataframe thead th {\n",
       "        text-align: right;\n",
       "    }\n",
       "</style>\n",
       "<table border=\"1\" class=\"dataframe\">\n",
       "  <thead>\n",
       "    <tr style=\"text-align: right;\">\n",
       "      <th></th>\n",
       "      <th>grp</th>\n",
       "      <th>num_users</th>\n",
       "      <th>num_clients</th>\n",
       "      <th>cr</th>\n",
       "    </tr>\n",
       "  </thead>\n",
       "  <tbody>\n",
       "    <tr>\n",
       "      <th>0</th>\n",
       "      <td>A</td>\n",
       "      <td>1535</td>\n",
       "      <td>78</td>\n",
       "      <td>5.081433</td>\n",
       "    </tr>\n",
       "    <tr>\n",
       "      <th>1</th>\n",
       "      <td>B</td>\n",
       "      <td>6793</td>\n",
       "      <td>313</td>\n",
       "      <td>4.607684</td>\n",
       "    </tr>\n",
       "  </tbody>\n",
       "</table>\n",
       "</div>"
      ],
      "text/plain": [
       "  grp  num_users  num_clients        cr\n",
       "0   A       1535           78  5.081433\n",
       "1   B       6793          313  4.607684"
      ]
     },
     "execution_count": 137,
     "metadata": {},
     "output_type": "execute_result"
    }
   ],
   "source": [
    "users = df.groupby('grp', as_index=False) \\\n",
    "          .agg({'rev': 'count'}) \\\n",
    "          .rename(columns={'rev': 'num_users'})\n",
    "\n",
    "users['num_clients'] = df.query('rev > 0') \\\n",
    "                         .groupby('grp', as_index=False) \\\n",
    "                         .agg({'rev': 'count'}) \\\n",
    "                         .rev\n",
    "\n",
    "users['cr']= users.num_clients / users.num_users * 100\n",
    "\n",
    "users"
   ]
  },
  {
   "cell_type": "markdown",
   "id": "3eed3e45",
   "metadata": {},
   "source": [
    "#### Исходя из конверсий в группах А и Б делаю вывод о том что данные распределены достаточно равномерно."
   ]
  },
  {
   "cell_type": "markdown",
   "id": "6125cca9",
   "metadata": {},
   "source": [
    "#### В качестве метрик выберу:\n",
    "\n",
    "Средний чек платящих пользователей;\n",
    "\n",
    "конверсию из активных пользователей в клиентов:\n",
    "\n",
    "CR = количество клиентов / количеству активных пользователей"
   ]
  },
  {
   "cell_type": "markdown",
   "id": "ecc79779",
   "metadata": {},
   "source": [
    "#### Выделю тестовую иконтрольную группы:"
   ]
  },
  {
   "cell_type": "code",
   "execution_count": 91,
   "id": "505081cc",
   "metadata": {},
   "outputs": [],
   "source": [
    "control = df.query('grp == \"A\"')\n",
    "\n",
    "test = df.query('grp == \"B\"')"
   ]
  },
  {
   "cell_type": "markdown",
   "id": "1c2e320d",
   "metadata": {},
   "source": []
  },
  {
   "cell_type": "code",
   "execution_count": null,
   "id": "b0c38ad5",
   "metadata": {},
   "outputs": [],
   "source": []
  },
  {
   "cell_type": "code",
   "execution_count": null,
   "id": "4ad41fcd",
   "metadata": {},
   "outputs": [],
   "source": []
  },
  {
   "cell_type": "code",
   "execution_count": null,
   "id": "1ce0d379",
   "metadata": {},
   "outputs": [],
   "source": []
  },
  {
   "cell_type": "code",
   "execution_count": null,
   "id": "37286237",
   "metadata": {},
   "outputs": [],
   "source": []
  },
  {
   "cell_type": "code",
   "execution_count": null,
   "id": "2970ac97",
   "metadata": {},
   "outputs": [],
   "source": []
  }
 ],
 "metadata": {
  "kernelspec": {
   "display_name": "Python 3 (ipykernel)",
   "language": "python",
   "name": "python3"
  },
  "language_info": {
   "codemirror_mode": {
    "name": "ipython",
    "version": 3
   },
   "file_extension": ".py",
   "mimetype": "text/x-python",
   "name": "python",
   "nbconvert_exporter": "python",
   "pygments_lexer": "ipython3",
   "version": "3.10.2"
  }
 },
 "nbformat": 4,
 "nbformat_minor": 5
}
