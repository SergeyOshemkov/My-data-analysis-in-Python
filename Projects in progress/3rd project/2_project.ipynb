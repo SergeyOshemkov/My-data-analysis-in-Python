{
 "cells": [
  {
   "cell_type": "markdown",
   "id": "b0eff7db",
   "metadata": {},
   "source": [
    "#### Задача:\n",
    "\n",
    "При тестировании гипотезы целевой группе предложена новая механика оплаты услуг на сайте, у контрольной группы остается базовая механика. Проанализировать результаты АБ-теста и сделать вывод о том, стоит ли запускать новую механику оплаты на всех пользователей.\n",
    "\n",
    "Данные:\n",
    "\n",
    "groups - информация о принадлежности пользователя к контрольной группе или тестовой группе (А- контроль Б - тест);\n",
    "add - файл.который присладаи по прошествии 2 дней после передачи данных;\n",
    "active - данные пользователей, которые зашли на платформу в период проведения эксперимента;\n",
    "checks - информация о платежах пользователей."
   ]
  },
  {
   "cell_type": "markdown",
   "id": "1a26481a",
   "metadata": {},
   "source": [
    "#### Алгоритм решения:\n",
    "\n",
    "Импортирую библиотеки.\n",
    "Загружаю датасеты.\n",
    "Смотрю структуру, типы данных, проверяю на наличие дубликатов и пропущенных значений.\n",
    "Формирую рабочий датафрейм из загруженных датасетов.\n",
    "Провожу разделение датасета на тестовую и контрольную группы.\n",
    "Выделяю основные метрики для анализа для принятия решения об эффективности изменений по результатам АБ-теста.\n",
    "Проверяю насколько изменились основные параметры в тестовой группе относительно контрольной группы.\n",
    "Строю боксплоты для того чтобы оценить выбросы.\n",
    "Оцениваю наличие и величину выбросов и принимаю решение что с ними делать.\n",
    "Проверяю тестовую и контрольную выборки на нормальность.\n",
    "Проверяю равномерность распределения данных в контрольной и тестовой группах.\n",
    "Выбираю методы проверки статистической значимости различий выбранных метрик в тестовой и контрольной группах.\n",
    "Осуществляю проверку на статистическую значимость. В зависимости от наличия выбросов с ними и без.\n",
    "Делаю финальные выводы."
   ]
  },
  {
   "cell_type": "markdown",
   "id": "5b1c125d",
   "metadata": {},
   "source": [
    "#### Импортирую библиотеки:"
   ]
  },
  {
   "cell_type": "code",
   "execution_count": 76,
   "id": "c30cfa1f",
   "metadata": {},
   "outputs": [],
   "source": [
    "import pandas as pd\n",
    "import numpy as np\n",
    "import seaborn as sns\n",
    "import datetime\n",
    "import scipy.stats\n",
    "import matplotlib.pyplot as plt\n",
    "%matplotlib inline\n",
    "\n",
    "from tqdm.auto import tqdm\n",
    "from scipy.stats import norm, mannwhitneyu, ttest_ind, chi2_contingency, chi2, levene, shapiro"
   ]
  },
  {
   "cell_type": "markdown",
   "id": "c025ce1a",
   "metadata": {},
   "source": [
    "#### Загружаю информацию:"
   ]
  },
  {
   "cell_type": "code",
   "execution_count": 46,
   "id": "edc4d882",
   "metadata": {},
   "outputs": [],
   "source": [
    "students = pd.read_csv('./datasets/2/active.csv', sep=';')\n",
    "\n",
    "groups = pd.read_csv('./datasets/2/groups.csv', sep=';')\n",
    "\n",
    "add = pd.read_csv('./datasets/2/add.csv',sep=',')\n",
    "\n",
    "checks = pd.read_csv('./datasets/2/checks.csv', sep=';')"
   ]
  },
  {
   "cell_type": "markdown",
   "id": "fe5c94c0",
   "metadata": {},
   "source": [
    "#### Смотрю на основные параметры датасетов:"
   ]
  },
  {
   "cell_type": "code",
   "execution_count": 72,
   "id": "3d9919df",
   "metadata": {},
   "outputs": [],
   "source": [
    "def dup_na(df):\n",
    "    \n",
    "    return print(f'В этом датасете {df.isna().sum()} пропущенных значений и {df.duplicated().sum()} дубликатов. Его размер {df.shape}.')"
   ]
  },
  {
   "cell_type": "code",
   "execution_count": 71,
   "id": "7524a1ab",
   "metadata": {},
   "outputs": [
    {
     "name": "stdout",
     "output_type": "stream",
     "text": [
      "В этом датасете 0 пропущенных значений и 0 дубликатов. Его размер (8341, 1).\n"
     ]
    }
   ],
   "source": [
    "dup_na(students)"
   ]
  },
  {
   "cell_type": "code",
   "execution_count": 73,
   "id": "1192dd3f",
   "metadata": {},
   "outputs": [
    {
     "name": "stdout",
     "output_type": "stream",
     "text": [
      "В этом датасете id     0\n",
      "grp    0\n",
      "dtype: int64 пропущенных значений и 0 дубликатов. Его размер (74484, 2).\n"
     ]
    }
   ],
   "source": [
    "dup_na(groups)"
   ]
  },
  {
   "cell_type": "code",
   "execution_count": 74,
   "id": "f101c8fa",
   "metadata": {},
   "outputs": [
    {
     "name": "stdout",
     "output_type": "stream",
     "text": [
      "В этом датасете id     0\n",
      "grp    0\n",
      "dtype: int64 пропущенных значений и 0 дубликатов. Его размер (92, 2).\n"
     ]
    }
   ],
   "source": [
    "dup_na(add)"
   ]
  },
  {
   "cell_type": "code",
   "execution_count": 75,
   "id": "296e8fe9",
   "metadata": {},
   "outputs": [
    {
     "name": "stdout",
     "output_type": "stream",
     "text": [
      "В этом датасете student_id    0\n",
      "rev           0\n",
      "dtype: int64 пропущенных значений и 0 дубликатов. Его размер (541, 2).\n"
     ]
    }
   ],
   "source": [
    "dup_na(checks)"
   ]
  },
  {
   "cell_type": "markdown",
   "id": "aad5c802",
   "metadata": {},
   "source": [
    "#### Посмотрю на вид датасетов:"
   ]
  },
  {
   "cell_type": "code",
   "execution_count": 6,
   "id": "2a00d4f5",
   "metadata": {},
   "outputs": [
    {
     "data": {
      "text/html": [
       "<div>\n",
       "<style scoped>\n",
       "    .dataframe tbody tr th:only-of-type {\n",
       "        vertical-align: middle;\n",
       "    }\n",
       "\n",
       "    .dataframe tbody tr th {\n",
       "        vertical-align: top;\n",
       "    }\n",
       "\n",
       "    .dataframe thead th {\n",
       "        text-align: right;\n",
       "    }\n",
       "</style>\n",
       "<table border=\"1\" class=\"dataframe\">\n",
       "  <thead>\n",
       "    <tr style=\"text-align: right;\">\n",
       "      <th></th>\n",
       "      <th>student_id</th>\n",
       "    </tr>\n",
       "  </thead>\n",
       "  <tbody>\n",
       "    <tr>\n",
       "      <th>0</th>\n",
       "      <td>581585</td>\n",
       "    </tr>\n",
       "    <tr>\n",
       "      <th>1</th>\n",
       "      <td>5723133</td>\n",
       "    </tr>\n",
       "  </tbody>\n",
       "</table>\n",
       "</div>"
      ],
      "text/plain": [
       "   student_id\n",
       "0      581585\n",
       "1     5723133"
      ]
     },
     "execution_count": 6,
     "metadata": {},
     "output_type": "execute_result"
    }
   ],
   "source": [
    "students.head(2)"
   ]
  },
  {
   "cell_type": "code",
   "execution_count": 7,
   "id": "5ebca6d1",
   "metadata": {},
   "outputs": [
    {
     "data": {
      "text/html": [
       "<div>\n",
       "<style scoped>\n",
       "    .dataframe tbody tr th:only-of-type {\n",
       "        vertical-align: middle;\n",
       "    }\n",
       "\n",
       "    .dataframe tbody tr th {\n",
       "        vertical-align: top;\n",
       "    }\n",
       "\n",
       "    .dataframe thead th {\n",
       "        text-align: right;\n",
       "    }\n",
       "</style>\n",
       "<table border=\"1\" class=\"dataframe\">\n",
       "  <thead>\n",
       "    <tr style=\"text-align: right;\">\n",
       "      <th></th>\n",
       "      <th>id</th>\n",
       "      <th>grp</th>\n",
       "    </tr>\n",
       "  </thead>\n",
       "  <tbody>\n",
       "    <tr>\n",
       "      <th>0</th>\n",
       "      <td>1489</td>\n",
       "      <td>B</td>\n",
       "    </tr>\n",
       "    <tr>\n",
       "      <th>1</th>\n",
       "      <td>1627</td>\n",
       "      <td>A</td>\n",
       "    </tr>\n",
       "  </tbody>\n",
       "</table>\n",
       "</div>"
      ],
      "text/plain": [
       "     id grp\n",
       "0  1489   B\n",
       "1  1627   A"
      ]
     },
     "execution_count": 7,
     "metadata": {},
     "output_type": "execute_result"
    }
   ],
   "source": [
    "groups.head(2)"
   ]
  },
  {
   "cell_type": "code",
   "execution_count": 11,
   "id": "23a29782",
   "metadata": {},
   "outputs": [
    {
     "data": {
      "text/html": [
       "<div>\n",
       "<style scoped>\n",
       "    .dataframe tbody tr th:only-of-type {\n",
       "        vertical-align: middle;\n",
       "    }\n",
       "\n",
       "    .dataframe tbody tr th {\n",
       "        vertical-align: top;\n",
       "    }\n",
       "\n",
       "    .dataframe thead th {\n",
       "        text-align: right;\n",
       "    }\n",
       "</style>\n",
       "<table border=\"1\" class=\"dataframe\">\n",
       "  <thead>\n",
       "    <tr style=\"text-align: right;\">\n",
       "      <th></th>\n",
       "      <th>id</th>\n",
       "      <th>grp</th>\n",
       "    </tr>\n",
       "  </thead>\n",
       "  <tbody>\n",
       "    <tr>\n",
       "      <th>0</th>\n",
       "      <td>5694584</td>\n",
       "      <td>B</td>\n",
       "    </tr>\n",
       "    <tr>\n",
       "      <th>1</th>\n",
       "      <td>5694830</td>\n",
       "      <td>B</td>\n",
       "    </tr>\n",
       "  </tbody>\n",
       "</table>\n",
       "</div>"
      ],
      "text/plain": [
       "        id grp\n",
       "0  5694584   B\n",
       "1  5694830   B"
      ]
     },
     "execution_count": 11,
     "metadata": {},
     "output_type": "execute_result"
    }
   ],
   "source": [
    "add.head(2)"
   ]
  },
  {
   "cell_type": "code",
   "execution_count": 12,
   "id": "3d13f642",
   "metadata": {},
   "outputs": [
    {
     "data": {
      "text/html": [
       "<div>\n",
       "<style scoped>\n",
       "    .dataframe tbody tr th:only-of-type {\n",
       "        vertical-align: middle;\n",
       "    }\n",
       "\n",
       "    .dataframe tbody tr th {\n",
       "        vertical-align: top;\n",
       "    }\n",
       "\n",
       "    .dataframe thead th {\n",
       "        text-align: right;\n",
       "    }\n",
       "</style>\n",
       "<table border=\"1\" class=\"dataframe\">\n",
       "  <thead>\n",
       "    <tr style=\"text-align: right;\">\n",
       "      <th></th>\n",
       "      <th>student_id</th>\n",
       "      <th>rev</th>\n",
       "    </tr>\n",
       "  </thead>\n",
       "  <tbody>\n",
       "    <tr>\n",
       "      <th>0</th>\n",
       "      <td>1627</td>\n",
       "      <td>990.0</td>\n",
       "    </tr>\n",
       "    <tr>\n",
       "      <th>1</th>\n",
       "      <td>3185</td>\n",
       "      <td>690.0</td>\n",
       "    </tr>\n",
       "  </tbody>\n",
       "</table>\n",
       "</div>"
      ],
      "text/plain": [
       "   student_id    rev\n",
       "0        1627  990.0\n",
       "1        3185  690.0"
      ]
     },
     "execution_count": 12,
     "metadata": {},
     "output_type": "execute_result"
    }
   ],
   "source": [
    "checks.head(2)"
   ]
  },
  {
   "cell_type": "markdown",
   "id": "46121b80",
   "metadata": {},
   "source": [
    "#### Формирую общий датафрейм:"
   ]
  },
  {
   "cell_type": "code",
   "execution_count": 82,
   "id": "8fc0e31e",
   "metadata": {},
   "outputs": [
    {
     "data": {
      "text/html": [
       "<div>\n",
       "<style scoped>\n",
       "    .dataframe tbody tr th:only-of-type {\n",
       "        vertical-align: middle;\n",
       "    }\n",
       "\n",
       "    .dataframe tbody tr th {\n",
       "        vertical-align: top;\n",
       "    }\n",
       "\n",
       "    .dataframe thead th {\n",
       "        text-align: right;\n",
       "    }\n",
       "</style>\n",
       "<table border=\"1\" class=\"dataframe\">\n",
       "  <thead>\n",
       "    <tr style=\"text-align: right;\">\n",
       "      <th></th>\n",
       "      <th>student_id</th>\n",
       "      <th>rev</th>\n",
       "      <th>grp</th>\n",
       "    </tr>\n",
       "  </thead>\n",
       "  <tbody>\n",
       "    <tr>\n",
       "      <th>0</th>\n",
       "      <td>581585</td>\n",
       "      <td>NaN</td>\n",
       "      <td>A</td>\n",
       "    </tr>\n",
       "    <tr>\n",
       "      <th>1</th>\n",
       "      <td>5723133</td>\n",
       "      <td>NaN</td>\n",
       "      <td>NaN</td>\n",
       "    </tr>\n",
       "    <tr>\n",
       "      <th>2</th>\n",
       "      <td>3276743</td>\n",
       "      <td>NaN</td>\n",
       "      <td>B</td>\n",
       "    </tr>\n",
       "    <tr>\n",
       "      <th>3</th>\n",
       "      <td>4238589</td>\n",
       "      <td>NaN</td>\n",
       "      <td>A</td>\n",
       "    </tr>\n",
       "    <tr>\n",
       "      <th>4</th>\n",
       "      <td>4475369</td>\n",
       "      <td>NaN</td>\n",
       "      <td>B</td>\n",
       "    </tr>\n",
       "  </tbody>\n",
       "</table>\n",
       "</div>"
      ],
      "text/plain": [
       "   student_id  rev  grp\n",
       "0      581585  NaN    A\n",
       "1     5723133  NaN  NaN\n",
       "2     3276743  NaN    B\n",
       "3     4238589  NaN    A\n",
       "4     4475369  NaN    B"
      ]
     },
     "execution_count": 82,
     "metadata": {},
     "output_type": "execute_result"
    }
   ],
   "source": [
    "df = students.merge(checks, how='left', on='student_id')\n",
    "\n",
    "groups = groups.rename(columns={'id': 'student_id'})\n",
    "\n",
    "df = df.merge(groups, how='left', on='student_id')\n",
    "\n",
    "df.head()"
   ]
  },
  {
   "cell_type": "markdown",
   "id": "bc4fa93c",
   "metadata": {},
   "source": [
    "#### Интересно, сколько посетителей сайта не принадлежат ни к оной группе (которые не попали в эксперимент):"
   ]
  },
  {
   "cell_type": "code",
   "execution_count": 31,
   "id": "595de400",
   "metadata": {},
   "outputs": [
    {
     "data": {
      "text/plain": [
       "13"
      ]
     },
     "execution_count": 31,
     "metadata": {},
     "output_type": "execute_result"
    }
   ],
   "source": [
    "df.grp.isnull().sum()"
   ]
  },
  {
   "cell_type": "code",
   "execution_count": 40,
   "id": "733484eb",
   "metadata": {},
   "outputs": [
    {
     "data": {
      "text/plain": [
       "student_id       0\n",
       "rev           7949\n",
       "grp             13\n",
       "dtype: int64"
      ]
     },
     "execution_count": 40,
     "metadata": {},
     "output_type": "execute_result"
    }
   ],
   "source": [
    "df.isna().sum()"
   ]
  },
  {
   "cell_type": "code",
   "execution_count": 175,
   "id": "726d72f1",
   "metadata": {},
   "outputs": [],
   "source": [
    "# Уберу этих посетителей из датасета:\n",
    "\n",
    "df = df.dropna(subset='grp')\n",
    "\n",
    "df = df.fillna(0)"
   ]
  },
  {
   "cell_type": "code",
   "execution_count": 195,
   "id": "0dbb089f",
   "metadata": {},
   "outputs": [
    {
     "data": {
      "text/plain": [
       "0    1535\n",
       "1    6793\n",
       "Name: rev, dtype: int64"
      ]
     },
     "execution_count": 195,
     "metadata": {},
     "output_type": "execute_result"
    }
   ],
   "source": [
    "df.groupby('grp', as_index=False) \\\n",
    "                              .agg({'rev': 'count'}) \\\n",
    "                              .rev\n"
   ]
  },
  {
   "cell_type": "code",
   "execution_count": 194,
   "id": "de362bef",
   "metadata": {},
   "outputs": [
    {
     "data": {
      "text/html": [
       "<div>\n",
       "<style scoped>\n",
       "    .dataframe tbody tr th:only-of-type {\n",
       "        vertical-align: middle;\n",
       "    }\n",
       "\n",
       "    .dataframe tbody tr th {\n",
       "        vertical-align: top;\n",
       "    }\n",
       "\n",
       "    .dataframe thead th {\n",
       "        text-align: right;\n",
       "    }\n",
       "</style>\n",
       "<table border=\"1\" class=\"dataframe\">\n",
       "  <thead>\n",
       "    <tr style=\"text-align: right;\">\n",
       "      <th></th>\n",
       "      <th>total_users</th>\n",
       "      <th>num_active_users</th>\n",
       "      <th>num_clients</th>\n",
       "      <th>total_revenue</th>\n",
       "      <th>cr_active_to_clients</th>\n",
       "    </tr>\n",
       "    <tr>\n",
       "      <th>grp</th>\n",
       "      <th></th>\n",
       "      <th></th>\n",
       "      <th></th>\n",
       "      <th></th>\n",
       "      <th></th>\n",
       "    </tr>\n",
       "  </thead>\n",
       "  <tbody>\n",
       "    <tr>\n",
       "      <th>A</th>\n",
       "      <td>14671</td>\n",
       "      <td>NaN</td>\n",
       "      <td>NaN</td>\n",
       "      <td>NaN</td>\n",
       "      <td>NaN</td>\n",
       "    </tr>\n",
       "    <tr>\n",
       "      <th>B</th>\n",
       "      <td>59813</td>\n",
       "      <td>NaN</td>\n",
       "      <td>NaN</td>\n",
       "      <td>NaN</td>\n",
       "      <td>NaN</td>\n",
       "    </tr>\n",
       "  </tbody>\n",
       "</table>\n",
       "</div>"
      ],
      "text/plain": [
       "     total_users  num_active_users  num_clients  total_revenue  \\\n",
       "grp                                                              \n",
       "A          14671               NaN          NaN            NaN   \n",
       "B          59813               NaN          NaN            NaN   \n",
       "\n",
       "     cr_active_to_clients  \n",
       "grp                        \n",
       "A                     NaN  \n",
       "B                     NaN  "
      ]
     },
     "execution_count": 194,
     "metadata": {},
     "output_type": "execute_result"
    }
   ],
   "source": [
    "users['num_active_users'] = df.groupby('grp', as_index=False) \\\n",
    "                              .agg({'rev': 'count'}) \\\n",
    "                              .rev\n",
    "\n",
    "users"
   ]
  },
  {
   "cell_type": "markdown",
   "id": "d0df67c4",
   "metadata": {},
   "source": [
    "####  Проверю насколько равномерно распределены данные между группами - для этого сравню конверсии:"
   ]
  },
  {
   "cell_type": "code",
   "execution_count": 214,
   "id": "09ba7731",
   "metadata": {},
   "outputs": [
    {
     "data": {
      "text/html": [
       "<div>\n",
       "<style scoped>\n",
       "    .dataframe tbody tr th:only-of-type {\n",
       "        vertical-align: middle;\n",
       "    }\n",
       "\n",
       "    .dataframe tbody tr th {\n",
       "        vertical-align: top;\n",
       "    }\n",
       "\n",
       "    .dataframe thead th {\n",
       "        text-align: right;\n",
       "    }\n",
       "</style>\n",
       "<table border=\"1\" class=\"dataframe\">\n",
       "  <thead>\n",
       "    <tr style=\"text-align: right;\">\n",
       "      <th></th>\n",
       "      <th>grp</th>\n",
       "      <th>num_users</th>\n",
       "      <th>num_active_users</th>\n",
       "      <th>num_clients</th>\n",
       "      <th>cr_users_to_active</th>\n",
       "      <th>cr_active_to_clients</th>\n",
       "      <th>total_revenue</th>\n",
       "      <th>arpu</th>\n",
       "      <th>arppu</th>\n",
       "      <th>aov</th>\n",
       "    </tr>\n",
       "  </thead>\n",
       "  <tbody>\n",
       "    <tr>\n",
       "      <th>0</th>\n",
       "      <td>A</td>\n",
       "      <td>14671</td>\n",
       "      <td>1535</td>\n",
       "      <td>78</td>\n",
       "      <td>10.46</td>\n",
       "      <td>5.08</td>\n",
       "      <td>72820.0</td>\n",
       "      <td>4.96</td>\n",
       "      <td>933.59</td>\n",
       "      <td>47.44</td>\n",
       "    </tr>\n",
       "    <tr>\n",
       "      <th>1</th>\n",
       "      <td>B</td>\n",
       "      <td>59813</td>\n",
       "      <td>6793</td>\n",
       "      <td>313</td>\n",
       "      <td>11.36</td>\n",
       "      <td>4.61</td>\n",
       "      <td>393074.0</td>\n",
       "      <td>6.57</td>\n",
       "      <td>1255.83</td>\n",
       "      <td>57.86</td>\n",
       "    </tr>\n",
       "  </tbody>\n",
       "</table>\n",
       "</div>"
      ],
      "text/plain": [
       "  grp  num_users  num_active_users  num_clients  cr_users_to_active  \\\n",
       "0   A      14671              1535           78               10.46   \n",
       "1   B      59813              6793          313               11.36   \n",
       "\n",
       "   cr_active_to_clients  total_revenue  arpu    arppu    aov  \n",
       "0                  5.08        72820.0  4.96   933.59  47.44  \n",
       "1                  4.61       393074.0  6.57  1255.83  57.86  "
      ]
     },
     "execution_count": 214,
     "metadata": {},
     "output_type": "execute_result"
    }
   ],
   "source": [
    "# Считаю общее количество пользователей:\n",
    "\n",
    "users = groups.groupby('grp', as_index=False) \\\n",
    "              .count() \\\n",
    "              .rename(columns={'student_id': 'num_users'})\n",
    "\n",
    "\n",
    "# Считаю число активных пользователей:\n",
    "\n",
    "users['num_active_users'] = df.groupby('grp', as_index=False) \\\n",
    "                              .agg({'rev': 'count'}) \\\n",
    "                              .rev\n",
    "\n",
    "# Cчитаю количество клиентов:\n",
    "\n",
    "users['num_clients'] = df.query('rev > 0') \\\n",
    "                         .groupby('grp', as_index=False) \\\n",
    "                         .agg({'rev': 'count'}) \\\n",
    "                         .rev\n",
    "\n",
    "# Считаю конверсию из пользователей в активных пльзователй:\n",
    "\n",
    "users['cr_users_to_active'] = users.num_active_users \\\n",
    "                                   .div(users.num_users) \\\n",
    "                                   .mul(100) \\\n",
    "                                   .round(2)\n",
    "\n",
    "# Считаюонверсию из активных пользователей в клиентов:\n",
    "\n",
    "users['cr_active_to_clients'] = users.num_clients \\\n",
    "                                     .div(users.num_active_users) \\\n",
    "                                     .mul(100) \\\n",
    "                                     .round(2)\n",
    "\n",
    "# Считаю общий доход:\n",
    "\n",
    "users['total_revenue'] = df.groupby('grp', as_index=False) \\\n",
    "                           .agg({'rev': 'sum'}) \\\n",
    "                           .rev \\\n",
    "                           .round()\n",
    "\n",
    "\n",
    "users['arpu'] = users.total_revenue \\\n",
    "                      .div(users.num_users) \\\n",
    "                      .round(2)\n",
    "\n",
    "users['arppu'] = users.total_revenue \\\n",
    "                      .div(users.num_clients) \\\n",
    "                      .round(2)\n",
    "\n",
    "# Считаю средний чек в группах:\n",
    "\n",
    "users['aov'] = df.groupby('grp', as_index=False) \\\n",
    "                 .rev \\\n",
    "                 .mean() \\\n",
    "                 .rev \\\n",
    "                 .round(2)\n",
    "\n",
    "users"
   ]
  },
  {
   "cell_type": "code",
   "execution_count": 227,
   "id": "f6ae63fa",
   "metadata": {},
   "outputs": [
    {
     "name": "stdout",
     "output_type": "stream",
     "text": [
      "Из вычислений видно, что в результате эксперимента конверсия из активных пользователей в покупателей в тестовой       группе изменилась на -0.47 по сравнению       с контрольной группой.\n"
     ]
    }
   ],
   "source": [
    "print(f'Из вычислений видно, что в результате эксперимента конверсия из активных пользователей в покупателей в тестовой \\\n",
    "      группе изменилась на {round(users.loc[1].cr_active_to_clients - users.loc[0].cr_active_to_clients, 2)} по сравнению \\\n",
    "      с контрольной группой.')"
   ]
  },
  {
   "cell_type": "markdown",
   "id": "bab8e1b8",
   "metadata": {},
   "source": [
    "#### Исходя из конверсий в группах А и Б делаю вывод о том что данные распределены достаточно равномерно."
   ]
  },
  {
   "cell_type": "markdown",
   "id": "077c2415",
   "metadata": {},
   "source": [
    "#### В качестве метрик выберу:\n",
    "\n",
    "Средний чек платящих пользователей;\n",
    "\n",
    "конверсию из активных пользователей в клиентов:\n",
    "\n",
    "CR = количество клиентов / количеству активных пользователей"
   ]
  },
  {
   "cell_type": "markdown",
   "id": "04fb315c",
   "metadata": {},
   "source": [
    "#### Воспользуюсь z-score для проверки насколько значимо изменилась конверсия из активных посетителей в покупателей.\n",
    "Формирую Н0: значимого изменения конверсии в результате изменения экрана оплат не произошло. Установлю уровень значимости в 0.05 ."
   ]
  },
  {
   "cell_type": "code",
   "execution_count": 230,
   "id": "de9ce258",
   "metadata": {},
   "outputs": [],
   "source": []
  },
  {
   "cell_type": "code",
   "execution_count": null,
   "id": "b9e6aa34",
   "metadata": {},
   "outputs": [],
   "source": []
  },
  {
   "cell_type": "code",
   "execution_count": null,
   "id": "18a5c35f",
   "metadata": {},
   "outputs": [],
   "source": []
  },
  {
   "cell_type": "code",
   "execution_count": null,
   "id": "92b0d171",
   "metadata": {},
   "outputs": [],
   "source": []
  },
  {
   "cell_type": "markdown",
   "id": "ac3b4b5c",
   "metadata": {},
   "source": [
    "#### Выделю тестовую иконтрольную группы:"
   ]
  },
  {
   "cell_type": "code",
   "execution_count": 140,
   "id": "11b24be8",
   "metadata": {},
   "outputs": [],
   "source": [
    "control = df.query('grp == \"A\"')\n",
    "\n",
    "test = df.query('grp == \"B\"')"
   ]
  },
  {
   "cell_type": "code",
   "execution_count": null,
   "id": "04c3465a",
   "metadata": {},
   "outputs": [],
   "source": []
  },
  {
   "cell_type": "code",
   "execution_count": null,
   "id": "a7778377",
   "metadata": {},
   "outputs": [],
   "source": []
  },
  {
   "cell_type": "code",
   "execution_count": null,
   "id": "74f6e185",
   "metadata": {},
   "outputs": [],
   "source": []
  }
 ],
 "metadata": {
  "kernelspec": {
   "display_name": "Python 3 (ipykernel)",
   "language": "python",
   "name": "python3"
  },
  "language_info": {
   "codemirror_mode": {
    "name": "ipython",
    "version": 3
   },
   "file_extension": ".py",
   "mimetype": "text/x-python",
   "name": "python",
   "nbconvert_exporter": "python",
   "pygments_lexer": "ipython3",
   "version": "3.10.2"
  }
 },
 "nbformat": 4,
 "nbformat_minor": 5
}
