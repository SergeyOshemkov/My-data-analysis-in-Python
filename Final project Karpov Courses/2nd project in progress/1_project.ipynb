{
 "cells": [
  {
   "cell_type": "markdown",
   "metadata": {},
   "source": [
    "#### Постановка задачи.\n",
    "\n",
    "Представьте, что вы работаете в компании, которая разрабатывает мобильные игры. К вам пришел менеджер с рядом задач по \n",
    "исследованию нескольких аспектов мобильного приложения:\n",
    "\n",
    "В первую очередь, его интересует показатель retention. Напишите функцию для его подсчета.\n",
    "\n",
    "Помимо этого, в компании провели A/B тестирование наборов акционных предложений. На основе имеющихся данных определите, \n",
    "какой набор можно считать лучшим и на основе каких метрик стоит принять правильное решение.\n",
    "Предложите метрики для оценки результатов последнего прошедшего тематического события в игре."
   ]
  },
  {
   "cell_type": "markdown",
   "metadata": {},
   "source": [
    "#### Задача 1:\n",
    "    \n",
    "Retention – один из самых важных показателей в компании. Ваша задача – написать функцию, которая будет считать retention \n",
    "игроков (по дням от даты регистрации игрока). Данные и имеют следующую структуру:\n",
    "\n",
    "reg_data.csv – данные о времени регистрации\n",
    "auth_data.csv - данные о времени захода пользователей в игру"
   ]
  },
  {
   "cell_type": "markdown",
   "metadata": {},
   "source": [
    "#### Алгоритм решения задачи:\n",
    "\n",
    "1. Прочитать данные.\n",
    "2. Проверить в них наличие дубликатов и пропущенных значений.\n",
    "3. Написать функцию подсчета retention.\n",
    "4. Протестировать работу функции.\n",
    "5. Визуализировать retention в Jupyter.\n",
    "6. Визуалиировать retention в Tableau."
   ]
  },
  {
   "cell_type": "markdown",
   "metadata": {},
   "source": [
    "#### Импортирую необходимые модули:"
   ]
  },
  {
   "cell_type": "code",
   "execution_count": 4,
   "metadata": {},
   "outputs": [],
   "source": [
    "import pandas as pd\n",
    "import numpy as np\n",
    "import seaborn as sns\n",
    "import matplotlib.pyplot as plt\n",
    "from datetime import date, timedelta\n",
    "import datetime as dt\n",
    "import warnings\n",
    "\n",
    "\n",
    "import time\n",
    "\n",
    "from calculate_retention import CalculateRetention"
   ]
  },
  {
   "cell_type": "code",
   "execution_count": null,
   "metadata": {},
   "outputs": [],
   "source": []
  },
  {
   "cell_type": "code",
   "execution_count": null,
   "metadata": {},
   "outputs": [],
   "source": [
    "Имеются результаты A/B теста, в котором двум группам пользователей предлагались различные наборы акционных предложений. \n",
    "Известно, что ARPU в тестовой группе выше на 5%, чем в контрольной. При этом в контрольной группе 1928 игроков из 202103 \n",
    "оказались платящими, а в тестовой – 1805 из 202667.\n",
    "\n",
    "Какой набор предложений можно считать лучшим? Какие метрики стоит проанализировать для принятия правильного решения и как?\n",
    "\n",
    "Формат данных:\n",
    "\n",
    "user_id  revenue   testgroup\n",
    "1           0          b\n",
    "2           0          a\n",
    "3           0          a\n",
    "4           0          b\n",
    "5           0          b"
   ]
  },
  {
   "cell_type": "markdown",
   "metadata": {},
   "source": [
    "#### Загружаю данные:\n",
    "\n",
    "regs - данные о регистрации пользователей\n",
    "\n",
    "auth - данные о входе в Приложение."
   ]
  },
  {
   "cell_type": "code",
   "execution_count": 62,
   "metadata": {},
   "outputs": [],
   "source": [
    "regs = pd.read_csv('./datasets/KarpovCourses/final/1/reg_data.csv', sep=';')\n",
    "\n",
    "auth = pd.read_csv('./datasets/KarpovCourses/final/1/auth_data.csv', sep=';')"
   ]
  },
  {
   "cell_type": "markdown",
   "metadata": {},
   "source": [
    "#### Эта функция мне нужна чтобы сходу понимать shape датафреймов и содержат ли какие-то колонки дубликаты:"
   ]
  },
  {
   "cell_type": "code",
   "execution_count": 3,
   "metadata": {},
   "outputs": [],
   "source": [
    "def datasets_params(df1, df2):\n",
    "    \n",
    "    params = {'regs': ['shape', df1.shape, 'duplicated', df1.duplicated().sum()], \n",
    "              'auth': ['shape', df2.shape, 'duplicated', df2.duplicated().sum()],\n",
    "             }\n",
    " \n",
    "    return print(pd.DataFrame(params))"
   ]
  },
  {
   "cell_type": "markdown",
   "metadata": {},
   "source": [
    "#### Смотрю на формы датасетов и на наличие в них дубликатов:"
   ]
  },
  {
   "cell_type": "code",
   "execution_count": 4,
   "metadata": {},
   "outputs": [
    {
     "name": "stdout",
     "output_type": "stream",
     "text": [
      "           regs          auth\n",
      "0         shape         shape\n",
      "1  (1000000, 2)  (9601013, 2)\n",
      "2    duplicated    duplicated\n",
      "3             0             0\n"
     ]
    }
   ],
   "source": [
    "datasets_params(regs, auth)"
   ]
  },
  {
   "cell_type": "markdown",
   "metadata": {},
   "source": [
    "####  Проверяю на наличие пропущенных значений:"
   ]
  },
  {
   "cell_type": "code",
   "execution_count": 47,
   "metadata": {},
   "outputs": [
    {
     "data": {
      "text/plain": [
       "reg_ts    0\n",
       "uid       0\n",
       "dtype: int64"
      ]
     },
     "execution_count": 47,
     "metadata": {},
     "output_type": "execute_result"
    }
   ],
   "source": [
    "regs.isna().sum()"
   ]
  },
  {
   "cell_type": "code",
   "execution_count": 48,
   "metadata": {},
   "outputs": [
    {
     "data": {
      "text/plain": [
       "auth_ts    0\n",
       "uid        0\n",
       "dtype: int64"
      ]
     },
     "execution_count": 48,
     "metadata": {},
     "output_type": "execute_result"
    }
   ],
   "source": [
    "auth.isna().sum()"
   ]
  },
  {
   "cell_type": "code",
   "execution_count": 49,
   "metadata": {},
   "outputs": [
    {
     "data": {
      "text/html": [
       "<div>\n",
       "<style scoped>\n",
       "    .dataframe tbody tr th:only-of-type {\n",
       "        vertical-align: middle;\n",
       "    }\n",
       "\n",
       "    .dataframe tbody tr th {\n",
       "        vertical-align: top;\n",
       "    }\n",
       "\n",
       "    .dataframe thead th {\n",
       "        text-align: right;\n",
       "    }\n",
       "</style>\n",
       "<table border=\"1\" class=\"dataframe\">\n",
       "  <thead>\n",
       "    <tr style=\"text-align: right;\">\n",
       "      <th></th>\n",
       "      <th>reg_ts</th>\n",
       "      <th>uid</th>\n",
       "    </tr>\n",
       "  </thead>\n",
       "  <tbody>\n",
       "    <tr>\n",
       "      <td>0</td>\n",
       "      <td>911382223</td>\n",
       "      <td>1</td>\n",
       "    </tr>\n",
       "    <tr>\n",
       "      <td>1</td>\n",
       "      <td>932683089</td>\n",
       "      <td>2</td>\n",
       "    </tr>\n",
       "  </tbody>\n",
       "</table>\n",
       "</div>"
      ],
      "text/plain": [
       "      reg_ts  uid\n",
       "0  911382223    1\n",
       "1  932683089    2"
      ]
     },
     "execution_count": 49,
     "metadata": {},
     "output_type": "execute_result"
    }
   ],
   "source": [
    "regs.head(2)"
   ]
  },
  {
   "cell_type": "code",
   "execution_count": 33,
   "metadata": {},
   "outputs": [
    {
     "data": {
      "text/html": [
       "<div>\n",
       "<style scoped>\n",
       "    .dataframe tbody tr th:only-of-type {\n",
       "        vertical-align: middle;\n",
       "    }\n",
       "\n",
       "    .dataframe tbody tr th {\n",
       "        vertical-align: top;\n",
       "    }\n",
       "\n",
       "    .dataframe thead th {\n",
       "        text-align: right;\n",
       "    }\n",
       "</style>\n",
       "<table border=\"1\" class=\"dataframe\">\n",
       "  <thead>\n",
       "    <tr style=\"text-align: right;\">\n",
       "      <th></th>\n",
       "      <th>auth_ts</th>\n",
       "      <th>uid</th>\n",
       "    </tr>\n",
       "  </thead>\n",
       "  <tbody>\n",
       "    <tr>\n",
       "      <td>0</td>\n",
       "      <td>911382223</td>\n",
       "      <td>1</td>\n",
       "    </tr>\n",
       "    <tr>\n",
       "      <td>1</td>\n",
       "      <td>932683089</td>\n",
       "      <td>2</td>\n",
       "    </tr>\n",
       "  </tbody>\n",
       "</table>\n",
       "</div>"
      ],
      "text/plain": [
       "     auth_ts  uid\n",
       "0  911382223    1\n",
       "1  932683089    2"
      ]
     },
     "execution_count": 33,
     "metadata": {},
     "output_type": "execute_result"
    }
   ],
   "source": [
    "auth.head(2)"
   ]
  },
  {
   "cell_type": "code",
   "execution_count": 32,
   "metadata": {},
   "outputs": [
    {
     "data": {
      "text/plain": [
       "reg_ts    int64\n",
       "uid       int64\n",
       "dtype: object"
      ]
     },
     "execution_count": 32,
     "metadata": {},
     "output_type": "execute_result"
    }
   ],
   "source": [
    "regs.dtypes"
   ]
  },
  {
   "cell_type": "markdown",
   "metadata": {},
   "source": [
    "#### Трансформирую колонки из timestamp в datetime:"
   ]
  },
  {
   "cell_type": "code",
   "execution_count": 6,
   "metadata": {},
   "outputs": [],
   "source": [
    "regs.reg_ts = pd.to_datetime(regs.reg_ts, unit='s').dt.date\n",
    "\n",
    "auth.auth_ts = pd.to_datetime(auth.auth_ts, unit='s').dt.date"
   ]
  },
  {
   "cell_type": "markdown",
   "metadata": {},
   "source": [
    "####  Произвожу слияние датафреймов:"
   ]
  },
  {
   "cell_type": "code",
   "execution_count": 7,
   "metadata": {},
   "outputs": [],
   "source": [
    "def merge_to_total(df1, df2):\n",
    "    \n",
    "    return df1.merge(df2, on='uid', how='left')"
   ]
  },
  {
   "cell_type": "code",
   "execution_count": 8,
   "metadata": {},
   "outputs": [
    {
     "data": {
      "text/html": [
       "<div>\n",
       "<style scoped>\n",
       "    .dataframe tbody tr th:only-of-type {\n",
       "        vertical-align: middle;\n",
       "    }\n",
       "\n",
       "    .dataframe tbody tr th {\n",
       "        vertical-align: top;\n",
       "    }\n",
       "\n",
       "    .dataframe thead th {\n",
       "        text-align: right;\n",
       "    }\n",
       "</style>\n",
       "<table border=\"1\" class=\"dataframe\">\n",
       "  <thead>\n",
       "    <tr style=\"text-align: right;\">\n",
       "      <th></th>\n",
       "      <th>auth_ts</th>\n",
       "      <th>uid</th>\n",
       "      <th>reg_ts</th>\n",
       "    </tr>\n",
       "  </thead>\n",
       "  <tbody>\n",
       "    <tr>\n",
       "      <td>0</td>\n",
       "      <td>1998-11-18</td>\n",
       "      <td>1</td>\n",
       "      <td>1998-11-18</td>\n",
       "    </tr>\n",
       "    <tr>\n",
       "      <td>1</td>\n",
       "      <td>1999-07-22</td>\n",
       "      <td>2</td>\n",
       "      <td>1999-07-22</td>\n",
       "    </tr>\n",
       "    <tr>\n",
       "      <td>2</td>\n",
       "      <td>1999-07-25</td>\n",
       "      <td>2</td>\n",
       "      <td>1999-07-22</td>\n",
       "    </tr>\n",
       "    <tr>\n",
       "      <td>3</td>\n",
       "      <td>1999-07-31</td>\n",
       "      <td>2</td>\n",
       "      <td>1999-07-22</td>\n",
       "    </tr>\n",
       "    <tr>\n",
       "      <td>4</td>\n",
       "      <td>1999-08-05</td>\n",
       "      <td>2</td>\n",
       "      <td>1999-07-22</td>\n",
       "    </tr>\n",
       "  </tbody>\n",
       "</table>\n",
       "</div>"
      ],
      "text/plain": [
       "      auth_ts  uid      reg_ts\n",
       "0  1998-11-18    1  1998-11-18\n",
       "1  1999-07-22    2  1999-07-22\n",
       "2  1999-07-25    2  1999-07-22\n",
       "3  1999-07-31    2  1999-07-22\n",
       "4  1999-08-05    2  1999-07-22"
      ]
     },
     "execution_count": 8,
     "metadata": {},
     "output_type": "execute_result"
    }
   ],
   "source": [
    "df = merge_to_total(auth, regs)\n",
    "\n",
    "df.head()"
   ]
  },
  {
   "cell_type": "markdown",
   "metadata": {},
   "source": [
    "#### Для удобства меняю порядок столбцов в объединенном датафрейме:"
   ]
  },
  {
   "cell_type": "code",
   "execution_count": 13,
   "metadata": {},
   "outputs": [
    {
     "data": {
      "text/html": [
       "<div>\n",
       "<style scoped>\n",
       "    .dataframe tbody tr th:only-of-type {\n",
       "        vertical-align: middle;\n",
       "    }\n",
       "\n",
       "    .dataframe tbody tr th {\n",
       "        vertical-align: top;\n",
       "    }\n",
       "\n",
       "    .dataframe thead th {\n",
       "        text-align: right;\n",
       "    }\n",
       "</style>\n",
       "<table border=\"1\" class=\"dataframe\">\n",
       "  <thead>\n",
       "    <tr style=\"text-align: right;\">\n",
       "      <th></th>\n",
       "      <th>uid</th>\n",
       "      <th>reg_ts</th>\n",
       "      <th>auth_ts</th>\n",
       "    </tr>\n",
       "  </thead>\n",
       "  <tbody>\n",
       "    <tr>\n",
       "      <td>0</td>\n",
       "      <td>1</td>\n",
       "      <td>1998-11-18</td>\n",
       "      <td>1998-11-18</td>\n",
       "    </tr>\n",
       "    <tr>\n",
       "      <td>1</td>\n",
       "      <td>2</td>\n",
       "      <td>1999-07-22</td>\n",
       "      <td>1999-07-22</td>\n",
       "    </tr>\n",
       "  </tbody>\n",
       "</table>\n",
       "</div>"
      ],
      "text/plain": [
       "   uid      reg_ts     auth_ts\n",
       "0    1  1998-11-18  1998-11-18\n",
       "1    2  1999-07-22  1999-07-22"
      ]
     },
     "execution_count": 13,
     "metadata": {},
     "output_type": "execute_result"
    }
   ],
   "source": [
    "df = df.reindex(columns=['uid', 'reg_ts', 'auth_ts'])\n",
    "\n",
    "df.head(2)"
   ]
  },
  {
   "cell_type": "markdown",
   "metadata": {},
   "source": [
    "#### Создаю колонку, c количеством дней, прошедших со дня регистрации:"
   ]
  },
  {
   "cell_type": "code",
   "execution_count": 10,
   "metadata": {},
   "outputs": [
    {
     "data": {
      "text/html": [
       "<div>\n",
       "<style scoped>\n",
       "    .dataframe tbody tr th:only-of-type {\n",
       "        vertical-align: middle;\n",
       "    }\n",
       "\n",
       "    .dataframe tbody tr th {\n",
       "        vertical-align: top;\n",
       "    }\n",
       "\n",
       "    .dataframe thead th {\n",
       "        text-align: right;\n",
       "    }\n",
       "</style>\n",
       "<table border=\"1\" class=\"dataframe\">\n",
       "  <thead>\n",
       "    <tr style=\"text-align: right;\">\n",
       "      <th></th>\n",
       "      <th>auth_ts</th>\n",
       "      <th>uid</th>\n",
       "      <th>reg_ts</th>\n",
       "      <th>num_days_after_reg</th>\n",
       "    </tr>\n",
       "  </thead>\n",
       "  <tbody>\n",
       "    <tr>\n",
       "      <td>0</td>\n",
       "      <td>1998-11-18</td>\n",
       "      <td>1</td>\n",
       "      <td>1998-11-18</td>\n",
       "      <td>1</td>\n",
       "    </tr>\n",
       "    <tr>\n",
       "      <td>1</td>\n",
       "      <td>1999-07-22</td>\n",
       "      <td>2</td>\n",
       "      <td>1999-07-22</td>\n",
       "      <td>1</td>\n",
       "    </tr>\n",
       "    <tr>\n",
       "      <td>2</td>\n",
       "      <td>1999-07-25</td>\n",
       "      <td>2</td>\n",
       "      <td>1999-07-22</td>\n",
       "      <td>4</td>\n",
       "    </tr>\n",
       "    <tr>\n",
       "      <td>3</td>\n",
       "      <td>1999-07-31</td>\n",
       "      <td>2</td>\n",
       "      <td>1999-07-22</td>\n",
       "      <td>10</td>\n",
       "    </tr>\n",
       "    <tr>\n",
       "      <td>4</td>\n",
       "      <td>1999-08-05</td>\n",
       "      <td>2</td>\n",
       "      <td>1999-07-22</td>\n",
       "      <td>15</td>\n",
       "    </tr>\n",
       "  </tbody>\n",
       "</table>\n",
       "</div>"
      ],
      "text/plain": [
       "      auth_ts  uid      reg_ts  num_days_after_reg\n",
       "0  1998-11-18    1  1998-11-18                   1\n",
       "1  1999-07-22    2  1999-07-22                   1\n",
       "2  1999-07-25    2  1999-07-22                   4\n",
       "3  1999-07-31    2  1999-07-22                  10\n",
       "4  1999-08-05    2  1999-07-22                  15"
      ]
     },
     "execution_count": 10,
     "metadata": {},
     "output_type": "execute_result"
    }
   ],
   "source": [
    "df['num_days_after_reg'] = (df.auth_ts - df.reg_ts).dt.days + 1\n",
    "\n",
    "df.head()"
   ]
  },
  {
   "cell_type": "code",
   "execution_count": null,
   "metadata": {},
   "outputs": [],
   "source": []
  },
  {
   "cell_type": "markdown",
   "metadata": {},
   "source": [
    "#### Создаю когорты:"
   ]
  },
  {
   "cell_type": "code",
   "execution_count": 21,
   "metadata": {},
   "outputs": [
    {
     "data": {
      "text/html": [
       "<div>\n",
       "<style scoped>\n",
       "    .dataframe tbody tr th:only-of-type {\n",
       "        vertical-align: middle;\n",
       "    }\n",
       "\n",
       "    .dataframe tbody tr th {\n",
       "        vertical-align: top;\n",
       "    }\n",
       "\n",
       "    .dataframe thead th {\n",
       "        text-align: right;\n",
       "    }\n",
       "</style>\n",
       "<table border=\"1\" class=\"dataframe\">\n",
       "  <thead>\n",
       "    <tr style=\"text-align: right;\">\n",
       "      <th></th>\n",
       "      <th>reg_ts</th>\n",
       "      <th>num_days_after_reg</th>\n",
       "      <th>uid</th>\n",
       "    </tr>\n",
       "  </thead>\n",
       "  <tbody>\n",
       "    <tr>\n",
       "      <td>0</td>\n",
       "      <td>1998-11-18</td>\n",
       "      <td>1</td>\n",
       "      <td>1</td>\n",
       "    </tr>\n",
       "    <tr>\n",
       "      <td>1</td>\n",
       "      <td>1999-07-22</td>\n",
       "      <td>1</td>\n",
       "      <td>1</td>\n",
       "    </tr>\n",
       "    <tr>\n",
       "      <td>2</td>\n",
       "      <td>1999-07-22</td>\n",
       "      <td>4</td>\n",
       "      <td>1</td>\n",
       "    </tr>\n",
       "    <tr>\n",
       "      <td>3</td>\n",
       "      <td>1999-07-22</td>\n",
       "      <td>10</td>\n",
       "      <td>1</td>\n",
       "    </tr>\n",
       "    <tr>\n",
       "      <td>4</td>\n",
       "      <td>1999-07-22</td>\n",
       "      <td>15</td>\n",
       "      <td>1</td>\n",
       "    </tr>\n",
       "  </tbody>\n",
       "</table>\n",
       "</div>"
      ],
      "text/plain": [
       "      reg_ts  num_days_after_reg  uid\n",
       "0 1998-11-18                   1    1\n",
       "1 1999-07-22                   1    1\n",
       "2 1999-07-22                   4    1\n",
       "3 1999-07-22                  10    1\n",
       "4 1999-07-22                  15    1"
      ]
     },
     "execution_count": 21,
     "metadata": {},
     "output_type": "execute_result"
    }
   ],
   "source": [
    "data = df.groupby(['reg_ts', 'num_days_after_reg']) \\\n",
    "         .uid.apply(pd.Series.nunique) \\\n",
    "         .reset_index()\n",
    "\n",
    "data.head()"
   ]
  },
  {
   "cell_type": "code",
   "execution_count": null,
   "metadata": {},
   "outputs": [],
   "source": [
    "#### Считаю retention:"
   ]
  },
  {
   "cell_type": "code",
   "execution_count": null,
   "metadata": {},
   "outputs": [],
   "source": [
    "calc_cohort = data.pivot(index='reg_ts'), columns='num_days_after_reg', values='uid')\n",
    "cohort_vol = calc_cohort.iloc[:,0]\n",
    "retention = calc_cohort.divide(cohort_vol, axis=0) \\\n",
    "                       .round(3) \\\n",
    "                       .mul(100)"
   ]
  },
  {
   "cell_type": "code",
   "execution_count": 89,
   "metadata": {},
   "outputs": [],
   "source": [
    "regs = pd.read_csv('./datasets/KarpovCourses/final/1/reg_data.csv', sep=';')\n",
    "\n",
    "auth = pd.read_csv('./datasets/KarpovCourses/final/1/auth_data.csv', sep=';')"
   ]
  },
  {
   "cell_type": "code",
   "execution_count": 112,
   "metadata": {},
   "outputs": [],
   "source": [
    "def retention(reg_data, auth_data, start, stop): \n",
    "\n",
    "    # Соединяю датасеты:\n",
    "    df = reg_data.merge(auth_data, how='left', on='uid')\n",
    "    \n",
    "    # Перевожу колонки из datastamp в datetime:\n",
    "    df.reg_ts = pd.to_datetime(df.reg_ts, unit='s')\n",
    "    df.auth_ts = pd.to_datetime(df.auth_ts, unit='s')\n",
    "    \n",
    "    # Выделяю дату:\n",
    "    df.reg_ts = df.reg_ts.dt.date\n",
    "    df.auth_ts = df.auth_ts.dt.date\n",
    "    \n",
    "    # Повторно перевожу колонки из datastamp в datetime (автоматически стали object):\n",
    "    df.reg_ts = pd.to_datetime(df.reg_ts)\n",
    "    df.auth_ts = pd.to_datetime(df.auth_ts)\n",
    "    \n",
    "    # Оставляю данные в требуемом интервале:\n",
    "    df = df.query('reg_ts >=@start and reg_ts <=@stop')\n",
    "    \n",
    "    # Считаю количество дней, прошедших с момента регистрации:  \n",
    "    df['days_after_reg'] = (df.auth_ts - df.reg_ts).dt.days + 1\n",
    "    \n",
    "    # Создаю когорты:\n",
    "    cohorts = df.groupby(['reg_ts', 'days_after_reg']) \\\n",
    "                .uid.apply(pd.Series.nunique) \\\n",
    "                .reset_index()\n",
    "\n",
    "    # Считаю retention:\n",
    "    cohorts_pivot = cohorts.pivot(index='reg_ts', columns='days_after_reg', values='uid')\n",
    "    \n",
    "    retention = cohorts_pivot.divide(cohorts_pivot.iloc[:,0], axis=0).mul(100).round(3)\n",
    "    \n",
    "    return retention.drop(retention.columns[0], axis=1)"
   ]
  },
  {
   "cell_type": "code",
   "execution_count": 113,
   "metadata": {},
   "outputs": [],
   "source": [
    "retention = retention(regs, auth, '2020-09-01', '2020-09-23')"
   ]
  },
  {
   "cell_type": "code",
   "execution_count": 114,
   "metadata": {},
   "outputs": [
    {
     "data": {
      "text/html": [
       "<div>\n",
       "<style scoped>\n",
       "    .dataframe tbody tr th:only-of-type {\n",
       "        vertical-align: middle;\n",
       "    }\n",
       "\n",
       "    .dataframe tbody tr th {\n",
       "        vertical-align: top;\n",
       "    }\n",
       "\n",
       "    .dataframe thead th {\n",
       "        text-align: right;\n",
       "    }\n",
       "</style>\n",
       "<table border=\"1\" class=\"dataframe\">\n",
       "  <thead>\n",
       "    <tr style=\"text-align: right;\">\n",
       "      <th>days_after_reg</th>\n",
       "      <th>2</th>\n",
       "      <th>3</th>\n",
       "      <th>4</th>\n",
       "      <th>5</th>\n",
       "      <th>6</th>\n",
       "      <th>7</th>\n",
       "      <th>8</th>\n",
       "      <th>9</th>\n",
       "      <th>10</th>\n",
       "      <th>11</th>\n",
       "      <th>...</th>\n",
       "      <th>14</th>\n",
       "      <th>15</th>\n",
       "      <th>16</th>\n",
       "      <th>17</th>\n",
       "      <th>18</th>\n",
       "      <th>19</th>\n",
       "      <th>20</th>\n",
       "      <th>21</th>\n",
       "      <th>22</th>\n",
       "      <th>23</th>\n",
       "    </tr>\n",
       "    <tr>\n",
       "      <th>reg_ts</th>\n",
       "      <th></th>\n",
       "      <th></th>\n",
       "      <th></th>\n",
       "      <th></th>\n",
       "      <th></th>\n",
       "      <th></th>\n",
       "      <th></th>\n",
       "      <th></th>\n",
       "      <th></th>\n",
       "      <th></th>\n",
       "      <th></th>\n",
       "      <th></th>\n",
       "      <th></th>\n",
       "      <th></th>\n",
       "      <th></th>\n",
       "      <th></th>\n",
       "      <th></th>\n",
       "      <th></th>\n",
       "      <th></th>\n",
       "      <th></th>\n",
       "      <th></th>\n",
       "    </tr>\n",
       "  </thead>\n",
       "  <tbody>\n",
       "    <tr>\n",
       "      <td>2020-09-01</td>\n",
       "      <td>2.018</td>\n",
       "      <td>4.098</td>\n",
       "      <td>4.224</td>\n",
       "      <td>4.603</td>\n",
       "      <td>6.431</td>\n",
       "      <td>5.612</td>\n",
       "      <td>6.431</td>\n",
       "      <td>4.098</td>\n",
       "      <td>5.422</td>\n",
       "      <td>5.107</td>\n",
       "      <td>...</td>\n",
       "      <td>5.485</td>\n",
       "      <td>4.288</td>\n",
       "      <td>4.414</td>\n",
       "      <td>4.351</td>\n",
       "      <td>5.044</td>\n",
       "      <td>4.161</td>\n",
       "      <td>4.351</td>\n",
       "      <td>3.594</td>\n",
       "      <td>4.351</td>\n",
       "      <td>1.576</td>\n",
       "    </tr>\n",
       "    <tr>\n",
       "      <td>2020-09-02</td>\n",
       "      <td>2.519</td>\n",
       "      <td>3.904</td>\n",
       "      <td>4.660</td>\n",
       "      <td>5.668</td>\n",
       "      <td>6.234</td>\n",
       "      <td>7.116</td>\n",
       "      <td>6.297</td>\n",
       "      <td>4.849</td>\n",
       "      <td>4.093</td>\n",
       "      <td>5.668</td>\n",
       "      <td>...</td>\n",
       "      <td>4.345</td>\n",
       "      <td>4.975</td>\n",
       "      <td>5.290</td>\n",
       "      <td>4.156</td>\n",
       "      <td>4.849</td>\n",
       "      <td>3.904</td>\n",
       "      <td>3.715</td>\n",
       "      <td>4.660</td>\n",
       "      <td>2.645</td>\n",
       "      <td>NaN</td>\n",
       "    </tr>\n",
       "    <tr>\n",
       "      <td>2020-09-03</td>\n",
       "      <td>2.326</td>\n",
       "      <td>5.405</td>\n",
       "      <td>4.714</td>\n",
       "      <td>6.537</td>\n",
       "      <td>6.977</td>\n",
       "      <td>8.548</td>\n",
       "      <td>6.348</td>\n",
       "      <td>5.468</td>\n",
       "      <td>6.285</td>\n",
       "      <td>6.348</td>\n",
       "      <td>...</td>\n",
       "      <td>5.971</td>\n",
       "      <td>5.468</td>\n",
       "      <td>5.343</td>\n",
       "      <td>4.400</td>\n",
       "      <td>4.840</td>\n",
       "      <td>4.651</td>\n",
       "      <td>5.468</td>\n",
       "      <td>2.388</td>\n",
       "      <td>NaN</td>\n",
       "      <td>NaN</td>\n",
       "    </tr>\n",
       "    <tr>\n",
       "      <td>2020-09-04</td>\n",
       "      <td>2.009</td>\n",
       "      <td>3.641</td>\n",
       "      <td>3.641</td>\n",
       "      <td>5.148</td>\n",
       "      <td>6.403</td>\n",
       "      <td>7.282</td>\n",
       "      <td>4.959</td>\n",
       "      <td>5.336</td>\n",
       "      <td>4.331</td>\n",
       "      <td>5.650</td>\n",
       "      <td>...</td>\n",
       "      <td>5.587</td>\n",
       "      <td>4.394</td>\n",
       "      <td>4.520</td>\n",
       "      <td>4.520</td>\n",
       "      <td>4.269</td>\n",
       "      <td>4.771</td>\n",
       "      <td>2.637</td>\n",
       "      <td>NaN</td>\n",
       "      <td>NaN</td>\n",
       "      <td>NaN</td>\n",
       "    </tr>\n",
       "    <tr>\n",
       "      <td>2020-09-05</td>\n",
       "      <td>2.757</td>\n",
       "      <td>3.947</td>\n",
       "      <td>4.637</td>\n",
       "      <td>5.451</td>\n",
       "      <td>5.890</td>\n",
       "      <td>7.456</td>\n",
       "      <td>4.887</td>\n",
       "      <td>5.075</td>\n",
       "      <td>5.451</td>\n",
       "      <td>6.015</td>\n",
       "      <td>...</td>\n",
       "      <td>5.388</td>\n",
       "      <td>4.511</td>\n",
       "      <td>5.138</td>\n",
       "      <td>4.449</td>\n",
       "      <td>4.762</td>\n",
       "      <td>2.506</td>\n",
       "      <td>NaN</td>\n",
       "      <td>NaN</td>\n",
       "      <td>NaN</td>\n",
       "      <td>NaN</td>\n",
       "    </tr>\n",
       "    <tr>\n",
       "      <td>2020-09-06</td>\n",
       "      <td>3.127</td>\n",
       "      <td>4.315</td>\n",
       "      <td>5.441</td>\n",
       "      <td>5.629</td>\n",
       "      <td>5.879</td>\n",
       "      <td>6.817</td>\n",
       "      <td>6.066</td>\n",
       "      <td>5.816</td>\n",
       "      <td>5.503</td>\n",
       "      <td>4.878</td>\n",
       "      <td>...</td>\n",
       "      <td>5.191</td>\n",
       "      <td>5.503</td>\n",
       "      <td>4.565</td>\n",
       "      <td>4.816</td>\n",
       "      <td>2.564</td>\n",
       "      <td>NaN</td>\n",
       "      <td>NaN</td>\n",
       "      <td>NaN</td>\n",
       "      <td>NaN</td>\n",
       "      <td>NaN</td>\n",
       "    </tr>\n",
       "    <tr>\n",
       "      <td>2020-09-07</td>\n",
       "      <td>2.936</td>\n",
       "      <td>4.247</td>\n",
       "      <td>5.372</td>\n",
       "      <td>5.059</td>\n",
       "      <td>6.371</td>\n",
       "      <td>7.308</td>\n",
       "      <td>5.247</td>\n",
       "      <td>4.122</td>\n",
       "      <td>5.621</td>\n",
       "      <td>5.996</td>\n",
       "      <td>...</td>\n",
       "      <td>5.059</td>\n",
       "      <td>4.247</td>\n",
       "      <td>5.059</td>\n",
       "      <td>3.373</td>\n",
       "      <td>NaN</td>\n",
       "      <td>NaN</td>\n",
       "      <td>NaN</td>\n",
       "      <td>NaN</td>\n",
       "      <td>NaN</td>\n",
       "      <td>NaN</td>\n",
       "    </tr>\n",
       "    <tr>\n",
       "      <td>2020-09-08</td>\n",
       "      <td>1.746</td>\n",
       "      <td>3.928</td>\n",
       "      <td>3.928</td>\n",
       "      <td>4.863</td>\n",
       "      <td>7.606</td>\n",
       "      <td>7.544</td>\n",
       "      <td>6.608</td>\n",
       "      <td>5.175</td>\n",
       "      <td>5.175</td>\n",
       "      <td>6.546</td>\n",
       "      <td>...</td>\n",
       "      <td>5.175</td>\n",
       "      <td>4.738</td>\n",
       "      <td>3.055</td>\n",
       "      <td>NaN</td>\n",
       "      <td>NaN</td>\n",
       "      <td>NaN</td>\n",
       "      <td>NaN</td>\n",
       "      <td>NaN</td>\n",
       "      <td>NaN</td>\n",
       "      <td>NaN</td>\n",
       "    </tr>\n",
       "    <tr>\n",
       "      <td>2020-09-09</td>\n",
       "      <td>1.742</td>\n",
       "      <td>3.236</td>\n",
       "      <td>4.667</td>\n",
       "      <td>5.725</td>\n",
       "      <td>6.658</td>\n",
       "      <td>5.725</td>\n",
       "      <td>5.912</td>\n",
       "      <td>4.356</td>\n",
       "      <td>5.040</td>\n",
       "      <td>3.734</td>\n",
       "      <td>...</td>\n",
       "      <td>4.854</td>\n",
       "      <td>2.427</td>\n",
       "      <td>NaN</td>\n",
       "      <td>NaN</td>\n",
       "      <td>NaN</td>\n",
       "      <td>NaN</td>\n",
       "      <td>NaN</td>\n",
       "      <td>NaN</td>\n",
       "      <td>NaN</td>\n",
       "      <td>NaN</td>\n",
       "    </tr>\n",
       "    <tr>\n",
       "      <td>2020-09-10</td>\n",
       "      <td>2.051</td>\n",
       "      <td>4.288</td>\n",
       "      <td>4.786</td>\n",
       "      <td>4.226</td>\n",
       "      <td>6.774</td>\n",
       "      <td>6.277</td>\n",
       "      <td>7.085</td>\n",
       "      <td>4.848</td>\n",
       "      <td>4.537</td>\n",
       "      <td>5.656</td>\n",
       "      <td>...</td>\n",
       "      <td>3.605</td>\n",
       "      <td>NaN</td>\n",
       "      <td>NaN</td>\n",
       "      <td>NaN</td>\n",
       "      <td>NaN</td>\n",
       "      <td>NaN</td>\n",
       "      <td>NaN</td>\n",
       "      <td>NaN</td>\n",
       "      <td>NaN</td>\n",
       "      <td>NaN</td>\n",
       "    </tr>\n",
       "    <tr>\n",
       "      <td>2020-09-11</td>\n",
       "      <td>1.303</td>\n",
       "      <td>4.032</td>\n",
       "      <td>4.529</td>\n",
       "      <td>5.645</td>\n",
       "      <td>5.707</td>\n",
       "      <td>6.700</td>\n",
       "      <td>6.328</td>\n",
       "      <td>4.404</td>\n",
       "      <td>4.653</td>\n",
       "      <td>5.397</td>\n",
       "      <td>...</td>\n",
       "      <td>NaN</td>\n",
       "      <td>NaN</td>\n",
       "      <td>NaN</td>\n",
       "      <td>NaN</td>\n",
       "      <td>NaN</td>\n",
       "      <td>NaN</td>\n",
       "      <td>NaN</td>\n",
       "      <td>NaN</td>\n",
       "      <td>NaN</td>\n",
       "      <td>NaN</td>\n",
       "    </tr>\n",
       "    <tr>\n",
       "      <td>2020-09-12</td>\n",
       "      <td>1.921</td>\n",
       "      <td>3.841</td>\n",
       "      <td>4.709</td>\n",
       "      <td>4.647</td>\n",
       "      <td>6.072</td>\n",
       "      <td>6.568</td>\n",
       "      <td>5.762</td>\n",
       "      <td>5.266</td>\n",
       "      <td>5.143</td>\n",
       "      <td>5.700</td>\n",
       "      <td>...</td>\n",
       "      <td>NaN</td>\n",
       "      <td>NaN</td>\n",
       "      <td>NaN</td>\n",
       "      <td>NaN</td>\n",
       "      <td>NaN</td>\n",
       "      <td>NaN</td>\n",
       "      <td>NaN</td>\n",
       "      <td>NaN</td>\n",
       "      <td>NaN</td>\n",
       "      <td>NaN</td>\n",
       "    </tr>\n",
       "    <tr>\n",
       "      <td>2020-09-13</td>\n",
       "      <td>1.978</td>\n",
       "      <td>4.079</td>\n",
       "      <td>4.265</td>\n",
       "      <td>5.130</td>\n",
       "      <td>6.551</td>\n",
       "      <td>6.489</td>\n",
       "      <td>4.944</td>\n",
       "      <td>4.697</td>\n",
       "      <td>4.944</td>\n",
       "      <td>3.585</td>\n",
       "      <td>...</td>\n",
       "      <td>NaN</td>\n",
       "      <td>NaN</td>\n",
       "      <td>NaN</td>\n",
       "      <td>NaN</td>\n",
       "      <td>NaN</td>\n",
       "      <td>NaN</td>\n",
       "      <td>NaN</td>\n",
       "      <td>NaN</td>\n",
       "      <td>NaN</td>\n",
       "      <td>NaN</td>\n",
       "    </tr>\n",
       "    <tr>\n",
       "      <td>2020-09-14</td>\n",
       "      <td>2.224</td>\n",
       "      <td>3.830</td>\n",
       "      <td>4.509</td>\n",
       "      <td>5.312</td>\n",
       "      <td>6.485</td>\n",
       "      <td>6.980</td>\n",
       "      <td>6.300</td>\n",
       "      <td>4.447</td>\n",
       "      <td>2.903</td>\n",
       "      <td>NaN</td>\n",
       "      <td>...</td>\n",
       "      <td>NaN</td>\n",
       "      <td>NaN</td>\n",
       "      <td>NaN</td>\n",
       "      <td>NaN</td>\n",
       "      <td>NaN</td>\n",
       "      <td>NaN</td>\n",
       "      <td>NaN</td>\n",
       "      <td>NaN</td>\n",
       "      <td>NaN</td>\n",
       "      <td>NaN</td>\n",
       "    </tr>\n",
       "    <tr>\n",
       "      <td>2020-09-15</td>\n",
       "      <td>2.218</td>\n",
       "      <td>4.067</td>\n",
       "      <td>4.559</td>\n",
       "      <td>6.038</td>\n",
       "      <td>5.607</td>\n",
       "      <td>6.901</td>\n",
       "      <td>5.669</td>\n",
       "      <td>2.465</td>\n",
       "      <td>NaN</td>\n",
       "      <td>NaN</td>\n",
       "      <td>...</td>\n",
       "      <td>NaN</td>\n",
       "      <td>NaN</td>\n",
       "      <td>NaN</td>\n",
       "      <td>NaN</td>\n",
       "      <td>NaN</td>\n",
       "      <td>NaN</td>\n",
       "      <td>NaN</td>\n",
       "      <td>NaN</td>\n",
       "      <td>NaN</td>\n",
       "      <td>NaN</td>\n",
       "    </tr>\n",
       "    <tr>\n",
       "      <td>2020-09-16</td>\n",
       "      <td>1.908</td>\n",
       "      <td>4.246</td>\n",
       "      <td>4.615</td>\n",
       "      <td>4.677</td>\n",
       "      <td>6.769</td>\n",
       "      <td>6.954</td>\n",
       "      <td>3.385</td>\n",
       "      <td>NaN</td>\n",
       "      <td>NaN</td>\n",
       "      <td>NaN</td>\n",
       "      <td>...</td>\n",
       "      <td>NaN</td>\n",
       "      <td>NaN</td>\n",
       "      <td>NaN</td>\n",
       "      <td>NaN</td>\n",
       "      <td>NaN</td>\n",
       "      <td>NaN</td>\n",
       "      <td>NaN</td>\n",
       "      <td>NaN</td>\n",
       "      <td>NaN</td>\n",
       "      <td>NaN</td>\n",
       "    </tr>\n",
       "    <tr>\n",
       "      <td>2020-09-17</td>\n",
       "      <td>1.658</td>\n",
       "      <td>4.300</td>\n",
       "      <td>4.545</td>\n",
       "      <td>5.467</td>\n",
       "      <td>6.265</td>\n",
       "      <td>4.238</td>\n",
       "      <td>NaN</td>\n",
       "      <td>NaN</td>\n",
       "      <td>NaN</td>\n",
       "      <td>NaN</td>\n",
       "      <td>...</td>\n",
       "      <td>NaN</td>\n",
       "      <td>NaN</td>\n",
       "      <td>NaN</td>\n",
       "      <td>NaN</td>\n",
       "      <td>NaN</td>\n",
       "      <td>NaN</td>\n",
       "      <td>NaN</td>\n",
       "      <td>NaN</td>\n",
       "      <td>NaN</td>\n",
       "      <td>NaN</td>\n",
       "    </tr>\n",
       "    <tr>\n",
       "      <td>2020-09-18</td>\n",
       "      <td>1.902</td>\n",
       "      <td>4.540</td>\n",
       "      <td>4.233</td>\n",
       "      <td>5.215</td>\n",
       "      <td>3.742</td>\n",
       "      <td>NaN</td>\n",
       "      <td>NaN</td>\n",
       "      <td>NaN</td>\n",
       "      <td>NaN</td>\n",
       "      <td>NaN</td>\n",
       "      <td>...</td>\n",
       "      <td>NaN</td>\n",
       "      <td>NaN</td>\n",
       "      <td>NaN</td>\n",
       "      <td>NaN</td>\n",
       "      <td>NaN</td>\n",
       "      <td>NaN</td>\n",
       "      <td>NaN</td>\n",
       "      <td>NaN</td>\n",
       "      <td>NaN</td>\n",
       "      <td>NaN</td>\n",
       "    </tr>\n",
       "    <tr>\n",
       "      <td>2020-09-19</td>\n",
       "      <td>1.836</td>\n",
       "      <td>3.550</td>\n",
       "      <td>4.712</td>\n",
       "      <td>3.488</td>\n",
       "      <td>NaN</td>\n",
       "      <td>NaN</td>\n",
       "      <td>NaN</td>\n",
       "      <td>NaN</td>\n",
       "      <td>NaN</td>\n",
       "      <td>NaN</td>\n",
       "      <td>...</td>\n",
       "      <td>NaN</td>\n",
       "      <td>NaN</td>\n",
       "      <td>NaN</td>\n",
       "      <td>NaN</td>\n",
       "      <td>NaN</td>\n",
       "      <td>NaN</td>\n",
       "      <td>NaN</td>\n",
       "      <td>NaN</td>\n",
       "      <td>NaN</td>\n",
       "      <td>NaN</td>\n",
       "    </tr>\n",
       "    <tr>\n",
       "      <td>2020-09-20</td>\n",
       "      <td>2.445</td>\n",
       "      <td>4.340</td>\n",
       "      <td>2.384</td>\n",
       "      <td>NaN</td>\n",
       "      <td>NaN</td>\n",
       "      <td>NaN</td>\n",
       "      <td>NaN</td>\n",
       "      <td>NaN</td>\n",
       "      <td>NaN</td>\n",
       "      <td>NaN</td>\n",
       "      <td>...</td>\n",
       "      <td>NaN</td>\n",
       "      <td>NaN</td>\n",
       "      <td>NaN</td>\n",
       "      <td>NaN</td>\n",
       "      <td>NaN</td>\n",
       "      <td>NaN</td>\n",
       "      <td>NaN</td>\n",
       "      <td>NaN</td>\n",
       "      <td>NaN</td>\n",
       "      <td>NaN</td>\n",
       "    </tr>\n",
       "    <tr>\n",
       "      <td>2020-09-21</td>\n",
       "      <td>1.893</td>\n",
       "      <td>2.991</td>\n",
       "      <td>NaN</td>\n",
       "      <td>NaN</td>\n",
       "      <td>NaN</td>\n",
       "      <td>NaN</td>\n",
       "      <td>NaN</td>\n",
       "      <td>NaN</td>\n",
       "      <td>NaN</td>\n",
       "      <td>NaN</td>\n",
       "      <td>...</td>\n",
       "      <td>NaN</td>\n",
       "      <td>NaN</td>\n",
       "      <td>NaN</td>\n",
       "      <td>NaN</td>\n",
       "      <td>NaN</td>\n",
       "      <td>NaN</td>\n",
       "      <td>NaN</td>\n",
       "      <td>NaN</td>\n",
       "      <td>NaN</td>\n",
       "      <td>NaN</td>\n",
       "    </tr>\n",
       "    <tr>\n",
       "      <td>2020-09-22</td>\n",
       "      <td>0.853</td>\n",
       "      <td>NaN</td>\n",
       "      <td>NaN</td>\n",
       "      <td>NaN</td>\n",
       "      <td>NaN</td>\n",
       "      <td>NaN</td>\n",
       "      <td>NaN</td>\n",
       "      <td>NaN</td>\n",
       "      <td>NaN</td>\n",
       "      <td>NaN</td>\n",
       "      <td>...</td>\n",
       "      <td>NaN</td>\n",
       "      <td>NaN</td>\n",
       "      <td>NaN</td>\n",
       "      <td>NaN</td>\n",
       "      <td>NaN</td>\n",
       "      <td>NaN</td>\n",
       "      <td>NaN</td>\n",
       "      <td>NaN</td>\n",
       "      <td>NaN</td>\n",
       "      <td>NaN</td>\n",
       "    </tr>\n",
       "    <tr>\n",
       "      <td>2020-09-23</td>\n",
       "      <td>NaN</td>\n",
       "      <td>NaN</td>\n",
       "      <td>NaN</td>\n",
       "      <td>NaN</td>\n",
       "      <td>NaN</td>\n",
       "      <td>NaN</td>\n",
       "      <td>NaN</td>\n",
       "      <td>NaN</td>\n",
       "      <td>NaN</td>\n",
       "      <td>NaN</td>\n",
       "      <td>...</td>\n",
       "      <td>NaN</td>\n",
       "      <td>NaN</td>\n",
       "      <td>NaN</td>\n",
       "      <td>NaN</td>\n",
       "      <td>NaN</td>\n",
       "      <td>NaN</td>\n",
       "      <td>NaN</td>\n",
       "      <td>NaN</td>\n",
       "      <td>NaN</td>\n",
       "      <td>NaN</td>\n",
       "    </tr>\n",
       "  </tbody>\n",
       "</table>\n",
       "<p>23 rows × 22 columns</p>\n",
       "</div>"
      ],
      "text/plain": [
       "days_after_reg     2      3      4      5      6      7      8      9      10  \\\n",
       "reg_ts                                                                          \n",
       "2020-09-01      2.018  4.098  4.224  4.603  6.431  5.612  6.431  4.098  5.422   \n",
       "2020-09-02      2.519  3.904  4.660  5.668  6.234  7.116  6.297  4.849  4.093   \n",
       "2020-09-03      2.326  5.405  4.714  6.537  6.977  8.548  6.348  5.468  6.285   \n",
       "2020-09-04      2.009  3.641  3.641  5.148  6.403  7.282  4.959  5.336  4.331   \n",
       "2020-09-05      2.757  3.947  4.637  5.451  5.890  7.456  4.887  5.075  5.451   \n",
       "2020-09-06      3.127  4.315  5.441  5.629  5.879  6.817  6.066  5.816  5.503   \n",
       "2020-09-07      2.936  4.247  5.372  5.059  6.371  7.308  5.247  4.122  5.621   \n",
       "2020-09-08      1.746  3.928  3.928  4.863  7.606  7.544  6.608  5.175  5.175   \n",
       "2020-09-09      1.742  3.236  4.667  5.725  6.658  5.725  5.912  4.356  5.040   \n",
       "2020-09-10      2.051  4.288  4.786  4.226  6.774  6.277  7.085  4.848  4.537   \n",
       "2020-09-11      1.303  4.032  4.529  5.645  5.707  6.700  6.328  4.404  4.653   \n",
       "2020-09-12      1.921  3.841  4.709  4.647  6.072  6.568  5.762  5.266  5.143   \n",
       "2020-09-13      1.978  4.079  4.265  5.130  6.551  6.489  4.944  4.697  4.944   \n",
       "2020-09-14      2.224  3.830  4.509  5.312  6.485  6.980  6.300  4.447  2.903   \n",
       "2020-09-15      2.218  4.067  4.559  6.038  5.607  6.901  5.669  2.465    NaN   \n",
       "2020-09-16      1.908  4.246  4.615  4.677  6.769  6.954  3.385    NaN    NaN   \n",
       "2020-09-17      1.658  4.300  4.545  5.467  6.265  4.238    NaN    NaN    NaN   \n",
       "2020-09-18      1.902  4.540  4.233  5.215  3.742    NaN    NaN    NaN    NaN   \n",
       "2020-09-19      1.836  3.550  4.712  3.488    NaN    NaN    NaN    NaN    NaN   \n",
       "2020-09-20      2.445  4.340  2.384    NaN    NaN    NaN    NaN    NaN    NaN   \n",
       "2020-09-21      1.893  2.991    NaN    NaN    NaN    NaN    NaN    NaN    NaN   \n",
       "2020-09-22      0.853    NaN    NaN    NaN    NaN    NaN    NaN    NaN    NaN   \n",
       "2020-09-23        NaN    NaN    NaN    NaN    NaN    NaN    NaN    NaN    NaN   \n",
       "\n",
       "days_after_reg     11  ...     14     15     16     17     18     19     20  \\\n",
       "reg_ts                 ...                                                    \n",
       "2020-09-01      5.107  ...  5.485  4.288  4.414  4.351  5.044  4.161  4.351   \n",
       "2020-09-02      5.668  ...  4.345  4.975  5.290  4.156  4.849  3.904  3.715   \n",
       "2020-09-03      6.348  ...  5.971  5.468  5.343  4.400  4.840  4.651  5.468   \n",
       "2020-09-04      5.650  ...  5.587  4.394  4.520  4.520  4.269  4.771  2.637   \n",
       "2020-09-05      6.015  ...  5.388  4.511  5.138  4.449  4.762  2.506    NaN   \n",
       "2020-09-06      4.878  ...  5.191  5.503  4.565  4.816  2.564    NaN    NaN   \n",
       "2020-09-07      5.996  ...  5.059  4.247  5.059  3.373    NaN    NaN    NaN   \n",
       "2020-09-08      6.546  ...  5.175  4.738  3.055    NaN    NaN    NaN    NaN   \n",
       "2020-09-09      3.734  ...  4.854  2.427    NaN    NaN    NaN    NaN    NaN   \n",
       "2020-09-10      5.656  ...  3.605    NaN    NaN    NaN    NaN    NaN    NaN   \n",
       "2020-09-11      5.397  ...    NaN    NaN    NaN    NaN    NaN    NaN    NaN   \n",
       "2020-09-12      5.700  ...    NaN    NaN    NaN    NaN    NaN    NaN    NaN   \n",
       "2020-09-13      3.585  ...    NaN    NaN    NaN    NaN    NaN    NaN    NaN   \n",
       "2020-09-14        NaN  ...    NaN    NaN    NaN    NaN    NaN    NaN    NaN   \n",
       "2020-09-15        NaN  ...    NaN    NaN    NaN    NaN    NaN    NaN    NaN   \n",
       "2020-09-16        NaN  ...    NaN    NaN    NaN    NaN    NaN    NaN    NaN   \n",
       "2020-09-17        NaN  ...    NaN    NaN    NaN    NaN    NaN    NaN    NaN   \n",
       "2020-09-18        NaN  ...    NaN    NaN    NaN    NaN    NaN    NaN    NaN   \n",
       "2020-09-19        NaN  ...    NaN    NaN    NaN    NaN    NaN    NaN    NaN   \n",
       "2020-09-20        NaN  ...    NaN    NaN    NaN    NaN    NaN    NaN    NaN   \n",
       "2020-09-21        NaN  ...    NaN    NaN    NaN    NaN    NaN    NaN    NaN   \n",
       "2020-09-22        NaN  ...    NaN    NaN    NaN    NaN    NaN    NaN    NaN   \n",
       "2020-09-23        NaN  ...    NaN    NaN    NaN    NaN    NaN    NaN    NaN   \n",
       "\n",
       "days_after_reg     21     22     23  \n",
       "reg_ts                               \n",
       "2020-09-01      3.594  4.351  1.576  \n",
       "2020-09-02      4.660  2.645    NaN  \n",
       "2020-09-03      2.388    NaN    NaN  \n",
       "2020-09-04        NaN    NaN    NaN  \n",
       "2020-09-05        NaN    NaN    NaN  \n",
       "2020-09-06        NaN    NaN    NaN  \n",
       "2020-09-07        NaN    NaN    NaN  \n",
       "2020-09-08        NaN    NaN    NaN  \n",
       "2020-09-09        NaN    NaN    NaN  \n",
       "2020-09-10        NaN    NaN    NaN  \n",
       "2020-09-11        NaN    NaN    NaN  \n",
       "2020-09-12        NaN    NaN    NaN  \n",
       "2020-09-13        NaN    NaN    NaN  \n",
       "2020-09-14        NaN    NaN    NaN  \n",
       "2020-09-15        NaN    NaN    NaN  \n",
       "2020-09-16        NaN    NaN    NaN  \n",
       "2020-09-17        NaN    NaN    NaN  \n",
       "2020-09-18        NaN    NaN    NaN  \n",
       "2020-09-19        NaN    NaN    NaN  \n",
       "2020-09-20        NaN    NaN    NaN  \n",
       "2020-09-21        NaN    NaN    NaN  \n",
       "2020-09-22        NaN    NaN    NaN  \n",
       "2020-09-23        NaN    NaN    NaN  \n",
       "\n",
       "[23 rows x 22 columns]"
      ]
     },
     "execution_count": 114,
     "metadata": {},
     "output_type": "execute_result"
    }
   ],
   "source": [
    "retention"
   ]
  },
  {
   "cell_type": "code",
   "execution_count": null,
   "metadata": {},
   "outputs": [],
   "source": [
    "#### Создам функцию для визуализации retention:"
   ]
  },
  {
   "cell_type": "code",
   "execution_count": 106,
   "metadata": {},
   "outputs": [],
   "source": [
    "def viz_retention(retention):\n",
    "    \n",
    "    retention.index = retention.index.strftime('%Y-%m-%d')\n",
    "    plt.figure(figsize=(20,10))\n",
    "    plt.title('Active users')\n",
    "    ax = sns.heatmap(data=retention, annot=True, vmin=0.0)\n",
    "    ax.set_yticklabels(retention.index)\n",
    "    fig=ax.get_figure()\n",
    "    return plt.show()"
   ]
  },
  {
   "cell_type": "code",
   "execution_count": 115,
   "metadata": {},
   "outputs": [
    {
     "data": {
      "image/png": "[encoded data removed]",
      "text/plain": [
       "<Figure size 1440x720 with 2 Axes>"
      ]
     },
     "metadata": {
      "needs_background": "light"
     },
     "output_type": "display_data"
    }
   ],
   "source": [
    "viz_retention(retention)"
   ]
  },
  {
   "cell_type": "code",
   "execution_count": null,
   "metadata": {},
   "outputs": [],
   "source": []
  },
  {
   "cell_type": "code",
   "execution_count": null,
   "metadata": {},
   "outputs": [],
   "source": [
    "#### Вывод: Retention у Приложения очень низкий, необходимы мероприятия для повышения вовлеченности."
   ]
  },
  {
   "cell_type": "markdown",
   "metadata": {},
   "source": [
    "#### Задание 2\n",
    "\n",
    "Имеются результаты A/B теста, в котором двум группам пользователей предлагались различные наборы акционных предложений. \n",
    "Известно, что ARPU в тестовой группе выше на 5%, чем в контрольной. При этом в контрольной группе 1928 игроков из 202103 оказались платящими, а в тестовой – 1805 из 202667.\n",
    "\n",
    "Какой набор предложений можно считать лучшим? Какие метрики стоит проанализировать для принятия правильного решения и как?"
   ]
  },
  {
   "cell_type": "markdown",
   "metadata": {},
   "source": [
    "#### Алгоритм решения:\n",
    "\n",
    "Импортирую библиотеки.\n",
    "Загружаю датасеты.\n",
    "Смотрю структуру, типы данных, проверяю на наличие дубликатов и пропущенных значений.\n",
    "Формирую рабочий датафрейм из загруженных датасетов.\n",
    "Провожу разделение датасета на тестовую и контрольную группы.\n",
    "Выделяю основные метрики для анализа для принятия решения об эффективности изменений по результатам АБ-теста.\n",
    "Проверяю насколько изменились основные параметры в тестовой группе относительно контрольной группы.\n",
    "Строю боксплоты для того чтобы оценить выбросы.\n",
    "Оцениваю наличие и величину выбросов и принимаю решение что с ними делать.\n",
    "Проверяю тестовую и контрольную выборки на нормальность.\n",
    "Проверяю равномерность распределения данных в контрольной и тестовой группах.\n",
    "Выбираю методы проверки статистической значимости выбранных метрик.\n",
    "Осуществляю проверку на статистическую значимость. В зависимости от наличия выбросов с ними и без.\n",
    "Делаю финальные выводы."
   ]
  },
  {
   "cell_type": "code",
   "execution_count": null,
   "metadata": {},
   "outputs": [],
   "source": [
    "#### Импортирую необходимые модули:"
   ]
  },
  {
   "cell_type": "code",
   "execution_count": 126,
   "metadata": {},
   "outputs": [],
   "source": [
    "import pandas as pd\n",
    "\n",
    "import seaborn as sns\n",
    "\n",
    "import matplotlib.pyplot as plt\n",
    "\n",
    "%matplotlib inline"
   ]
  },
  {
   "cell_type": "code",
   "execution_count": null,
   "metadata": {},
   "outputs": [],
   "source": [
    "#### Загружаю датасет:"
   ]
  },
  {
   "cell_type": "code",
   "execution_count": 106,
   "metadata": {},
   "outputs": [],
   "source": [
    "df = pd.read_csv('./datasets/KarpovCourses/final/1/2nd_dataset.csv', sep=';')"
   ]
  },
  {
   "cell_type": "code",
   "execution_count": 107,
   "metadata": {},
   "outputs": [
    {
     "data": {
      "text/html": [
       "<div>\n",
       "<style scoped>\n",
       "    .dataframe tbody tr th:only-of-type {\n",
       "        vertical-align: middle;\n",
       "    }\n",
       "\n",
       "    .dataframe tbody tr th {\n",
       "        vertical-align: top;\n",
       "    }\n",
       "\n",
       "    .dataframe thead th {\n",
       "        text-align: right;\n",
       "    }\n",
       "</style>\n",
       "<table border=\"1\" class=\"dataframe\">\n",
       "  <thead>\n",
       "    <tr style=\"text-align: right;\">\n",
       "      <th></th>\n",
       "      <th>user_id</th>\n",
       "      <th>revenue</th>\n",
       "      <th>testgroup</th>\n",
       "    </tr>\n",
       "  </thead>\n",
       "  <tbody>\n",
       "    <tr>\n",
       "      <td>0</td>\n",
       "      <td>1</td>\n",
       "      <td>0</td>\n",
       "      <td>b</td>\n",
       "    </tr>\n",
       "    <tr>\n",
       "      <td>1</td>\n",
       "      <td>2</td>\n",
       "      <td>0</td>\n",
       "      <td>a</td>\n",
       "    </tr>\n",
       "    <tr>\n",
       "      <td>2</td>\n",
       "      <td>3</td>\n",
       "      <td>0</td>\n",
       "      <td>a</td>\n",
       "    </tr>\n",
       "    <tr>\n",
       "      <td>3</td>\n",
       "      <td>4</td>\n",
       "      <td>0</td>\n",
       "      <td>b</td>\n",
       "    </tr>\n",
       "    <tr>\n",
       "      <td>4</td>\n",
       "      <td>5</td>\n",
       "      <td>0</td>\n",
       "      <td>b</td>\n",
       "    </tr>\n",
       "  </tbody>\n",
       "</table>\n",
       "</div>"
      ],
      "text/plain": [
       "   user_id  revenue testgroup\n",
       "0        1        0         b\n",
       "1        2        0         a\n",
       "2        3        0         a\n",
       "3        4        0         b\n",
       "4        5        0         b"
      ]
     },
     "execution_count": 107,
     "metadata": {},
     "output_type": "execute_result"
    }
   ],
   "source": [
    "df.head()"
   ]
  },
  {
   "cell_type": "code",
   "execution_count": 169,
   "metadata": {},
   "outputs": [],
   "source": [
    "#### Разделяю группы на тестовую и контрольную:\n",
    "\n",
    "control = df.query('testgroup == \"a\"')\n",
    "\n",
    "test = df.query('testgroup == \"b\"')"
   ]
  },
  {
   "cell_type": "markdown",
   "metadata": {},
   "source": [
    "#### Проверяю форму распределения переменной revenue в датасетах и смотрю есть ли дубликаты, проверяю на наличие пропущенных значений:"
   ]
  },
  {
   "cell_type": "code",
   "execution_count": 174,
   "metadata": {},
   "outputs": [],
   "source": [
    "def dataset_params(df1, df2):\n",
    "    \n",
    "    params = {'df1': ['shape', df1.shape, 'duplicated', df1.duplicated().sum()],\n",
    "              'df2': ['shape', df2.shape, 'duplicated', df2.duplicated().sum()]\n",
    "             }\n",
    " \n",
    "    return print(pd.DataFrame(params))"
   ]
  },
  {
   "cell_type": "code",
   "execution_count": 175,
   "metadata": {},
   "outputs": [
    {
     "name": "stdout",
     "output_type": "stream",
     "text": [
      "           df1          df2\n",
      "0        shape        shape\n",
      "1  (202103, 3)  (202667, 3)\n",
      "2   duplicated   duplicated\n",
      "3            0            0\n"
     ]
    }
   ],
   "source": [
    "dataset_params(control, test)"
   ]
  },
  {
   "cell_type": "code",
   "execution_count": 118,
   "metadata": {},
   "outputs": [
    {
     "data": {
      "text/plain": [
       "user_id      0\n",
       "revenue      0\n",
       "testgroup    0\n",
       "dtype: int64"
      ]
     },
     "execution_count": 118,
     "metadata": {},
     "output_type": "execute_result"
    }
   ],
   "source": [
    "df.isna().sum()"
   ]
  },
  {
   "cell_type": "code",
   "execution_count": null,
   "metadata": {},
   "outputs": [],
   "source": [
    "#### Проверяю как распределены данные в контротльной и тестовой группах, есть ли явные выбросы:"
   ]
  },
  {
   "cell_type": "code",
   "execution_count": 119,
   "metadata": {},
   "outputs": [],
   "source": [
    "# Создаю функцию для построения боксплота:\n",
    "\n",
    "def boxplot_builder(df):\n",
    "    \n",
    "    plt.figure(figsize=(16,16))\n",
    "\n",
    "    return sns.boxplot(x='testgroup', y ='revenue', data=df)"
   ]
  },
  {
   "cell_type": "code",
   "execution_count": 159,
   "metadata": {},
   "outputs": [
    {
     "data": {
      "text/plain": [
       "<matplotlib.axes._subplots.AxesSubplot at 0x56a66788>"
      ]
     },
     "execution_count": 159,
     "metadata": {},
     "output_type": "execute_result"
    },
    {
     "data": {
      "image/png": "[encoded data removed]",
      "text/plain": [
       "<Figure size 1152x1152 with 1 Axes>"
      ]
     },
     "metadata": {
      "needs_background": "light"
     },
     "output_type": "display_data"
    }
   ],
   "source": [
    "boxplot_builder(df.query('revenue != 0'))"
   ]
  },
  {
   "cell_type": "code",
   "execution_count": null,
   "metadata": {},
   "outputs": [],
   "source": []
  },
  {
   "cell_type": "code",
   "execution_count": 163,
   "metadata": {},
   "outputs": [
    {
     "data": {
      "text/plain": [
       "<matplotlib.axes._subplots.AxesSubplot at 0x56bc9b88>"
      ]
     },
     "execution_count": 163,
     "metadata": {},
     "output_type": "execute_result"
    },
    {
     "data": {
      "image/png": "[encoded data removed]",
      "text/plain": [
       "<Figure size 1152x1152 with 1 Axes>"
      ]
     },
     "metadata": {
      "needs_background": "light"
     },
     "output_type": "display_data"
    }
   ],
   "source": [
    "df_test = df.query('revenue != 0 & revenue < 35000')\n",
    "\n",
    "boxplot_builder(df_test)"
   ]
  },
  {
   "cell_type": "code",
   "execution_count": null,
   "metadata": {},
   "outputs": [],
   "source": [
    "#### Выводы: После старта акций в обеих группах наблюдается рост покупок на большое суммы. Причем в группе b заметно\n",
    "увеличение чека в определенном диапазоне, а в группе а совершен ряд покупок на очень большие суммы и некоторое количество \n",
    "покупок незначительно превышающих усы боксплота. Поисследуем эти значения.\n",
    "\n",
    "\n",
    "\n",
    "В одной из групп - посчитать количество записей и назвать ее есть значение, которое как мне кается является явным выбросом.\n",
    "Попробую его убрать (написать гипотезу о том что это может быть), потому что это значение ли значения не характерны для большинства наблюдений..."
   ]
  },
  {
   "cell_type": "code",
   "execution_count": null,
   "metadata": {},
   "outputs": [],
   "source": [
    "####  Смотрю какой вклад в бщий объем продаж в группе а привносят \"выбросы\""
   ]
  },
  {
   "cell_type": "code",
   "execution_count": 165,
   "metadata": {},
   "outputs": [
    {
     "data": {
      "text/plain": [
       "123"
      ]
     },
     "execution_count": 165,
     "metadata": {},
     "output_type": "execute_result"
    }
   ],
   "source": [
    "df.query('revenue > 500 & testgroup == \"a\"').revenue.count()"
   ]
  },
  {
   "cell_type": "code",
   "execution_count": 190,
   "metadata": {},
   "outputs": [
    {
     "data": {
      "text/plain": [
       "85.0"
      ]
     },
     "execution_count": 190,
     "metadata": {},
     "output_type": "execute_result"
    }
   ],
   "source": [
    "100 * round(control.query('revenue > 500').revenue.sum()/test.revenue.sum(), 2)"
   ]
  },
  {
   "cell_type": "code",
   "execution_count": 180,
   "metadata": {},
   "outputs": [
    {
     "data": {
      "text/plain": [
       "202103"
      ]
     },
     "execution_count": 180,
     "metadata": {},
     "output_type": "execute_result"
    }
   ],
   "source": [
    "control.shape[0]"
   ]
  },
  {
   "cell_type": "code",
   "execution_count": 184,
   "metadata": {},
   "outputs": [
    {
     "data": {
      "text/plain": [
       "202103"
      ]
     },
     "execution_count": 184,
     "metadata": {},
     "output_type": "execute_result"
    }
   ],
   "source": [
    "control.user_id.nunique()"
   ]
  },
  {
   "cell_type": "code",
   "execution_count": 186,
   "metadata": {},
   "outputs": [
    {
     "data": {
      "text/plain": [
       "123"
      ]
     },
     "execution_count": 186,
     "metadata": {},
     "output_type": "execute_result"
    }
   ],
   "source": [
    "df.query('revenue > 500 & testgroup == \"a\"').user_id.nunique()"
   ]
  },
  {
   "cell_type": "code",
   "execution_count": 188,
   "metadata": {},
   "outputs": [
    {
     "data": {
      "text/plain": [
       "0.030387627541566816"
      ]
     },
     "execution_count": 188,
     "metadata": {},
     "output_type": "execute_result"
    }
   ],
   "source": [
    "100 * df.query('revenue > 500 & testgroup == \"a\"').user_id.nunique()/df.user_id.nunique()"
   ]
  },
  {
   "cell_type": "code",
   "execution_count": null,
   "metadata": {},
   "outputs": [],
   "source": []
  },
  {
   "cell_type": "code",
   "execution_count": null,
   "metadata": {},
   "outputs": [],
   "source": [
    "Получается что в контрольной группе 123 клиента (0.03 % от всех клиентов)(в супертоп ценовом сегменте) приносят 84% от \n",
    "общего ревенью."
   ]
  },
  {
   "cell_type": "code",
   "execution_count": null,
   "metadata": {},
   "outputs": [],
   "source": [
    "def payment_distribution(serie):\n",
    "    \n",
    "    null = serie."
   ]
  },
  {
   "cell_type": "code",
   "execution_count": 197,
   "metadata": {},
   "outputs": [
    {
     "name": "stderr",
     "output_type": "stream",
     "text": [
      "C:\\Anaconda3\\lib\\site-packages\\seaborn\\distributions.py:2557: FutureWarning: `distplot` is a deprecated function and will be removed in a future version. Please adapt your code to use either `displot` (a figure-level function with similar flexibility) or `histplot` (an axes-level function for histograms).\n",
      "  warnings.warn(msg, FutureWarning)\n"
     ]
    },
    {
     "data": {
      "text/plain": [
       "<matplotlib.axes._subplots.AxesSubplot at 0x58996508>"
      ]
     },
     "execution_count": 197,
     "metadata": {},
     "output_type": "execute_result"
    },
    {
     "data": {
      "image/png": "[encoded data removed]",
      "text/plain": [
       "<Figure size 432x288 with 1 Axes>"
      ]
     },
     "metadata": {
      "needs_background": "light"
     },
     "output_type": "display_data"
    }
   ],
   "source": [
    "sns.distplot(test.query('revenue != 0').revenue)"
   ]
  },
  {
   "cell_type": "code",
   "execution_count": 198,
   "metadata": {},
   "outputs": [
    {
     "data": {
      "text/plain": [
       "1805"
      ]
     },
     "execution_count": 198,
     "metadata": {},
     "output_type": "execute_result"
    }
   ],
   "source": [
    "test.query('revenue != 0').revenue.count()"
   ]
  },
  {
   "cell_type": "code",
   "execution_count": null,
   "metadata": {},
   "outputs": [],
   "source": [
    "#### Напишу функцию для проверки основных параметров в а и б группах:"
   ]
  },
  {
   "cell_type": "code",
   "execution_count": 215,
   "metadata": {},
   "outputs": [],
   "source": [
    "def before_after_params(df1, df2):\n",
    "    \n",
    "    Paying_conversion = 100 * control.query('revenue != 0').user_id.nunique()/control.user_id.count()\n",
    "    Revenue = control.revenue.sum()\n",
    "    ARPU = control.revenue.sum()/control.user_id.count()\n",
    "    AOV = control.revenue.sum()/control.agg({'revenue': 'count'}).item()\n",
    "    all_clients = control.user_id.nunique()\n",
    "    active_users = control.shape[0]\n",
    "    paying_users = control.agg({'revenue': 'count'}).item()\n",
    "    \n",
    "    Paying_conversion1 = 100 * test.query('revenue != 0').user_id.nunique()/test.user_id.count()\n",
    "    Revenue1 = test.revenue.sum()\n",
    "    ARPU1 =  test.revenue.sum()/test.user_id.count()\n",
    "    AOV1 = test.revenue.sum()/test.agg({'revenue': 'count'}).item()\n",
    "    all_clients1 = test.user_id.nunique()\n",
    "    active_users1 = test.shape[0]\n",
    "    paying_users1 = test.agg({'revenue': 'count'}).item()\n",
    "#   \n",
    "\n",
    "\n",
    "    outcomes = {'Control': ['Paying conversion', Paying_conversion, 'Revenue', Revenue, 'ARPU', ARPU, 'AOV', AOV, 'num_users', all_clients, 'active users', active_users, \n",
    "                            'Paying users', paying_users], \n",
    "                'Test': ['Paying conversion', Paying_conversion, 'Revenue', Revenue1, 'ARPU', ARPU1, 'AOV', AOV1, 'num_users', all_clients1, 'active users', active_users1, \n",
    "                         'Paying users', paying_users1],\n",
    "                'Difference': ['Paying conversion difference', Paying_conversion1 - Paying_conversion, 'Revenue difference', Revenue1 - Revenue, 'ARPU difference', ARPU1 - ARPU, \n",
    "                               'AOV difference', AOV1 - AOV, 'Difference in number of users', all_clients1 - all_clients, \n",
    "                               'Active users difference', active_users1 - active_users,\n",
    "                               'Paying users difference', paying_users1 - paying_users]\n",
    "               }\n",
    " \n",
    "    return print(pd.DataFrame(outcomes))"
   ]
  },
  {
   "cell_type": "code",
   "execution_count": 216,
   "metadata": {},
   "outputs": [
    {
     "name": "stdout",
     "output_type": "stream",
     "text": [
      "              Control               Test                     Difference\n",
      "0   Paying conversion  Paying conversion   Paying conversion difference\n",
      "1            0.953969           0.953969                     -0.0633455\n",
      "2             Revenue            Revenue             Revenue difference\n",
      "3             5136189            5421603                         285414\n",
      "4                ARPU               ARPU                ARPU difference\n",
      "5             25.4137            26.7513                        1.33757\n",
      "6                 AOV                AOV                 AOV difference\n",
      "7             25.4137            26.7513                        1.33757\n",
      "8           num_users          num_users  Difference in number of users\n",
      "9              202103             202667                            564\n",
      "10       active users       active users        Active users difference\n",
      "11             202103             202667                            564\n",
      "12       Paying users       Paying users        Paying users difference\n",
      "13             202103             202667                            564\n"
     ]
    },
    {
     "name": "stderr",
     "output_type": "stream",
     "text": [
      "C:\\Anaconda3\\lib\\site-packages\\ipykernel_launcher.py:6: FutureWarning: `item` has been deprecated and will be removed in a future version\n",
      "  \n",
      "C:\\Anaconda3\\lib\\site-packages\\ipykernel_launcher.py:9: FutureWarning: `item` has been deprecated and will be removed in a future version\n",
      "  if __name__ == '__main__':\n",
      "C:\\Anaconda3\\lib\\site-packages\\ipykernel_launcher.py:14: FutureWarning: `item` has been deprecated and will be removed in a future version\n",
      "  \n",
      "C:\\Anaconda3\\lib\\site-packages\\ipykernel_launcher.py:17: FutureWarning: `item` has been deprecated and will be removed in a future version\n"
     ]
    }
   ],
   "source": [
    "before_after_params(control, test)"
   ]
  },
  {
   "cell_type": "code",
   "execution_count": 218,
   "metadata": {},
   "outputs": [
    {
     "data": {
      "text/plain": [
       "user_id      200862\n",
       "revenue      200862\n",
       "testgroup    200862\n",
       "dtype: int64"
      ]
     },
     "execution_count": 218,
     "metadata": {},
     "output_type": "execute_result"
    }
   ],
   "source": [
    "#### Забавный вывод - условия задачи не соответствуют полученным числам из данных. Конверсия незначительно упала, ARPU выросла\n",
    "на 1.3 п.п."
   ]
  },
  {
   "cell_type": "code",
   "execution_count": null,
   "metadata": {},
   "outputs": [],
   "source": []
  },
  {
   "cell_type": "code",
   "execution_count": null,
   "metadata": {},
   "outputs": [],
   "source": [
    "####  Смотрю какой вклад в бщий объем продаж привносят \"выбросы\""
   ]
  },
  {
   "cell_type": "code",
   "execution_count": 168,
   "metadata": {},
   "outputs": [
    {
     "data": {
      "text/plain": [
       "5421603"
      ]
     },
     "execution_count": 168,
     "metadata": {},
     "output_type": "execute_result"
    }
   ],
   "source": [
    "df.query('testgroup == \"b\"').revenue.sum()"
   ]
  },
  {
   "cell_type": "code",
   "execution_count": null,
   "metadata": {},
   "outputs": [],
   "source": []
  },
  {
   "cell_type": "code",
   "execution_count": 178,
   "metadata": {},
   "outputs": [
    {
     "data": {
      "text/plain": [
       "<matplotlib.axes._subplots.AxesSubplot at 0x58204e48>"
      ]
     },
     "execution_count": 178,
     "metadata": {},
     "output_type": "execute_result"
    },
    {
     "data": {
      "image/png": "[encoded data removed]",
      "text/plain": [
       "<Figure size 1152x1152 with 1 Axes>"
      ]
     },
     "metadata": {
      "needs_background": "light"
     },
     "output_type": "display_data"
    }
   ],
   "source": [
    "boxplot_builder(df.query('revenue != 0 & revenue < 35000'))"
   ]
  },
  {
   "cell_type": "code",
   "execution_count": null,
   "metadata": {},
   "outputs": [],
   "source": []
  },
  {
   "cell_type": "code",
   "execution_count": null,
   "metadata": {},
   "outputs": [],
   "source": [
    "#### Выводы:"
   ]
  },
  {
   "cell_type": "code",
   "execution_count": null,
   "metadata": {},
   "outputs": [],
   "source": []
  },
  {
   "cell_type": "code",
   "execution_count": null,
   "metadata": {},
   "outputs": [],
   "source": [
    "#### Посмотреть количество клиентов, находящихся за пределами усов и какой доход они генерят относительно дохода а пределах усов...\n",
    "\n",
    "Какое это количество покупателей.Что о них моно предварительно сказать..."
   ]
  },
  {
   "cell_type": "code",
   "execution_count": null,
   "metadata": {},
   "outputs": [],
   "source": []
  },
  {
   "cell_type": "code",
   "execution_count": null,
   "metadata": {},
   "outputs": [],
   "source": [
    "!!!!!!!!!!!!! ТЕСТЫ"
   ]
  },
  {
   "cell_type": "code",
   "execution_count": null,
   "metadata": {},
   "outputs": [],
   "source": [
    "# Создаю функцию, которая позволит проверять гипотезы с помощью бутстрапа для оценки среднего значения:\n",
    "\n",
    "def get_bootstrap(\n",
    "    data_column_1, # числовые значения первой выборки\n",
    "    data_column_2, # числовые значения второй выборки\n",
    "    boot_it = 1000, # количество бутстрэп-подвыборок\n",
    "    statistic = np.mean, # интересующая нас статистика\n",
    "    bootstrap_conf_level = 0.95 # уровень значимости\n",
    "):\n",
    "    boot_len = max([len(data_column_1), len(data_column_2)])\n",
    "    boot_data = []\n",
    "    for i in tqdm(range(boot_it)): # извлекаем подвыборки\n",
    "        samples_1 = data_column_1.sample(\n",
    "            boot_len, \n",
    "            replace = True # параметр возвращения\n",
    "        ).values\n",
    "        \n",
    "        samples_2 = data_column_2.sample(\n",
    "            boot_len, \n",
    "            replace = True\n",
    "        ).values\n",
    "        \n",
    "        boot_data.append(statistic(samples_1-samples_2)) # mean() - применяем статистику\n",
    "        \n",
    "    pd_boot_data = pd.DataFrame(boot_data)\n",
    "        \n",
    "    left_quant = (1 - bootstrap_conf_level)/2\n",
    "    right_quant = 1 - (1 - bootstrap_conf_level) / 2\n",
    "    ci = pd_boot_data.quantile([left_quant, right_quant])\n",
    "        \n",
    "    p_1 = norm.cdf(\n",
    "        x = 0, \n",
    "        loc = np.mean(boot_data), \n",
    "        scale = np.std(boot_data)\n",
    "    )\n",
    "    p_2 = norm.cdf(\n",
    "        x = 0, \n",
    "        loc = -np.mean(boot_data), \n",
    "        scale = np.std(boot_data)\n",
    "    )\n",
    "    p_value = min(p_1, p_2) * 2\n",
    "        \n",
    "    return p_value\n",
    "\n",
    "\n",
    "\n",
    "\n",
    "# Создаю функцию, которая позволит проверять гипотезы с помощью бутстрапа для оценки медианы:\n",
    "def get_bootstrap_median(\n",
    "    data_column_1, # числовые значения первой выборки\n",
    "    data_column_2, # числовые значения второй выборки\n",
    "    boot_it = 1000, # количество бутстрэп-подвыборок\n",
    "    statistic = np.median, # интересующая нас статистика\n",
    "    bootstrap_conf_level = 0.95 # уровень значимости\n",
    "):\n",
    "    boot_len = max([len(data_column_1), len(data_column_2)])\n",
    "    boot_data = []\n",
    "    for i in tqdm(range(boot_it)): # извлекаем подвыборки\n",
    "        samples_1 = data_column_1.sample(\n",
    "            boot_len, \n",
    "            replace = True # параметр возвращения\n",
    "        ).values\n",
    "        \n",
    "        samples_2 = data_column_2.sample(\n",
    "            boot_len, \n",
    "            replace = True\n",
    "        ).values\n",
    "        \n",
    "        boot_data.append(statistic(samples_1-samples_2)) \n",
    "        \n",
    "    pd_boot_data = pd.DataFrame(boot_data)\n",
    "        \n",
    "    left_quant = (1 - bootstrap_conf_level)/2\n",
    "    right_quant = 1 - (1 - bootstrap_conf_level) / 2\n",
    "    ci = pd_boot_data.quantile([left_quant, right_quant])\n",
    "        \n",
    "    p_1 = norm.cdf(\n",
    "        x = 0, \n",
    "        loc = np.mean(boot_data), \n",
    "        scale = np.std(boot_data)\n",
    "    )\n",
    "    p_2 = norm.cdf(\n",
    "        x = 0, \n",
    "        loc = -np.mean(boot_data), \n",
    "        scale = np.std(boot_data)\n",
    "    )\n",
    "    p_value = min(p_1, p_2) * 2\n",
    "        \n",
    "           \n",
    "    return p_value"
   ]
  },
  {
   "cell_type": "code",
   "execution_count": null,
   "metadata": {},
   "outputs": [],
   "source": []
  },
  {
   "cell_type": "code",
   "execution_count": 220,
   "metadata": {},
   "outputs": [
    {
     "data": {
      "text/html": [
       "<div>\n",
       "<style scoped>\n",
       "    .dataframe tbody tr th:only-of-type {\n",
       "        vertical-align: middle;\n",
       "    }\n",
       "\n",
       "    .dataframe tbody tr th {\n",
       "        vertical-align: top;\n",
       "    }\n",
       "\n",
       "    .dataframe thead th {\n",
       "        text-align: right;\n",
       "    }\n",
       "</style>\n",
       "<table border=\"1\" class=\"dataframe\">\n",
       "  <thead>\n",
       "    <tr style=\"text-align: right;\">\n",
       "      <th></th>\n",
       "      <th>user_id</th>\n",
       "      <th>revenue</th>\n",
       "      <th>testgroup</th>\n",
       "    </tr>\n",
       "  </thead>\n",
       "  <tbody>\n",
       "    <tr>\n",
       "      <td>1</td>\n",
       "      <td>2</td>\n",
       "      <td>0</td>\n",
       "      <td>a</td>\n",
       "    </tr>\n",
       "    <tr>\n",
       "      <td>2</td>\n",
       "      <td>3</td>\n",
       "      <td>0</td>\n",
       "      <td>a</td>\n",
       "    </tr>\n",
       "    <tr>\n",
       "      <td>9</td>\n",
       "      <td>10</td>\n",
       "      <td>0</td>\n",
       "      <td>a</td>\n",
       "    </tr>\n",
       "    <tr>\n",
       "      <td>10</td>\n",
       "      <td>11</td>\n",
       "      <td>0</td>\n",
       "      <td>a</td>\n",
       "    </tr>\n",
       "    <tr>\n",
       "      <td>11</td>\n",
       "      <td>12</td>\n",
       "      <td>0</td>\n",
       "      <td>a</td>\n",
       "    </tr>\n",
       "  </tbody>\n",
       "</table>\n",
       "</div>"
      ],
      "text/plain": [
       "    user_id  revenue testgroup\n",
       "1         2        0         a\n",
       "2         3        0         a\n",
       "9        10        0         a\n",
       "10       11        0         a\n",
       "11       12        0         a"
      ]
     },
     "execution_count": 220,
     "metadata": {},
     "output_type": "execute_result"
    }
   ],
   "source": [
    "control.head()"
   ]
  },
  {
   "cell_type": "code",
   "execution_count": 221,
   "metadata": {},
   "outputs": [
    {
     "name": "stderr",
     "output_type": "stream",
     "text": [
      "C:\\Anaconda3\\lib\\site-packages\\ipykernel_launcher.py:1: SettingWithCopyWarning: \n",
      "A value is trying to be set on a copy of a slice from a DataFrame.\n",
      "Try using .loc[row_indexer,col_indexer] = value instead\n",
      "\n",
      "See the caveats in the documentation: http://pandas.pydata.org/pandas-docs/stable/user_guide/indexing.html#returning-a-view-versus-a-copy\n",
      "  \"\"\"Entry point for launching an IPython kernel.\n"
     ]
    }
   ],
   "source": [
    "control['arpu'] = control.revenue/control.user_id.nunique()"
   ]
  },
  {
   "cell_type": "code",
   "execution_count": 222,
   "metadata": {},
   "outputs": [
    {
     "data": {
      "text/html": [
       "<div>\n",
       "<style scoped>\n",
       "    .dataframe tbody tr th:only-of-type {\n",
       "        vertical-align: middle;\n",
       "    }\n",
       "\n",
       "    .dataframe tbody tr th {\n",
       "        vertical-align: top;\n",
       "    }\n",
       "\n",
       "    .dataframe thead th {\n",
       "        text-align: right;\n",
       "    }\n",
       "</style>\n",
       "<table border=\"1\" class=\"dataframe\">\n",
       "  <thead>\n",
       "    <tr style=\"text-align: right;\">\n",
       "      <th></th>\n",
       "      <th>user_id</th>\n",
       "      <th>revenue</th>\n",
       "      <th>testgroup</th>\n",
       "      <th>arpu</th>\n",
       "    </tr>\n",
       "  </thead>\n",
       "  <tbody>\n",
       "    <tr>\n",
       "      <td>1</td>\n",
       "      <td>2</td>\n",
       "      <td>0</td>\n",
       "      <td>a</td>\n",
       "      <td>0.0</td>\n",
       "    </tr>\n",
       "    <tr>\n",
       "      <td>2</td>\n",
       "      <td>3</td>\n",
       "      <td>0</td>\n",
       "      <td>a</td>\n",
       "      <td>0.0</td>\n",
       "    </tr>\n",
       "    <tr>\n",
       "      <td>9</td>\n",
       "      <td>10</td>\n",
       "      <td>0</td>\n",
       "      <td>a</td>\n",
       "      <td>0.0</td>\n",
       "    </tr>\n",
       "    <tr>\n",
       "      <td>10</td>\n",
       "      <td>11</td>\n",
       "      <td>0</td>\n",
       "      <td>a</td>\n",
       "      <td>0.0</td>\n",
       "    </tr>\n",
       "    <tr>\n",
       "      <td>11</td>\n",
       "      <td>12</td>\n",
       "      <td>0</td>\n",
       "      <td>a</td>\n",
       "      <td>0.0</td>\n",
       "    </tr>\n",
       "  </tbody>\n",
       "</table>\n",
       "</div>"
      ],
      "text/plain": [
       "    user_id  revenue testgroup  arpu\n",
       "1         2        0         a   0.0\n",
       "2         3        0         a   0.0\n",
       "9        10        0         a   0.0\n",
       "10       11        0         a   0.0\n",
       "11       12        0         a   0.0"
      ]
     },
     "execution_count": 222,
     "metadata": {},
     "output_type": "execute_result"
    }
   ],
   "source": [
    "control.head()"
   ]
  },
  {
   "cell_type": "code",
   "execution_count": 223,
   "metadata": {},
   "outputs": [],
   "source": []
  },
  {
   "cell_type": "code",
   "execution_count": null,
   "metadata": {},
   "outputs": [],
   "source": []
  },
  {
   "cell_type": "code",
   "execution_count": null,
   "metadata": {},
   "outputs": [],
   "source": []
  },
  {
   "cell_type": "code",
   "execution_count": null,
   "metadata": {},
   "outputs": [],
   "source": []
  },
  {
   "cell_type": "code",
   "execution_count": null,
   "metadata": {},
   "outputs": [],
   "source": [
    "Задание 3:\n",
    "\n",
    "В игре Plants & Gardens каждый месяц проводятся тематические события, ограниченные по времени. В них игроки могут получить \n",
    "уникальные предметы для сада и персонажей, дополнительные монеты или бонусы. Для получения награды требуется пройти ряд \n",
    "уровней за определенное время. С помощью каких метрик можно оценить результаты последнего прошедшего события?\n",
    "\n",
    "Предположим, в другом событии мы усложнили механику событий так, что при каждой неудачной попытке выполнения уровня игрок \n",
    "будет откатываться на несколько уровней назад. Изменится ли набор метрик оценки результата? Если да, то как?"
   ]
  },
  {
   "cell_type": "code",
   "execution_count": null,
   "metadata": {},
   "outputs": [],
   "source": []
  }
 ],
 "metadata": {
  "kernelspec": {
   "display_name": "Python 3",
   "language": "python",
   "name": "python3"
  },
  "language_info": {
   "codemirror_mode": {
    "name": "ipython",
    "version": 3
   },
   "file_extension": ".py",
   "mimetype": "text/x-python",
   "name": "python",
   "nbconvert_exporter": "python",
   "pygments_lexer": "ipython3",
   "version": "3.7.4"
  }
 },
 "nbformat": 4,
 "nbformat_minor": 2
}
