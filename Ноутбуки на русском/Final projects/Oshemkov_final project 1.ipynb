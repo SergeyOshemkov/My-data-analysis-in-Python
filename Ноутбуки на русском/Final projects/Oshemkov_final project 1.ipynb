{
 "cells": [
  {
   "cell_type": "markdown",
   "metadata": {},
   "source": [
    "## Задача 1:\n",
    "\n",
    "Представьте, что вы аналитик в компании, которая разрабатывает приложение для обработки и оформления \n",
    "фотографий в формате Stories (например, для дальнейшего экспорта в Instagram Stories). Был проведен \n",
    "A/B тест: тестовой группе предлагалась новая модель оплаты коллекций шаблонов, контрольной – старая \n",
    "механика. Ваша основная задача: проанализировать итоги эксперимента и решить, нужно ли выкатывать \n",
    "новую модель на остальных пользователей.\n",
    "\n",
    "В ходе отчета обоснуйте выбор метрик, на которые вы обращаете внимание. Если различия есть, то \n",
    "объясните, с чем они могут быть связаны и являются ли значимыми.\n",
    "\n",
    "Данные:\n",
    "\n",
    "active_users – информация о пользователях, которые посещали приложение во время эксперимента. \n",
    "groups – разбивка пользователей на контрольную (А) и тестовую (В) группы. \n",
    "purchases – данные о транзакциях (оплатах) пользователей приложения во время эксперимента "
   ]
  },
  {
   "cell_type": "markdown",
   "metadata": {},
   "source": [
    "#### Алгоритм решения:\n",
    "\n",
    "1.  Импортирую библиотеки.\n",
    "2.  Загружаю датасеты.\n",
    "3.  Смотрю структуру, типы данных, проверяю на наличие дубликатов и пропущенных значений.\n",
    "4.  Формирую рабочий датафрейм из загруженных датасетов.\n",
    "5.  Провожу разделение датасета на тестовую и контрольную группы.\n",
    "6.  Анализирую базовый сценарий (при слиянии активных посетителей с купившими 149 купивших человек \n",
    "    оказываются без информации о стране, платформе и поле).\n",
    "7.  Выбираю параметры для оценки АВ-теста.\n",
    "8.  Проверяю насколько изменились основные параметры в тестовой группе относительно контрольной           группы.\n",
    "9.  Строю боксплоты для того чтобы оценить выбросы.\n",
    "10. Оцениваю наличие и величину выбросов и принимаю решение что с ними делать.\n",
    "11. Проверяю тестовую и контрольную выборки на нормальность.\n",
    "12. Проверяю равномерность распределения данных в контрольной и тестовой группах.\n",
    "13. Выбираю метод проверки статистической значимости.\n",
    "14. Осуществляю проверку на статистическую значимость. \n",
    "15. Делаю выводы.\n",
    "16. Advanced сценарий 1 - проверяю на стат. значимость изменения, полученные в результате АВ-теста       по странам чтобы убедиться в том, что новую модель можно раскатывать на всех пользователей.\n",
    "17. Advanced сценарий 2 - заполняю пропущенные значения после merge-а датасетов active_users и           purchases при помощи модели линейной регрессии или при помощи корреляционной формулы учитывая         выcокую корреляцию признаков с целевым параметром revenue (до этого момента я могу проверить         гипотезу (п. 16) на частичых данных - без информации о стране пользователей 149 аккаунтах).\n",
    "17. Осуществляю проверку на статистическую значимость.\n",
    "18. Делаю финальные выводы."
   ]
  },
  {
   "cell_type": "markdown",
   "metadata": {},
   "source": [
    "#### Импортирую библиотеки:"
   ]
  },
  {
   "cell_type": "code",
   "execution_count": 1,
   "metadata": {},
   "outputs": [],
   "source": [
    "import pandas as pd\n",
    "import numpy as np\n",
    "%matplotlib inline\n",
    "import warnings\n",
    "\n",
    "from scipy.stats import levene\n",
    "from scipy.stats import shapiro\n",
    "\n",
    "# часть импортирую для использования Бутстрепа:\n",
    "    \n",
    "import numpy as np\n",
    "import scipy\n",
    "import seaborn as sns\n",
    "\n",
    "from scipy.stats import norm, mannwhitneyu, ttest_ind\n",
    "import matplotlib.pyplot as plt\n",
    "# from locale import atof, setlocale, LC_NUMERIC\n",
    "import locale\n",
    "from locale import atof\n",
    "from tqdm.auto import tqdm\n",
    "\n",
    "plt.style.use('ggplot')\n",
    "\n",
    "# Загружаю датасеты:\n",
    "\n",
    "purchases = pd.read_csv('https://getfile.dokpub.com/yandex/get/https://disk.yandex.ru/d/zWzR0qsiYlnF0g')\n",
    "                        \n",
    "active_users = pd.read_csv('https://getfile.dokpub.com/yandex/get/https://disk.yandex.ru/d/ozmQfT5Mc-vtoQ')\n",
    "                        \n",
    "groups = pd.read_csv('https://getfile.dokpub.com/yandex/get/https://disk.yandex.ru/d/G7kgh-Pp7bx5Fw')"
   ]
  },
  {
   "cell_type": "markdown",
   "metadata": {},
   "source": [
    "#### Создаю функцию для сравнения shape датафреймов и наличия дубликатов в колонках:"
   ]
  },
  {
   "cell_type": "code",
   "execution_count": 2,
   "metadata": {},
   "outputs": [
    {
     "name": "stdout",
     "output_type": "stream",
     "text": [
      "    purchases active_users      groups\n",
      "0       shape        shape       shape\n",
      "1    (541, 2)    (8341, 4)  (74576, 2)\n",
      "2  duplicated   duplicated  duplicated\n",
      "3           0            0           0\n"
     ]
    }
   ],
   "source": [
    "def datasets_params(df1, df2, df3):\n",
    "    \n",
    "    params = {'purchases': ['shape', df1.shape, 'duplicated', df1.duplicated().sum()], \n",
    "              'active_users': ['shape', df2.shape, 'duplicated', df2.duplicated().sum()],\n",
    "              'groups': ['shape', df3.shape, 'duplicated', df3.duplicated().sum()]\n",
    "              }\n",
    " \n",
    "    return print(pd.DataFrame(params))\n",
    "\n",
    "datasets_params(purchases, active_users, groups)"
   ]
  },
  {
   "cell_type": "markdown",
   "metadata": {},
   "source": [
    "#### Создаю функцию, которая мерджит исходные датафреймы:"
   ]
  },
  {
   "cell_type": "code",
   "execution_count": 3,
   "metadata": {},
   "outputs": [
    {
     "data": {
      "text/html": [
       "<div>\n",
       "<style scoped>\n",
       "    .dataframe tbody tr th:only-of-type {\n",
       "        vertical-align: middle;\n",
       "    }\n",
       "\n",
       "    .dataframe tbody tr th {\n",
       "        vertical-align: top;\n",
       "    }\n",
       "\n",
       "    .dataframe thead th {\n",
       "        text-align: right;\n",
       "    }\n",
       "</style>\n",
       "<table border=\"1\" class=\"dataframe\">\n",
       "  <thead>\n",
       "    <tr style=\"text-align: right;\">\n",
       "      <th></th>\n",
       "      <th>user_id</th>\n",
       "      <th>country</th>\n",
       "      <th>platform</th>\n",
       "      <th>sex</th>\n",
       "      <th>revenue</th>\n",
       "      <th>group</th>\n",
       "    </tr>\n",
       "  </thead>\n",
       "  <tbody>\n",
       "    <tr>\n",
       "      <th>0</th>\n",
       "      <td>8029</td>\n",
       "      <td>Russia</td>\n",
       "      <td>ios</td>\n",
       "      <td>male</td>\n",
       "      <td>NaN</td>\n",
       "      <td>B</td>\n",
       "    </tr>\n",
       "    <tr>\n",
       "      <th>1</th>\n",
       "      <td>1735</td>\n",
       "      <td>Sweden</td>\n",
       "      <td>ios</td>\n",
       "      <td>male</td>\n",
       "      <td>NaN</td>\n",
       "      <td>B</td>\n",
       "    </tr>\n",
       "    <tr>\n",
       "      <th>2</th>\n",
       "      <td>7697</td>\n",
       "      <td>Russia</td>\n",
       "      <td>android</td>\n",
       "      <td>male</td>\n",
       "      <td>NaN</td>\n",
       "      <td>B</td>\n",
       "    </tr>\n",
       "    <tr>\n",
       "      <th>3</th>\n",
       "      <td>1421</td>\n",
       "      <td>Sweden</td>\n",
       "      <td>android</td>\n",
       "      <td>female</td>\n",
       "      <td>NaN</td>\n",
       "      <td>B</td>\n",
       "    </tr>\n",
       "    <tr>\n",
       "      <th>4</th>\n",
       "      <td>1704</td>\n",
       "      <td>Russia</td>\n",
       "      <td>ios</td>\n",
       "      <td>male</td>\n",
       "      <td>NaN</td>\n",
       "      <td>B</td>\n",
       "    </tr>\n",
       "  </tbody>\n",
       "</table>\n",
       "</div>"
      ],
      "text/plain": [
       "   user_id country platform     sex  revenue group\n",
       "0     8029  Russia      ios    male      NaN     B\n",
       "1     1735  Sweden      ios    male      NaN     B\n",
       "2     7697  Russia  android    male      NaN     B\n",
       "3     1421  Sweden  android  female      NaN     B\n",
       "4     1704  Russia      ios    male      NaN     B"
      ]
     },
     "execution_count": 3,
     "metadata": {},
     "output_type": "execute_result"
    }
   ],
   "source": [
    "def merge(df1, df2, df3):\n",
    "    \n",
    "    # Делаю outer join active_users и purchases. \n",
    "    \n",
    "    # Считаю что для цели исследования наиболее важными показателями является не общее количество \n",
    "    # пользователей, а именно активные и совершившие покупку, поэтому делаю inner join c groups:\n",
    "    \n",
    "    df = (df1.merge(df2, on='user_id', how='outer')).merge(df3, on='user_id', how='inner')\n",
    "    \n",
    "    return df\n",
    "\n",
    "df = merge(active_users, purchases, groups)\n",
    "\n",
    "df.head()"
   ]
  },
  {
   "cell_type": "markdown",
   "metadata": {},
   "source": [
    "#### Произвожу разделение на тестовую и контрольную группы (только активных и купивших пользователей):"
   ]
  },
  {
   "cell_type": "code",
   "execution_count": 4,
   "metadata": {},
   "outputs": [],
   "source": [
    "df_control = df.query('group == \"A\"')\n",
    "\n",
    "df_test = df.query('group == \"B\"')"
   ]
  },
  {
   "cell_type": "markdown",
   "metadata": {},
   "source": [
    "#### Создаю функцию для наглядной оценки изменения основных параметров в контрольной и тестовой группах"
   ]
  },
  {
   "cell_type": "code",
   "execution_count": 55,
   "metadata": {},
   "outputs": [
    {
     "name": "stdout",
     "output_type": "stream",
     "text": [
      "              Control               Test                     Difference\n",
      "0   Paying conversion  Paying conversion   Paying conversion difference\n",
      "1             6.82833            6.82833                      -0.559376\n",
      "2             Revenue            Revenue             Revenue difference\n",
      "3               93162             485575                         392413\n",
      "4                ARPU               ARPU                ARPU difference\n",
      "5             59.4525            70.1394                        10.6869\n",
      "6                 AOV                AOV        Revenue_mean_difference\n",
      "7             870.673            1118.84                        248.164\n",
      "8           num_users          num_users      Revenue_median_difference\n",
      "9               14693              59883                            246\n",
      "10       active users       active users                 AOV difference\n",
      "11               1567               6923                        248.164\n",
      "12       Revenue mean       Revenue mean  Difference in number of users\n",
      "13            870.673            1118.84                          45190\n",
      "14     Revenue median     Revenue median        Active users difference\n",
      "15                698                944                           5356\n",
      "16       Paying users       Paying users        Paying users difference\n",
      "17                107                434                            327\n"
     ]
    }
   ],
   "source": [
    "def before_after_params(df1, df2):\n",
    "    \n",
    "    Paying_conversion = (100 * df1.agg({'revenue': 'count'})/df1.shape[0]).item()\n",
    "    Revenue = df1.revenue.sum()\n",
    "    Revenue_mean = df1.revenue.mean()\n",
    "    Revenue_median = df1.revenue.median()\n",
    "    ARPU = df1.revenue.sum()/df1.user_id.nunique()\n",
    "    AOV = df1.revenue.sum()/df1.agg({'revenue': 'count'}).item()\n",
    "    all_clients = groups.query('group == \"A\"').shape[0]\n",
    "    active_users = df1.shape[0]\n",
    "    paying_users = df1.agg({'revenue': 'count'}).item()\n",
    "    \n",
    "    Paying_conversion1 = (100* df2.agg({'revenue': 'count'})/df2.shape[0]).item()\n",
    "    Revenue1 = df2.revenue.sum()\n",
    "    Revenue_mean1 = df2.revenue.mean()\n",
    "    Revenue_median1 = df2.revenue.median()\n",
    "    ARPU1 =  df2.revenue.sum()/df2.user_id.nunique()\n",
    "    AOV1 = df2.revenue.sum()/df2.agg({'revenue': 'count'}).item()\n",
    "    all_clients1 = groups.query('group == \"B\"').shape[0]\n",
    "    active_users1 = df2.shape[0]\n",
    "    paying_users1 = df2.agg({'revenue': 'count'}).item()\n",
    "\n",
    "\n",
    "\n",
    "    outcomes = {'Control': ['Paying conversion', Paying_conversion, 'Revenue', Revenue, \n",
    "                            'ARPU', ARPU, 'AOV', AOV, 'num_users', all_clients, \n",
    "                            'active users', active_users, 'Revenue mean', Revenue_mean, \n",
    "                            'Revenue median', Revenue_median, 'Paying users', paying_users], \n",
    "                'Test': ['Paying conversion', Paying_conversion, 'Revenue', Revenue1, \n",
    "                         'ARPU', ARPU1, 'AOV', AOV1, 'num_users', all_clients1, \n",
    "                         'active users', active_users1, 'Revenue mean', Revenue_mean1, \n",
    "                         'Revenue median', Revenue_median1, 'Paying users', paying_users1],\n",
    "                'Difference': ['Paying conversion difference', Paying_conversion1 - Paying_conversion, \n",
    "                               'Revenue difference', Revenue1 - Revenue, 'ARPU difference', ARPU1 - ARPU, \n",
    "                               'AOV difference', AOV1 - AOV, 'Difference in number of users', all_clients1 - all_clients, \n",
    "                               'Active users difference', active_users1 - active_users,\n",
    "                               'Revenue_mean_difference', Revenue_mean1 - Revenue_mean,\n",
    "                               'Revenue_median_difference', Revenue_median1 - Revenue_median,\n",
    "                               'Paying users difference', paying_users1 - paying_users]\n",
    "               }\n",
    " \n",
    "    return print(pd.DataFrame(outcomes))\n",
    "\n",
    "# Отключаю здесь не критичные предупреждения от Jupyter чтобы легче было читать результаты.\n",
    "\n",
    "warnings.filterwarnings('ignore')\n",
    "\n",
    "# Смотрю насколько изменились важные параметры в тестовой и контрольной группах:\n",
    " \n",
    "    return print(pd.DataFrame(outcomes))\n",
    "\n",
    "# Отключаю здесь не критичные предупреждения от Jupyter чтобы легче было читать результаты.\n",
    "\n",
    "warnings.filterwarnings('ignore')\n",
    "\n",
    "# Смотрю насколько изменились важные параметры в тестовой и контрольной группах:\n",
    "\n",
    "before_after_params(df_control, df_test)"
   ]
  },
  {
   "cell_type": "markdown",
   "metadata": {},
   "source": [
    "#### Выводы:"
   ]
  },
  {
   "cell_type": "markdown",
   "metadata": {},
   "source": [
    "Насколько я понял задачу - исследуются клиенты из имеющейся клиентской базы (все пользователи о которых до начала \n",
    "эксперимента было известно изначально разделены на 2 группы в файле groups и часть из них в течение тестового периода \n",
    "пользовалась Приложением, часть его приобрела, новые уникальные пользователи в ходе эксперимента не появились).\n",
    "\n",
    "Из сравнения параметров тестовой и контрольной выборок и смены модели оплаты коллекций шаблонов в тестовой группе на новую, можно сделать предварительные выводы о том, что в результате:\n",
    "    \n",
    "на 0.6% снизилась конверсия активных клиентов в покупку;\n",
    "revenue увеличилась на 392 413 у.е.;\n",
    "ARPU вырос на 10.7 у.е.;\n",
    "AOV вырос на 248.1 у.е.\n",
    "\n",
    "При этом важно учитывать, что в тестовой группе по сравнению в с контрольной оказалось\n",
    "на 5356 больше пользователей;\n",
    "на 327 возросло количество покупателей."
   ]
  },
  {
   "cell_type": "markdown",
   "metadata": {},
   "source": [
    "#### Строю боксплоты чтобы оценить наличие выбросов в контрольной и тестовой группах:"
   ]
  },
  {
   "cell_type": "code",
   "execution_count": 6,
   "metadata": {},
   "outputs": [
    {
     "data": {
      "text/plain": [
       "<matplotlib.axes._subplots.AxesSubplot at 0x7f703ee81ef0>"
      ]
     },
     "execution_count": 6,
     "metadata": {},
     "output_type": "execute_result"
    },
    {
     "data": {
      "image/png": "[encoded data removed]",
      "text/plain": [
       "<Figure size 1152x1152 with 1 Axes>"
      ]
     },
     "metadata": {},
     "output_type": "display_data"
    }
   ],
   "source": [
    "plt.figure(figsize=(16,16))\n",
    "\n",
    "sns.boxplot(x='group', y ='revenue', data=df)"
   ]
  },
  {
   "cell_type": "markdown",
   "metadata": {},
   "source": [
    "##### Вывод: И в тестовой и в контрольной группах есть сильные выбросы. Выберу именно эти данные и постараюсь понять причину их возникновения."
   ]
  },
  {
   "cell_type": "markdown",
   "metadata": {},
   "source": [
    "#### Создаю функцию, считающую межквартильный размах:"
   ]
  },
  {
   "cell_type": "code",
   "execution_count": 7,
   "metadata": {},
   "outputs": [
    {
     "data": {
      "text/html": [
       "<div>\n",
       "<style scoped>\n",
       "    .dataframe tbody tr th:only-of-type {\n",
       "        vertical-align: middle;\n",
       "    }\n",
       "\n",
       "    .dataframe tbody tr th {\n",
       "        vertical-align: top;\n",
       "    }\n",
       "\n",
       "    .dataframe thead th {\n",
       "        text-align: right;\n",
       "    }\n",
       "</style>\n",
       "<table border=\"1\" class=\"dataframe\">\n",
       "  <thead>\n",
       "    <tr style=\"text-align: right;\">\n",
       "      <th></th>\n",
       "      <th>user_id</th>\n",
       "      <th>country</th>\n",
       "      <th>platform</th>\n",
       "      <th>sex</th>\n",
       "      <th>revenue</th>\n",
       "      <th>group</th>\n",
       "    </tr>\n",
       "  </thead>\n",
       "  <tbody>\n",
       "    <tr>\n",
       "      <th>1175</th>\n",
       "      <td>3674</td>\n",
       "      <td>Russia</td>\n",
       "      <td>ios</td>\n",
       "      <td>female</td>\n",
       "      <td>2229.0</td>\n",
       "      <td>A</td>\n",
       "    </tr>\n",
       "    <tr>\n",
       "      <th>5445</th>\n",
       "      <td>2206</td>\n",
       "      <td>Russia</td>\n",
       "      <td>android</td>\n",
       "      <td>female</td>\n",
       "      <td>2910.0</td>\n",
       "      <td>A</td>\n",
       "    </tr>\n",
       "    <tr>\n",
       "      <th>5671</th>\n",
       "      <td>8025</td>\n",
       "      <td>Russia</td>\n",
       "      <td>ios</td>\n",
       "      <td>female</td>\n",
       "      <td>2921.0</td>\n",
       "      <td>A</td>\n",
       "    </tr>\n",
       "    <tr>\n",
       "      <th>8243</th>\n",
       "      <td>7950</td>\n",
       "      <td>Russia</td>\n",
       "      <td>ios</td>\n",
       "      <td>male</td>\n",
       "      <td>3669.0</td>\n",
       "      <td>A</td>\n",
       "    </tr>\n",
       "    <tr>\n",
       "      <th>429</th>\n",
       "      <td>1673</td>\n",
       "      <td>Sweden</td>\n",
       "      <td>android</td>\n",
       "      <td>male</td>\n",
       "      <td>2899.0</td>\n",
       "      <td>A</td>\n",
       "    </tr>\n",
       "    <tr>\n",
       "      <th>1082</th>\n",
       "      <td>3481</td>\n",
       "      <td>Sweden</td>\n",
       "      <td>android</td>\n",
       "      <td>male</td>\n",
       "      <td>2829.0</td>\n",
       "      <td>A</td>\n",
       "    </tr>\n",
       "    <tr>\n",
       "      <th>1988</th>\n",
       "      <td>591</td>\n",
       "      <td>Sweden</td>\n",
       "      <td>ios</td>\n",
       "      <td>female</td>\n",
       "      <td>3670.0</td>\n",
       "      <td>A</td>\n",
       "    </tr>\n",
       "    <tr>\n",
       "      <th>2517</th>\n",
       "      <td>392</td>\n",
       "      <td>Sweden</td>\n",
       "      <td>android</td>\n",
       "      <td>male</td>\n",
       "      <td>2920.0</td>\n",
       "      <td>A</td>\n",
       "    </tr>\n",
       "    <tr>\n",
       "      <th>2856</th>\n",
       "      <td>2093</td>\n",
       "      <td>Sweden</td>\n",
       "      <td>android</td>\n",
       "      <td>male</td>\n",
       "      <td>2828.0</td>\n",
       "      <td>A</td>\n",
       "    </tr>\n",
       "    <tr>\n",
       "      <th>4121</th>\n",
       "      <td>1606</td>\n",
       "      <td>Sweden</td>\n",
       "      <td>android</td>\n",
       "      <td>male</td>\n",
       "      <td>3671.0</td>\n",
       "      <td>A</td>\n",
       "    </tr>\n",
       "  </tbody>\n",
       "</table>\n",
       "</div>"
      ],
      "text/plain": [
       "      user_id country platform     sex  revenue group\n",
       "1175     3674  Russia      ios  female   2229.0     A\n",
       "5445     2206  Russia  android  female   2910.0     A\n",
       "5671     8025  Russia      ios  female   2921.0     A\n",
       "8243     7950  Russia      ios    male   3669.0     A\n",
       "429      1673  Sweden  android    male   2899.0     A\n",
       "1082     3481  Sweden  android    male   2829.0     A\n",
       "1988      591  Sweden      ios  female   3670.0     A\n",
       "2517      392  Sweden  android    male   2920.0     A\n",
       "2856     2093  Sweden  android    male   2828.0     A\n",
       "4121     1606  Sweden  android    male   3671.0     A"
      ]
     },
     "execution_count": 7,
     "metadata": {},
     "output_type": "execute_result"
    }
   ],
   "source": [
    "def iqr_interval(serie1, serie2):\n",
    "        \n",
    "    # Считаю верхний и нижний перцентили:\n",
    "    \n",
    "    q1_control = np.nanpercentile(df_control.revenue, 25)    \n",
    "    q3_control = np.nanpercentile(df_control.revenue, 75)\n",
    "\n",
    "    q1_test = np.nanpercentile(df_test.revenue, 25)    \n",
    "    q3_test = np.nanpercentile(df_test.revenue, 75)\n",
    "\n",
    "\n",
    "    iqr_control = q3_control - q1_control\n",
    "    iqr_test = q3_test - q1_test\n",
    "    \n",
    "    \n",
    "    return iqr_control, iqr_test, q3_control, q3_test\n",
    "\n",
    "# Записываю результат работы функции в переменную:\n",
    "\n",
    "interval = iqr_interval(df_control.revenue, df_test.revenue)\n",
    "\n",
    "# Смотрю на выбросы, определенные по правилу межквартильного размаха в контрольной группе:\n",
    "\n",
    "upper = df_control.query('revenue >= (@interval[2] + 1.5 * @interval[0])')\n",
    "\n",
    "upper.sort_values('country')"
   ]
  },
  {
   "cell_type": "markdown",
   "metadata": {},
   "source": [
    "#### Смотрю на выбросы, определенные по правилу межквартильного размаха в тестовой группе:"
   ]
  },
  {
   "cell_type": "code",
   "execution_count": 9,
   "metadata": {},
   "outputs": [
    {
     "data": {
      "text/html": [
       "<div>\n",
       "<style scoped>\n",
       "    .dataframe tbody tr th:only-of-type {\n",
       "        vertical-align: middle;\n",
       "    }\n",
       "\n",
       "    .dataframe tbody tr th {\n",
       "        vertical-align: top;\n",
       "    }\n",
       "\n",
       "    .dataframe thead th {\n",
       "        text-align: right;\n",
       "    }\n",
       "</style>\n",
       "<table border=\"1\" class=\"dataframe\">\n",
       "  <thead>\n",
       "    <tr style=\"text-align: right;\">\n",
       "      <th></th>\n",
       "      <th>user_id</th>\n",
       "      <th>country</th>\n",
       "      <th>platform</th>\n",
       "      <th>sex</th>\n",
       "      <th>revenue</th>\n",
       "      <th>group</th>\n",
       "    </tr>\n",
       "  </thead>\n",
       "  <tbody>\n",
       "    <tr>\n",
       "      <th>7286</th>\n",
       "      <td>3988</td>\n",
       "      <td>Sweden</td>\n",
       "      <td>ios</td>\n",
       "      <td>female</td>\n",
       "      <td>4660.0</td>\n",
       "      <td>B</td>\n",
       "    </tr>\n",
       "  </tbody>\n",
       "</table>\n",
       "</div>"
      ],
      "text/plain": [
       "      user_id country platform     sex  revenue group\n",
       "7286     3988  Sweden      ios  female   4660.0     B"
      ]
     },
     "execution_count": 9,
     "metadata": {},
     "output_type": "execute_result"
    }
   ],
   "source": [
    "upper = df_test.query('revenue >= (@interval[3] + 1.5 * @interval[1])')\n",
    "\n",
    "upper.sort_values('country')"
   ]
  },
  {
   "cell_type": "markdown",
   "metadata": {},
   "source": [
    "#### Выводы:"
   ]
  },
  {
   "cell_type": "markdown",
   "metadata": {},
   "source": [
    "в тестовой группе есть 1 явный выброс. Возможно, это корпоративный клиент, или администратор инстаграмм, под акаунтом которого работает группа администраторов, ведущие несколько каналов и обрабатывающих очень большое количество контента (в случае если Приложение чарджит за количество обрабатываемого контента);\n",
    "\n",
    "возможно, это баг системы - нужно лучше понимать специфику бизнеса, запросить логи в Службе Поддержки.\n",
    "\n",
    "В контрольной группе есть 10 выбросов. Вероятно их можно объяснить теми же причинами."
   ]
  },
  {
   "cell_type": "markdown",
   "metadata": {},
   "source": [
    "#### Выбираю оптимальный способ для проверки статистической значимости результатов АВ-теста. Смотрю график распределения в контрольной и тестовой группах:"
   ]
  },
  {
   "cell_type": "code",
   "execution_count": 8,
   "metadata": {},
   "outputs": [
    {
     "data": {
      "text/plain": [
       "<matplotlib.axes._subplots.AxesSubplot at 0x7f703e741f28>"
      ]
     },
     "execution_count": 8,
     "metadata": {},
     "output_type": "execute_result"
    },
    {
     "data": {
      "image/png": "[encoded data removed]",
      "text/plain": [
       "<Figure size 504x504 with 1 Axes>"
      ]
     },
     "metadata": {},
     "output_type": "display_data"
    },
    {
     "data": {
      "image/png": "[encoded data removed]",
      "text/plain": [
       "<Figure size 504x504 with 1 Axes>"
      ]
     },
     "metadata": {},
     "output_type": "display_data"
    }
   ],
   "source": [
    "plt.figure(figsize=(7,7))\n",
    "sns.distplot(df_control.revenue)\n",
    "\n",
    "plt.figure(figsize=(7,7))\n",
    "sns.distplot(df_test.revenue)"
   ]
  },
  {
   "cell_type": "markdown",
   "metadata": {},
   "source": [
    "#### Создам копию датасетов но без этих выбросов:"
   ]
  },
  {
   "cell_type": "code",
   "execution_count": 47,
   "metadata": {},
   "outputs": [],
   "source": [
    "l = [1175, 5445, 5671, 8243, 429, 1082, 1988, 2517, 2856, 4121]\n",
    "\n",
    "control_t = df_control.query('user_id not in @l')\n",
    "\n",
    "test_t = df_test.query('user_id != 3988')"
   ]
  },
  {
   "cell_type": "markdown",
   "metadata": {},
   "source": [
    "#### Смотрю насколько изменились основные метрики в контрольной и тестовой группах после удаления явных выбросов:"
   ]
  },
  {
   "cell_type": "code",
   "execution_count": 51,
   "metadata": {},
   "outputs": [
    {
     "name": "stdout",
     "output_type": "stream",
     "text": [
      "              Control               Test                     Difference\n",
      "0   Paying conversion  Paying conversion   Paying conversion difference\n",
      "1             6.83706            6.83706                      -0.581643\n",
      "2             Revenue            Revenue             Revenue difference\n",
      "3               93162             480915                         387753\n",
      "4                ARPU               ARPU                ARPU difference\n",
      "5             59.5284            69.4763                        9.94787\n",
      "6                 AOV                AOV                 AOV difference\n",
      "7             870.673            1110.66                        239.985\n",
      "8           num_users          num_users  Difference in number of users\n",
      "9               14693              59883                          45190\n",
      "10       active users       active users        Active users difference\n",
      "11               1565               6922                           5357\n",
      "12       Paying users       Paying users        Paying users difference\n",
      "13                107                433                            326\n"
     ]
    }
   ],
   "source": [
    "before_after_params(control_t, test_t)"
   ]
  },
  {
   "cell_type": "markdown",
   "metadata": {},
   "source": [
    "#### Вывод: после удаления выбросов вижу что конверсия (которая была отрицательной при сравнении групп до удаления выбросов) оказывается одинкаовой в обеих группах!"
   ]
  },
  {
   "cell_type": "markdown",
   "metadata": {},
   "source": [
    "####  Смотрю распределение после удаления выбросов:"
   ]
  },
  {
   "cell_type": "code",
   "execution_count": 39,
   "metadata": {},
   "outputs": [
    {
     "data": {
      "text/plain": [
       "<matplotlib.axes._subplots.AxesSubplot at 0x7f703e4b3c88>"
      ]
     },
     "execution_count": 39,
     "metadata": {},
     "output_type": "execute_result"
    },
    {
     "data": {
      "image/png": "[encoded data removed]",
      "text/plain": [
       "<Figure size 504x504 with 1 Axes>"
      ]
     },
     "metadata": {},
     "output_type": "display_data"
    },
    {
     "data": {
      "image/png": "[encoded data removed]",
      "text/plain": [
       "<Figure size 504x504 with 1 Axes>"
      ]
     },
     "metadata": {},
     "output_type": "display_data"
    }
   ],
   "source": [
    "plt.figure(figsize=(7,7))\n",
    "sns.distplot(control_t.revenue)\n",
    "\n",
    "plt.figure(figsize=(7,7))\n",
    "sns.distplot(test_t.revenue)"
   ]
  },
  {
   "cell_type": "markdown",
   "metadata": {},
   "source": [
    "#### После удаления явных выбросов при применении повторно межквартильного способа выявления выбросов, естественно, появляются новые. Но без знания специфики бизнеса считаю неоправданным удаление дополнительных выбросов. Чтобы избежать потенциальной ошибки в принятии решения в этот раз произведу проверку на равенство средних и равнество распределений в группах и с выбросами и без. Если эксперимент даст диаметрально разные значения p-value - приму результаты полученные на данных без выбросов. В этом случае буду рекомендовать собрать больше данных для проведения отдельного теста с экстремально высокими значениями."
   ]
  },
  {
   "cell_type": "markdown",
   "metadata": {},
   "source": [
    "#### Создаю функцию для проверки распределений на нормальность:"
   ]
  },
  {
   "cell_type": "code",
   "execution_count": 11,
   "metadata": {},
   "outputs": [],
   "source": [
    "def norm_test(serie):\n",
    "    \n",
    "    stat, p = scipy.stats.shapiro(serie)\n",
    "    print('Statistics=%.3f, p-value=%.3f' % (stat, p))\n",
    "    alpha = 0.05\n",
    "    if p > alpha:\n",
    "        outcome = 'Принимаю гипотезу о нормальности'\n",
    "    else:\n",
    "        outcome = 'Отклоняю гипотезу о нормальности'\n",
    "        \n",
    "    return print(outcome)"
   ]
  },
  {
   "cell_type": "markdown",
   "metadata": {},
   "source": [
    "#### Проверяю нормальность распределения в тестовой группе после удаления явных выбросов при помощи теста Шапиро-Уилка:"
   ]
  },
  {
   "cell_type": "code",
   "execution_count": 35,
   "metadata": {},
   "outputs": [
    {
     "name": "stdout",
     "output_type": "stream",
     "text": [
      "Statistics=0.868, p-value=0.000\n",
      "Отклоняю гипотезу о нормальности\n"
     ]
    }
   ],
   "source": [
    "norm_test(test_t.revenue)"
   ]
  },
  {
   "cell_type": "markdown",
   "metadata": {},
   "source": [
    "#### Проверяю нормальность распределения в контрольной группе после удаления явных выбросов при помощи теста Шапиро-Уилка:"
   ]
  },
  {
   "cell_type": "code",
   "execution_count": 36,
   "metadata": {},
   "outputs": [
    {
     "name": "stdout",
     "output_type": "stream",
     "text": [
      "Statistics=0.838, p-value=0.000\n",
      "Отклоняю гипотезу о нормальности\n"
     ]
    }
   ],
   "source": [
    "norm_test(control_t.revenue)"
   ]
  },
  {
   "cell_type": "markdown",
   "metadata": {},
   "source": [
    "#### Вывод: так как выборки достаточно малы и имеют распределение отличное от нормального - отказываюсь от применения метода t-Стьюдента, который, однако, дает максимально точный результат, учитывая и величину чека клиента."
   ]
  },
  {
   "cell_type": "markdown",
   "metadata": {},
   "source": [
    "#### Создаю функцию для проверки равномерности распределения данных в датасетах:"
   ]
  },
  {
   "cell_type": "code",
   "execution_count": 14,
   "metadata": {},
   "outputs": [
    {
     "name": "stdout",
     "output_type": "stream",
     "text": [
      "Values distribution in the Control dataset:\n",
      "        value_counts  <lambda>\n",
      "Russia           915  0.594928\n",
      "Sweden           623  0.405072\n",
      "         value_counts  <lambda>\n",
      "android           834  0.542263\n",
      "ios               704  0.457737\n",
      "        value_counts  <lambda>\n",
      "male             785  0.510403\n",
      "female           753  0.489597\n",
      " \n",
      " \n",
      "Values distribution in the Test dataset:\n",
      "        value_counts  <lambda>\n",
      "Russia          4492  0.660297\n",
      "Sweden          2311  0.339703\n",
      "         value_counts  <lambda>\n",
      "android          3787  0.556666\n",
      "ios              3016  0.443334\n",
      "        value_counts  <lambda>\n",
      "male            3411  0.501396\n",
      "female          3392  0.498604\n"
     ]
    },
    {
     "data": {
      "text/plain": [
       "(None, None, None, None, None, None, None, None, None)"
      ]
     },
     "execution_count": 14,
     "metadata": {},
     "output_type": "execute_result"
    }
   ],
   "source": [
    "def uniformity(df1, df2):\n",
    "    \n",
    "    return print('Values distribution in the Control dataset:'), \\\n",
    "           print(df1['country'].agg([pd.Series.value_counts, lambda x: x.value_counts(normalize=True)])), \\\n",
    "           print(df1['platform'].agg([pd.Series.value_counts, lambda x: x.value_counts(normalize=True)])), \\\n",
    "           print(df1['sex'].agg([pd.Series.value_counts, lambda x: x.value_counts(normalize=True)])), \\\n",
    "           print(' \\n '),\\\n",
    "           print('Values distribution in the Test dataset:'), \\\n",
    "           print(df2['country'].agg([pd.Series.value_counts, lambda x: x.value_counts(normalize=True)])), \\\n",
    "           print(df2['platform'].agg([pd.Series.value_counts, lambda x: x.value_counts(normalize=True)])), \\\n",
    "           print(df2['sex'].agg([pd.Series.value_counts, lambda x: x.value_counts(normalize=True)]))\n",
    "\n",
    "uniformity(df_control, df_test)"
   ]
  },
  {
   "cell_type": "markdown",
   "metadata": {},
   "source": [
    "#### Выводы: \n",
    "\n",
    "распределение значений в тестовом и контрольном датасетах достаточно равномерное;\n",
    "\n",
    "так как количество данных в контрольной и тестовой выборках сильно отличаются а Манн-Уитни привередлив к дисбалансу в размерах выборок, что приводит в первую очередь к ослаблению мощности критерия (чем сильнее дисбаланс, тем реже критерий будет обнаруживать реальную разницу (эффект)), то в качестве основного метода проверки гипотезы буду использовать Bootstrap, и только подкреплю результат исследованием при помощи метода Mанна Уитни;\n",
    "\n",
    "несмотря на то что bootstrap проверяет равенство средних, а Манн Уитни проверяют равенство распределений, т.е. немного разные гипотезы, считаю это полезным."
   ]
  },
  {
   "cell_type": "markdown",
   "metadata": {},
   "source": [
    "#### Создаю функцию, которая позволит проверять гипотезы с помощью бутстрапа для оценки среднего значения:"
   ]
  },
  {
   "cell_type": "code",
   "execution_count": 15,
   "metadata": {},
   "outputs": [],
   "source": [
    "def get_bootstrap(\n",
    "    data_column_1, # числовые значения первой выборки\n",
    "    data_column_2, # числовые значения второй выборки\n",
    "    boot_it = 1000, # количество бутстрэп-подвыборок\n",
    "    statistic = np.mean, # интересующая нас статистика\n",
    "    bootstrap_conf_level = 0.95 # уровень значимости\n",
    "):\n",
    "    boot_len = max([len(data_column_1), len(data_column_2)])\n",
    "    boot_data = []\n",
    "    for i in tqdm(range(boot_it)): # извлекаем подвыборки\n",
    "        samples_1 = data_column_1.sample(\n",
    "            boot_len, \n",
    "            replace = True # параметр возвращения\n",
    "        ).values\n",
    "        \n",
    "        samples_2 = data_column_2.sample(\n",
    "            boot_len, \n",
    "            replace = True\n",
    "        ).values\n",
    "        \n",
    "        boot_data.append(statistic(samples_1-samples_2)) # mean() - применяем статистику\n",
    "        \n",
    "    pd_boot_data = pd.DataFrame(boot_data)\n",
    "        \n",
    "    left_quant = (1 - bootstrap_conf_level)/2\n",
    "    right_quant = 1 - (1 - bootstrap_conf_level) / 2\n",
    "    ci = pd_boot_data.quantile([left_quant, right_quant])\n",
    "        \n",
    "    p_1 = norm.cdf(\n",
    "        x = 0, \n",
    "        loc = np.mean(boot_data), \n",
    "        scale = np.std(boot_data)\n",
    "    )\n",
    "    p_2 = norm.cdf(\n",
    "        x = 0, \n",
    "        loc = -np.mean(boot_data), \n",
    "        scale = np.std(boot_data)\n",
    "    )\n",
    "    p_value = min(p_1, p_2) * 2\n",
    "        \n",
    "    return p_value\n",
    "\n",
    "# Создаю функцию, которая позволит проверять гипотезы с помощью бутстрапа для оценки медианы:\n",
    "\n",
    "def get_bootstrap_median(\n",
    "    data_column_1, # числовые значения первой выборки\n",
    "    data_column_2, # числовые значения второй выборки\n",
    "    boot_it = 1000, # количество бутстрэп-подвыборок\n",
    "    statistic = np.median, # интересующая нас статистика\n",
    "    bootstrap_conf_level = 0.95 # уровень значимости\n",
    "):\n",
    "    boot_len = max([len(data_column_1), len(data_column_2)])\n",
    "    boot_data = []\n",
    "    for i in tqdm(range(boot_it)): # извлекаем подвыборки\n",
    "        samples_1 = data_column_1.sample(\n",
    "            boot_len, \n",
    "            replace = True # параметр возвращения\n",
    "        ).values\n",
    "        \n",
    "        samples_2 = data_column_2.sample(\n",
    "            boot_len, \n",
    "            replace = True\n",
    "        ).values\n",
    "        \n",
    "        boot_data.append(statistic(samples_1-samples_2)) \n",
    "        \n",
    "    pd_boot_data = pd.DataFrame(boot_data)\n",
    "        \n",
    "    left_quant = (1 - bootstrap_conf_level)/2\n",
    "    right_quant = 1 - (1 - bootstrap_conf_level) / 2\n",
    "    ci = pd_boot_data.quantile([left_quant, right_quant])\n",
    "        \n",
    "    p_1 = norm.cdf(\n",
    "        x = 0, \n",
    "        loc = np.mean(boot_data), \n",
    "        scale = np.std(boot_data)\n",
    "    )\n",
    "    p_2 = norm.cdf(\n",
    "        x = 0, \n",
    "        loc = -np.mean(boot_data), \n",
    "        scale = np.std(boot_data)\n",
    "    )\n",
    "    p_value = min(p_1, p_2) * 2\n",
    "        \n",
    "           \n",
    "    return p_value"
   ]
  },
  {
   "cell_type": "code",
   "execution_count": 37,
   "metadata": {},
   "outputs": [
    {
     "data": {
      "application/vnd.jupyter.widget-view+json": {
       "model_id": "90e04d205e8946a6861b0f25bc459052",
       "version_major": 2,
       "version_minor": 0
      },
      "text/plain": [
       "HBox(children=(FloatProgress(value=0.0, max=1000.0), HTML(value='')))"
      ]
     },
     "metadata": {},
     "output_type": "display_data"
    },
    {
     "name": "stdout",
     "output_type": "stream",
     "text": [
      "\n"
     ]
    },
    {
     "data": {
      "application/vnd.jupyter.widget-view+json": {
       "model_id": "50327cd35459457ea301fc78c8cfbb1d",
       "version_major": 2,
       "version_minor": 0
      },
      "text/plain": [
       "HBox(children=(FloatProgress(value=0.0, max=1000.0), HTML(value='')))"
      ]
     },
     "metadata": {},
     "output_type": "display_data"
    },
    {
     "name": "stdout",
     "output_type": "stream",
     "text": [
      "\n"
     ]
    },
    {
     "data": {
      "application/vnd.jupyter.widget-view+json": {
       "model_id": "dd24d6cfc0104092a2b01deccb777677",
       "version_major": 2,
       "version_minor": 0
      },
      "text/plain": [
       "HBox(children=(FloatProgress(value=0.0, max=1000.0), HTML(value='')))"
      ]
     },
     "metadata": {},
     "output_type": "display_data"
    },
    {
     "name": "stdout",
     "output_type": "stream",
     "text": [
      "\n"
     ]
    },
    {
     "data": {
      "application/vnd.jupyter.widget-view+json": {
       "model_id": "7c41d1d5f3d448a39496d33b85f37dc0",
       "version_major": 2,
       "version_minor": 0
      },
      "text/plain": [
       "HBox(children=(FloatProgress(value=0.0, max=1000.0), HTML(value='')))"
      ]
     },
     "metadata": {},
     "output_type": "display_data"
    },
    {
     "name": "stdout",
     "output_type": "stream",
     "text": [
      "\n"
     ]
    }
   ],
   "source": [
    "# Применяю bootstrap для проверки нулевой гипотезы о равенстве средних:\n",
    "\n",
    "# Среднее значение на данных с выбросами:\n",
    "\n",
    "mean_boo = get_bootstrap(df_control.query('revenue > 0').revenue, df_test.query('revenue > 0').revenue)\n",
    "\n",
    "# Cреднее значение на данных без выбросов:\n",
    "\n",
    "mean_boo_clean = get_bootstrap(control_t.query('revenue > 0').revenue, test_t.query('revenue > 0').revenue)\n",
    "\n",
    "# Медианное значение на данных с выбросами:\n",
    "\n",
    "median_boo = get_bootstrap_median(df_control.query('revenue > 0').revenue, df_test.query('revenue > 0').revenue)\n",
    "\n",
    "# Медианное значение на данных без выбросов:\n",
    "\n",
    "median_clean_boo = get_bootstrap_median(control_t.query('revenue > 0').revenue, test_t.query('revenue > 0').revenue)\n",
    "\n",
    "# Применяю дополнительно критерий Манна-Уитни для того чтобы проверить нулевую гипотезу о равенстве распределений:\n",
    "    \n",
    "# С выбросами в тестовой группе: \n",
    "\n",
    "mann = mannwhitneyu(df_control.query('revenue > 0').revenue, df_test.query('revenue > 0').revenue)\n",
    "\n",
    "# Без выбросов:\n",
    "\n",
    "mann_clean = mannwhitneyu(control_t.revenue, test_t.revenue)"
   ]
  },
  {
   "cell_type": "markdown",
   "metadata": {},
   "source": [
    "#### Вывожу результат в удобном виде:"
   ]
  },
  {
   "cell_type": "code",
   "execution_count": 38,
   "metadata": {},
   "outputs": [
    {
     "name": "stdout",
     "output_type": "stream",
     "text": [
      "Результат bootstrap теста:       \n",
      " Среднее значение на данных с выбросами:    1.0128606690050689e-06,       \n",
      " Cреднее значение на данных без выбросов:   2.609118851150089e-29,       \n",
      " Медианное значение на данных с выбросами:  0.0006159633614571726,       \n",
      " Медианное значение на данных без выбросов: 7.84898343823103e-17         \n",
      "\n",
      "Результат теста Манна Уитни:\n",
      " до удаления выбросов: MannwhitneyuResult(statistic=17699.5, pvalue=0.0001364710277394854))         \n",
      " после удаления выбросов: MannwhitneyuResult(statistic=13849.0, pvalue=6.610452500811362e-08)\n"
     ]
    }
   ],
   "source": [
    "print(f'Результат bootstrap теста: \\\n",
    "      \\n Среднее значение на данных с выбросами:    {mean_boo}, \\\n",
    "      \\n Cреднее значение на данных без выбросов:   {mean_boo_clean}, \\\n",
    "      \\n Медианное значение на данных с выбросами:  {median_boo}, \\\n",
    "      \\n Медианное значение на данных без выбросов: {median_clean_boo} \\\n",
    "        \\n\\nРезультат теста Манна Уитни:\\n до удаления выбросов: {mann}) \\\n",
    "        \\n после удаления выбросов: {mann_clean}')\n"
   ]
  },
  {
   "cell_type": "markdown",
   "metadata": {},
   "source": [
    "### Вывод:\n",
    "\n",
    "С помощью бутстрапа я проверил нулевую гипотезу о равенстве средних, а при помощи теста Манна-Уитни \n",
    "гипотезу о равенстве распределений как на данных с выбросами, так и на очищенных данных. \n",
    "\n",
    "Несмотря на то что тестовая выборка имеет большие выбросы, что сильно искажает нам среднее значение\n",
    "Проведенные тесты дали значение p-value << 0.05, поэтому считаю что полученные в ходе эксперимента отличия являются статистически значимыми.\n",
    "\n",
    "Несмотря на снижение конверсии активных пользователей в активных клиентов в покупку, revenue увеличилась на 392 413 у.е., ARPU вырос на 10.7 у.е., AOV вырос на 248.1 у.е.\n",
    "\n",
    "C учетом доверительных интервалов принимаю решение рекомендовать выкатить изменения на всю аудиторию."
   ]
  },
  {
   "cell_type": "code",
   "execution_count": null,
   "metadata": {},
   "outputs": [],
   "source": []
  },
  {
   "cell_type": "code",
   "execution_count": null,
   "metadata": {},
   "outputs": [],
   "source": [
    "#### Сценарий Advanced1: Проверяю гипотезу об изменениях в разрезе стран."
   ]
  },
  {
   "cell_type": "code",
   "execution_count": null,
   "metadata": {},
   "outputs": [],
   "source": [
    "# Сформирую более удобные для проверки датасеты:\n",
    "\n",
    "nan = np.nan\n",
    "\n",
    "# Разбиваю контрольную и тестовую группы по странам:\n",
    "\n",
    "control_swe = df.query('country == \"Sweden\" & group == \"A\" & revenue > 0')\n",
    "\n",
    "test_swe = df.query('country == \"Sweden\" & group == \"B\" & revenue > 0')\n",
    "\n",
    "control_rus = df.query('country == \"Russia\" & group == \"A\" & revenue > 0')\n",
    "\n",
    "test_rus = df.query('country == \"Russia\" & group == \"B\" & revenue > 0')"
   ]
  },
  {
   "cell_type": "code",
   "execution_count": null,
   "metadata": {},
   "outputs": [],
   "source": [
    "# Смотрю основные параметры тесовой и контрольной групп из России:\n",
    "\n",
    "datasets_params(control_rus, test_rus)"
   ]
  },
  {
   "cell_type": "code",
   "execution_count": null,
   "metadata": {},
   "outputs": [],
   "source": [
    "# Смотрю основные параметры тесовой и контрольной групп из Швеции:\n",
    "\n",
    "datasets_params(control_swe, test_swe)"
   ]
  },
  {
   "cell_type": "code",
   "execution_count": null,
   "metadata": {},
   "outputs": [],
   "source": [
    "#### Проверю изменения основных параметров в контрольной и тестовой группах по странам:"
   ]
  },
  {
   "cell_type": "code",
   "execution_count": null,
   "metadata": {},
   "outputs": [],
   "source": [
    "# Сравниваю изменения в контрольной и тестовой группах из России: \n",
    "\n",
    "before_after_params(control_rus, test_rus)"
   ]
  },
  {
   "cell_type": "code",
   "execution_count": null,
   "metadata": {},
   "outputs": [],
   "source": [
    "# Сравниваю изменения в контрольной и тестовой группах из Швеции: \n",
    "\n",
    "before_after_params(control_swe, test_swe)"
   ]
  },
  {
   "cell_type": "code",
   "execution_count": null,
   "metadata": {},
   "outputs": [],
   "source": [
    "# А эта функция - небольшая модификация функции before_after_params чтобы удобнее сравнить изменения по странам.\n",
    "\n",
    "def params_change_by_country(control_rus, test_rus, control_swe, test_swe):\n",
    "    \n",
    "    # Сравниваю изменения в контрольной и тестовой группах из России: \n",
    "\n",
    "    Paying_conversion_cr = (100 * control_rus.agg({'revenue': 'count'})/control_rus.shape[0]).item()\n",
    "    Revenue_cr = control_rus.revenue.sum()\n",
    "    Revenue_mean_cr = control_rus.revenue.mean()\n",
    "    Revenue_median_cr = control_rus.revenue.median()\n",
    "    ARPU_cr = control_rus.revenue.sum()/control_rus.user_id.nunique()\n",
    "    AOV_cr = control.revenue.sum()/control_rus.agg({'revenue': 'count'}).item()\n",
    "    all_clients_cr = groups.query('group == \"A\"').shape[0]\n",
    "    active_users_cr = control_rus.shape[0]\n",
    "    paying_users_cr = control_rus.agg({'revenue': 'count'}).item()\n",
    "    \n",
    "    Paying_conversion_tr = (100* test_rus.agg({'revenue': 'count'})/test_rus.shape[0]).item()\n",
    "    Revenue_tr = test_rus.revenue.sum()\n",
    "    Revenue_mean_tr = test_rus.revenue.mean()\n",
    "    Revenue_median_tr = test_rus.revenue.median()\n",
    "    ARPU_tr =  test_rus.revenue.sum()/test_rus.shape[0]\n",
    "    AOV_tr = test_rus.revenue.sum()/test_rus.agg({'revenue': 'count'}).item()\n",
    "    all_clients_tr = groups.query('group == \"B\"').shape[0]\n",
    "    active_users_tr = test_rus.shape[0]\n",
    "    paying_users_tr = test_rus.agg({'revenue': 'count'}).item()\n",
    "\n",
    "\n",
    "    # Сравниваю изменения в контрольной и тестовой группах из Швеции:   \n",
    "\n",
    "    Paying_conversion_cs = (100 * control_swe.agg({'revenue': 'count'})/control_swe.shape[0]).item()\n",
    "    Revenue_cs = control_swe.revenue.sum()\n",
    "    Revenue_mean_cs = control_swe.revenue.mean()\n",
    "    Revenue_median_cs = control_swe.revenue.median()\n",
    "    ARPU_cs = control_swe.revenue.sum()/control_swe.user_id.nunique()\n",
    "    AOV_cs = control_swe.revenue.sum()/control_swe.agg({'revenue': 'count'}).item()\n",
    "    all_clients_cs = groups.query('group == \"A\"').shape[0]\n",
    "    active_users_cs = control_swe.shape[0]\n",
    "    paying_users_cs = control_swe.agg({'revenue': 'count'}).item()\n",
    "    \n",
    "    Paying_conversion_tw = (100* test_swe.agg({'revenue': 'count'})/test_swe.shape[0]).item()\n",
    "    Revenue_tw = test_swe.revenue.sum()\n",
    "    Revenue_mean_tw = test_swe.revenue.mean()\n",
    "    Revenue_median_tw = test_swe.revenue.median()\n",
    "    ARPU_tw = test_swe.revenue.sum()/test_swe.shape[0]\n",
    "    AOV_tw = test_swe.revenue.sum()/test_swe.agg({'revenue': 'count'}).item()\n",
    "    all_clients_tw = groups.query('group == \"B\"').shape[0]\n",
    "    active_users_tw = test_swe.shape[0]\n",
    "    paying_users_tw = test_swe.agg({'revenue': 'count'}).item()\n",
    "    \n",
    "    \n",
    "    outcomes = {'Difference_rus': ['Paying conversion difference', Paying_conversion_tr - Paying_conversion_cr, \n",
    "                               'Revenue difference', Revenue_tr - Revenue_cr, 'ARPU difference', ARPU_tr - ARPU_cr, \n",
    "                               'AOV difference', AOV_tr - AOV_cr, 'Difference in number of users', all_clients_tr - all_clients_cr, \n",
    "                               'Active users difference', active_users_tr - active_users_cr,\n",
    "                               'Revenue_mean_difference', Revenue_mean_tr - Revenue_mean_cr,\n",
    "                               'Revenue_median_difference', Revenue_median_tr - Revenue_median_cr,\n",
    "                               'Paying users difference', paying_users_tr - paying_users_cr],\n",
    "                'Difference_swe': ['Paying conversion difference', Paying_conversion_tw - Paying_conversion_cs, \n",
    "                               'Revenue difference', Revenue_tw - Revenue_cs, 'ARPU difference', ARPU_tw - ARPU_cs, \n",
    "                               'AOV difference', AOV_tw - AOV_cs, 'Difference in number of users', all_clients_tw - all_clients_cs, \n",
    "                               'Active users difference', active_users_tw - active_users_cs,\n",
    "                               'Revenue_mean_difference', Revenue_mean_tw - Revenue_mean_cs,\n",
    "                               'Revenue_median_difference', Revenue_median_tw - Revenue_median_cs,\n",
    "                               'Paying users difference', paying_users_tw - paying_users_cs],\n",
    "               }\n",
    " \n",
    "    return print(pd.DataFrame(outcomes))\n",
    "\n",
    "params_change_by_country(control_rus, test_rus, control_swe, test_swe)"
   ]
  },
  {
   "cell_type": "code",
   "execution_count": null,
   "metadata": {},
   "outputs": [],
   "source": []
  },
  {
   "cell_type": "code",
   "execution_count": null,
   "metadata": {},
   "outputs": [],
   "source": []
  },
  {
   "cell_type": "code",
   "execution_count": null,
   "metadata": {},
   "outputs": [],
   "source": []
  },
  {
   "cell_type": "markdown",
   "metadata": {},
   "source": [
    "#### Задача 2:\n",
    "\n",
    "Одной из основных задач аналитика является не только построение моделей, но и создание дашбордов, \n",
    "которые позволяют отслеживать изменения метрик и принимать на их основе оптимальные решения. \n",
    "Ваш руководитель хочет узнать, как обстоят дела с использованием приложения и вовлечённостью \n",
    "пользователей, и очень просит спроектировать ему дашборд.\n",
    "\n",
    "Предложите метрики, которые помогли бы ему отслеживать вовлеченность пользователей и принимать \n",
    "оптимальные решения. Какую основную информацию вы бы отразили на дашборде? На какие метрики стоит \n",
    "обратить внимание в первую очередь? Почему?"
   ]
  },
  {
   "cell_type": "markdown",
   "metadata": {},
   "source": [
    "#### Алгоритм решения:\n",
    "Провожу интервью с руководителем и заинтересованными членами команды (в реальной ситуации). Составляю Dashboard Canvas.\n",
    "Выбираю оптимальные метрики, прорабатываю макет дашборда. Согласовываю его с руководителем и членами команды.\n",
    "Проектирую дашборд, готовлю тестовые задания для руководителя и членов команды по работе с дашбордом для того чтобы получить практическую обратную связь, произвести финальные доработки ориентируясь по обратной связи.\n",
    "Договариваюсь о встрече с руководителем, делаю POC, собираю обратную связь. Дорабатываю дашборд.\n",
    "Договариваюсь о том чтобы некоторое время понаблюдать \"из-за спины\" насколько руководителю удобно работать с дашбордом, получить инсайты и внести при возможности улучшения.\n",
    "Договориться о периодичности встреч для адаптации дашборда к меняющимся потребносям руководителя и команды."
   ]
  },
  {
   "cell_type": "markdown",
   "metadata": {},
   "source": [
    "#### Выбор оптимальных метрик для решения задачи и описание дашборда:"
   ]
  },
  {
   "cell_type": "markdown",
   "metadata": {},
   "source": [
    "Описание дашборда:\n",
    "    \n",
    "В левом верхнем углу руководитель сможет сразу же оценить ситуацию с текущим общим количеством пользователей и их распределением на активных пользователей и тех, кто приобрел приложение в текущем периоде.\n",
    "\n",
    "Дальше по горизонтали идут показатели, которые имеют выражают финансовую вовлеченность клиентов. ARPPU и ARPU непосредственно связаны с вовлеченностью клиентов в использование продукта и чем они ближе по значению - тем более клиенты довольны самим приложением.\n",
    "\n",
    "Далее идут 3 важных метрики дневной, недельной и месячной активности клиентов с динамикой изменения в соответствующих интервалах. Неизменно высокий DAU будет индикатором высокого интереса пользователей к Приложению, кроме того он поможет косвенно оценивать эффект от запуска рекламных компаний, WAU и MAU расскажут о стабильности интереса к Приложению.\n",
    "\n",
    "Под ними расположены графики с:\n",
    "    \n",
    "retention клиентов тестирующих Приложение, который позволяет понять насколько гладко проходит тестирование и оперативно прийти на помощь клиенту в случае, если у него возникли проблемы с функционалом или просто напомнить ему о триальном периоде если его отвлекли от тестирования \n",
    "насущные дела;\n",
    "\n",
    "классическим retention по месяцам, который показывает возвращаемость клиентов в Приложение после установки и поможет руководителю держать руку на пульсе.\n",
    "\n",
    "Второй ряд виджетов помогает понять текущую ситуацию с конверсией из активных пользователей в клиентов, посмотреть динамику роста новых клиентов и визуально оценить конверсию из активных покупателей в клиентов а также при помощи фактоида stickness ratio понять как часто клиенты возвращаются в Приложение в течение месяца (период настраивается исходя из конкретных \n",
    "задач бизнеса).\n",
    "\n",
    "Третий ряд виджетов помогает оценить вовлеченность клиентов через такую метрику как объем создаваемого контента в разбивке по фото и видео, оценить объем сгенерированного контента в разрезе стран, мобильных платформ и пола пользователей и видеть текущий показатель количества сессий и количества сессий на одного клиента  позволяет абстрагироваться от средней длины сессии и количества сессий и характеризует интерес пользователей к Приложению.\n",
    "\n",
    "Четвертый ряд виджетов сконцентрирован на удовлетворенности клиентов Приложением, которая является важной частью вовлеченности.\n",
    "\n",
    "Здесь руководитель сможет оперативно видеть как развивается комьюнити пользователей Приложения, видеть количество и тип коментариев, которые оставляют клиенты и таким образом видеть общий эмоциональный тренд. \n",
    "Важным виджетом в этой серии является ASL, который позволяет увидеть сколько времени пользователи находятся в Приложении и таким образом понять насколько интуитивно понятны UI и использование фичей Приложения (например, если у определенной части пользователей время сессии будет сильно расти - то  полезным будет провести дополнительное исследование и внести изменения в Продукт или оперативно оказать поддержку клиентам."
   ]
  },
  {
   "cell_type": "markdown",
   "metadata": {},
   "source": [
    "#### Поскольку в данных проекта (1 задание) отсутствует информация о времени событий, я спроектировал 2 дашборда и разместил шаблон дашборда со всеми метриками, которые считаю нужными в него включить по вот этой ссылке: "
   ]
  },
  {
   "cell_type": "markdown",
   "metadata": {},
   "source": [
    "https://disk.yandex.ru/i/KtcxTj_h5t8zzQ"
   ]
  },
  {
   "cell_type": "markdown",
   "metadata": {},
   "source": [
    "#### Спасибо за внимание!"
   ]
  }
 ],
 "metadata": {
  "kernelspec": {
   "display_name": "Python 3",
   "language": "python",
   "name": "python3"
  },
  "language_info": {
   "codemirror_mode": {
    "name": "ipython",
    "version": 3
   },
   "file_extension": ".py",
   "mimetype": "text/x-python",
   "name": "python",
   "nbconvert_exporter": "python",
   "pygments_lexer": "ipython3",
   "version": "3.7.3"
  }
 },
 "nbformat": 4,
 "nbformat_minor": 4
}
