{
 "cells": [
  {
   "cell_type": "markdown",
   "metadata": {},
   "source": [
    "#### Задача:\n",
    "\n",
    "cобрать единый датасет из месячных отчетов;\n",
    "проанализировать количество поездок в период с 1 июня до 31 августа и найти\n",
    "день, в который было совершено меньше всего поездок,\n",
    "населенный пункт, в который чаще всего приезжали клиенты."
   ]
  },
  {
   "cell_type": "code",
   "execution_count": null,
   "metadata": {},
   "outputs": [],
   "source": [
    "import pandas as pd\n",
    "\n",
    "bikes = pd.read_csv('https://stepik.org/media/attachments/lesson/367415/bikes_q2_sample_apr.csv')\n",
    "\n",
    "quarter_paths = ['https://stepik.org/media/attachments/lesson/367415/bikes_q2_sample_may.csv',\n",
    "                 'https://stepik.org/media/attachments/lesson/367415/bikes_q2_sample_jun.csv',\n",
    "                 'https://stepik.org/media/attachments/lesson/367415/bikes_q3_sample_july.csv',\n",
    "                 'https://stepik.org/media/attachments/lesson/367415/bikes_q3_sample_aug.csv',\n",
    "                 'https://stepik.org/media/attachments/lesson/367415/bikes_q3_sample_sep.csv',\n",
    "                 'https://stepik.org/media/attachments/lesson/367415/bikes_q4_sample_oct.csv',\n",
    "                 'https://stepik.org/media/attachments/lesson/367415/bikes_q4_sample_nov.csv',\n",
    "                 'https://stepik.org/media/attachments/lesson/367415/bikes_q4_sample_dec.csv']\n",
    "\n",
    "\n",
    "for i in quarter_paths:\n",
    "    \n",
    "    bikes = total_df.append(pd.read_csv(i))\n",
    "    \n",
    "bikes['start_time'] = pd.to_datetime(bikes['start_time'])\n",
    "\n",
    "bikes = bikes.set_index('start_time')\n",
    "\n",
    "bikes.index = bikes.index.strftime('%Y-%m-%d')\n",
    "\n",
    "# Выбираю необходимый период:\n",
    "\n",
    "bikes_summer = bikes.query('index >= \"2018-06-01\" and index <= \"2018-08-31\"')\n",
    "\n",
    "bikes_summer.index = pd.to_datetime(bikes_summer.index)\n",
    "\n",
    "####  Нахожу день с наименьшим количеством поездок в летний период:\n",
    "\n",
    "bikes_summer.index = pd.to_datetime(bikes_summer.index)\n",
    "\n",
    "top_destination = bikes_summer.groupby('to_station_name') \\\n",
    "                              .tripduration.resample(rule='D') \\\n",
    "                              .count() \\\n",
    "                              .idxmax()[0]\n",
    "\n",
    "####  Нахожу день с наименьшим количеством поездок в летний период:\n",
    "\n",
    "bikes_summer.index = pd.to_datetime(bikes_summer.index)\n",
    "\n",
    "bad_day = bikes_summer.tripduration \\\n",
    "                      .resample(rule='D') \\\n",
    "                      .count() \\\n",
    "                      .idxmin() \\\n",
    "                      .strftime('%Y-%m-%d')"
   ]
  }
 ],
 "metadata": {
  "kernelspec": {
   "display_name": "Python 3",
   "language": "python",
   "name": "python3"
  },
  "language_info": {
   "codemirror_mode": {
    "name": "ipython",
    "version": 3
   },
   "file_extension": ".py",
   "mimetype": "text/x-python",
   "name": "python",
   "nbconvert_exporter": "python",
   "pygments_lexer": "ipython3",
   "version": "3.7.4"
  }
 },
 "nbformat": 4,
 "nbformat_minor": 2
}
